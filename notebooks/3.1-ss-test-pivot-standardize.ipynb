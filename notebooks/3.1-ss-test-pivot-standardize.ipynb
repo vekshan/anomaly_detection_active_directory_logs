{
 "cells": [
  {
   "cell_type": "code",
   "execution_count": 1,
   "id": "f82402b7-1098-4158-b0b1-bc84d473e23a",
   "metadata": {},
   "outputs": [],
   "source": [
    "import findspark\n",
    "findspark.init()\n",
    "import pyspark\n",
    "from pyspark import SparkContext, SparkConf, SQLContext\n",
    "from pyspark.sql import SparkSession\n",
    "from pyspark.sql.functions import unix_timestamp\n",
    "from pyspark.sql.types import *\n",
    "conf = pyspark.SparkConf().setAppName('appName').setMaster('local')\n",
    "sc = SparkContext(conf=conf)\n",
    "spark = SparkSession(sc)"
   ]
  },
  {
   "cell_type": "code",
   "execution_count": 2,
   "id": "08776a8b-b2a9-40df-a3a4-2e9968dfab35",
   "metadata": {},
   "outputs": [
    {
     "name": "stdout",
     "output_type": "stream",
     "text": [
      "+----+-----------+--------+------------+---------------+\n",
      "|time|   username|event_id|total_events|total_per_event|\n",
      "+----+-----------+--------+------------+---------------+\n",
      "|   1|Comp071603$|    4688|           3|              3|\n",
      "|   1|Comp079982$|    4688|           1|              1|\n",
      "|   1|Comp102246$|    4688|           2|              2|\n",
      "|   1|Comp193344$|    4688|           3|              3|\n",
      "|   1|Comp194392$|    4634|           1|              1|\n",
      "|   1|Comp332130$|    4688|           1|              1|\n",
      "|   1|Comp334881$|    4688|           2|              2|\n",
      "|   1|Comp423822$|    4688|           3|              3|\n",
      "|   1|Comp626532$|    4688|           3|              3|\n",
      "|   1|Comp629929$|    4688|           2|              2|\n",
      "|   1|Comp924592$|    4688|           1|              1|\n",
      "|   1|Comp002915$|    4688|           2|              2|\n",
      "|   1|Comp287324$|    4624|           4|              2|\n",
      "|   1|Comp287324$|    4634|           4|              2|\n",
      "|   1|Comp386851$|    4688|           2|              2|\n",
      "|   1|Comp537173$|    4688|           1|              1|\n",
      "|   1|Comp548054$|    4688|           1|              1|\n",
      "|   1|Comp703579$|    4688|           1|              1|\n",
      "|   1|Comp786718$|    4688|           1|              1|\n",
      "|   1|Comp040119$|    4688|           3|              3|\n",
      "+----+-----------+--------+------------+---------------+\n",
      "only showing top 20 rows\n",
      "\n"
     ]
    }
   ],
   "source": [
    "path = \"../data/processed/benign_with_rolling_window.csv\"\n",
    "df = spark.read.csv(path).toDF(\n",
    "  \"time\", \"username\", \"event_id\", \"total_events\", \"total_per_event\"\n",
    ")\n",
    "df.show()"
   ]
  },
  {
   "cell_type": "code",
   "execution_count": 3,
   "id": "5452a4bd-eb1a-465c-9a50-8aa38f605972",
   "metadata": {},
   "outputs": [],
   "source": [
    "keep_event_ids = [4624, 4625, 4627, 4648, 4658, 4661, 4672, 4697, 4698, 4768, 4779, 5140, 5145, 5158]"
   ]
  },
  {
   "cell_type": "code",
   "execution_count": 4,
   "id": "f9711aa1-8a29-4977-b333-35cab6c28d71",
   "metadata": {},
   "outputs": [
    {
     "name": "stdout",
     "output_type": "stream",
     "text": [
      "root\n",
      " |-- time: string (nullable = true)\n",
      " |-- username: string (nullable = true)\n",
      " |-- event_id: string (nullable = true)\n",
      " |-- total_events: string (nullable = true)\n",
      " |-- total_per_event: string (nullable = true)\n",
      "\n"
     ]
    }
   ],
   "source": [
    "df.printSchema()"
   ]
  },
  {
   "cell_type": "code",
   "execution_count": 5,
   "id": "538484d4-e649-4248-b2b3-cdf7117b039d",
   "metadata": {},
   "outputs": [],
   "source": [
    "df = df.withColumn(\"event_id\", df[\"event_id\"].cast(IntegerType()))\n",
    "df = df.withColumn(\"total_events\", df[\"total_events\"].cast(IntegerType()))\n",
    "df = df.withColumn(\"total_per_event\", df[\"total_per_event\"].cast(IntegerType()))"
   ]
  },
  {
   "cell_type": "code",
   "execution_count": 6,
   "id": "1782e28d-3e79-4944-97b5-621452364d32",
   "metadata": {},
   "outputs": [
    {
     "name": "stdout",
     "output_type": "stream",
     "text": [
      "root\n",
      " |-- time: string (nullable = true)\n",
      " |-- username: string (nullable = true)\n",
      " |-- event_id: integer (nullable = true)\n",
      " |-- total_events: integer (nullable = true)\n",
      " |-- total_per_event: integer (nullable = true)\n",
      "\n"
     ]
    }
   ],
   "source": [
    "df.printSchema()"
   ]
  },
  {
   "cell_type": "code",
   "execution_count": 7,
   "id": "3fc3df80-3eba-435d-93ff-ce078a0401e6",
   "metadata": {},
   "outputs": [
    {
     "name": "stdout",
     "output_type": "stream",
     "text": [
      "+----+-----------+--------+------------+---------------+\n",
      "|time|   username|event_id|total_events|total_per_event|\n",
      "+----+-----------+--------+------------+---------------+\n",
      "|   1|Comp287324$|    4624|           4|              2|\n",
      "|   1|Comp362621$|    4624|           6|              1|\n",
      "|   1|Comp939275$|    4624|          17|              8|\n",
      "|   1|Comp939275$|    4672|          17|              8|\n",
      "|   1| User641851|    4624|          20|             11|\n",
      "|   1| User641851|    4672|          20|              6|\n",
      "|   1| User032516|    4624|          32|              6|\n",
      "|   1| User032516|    4648|          32|              6|\n",
      "|   1| User032516|    4672|          32|              6|\n",
      "|   1|Comp347730$|    4624|          13|              7|\n",
      "|   1| User668517|    4625|           2|              2|\n",
      "|   1|Comp767914$|    4768|           3|              1|\n",
      "|   1| User643724|    4624|          36|             10|\n",
      "|   1|    Scanner|    4624|          46|             12|\n",
      "|   1|    Scanner|    4672|          46|             12|\n",
      "|   1| User586584|    4624|           2|              1|\n",
      "|   1|Comp907867$|    4624|           3|              1|\n",
      "|   1|     system|    4624|        4308|           2154|\n",
      "|   1|     system|    4672|        4308|           2154|\n",
      "|   1| User279235|    4624|           4|              1|\n",
      "+----+-----------+--------+------------+---------------+\n",
      "only showing top 20 rows\n",
      "\n"
     ]
    }
   ],
   "source": [
    "df = df.filter(df.event_id.isin(keep_event_ids))\n",
    "df.show()"
   ]
  },
  {
   "cell_type": "code",
   "execution_count": 8,
   "id": "287e90ef-83a2-49a1-a9a7-72a02dc8f259",
   "metadata": {},
   "outputs": [
    {
     "name": "stdout",
     "output_type": "stream",
     "text": [
      "+-----+----------------+------------+-----+----+----+-----+----+\n",
      "| time|        username|total_events| 4624|4625|4648| 4672|4768|\n",
      "+-----+----------------+------------+-----+----+----+-----+----+\n",
      "|  122|     Comp954789$|           8|    2|null|null| null|null|\n",
      "|  654|     Comp306263$|          43|   16|null|null| null|null|\n",
      "| 2392|     Comp960825$|          29|    4|null|null| null|null|\n",
      "| 2613|      User031784|        1180| null| 586|null| null|   5|\n",
      "| 2825|      AppService|      102723|27252|1707|null|25391|null|\n",
      "| 2906|     Comp916004$|      140474|42742|null|null|42729|null|\n",
      "| 3575|     Comp692745$|          39|    6|null|null| null|null|\n",
      "| 3855|     Comp870075$|          82|   20|null|null|    2|null|\n",
      "| 5455|ActiveDirectory$|       29103|10203|null|null| 8549|null|\n",
      "| 5895|      User793535|       14137| 6896|null|null|   60|null|\n",
      "| 6033|      AppService|      122147|31699|null|null| null|null|\n",
      "| 6112|      User974844|         655|  138| 121|null| null|null|\n",
      "| 6756|      AppService|      117413|29871|null|null|29122|null|\n",
      "| 7341|     Comp158828$|        1067|   83|null|null|   73|null|\n",
      "| 9461|      User793535|       12502| 5995|null|null| null|null|\n",
      "| 9637|         Scanner|      118366|30067|null|null|26262|null|\n",
      "| 9694|     Comp637273$|          98|   23|null|   1|    2|null|\n",
      "|12413|     Comp792425$|          76|   18|null|null| null|null|\n",
      "|15758|     Comp174006$|          63|   29|null|null| null|null|\n",
      "|18277|      User318330|        5192| 1986|null|null| null|null|\n",
      "+-----+----------------+------------+-----+----+----+-----+----+\n",
      "only showing top 20 rows\n",
      "\n"
     ]
    }
   ],
   "source": [
    "# Pivot:\n",
    "df = df.groupBy(\"time\", \"username\", \"total_events\").pivot(\"event_id\").sum(\"total_per_event\")\n",
    "df.show()"
   ]
  },
  {
   "cell_type": "code",
   "execution_count": 9,
   "id": "cc1a1da2-f065-4c6d-aca6-7e29b6a15cd7",
   "metadata": {},
   "outputs": [
    {
     "name": "stdout",
     "output_type": "stream",
     "text": [
      "root\n",
      " |-- time: string (nullable = true)\n",
      " |-- username: string (nullable = true)\n",
      " |-- total_events: integer (nullable = true)\n",
      " |-- 4624: long (nullable = true)\n",
      " |-- 4625: long (nullable = true)\n",
      " |-- 4648: long (nullable = true)\n",
      " |-- 4672: long (nullable = true)\n",
      " |-- 4768: long (nullable = true)\n",
      "\n"
     ]
    }
   ],
   "source": [
    "df.printSchema()"
   ]
  },
  {
   "cell_type": "code",
   "execution_count": 10,
   "id": "db3210d9-beed-4270-9e8a-8bfce6f25761",
   "metadata": {},
   "outputs": [
    {
     "name": "stdout",
     "output_type": "stream",
     "text": [
      "+-----+----------------+------------+-----+----+----+-----+----+\n",
      "| time|        username|total_events| 4624|4625|4648| 4672|4768|\n",
      "+-----+----------------+------------+-----+----+----+-----+----+\n",
      "|  122|     Comp954789$|           8|    2|   0|   0|    0|   0|\n",
      "|  654|     Comp306263$|          43|   16|   0|   0|    0|   0|\n",
      "| 2392|     Comp960825$|          29|    4|   0|   0|    0|   0|\n",
      "| 2613|      User031784|        1180|    0| 586|   0|    0|   5|\n",
      "| 2825|      AppService|      102723|27252|1707|   0|25391|   0|\n",
      "| 2906|     Comp916004$|      140474|42742|   0|   0|42729|   0|\n",
      "| 3575|     Comp692745$|          39|    6|   0|   0|    0|   0|\n",
      "| 3855|     Comp870075$|          82|   20|   0|   0|    2|   0|\n",
      "| 5455|ActiveDirectory$|       29103|10203|   0|   0| 8549|   0|\n",
      "| 5895|      User793535|       14137| 6896|   0|   0|   60|   0|\n",
      "| 6033|      AppService|      122147|31699|   0|   0|    0|   0|\n",
      "| 6112|      User974844|         655|  138| 121|   0|    0|   0|\n",
      "| 6756|      AppService|      117413|29871|   0|   0|29122|   0|\n",
      "| 7341|     Comp158828$|        1067|   83|   0|   0|   73|   0|\n",
      "| 9461|      User793535|       12502| 5995|   0|   0|    0|   0|\n",
      "| 9637|         Scanner|      118366|30067|   0|   0|26262|   0|\n",
      "| 9694|     Comp637273$|          98|   23|   0|   1|    2|   0|\n",
      "|12413|     Comp792425$|          76|   18|   0|   0|    0|   0|\n",
      "|15758|     Comp174006$|          63|   29|   0|   0|    0|   0|\n",
      "|18277|      User318330|        5192| 1986|   0|   0|    0|   0|\n",
      "+-----+----------------+------------+-----+----+----+-----+----+\n",
      "only showing top 20 rows\n",
      "\n"
     ]
    }
   ],
   "source": [
    "df = df.na.fill(value=0, subset=[\"4624\", \"4625\", \"4648\", \"4672\", \"4768\"])\n",
    "df.show()"
   ]
  },
  {
   "cell_type": "code",
   "execution_count": 11,
   "id": "f2614851-02a1-477b-89b9-236e25e26abb",
   "metadata": {},
   "outputs": [
    {
     "name": "stdout",
     "output_type": "stream",
     "text": [
      "+-----+----------+------------+----+----+----+----+----+\n",
      "| time|  username|total_events|4624|4625|4648|4672|4768|\n",
      "+-----+----------+------------+----+----+----+----+----+\n",
      "| 2613|User031784|        1180|   0| 586|   0|   0|   5|\n",
      "| 5895|User793535|       14137|6896|   0|   0|  60|   0|\n",
      "| 6112|User974844|         655| 138| 121|   0|   0|   0|\n",
      "| 9461|User793535|       12502|5995|   0|   0|   0|   0|\n",
      "|18277|User318330|        5192|1986|   0|   0|   0|   0|\n",
      "|31588|User031784|        1644|   0| 814|   0|   0|   0|\n",
      "|50140|User793535|       14757|7347|   0|   0|   0|   0|\n",
      "|33765|User031784|        1926|  82|   0|   0|   0|   0|\n",
      "|40373|User974844|         624| 125| 121|   0|   0|   0|\n",
      "|73206|User031784|        1661|   0| 824|   0|   0|   0|\n",
      "|75224|User793535|       15959|7940|   0|   0|   0|   0|\n",
      "| 7402|User974844|         653| 141| 121|   0|   0|   0|\n",
      "|60599|User793535|       15826|7848|   0|   0|   0|   0|\n",
      "|76764|User318330|        4607|1687|   0|   0|   0|   0|\n",
      "| 2716|User031784|        1222|   0| 607|   0|   0|   0|\n",
      "| 7492|User974844|         653| 141| 121|   0|   0|   0|\n",
      "|10523|User974844|         653|   0| 120|   0|   0|   0|\n",
      "|61855|User793535|       14901|7399|   0|   0|   0|   0|\n",
      "| 7393|User031784|        1617|   0| 804|   0|   0|   0|\n",
      "|24118|User793535|       13447|6666|   0|   0|   0|   0|\n",
      "+-----+----------+------------+----+----+----+----+----+\n",
      "only showing top 20 rows\n",
      "\n"
     ]
    }
   ],
   "source": [
    "split_df = df.filter(df.username.isin(\"User793535\", \"User031784\", \"User318330\", \"User974844\"))\n",
    "split_df.show()"
   ]
  },
  {
   "cell_type": "code",
   "execution_count": 12,
   "id": "535cf6d0-132a-4cd7-af52-1e44a364ef0f",
   "metadata": {},
   "outputs": [],
   "source": [
    "# split_df.toPandas().to_csv('mycsv.csv')\n",
    "# split_df.write.option(\"header\",True).csv(\"Desktop/Team Elysium/anomaly_detection_active_directory_logs/data/processed/pivotdata.csv\")"
   ]
  },
  {
   "cell_type": "code",
   "execution_count": 13,
   "id": "53cf0296-5d4d-4b3b-900e-9208ae8bc015",
   "metadata": {},
   "outputs": [],
   "source": [
    "# Standardize:\n",
    "from pyspark.ml import Pipeline\n",
    "from pyspark.ml.feature import MinMaxScaler, VectorAssembler\n",
    "from pyspark.sql.functions import udf\n",
    "from pyspark.sql.types import DoubleType\n",
    "\n",
    "unlist = udf(lambda x: round(float(list(x)[0]),3), DoubleType())\n",
    "\n",
    "# columns_to_scale = [\"total_events\", \"4624\", \"4625\", \"4648\", \"4672\", \"4768\"]\n",
    "\n",
    "# assemblers = [VectorAssembler(inputCols=[col], outputCol=col + \"_vec\") for col in columns_to_scale]\n",
    "\n",
    "# scalers = [MinMaxScaler(inputCol=col + \"_vec\", outputCol=col + \"_scaled\") for col in columns_to_scale]\n",
    "# pipeline = Pipeline(stages=assemblers + scalers)\n",
    "# scalerModel = pipeline.fit(df)\n",
    "# scaledData = scalerModel.transform(df)"
   ]
  },
  {
   "cell_type": "code",
   "execution_count": 14,
   "id": "27242f49-3fb4-4c3d-926e-bf6f710fdb84",
   "metadata": {},
   "outputs": [
    {
     "name": "stdout",
     "output_type": "stream",
     "text": [
      "After Scaling:\n",
      "+-----+----------+------------+----+----+----+----+----+-------------------+-----------+-----------+-----------+-----------+-----------+\n",
      "| time|  username|total_events|4624|4625|4648|4672|4768|total_events_Scaled|4624_Scaled|4625_Scaled|4648_Scaled|4672_Scaled|4768_Scaled|\n",
      "+-----+----------+------------+----+----+----+----+----+-------------------+-----------+-----------+-----------+-----------+-----------+\n",
      "| 2613|User031784|        1180|   0| 586|   0|   0|   5|              0.062|        0.0|       0.65|        0.0|        0.0|       0.25|\n",
      "| 5895|User793535|       14137|6896|   0|   0|  60|   0|               0.75|      0.761|        0.0|        0.0|      0.698|        0.0|\n",
      "| 6112|User974844|         655| 138| 121|   0|   0|   0|              0.035|      0.015|      0.134|        0.0|        0.0|        0.0|\n",
      "| 9461|User793535|       12502|5995|   0|   0|   0|   0|              0.663|      0.661|        0.0|        0.0|        0.0|        0.0|\n",
      "|18277|User318330|        5192|1986|   0|   0|   0|   0|              0.275|      0.219|        0.0|        0.0|        0.0|        0.0|\n",
      "|31588|User031784|        1644|   0| 814|   0|   0|   0|              0.087|        0.0|      0.903|        0.0|        0.0|        0.0|\n",
      "|50140|User793535|       14757|7347|   0|   0|   0|   0|              0.783|       0.81|        0.0|        0.0|        0.0|        0.0|\n",
      "|33765|User031784|        1926|  82|   0|   0|   0|   0|              0.102|      0.009|        0.0|        0.0|        0.0|        0.0|\n",
      "|40373|User974844|         624| 125| 121|   0|   0|   0|              0.033|      0.014|      0.134|        0.0|        0.0|        0.0|\n",
      "|73206|User031784|        1661|   0| 824|   0|   0|   0|              0.088|        0.0|      0.915|        0.0|        0.0|        0.0|\n",
      "|75224|User793535|       15959|7940|   0|   0|   0|   0|              0.846|      0.876|        0.0|        0.0|        0.0|        0.0|\n",
      "| 7402|User974844|         653| 141| 121|   0|   0|   0|              0.035|      0.016|      0.134|        0.0|        0.0|        0.0|\n",
      "|60599|User793535|       15826|7848|   0|   0|   0|   0|              0.839|      0.866|        0.0|        0.0|        0.0|        0.0|\n",
      "|76764|User318330|        4607|1687|   0|   0|   0|   0|              0.244|      0.186|        0.0|        0.0|        0.0|        0.0|\n",
      "| 2716|User031784|        1222|   0| 607|   0|   0|   0|              0.065|        0.0|      0.674|        0.0|        0.0|        0.0|\n",
      "| 7492|User974844|         653| 141| 121|   0|   0|   0|              0.035|      0.016|      0.134|        0.0|        0.0|        0.0|\n",
      "|10523|User974844|         653|   0| 120|   0|   0|   0|              0.035|        0.0|      0.133|        0.0|        0.0|        0.0|\n",
      "|61855|User793535|       14901|7399|   0|   0|   0|   0|               0.79|      0.816|        0.0|        0.0|        0.0|        0.0|\n",
      "| 7393|User031784|        1617|   0| 804|   0|   0|   0|              0.086|        0.0|      0.892|        0.0|        0.0|        0.0|\n",
      "|24118|User793535|       13447|6666|   0|   0|   0|   0|              0.713|      0.735|        0.0|        0.0|        0.0|        0.0|\n",
      "+-----+----------+------------+----+----+----+----+----+-------------------+-----------+-----------+-----------+-----------+-----------+\n",
      "only showing top 20 rows\n",
      "\n"
     ]
    }
   ],
   "source": [
    "for i in [\"total_events\", \"4624\", \"4625\", \"4648\", \"4672\", \"4768\"]:\n",
    "    assembler = VectorAssembler(inputCols=[i], outputCol=i+\"_Vect\")\n",
    "    scaler = MinMaxScaler(inputCol=i+\"_Vect\", outputCol=i+\"_Scaled\")\n",
    "    pipeline = Pipeline(stages=[assembler, scaler])\n",
    "    split_df = pipeline.fit(split_df).transform(split_df).withColumn(i+\"_Scaled\", unlist(i+\"_Scaled\")).drop(i+\"_Vect\")\n",
    "\n",
    "print(\"After Scaling:\")\n",
    "split_df.show()"
   ]
  }
 ],
 "metadata": {
  "kernelspec": {
   "display_name": "Python 3",
   "language": "python",
   "name": "python3"
  },
  "language_info": {
   "codemirror_mode": {
    "name": "ipython",
    "version": 3
   },
   "file_extension": ".py",
   "mimetype": "text/x-python",
   "name": "python",
   "nbconvert_exporter": "python",
   "pygments_lexer": "ipython3",
   "version": "3.8.8"
  }
 },
 "nbformat": 4,
 "nbformat_minor": 5
}
