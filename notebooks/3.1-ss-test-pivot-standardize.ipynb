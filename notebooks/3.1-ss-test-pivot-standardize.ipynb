{
 "cells": [
  {
   "cell_type": "code",
   "execution_count": 1,
   "id": "f82402b7-1098-4158-b0b1-bc84d473e23a",
   "metadata": {},
   "outputs": [],
   "source": [
    "import pyspark\n",
    "from pyspark import SparkContext, SparkConf, SQLContext\n",
    "from pyspark.sql import SparkSession\n",
    "from pyspark.sql.functions import unix_timestamp\n",
    "from pyspark.sql.types import *\n",
    "conf = pyspark.SparkConf().setAppName('appName').setMaster('local')\n",
    "sc = SparkContext(conf=conf)\n",
    "spark = SparkSession(sc)"
   ]
  },
  {
   "cell_type": "code",
   "execution_count": 2,
   "id": "08776a8b-b2a9-40df-a3a4-2e9968dfab35",
   "metadata": {},
   "outputs": [
    {
     "name": "stdout",
     "output_type": "stream",
     "text": [
      "+----+-----------+--------+------------+---------------+\n",
      "|time|   username|event_id|total_events|total_per_event|\n",
      "+----+-----------+--------+------------+---------------+\n",
      "|   1|Comp071603$|    4688|           3|              3|\n",
      "|   1|Comp079982$|    4688|           1|              1|\n",
      "|   1|Comp102246$|    4688|           2|              2|\n",
      "|   1|Comp193344$|    4688|           3|              3|\n",
      "|   1|Comp194392$|    4634|           1|              1|\n",
      "|   1|Comp332130$|    4688|           1|              1|\n",
      "|   1|Comp334881$|    4688|           2|              2|\n",
      "|   1|Comp423822$|    4688|           3|              3|\n",
      "|   1|Comp626532$|    4688|           3|              3|\n",
      "|   1|Comp629929$|    4688|           2|              2|\n",
      "|   1|Comp924592$|    4688|           1|              1|\n",
      "|   1|Comp002915$|    4688|           2|              2|\n",
      "|   1|Comp287324$|    4624|           4|              2|\n",
      "|   1|Comp287324$|    4634|           4|              2|\n",
      "|   1|Comp386851$|    4688|           2|              2|\n",
      "|   1|Comp537173$|    4688|           1|              1|\n",
      "|   1|Comp548054$|    4688|           1|              1|\n",
      "|   1|Comp703579$|    4688|           1|              1|\n",
      "|   1|Comp786718$|    4688|           1|              1|\n",
      "|   1|Comp040119$|    4688|           3|              3|\n",
      "+----+-----------+--------+------------+---------------+\n",
      "only showing top 20 rows\n",
      "\n"
     ]
    }
   ],
   "source": [
    "path = \"../data/processed/benign_with_rolling_window.csv\"\n",
    "df = spark.read.csv(path).toDF(\n",
    "  \"time\", \"username\", \"event_id\", \"total_events\", \"total_per_event\"\n",
    ")\n",
    "df.show()"
   ]
  },
  {
   "cell_type": "code",
   "execution_count": 3,
   "id": "5452a4bd-eb1a-465c-9a50-8aa38f605972",
   "metadata": {},
   "outputs": [],
   "source": [
    "keep_event_ids = [4624, 4625, 4627, 4648, 4658, 4661, 4672, 4697, 4698, 4768, 4779, 5140, 5145, 5158]"
   ]
  },
  {
   "cell_type": "code",
   "execution_count": 4,
   "id": "f9711aa1-8a29-4977-b333-35cab6c28d71",
   "metadata": {},
   "outputs": [
    {
     "name": "stdout",
     "output_type": "stream",
     "text": [
      "root\n",
      " |-- time: string (nullable = true)\n",
      " |-- username: string (nullable = true)\n",
      " |-- event_id: string (nullable = true)\n",
      " |-- total_events: string (nullable = true)\n",
      " |-- total_per_event: string (nullable = true)\n",
      "\n"
     ]
    }
   ],
   "source": [
    "df.printSchema()"
   ]
  },
  {
   "cell_type": "code",
   "execution_count": 5,
   "id": "a26fe30c-31d8-49b2-bbb9-520a4588d52f",
   "metadata": {},
   "outputs": [],
   "source": [
    "df = df.withColumn(\"event_id\", df[\"event_id\"].cast(IntegerType()))\n",
    "df = df.withColumn(\"total_events\", df[\"total_events\"].cast(IntegerType()))\n",
    "df = df.withColumn(\"total_per_event\", df[\"total_per_event\"].cast(IntegerType()))"
   ]
  },
  {
   "cell_type": "code",
   "execution_count": 6,
   "id": "d393549e-4741-4a51-b2ab-ba132ccc464e",
   "metadata": {},
   "outputs": [
    {
     "name": "stdout",
     "output_type": "stream",
     "text": [
      "root\n",
      " |-- time: string (nullable = true)\n",
      " |-- username: string (nullable = true)\n",
      " |-- event_id: integer (nullable = true)\n",
      " |-- total_events: integer (nullable = true)\n",
      " |-- total_per_event: integer (nullable = true)\n",
      "\n"
     ]
    }
   ],
   "source": [
    "df.printSchema()"
   ]
  },
  {
   "cell_type": "code",
   "execution_count": 7,
   "id": "3fc3df80-3eba-435d-93ff-ce078a0401e6",
   "metadata": {},
   "outputs": [
    {
     "name": "stdout",
     "output_type": "stream",
     "text": [
      "+----+-----------+--------+------------+---------------+\n",
      "|time|   username|event_id|total_events|total_per_event|\n",
      "+----+-----------+--------+------------+---------------+\n",
      "|   1|Comp287324$|    4624|           4|              2|\n",
      "|   1|Comp362621$|    4624|           6|              1|\n",
      "|   1|Comp939275$|    4624|          17|              8|\n",
      "|   1|Comp939275$|    4672|          17|              8|\n",
      "|   1| User641851|    4624|          20|             11|\n",
      "|   1| User641851|    4672|          20|              6|\n",
      "|   1| User032516|    4624|          32|              6|\n",
      "|   1| User032516|    4648|          32|              6|\n",
      "|   1| User032516|    4672|          32|              6|\n",
      "|   1|Comp347730$|    4624|          13|              7|\n",
      "|   1| User668517|    4625|           2|              2|\n",
      "|   1|Comp767914$|    4768|           3|              1|\n",
      "|   1| User643724|    4624|          36|             10|\n",
      "|   1|    Scanner|    4624|          46|             12|\n",
      "|   1|    Scanner|    4672|          46|             12|\n",
      "|   1| User586584|    4624|           2|              1|\n",
      "|   1|Comp907867$|    4624|           3|              1|\n",
      "|   1|     system|    4624|        4308|           2154|\n",
      "|   1|     system|    4672|        4308|           2154|\n",
      "|   1| User279235|    4624|           4|              1|\n",
      "+----+-----------+--------+------------+---------------+\n",
      "only showing top 20 rows\n",
      "\n"
     ]
    }
   ],
   "source": [
    "df = df.filter(df.event_id.isin(keep_event_ids))\n",
    "df.show()"
   ]
  },
  {
   "cell_type": "code",
   "execution_count": null,
   "id": "287e90ef-83a2-49a1-a9a7-72a02dc8f259",
   "metadata": {},
   "outputs": [],
   "source": [
    "# Pivot:\n",
    "df.groupBy(\"time\", \"username\").pivot(\"event_id\").sum(\"total_events\")\n",
    "df.show()"
   ]
  },
  {
   "cell_type": "code",
   "execution_count": null,
   "id": "cc1a1da2-f065-4c6d-aca6-7e29b6a15cd7",
   "metadata": {},
   "outputs": [],
   "source": []
  }
 ],
 "metadata": {
  "kernelspec": {
   "display_name": "Python 3",
   "language": "python",
   "name": "python3"
  },
  "language_info": {
   "codemirror_mode": {
    "name": "ipython",
    "version": 3
   },
   "file_extension": ".py",
   "mimetype": "text/x-python",
   "name": "python",
   "nbconvert_exporter": "python",
   "pygments_lexer": "ipython3",
   "version": "3.8.8"
  }
 },
 "nbformat": 4,
 "nbformat_minor": 5
}
