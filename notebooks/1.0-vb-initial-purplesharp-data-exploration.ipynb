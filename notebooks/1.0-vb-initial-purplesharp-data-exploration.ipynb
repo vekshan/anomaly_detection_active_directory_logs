{
 "cells": [
  {
   "cell_type": "code",
   "execution_count": 1,
   "metadata": {},
   "outputs": [],
   "source": [
    "import pandas as pd\n",
    "from pandas.io import json\n",
    "import datetime\n",
    "import time"
   ]
  },
  {
   "cell_type": "code",
   "execution_count": 2,
   "metadata": {},
   "outputs": [],
   "source": [
    "path = \"../data/raw/purplesharp_ad_playbook_I_2020-10-22042947.json\"\n",
    "df = json.read_json(path, lines=True)"
   ]
  },
  {
   "cell_type": "code",
   "execution_count": 4,
   "metadata": {},
   "outputs": [
    {
     "data": {
      "text/plain": [
       "25993"
      ]
     },
     "execution_count": 4,
     "metadata": {},
     "output_type": "execute_result"
    }
   ],
   "source": [
    "len(df)"
   ]
  },
  {
   "cell_type": "markdown",
   "metadata": {},
   "source": [
    "#### Kerberos Attack Related Features Explained (See paper on row 8 on google Sheets)  \n",
    "\n",
    "AuthenticationPackageName: Indicates the authentication type. This could, for example, be Kerberos or NTLM.  \n",
    "ElevatedToken: Whether or not the logon has elevated administrator privileges.  \n",
    "ImpersonationLevel: The level of impersonation the logon is allowed to. Most common is to have impersonation privileges allowing to impersonate the client on the local system, but not remote systems.  \n",
    "IpAddress: The source IP address where the logon originated from.  \n",
    "IpPort: The source IP port of the remote system.  \n",
    "KeyLength: The key length in bits for an NTLM authenticated logon.  \n",
    "LmPackageName: The package name of an NTLM authenticated logon.  \n",
    "LogonProcessName: The trusted logon process registered with the local security authority handling the logon.  \n",
    "LogonType: The type of logon performed.  \n",
    "ProcessName: The the executable of the process which initiated the logon.  \n",
    "RestrictedAdminMode: Whether or not the logon was running in restricted admin mode.  \n",
    "SubjectDomainName: The domain of the account initiating the logon.  \n",
    "SubjectUserName: The username of the account initiating the logon.   \n",
    "SubjectUserSid: The security identifer of the account initiating the logon.  \n",
    "TargetDomainName: The domain the account being logged onto resides in.  \n",
    "TargetOutboundDomainName: The domain for the user account being used for remote connections, in case of logon type 9.  \n",
    "TargetOutboundUserName: The username of the account being used for remote connections.  \n",
    "TargetUserName: The username of the account being logged onto.  \n",
    "TargetUserSid: The security identier of the account being logged onto.  \n",
    "WorkstationName: The computer name of the workstation from where the logon originated.  "
   ]
  },
  {
   "cell_type": "code",
   "execution_count": 3,
   "metadata": {},
   "outputs": [
    {
     "name": "stdout",
     "output_type": "stream",
     "text": [
      "['@timestamp', 'DestPort', 'ProcessId', 'OpcodeValue', 'port', 'SourceAddress', 'RemoteMachineID', 'Severity', 'SourcePort', 'EventTime', 'SourceName', 'ProviderGuid', 'Channel', 'DestAddress', 'FilterRTID', 'RemoteUserID', 'EventReceivedTime', 'ExecutionProcessID', 'EventID', 'Category', 'tags', 'SeverityValue', 'Keywords', 'EventType', 'Version', 'Direction', 'SourceModuleName', 'Application', 'SourceModuleType', 'host', 'LayerName', 'RecordNumber', 'ThreadID', 'Task', 'Message', 'Hostname', 'Protocol', 'LayerRTID', '@version', 'Opcode', 'AccountName', 'AccountType', 'Image', 'TargetFilename', 'UtcTime', 'Domain', 'RuleName', 'CreationUtcTime', 'UserID', 'ProcessGuid', 'TargetObject', 'EventTypeOrignal', 'Details', 'OriginalFileName', 'Product', 'Hashes', 'Signed', 'FileVersion', 'Company', 'SignatureStatus', 'Signature', 'ImageLoaded', 'Description', 'MandatoryLabel', 'SubjectUserSid', 'SubjectUserName', 'CommandLine', 'SubjectDomainName', 'SubjectLogonId', 'ParentProcessName', 'TargetUserSid', 'TokenElevationType', 'TargetUserName', 'NewProcessName', 'NewProcessId', 'TargetDomainName', 'TargetLogonId', 'TargetHandleId', 'SourceProcessId', 'SourceHandleId', 'TargetProcessId', 'User', 'ParentImage', 'CurrentDirectory', 'ParentCommandLine', 'TerminalSessionId', 'ParentProcessGuid', 'LogonGuid', 'LogonId', 'IntegrityLevel', 'ParentProcessId', 'ObjectServer', 'HandleId', 'ProcessName', 'SourceThreadId', 'SourceProcessGUID', 'TargetImage', 'GrantedAccess', 'CallTrace', 'SourceImage', 'TargetProcessGUID', 'RestrictedSidCount', 'AccessReason', 'ObjectType', 'AccessMask', 'TransactionId', 'PrivilegeList', 'ObjectName', 'AccessList', 'ResourceAttributes', 'Service', 'EnabledPrivilegeList', 'DisabledPrivilegeList', 'LmPackageName', 'TransmittedServices', 'ElevatedToken', 'RestrictedAdminMode', 'LogonProcessName', 'WorkstationName', 'IpPort', 'TargetLinkedLogonId', 'TargetOutboundUserName', 'LogonType', 'KeyLength', 'VirtualAccount', 'AuthenticationPackageName', 'ImpersonationLevel', 'IpAddress', 'TargetOutboundDomainName', 'EventIdx', 'EventCountTotal', 'GroupMembership', 'ERROR_EVT_UNRESOLVED', 'IsExecutable', 'Archived', 'PipeName', 'param1', 'param2', 'ActivityID', 'RunspaceId', 'ScriptBlockId', 'Payload', 'ContextInfo', 'MessageNumber', 'ScriptBlockText', 'MessageTotal', 'FailureReason', 'Status', 'SubStatus', 'NewSd', 'OldSd', 'Path', 'Workstation', 'PackageName', 'TicketEncryptionType', 'ServiceName', 'ServiceSid', 'TicketOptions', 'ShareName', 'RelativeTargetName', 'InstanceId', 'MaxRunspaces', 'MinRunspaces', 'QueryResults', 'QueryName', 'QueryStatus', 'DestinationIp', 'SourceIsIpv6', 'DestinationIsIpv6', 'Initiated', 'SourceIp', 'DestinationHostname', 'SourcePortName', 'SourceHostname', 'DestinationPort', 'DestinationPortName', 'Device', 'TargetSid', 'CallerProcessId', 'CallerProcessName', 'Properties', 'AlgorithmName', 'Operation', 'ClientProcessId', 'ClientCreationTime', 'KeyType', 'ReturnCode', 'KeyFilePath', 'KeyName', 'ProviderName', 'MiniportNameLen', 'MiniportName', 'param3', 'param4']\n"
     ]
    }
   ],
   "source": [
    "print(df.columns.tolist())"
   ]
  },
  {
   "cell_type": "code",
   "execution_count": 14,
   "metadata": {},
   "outputs": [
    {
     "data": {
      "text/plain": [
       "@timestamp             0\n",
       "DestPort           25796\n",
       "ProcessId           1258\n",
       "OpcodeValue          342\n",
       "port                   0\n",
       "                   ...  \n",
       "MiniportNameLen    25991\n",
       "MiniportName       25991\n",
       "param3             25992\n",
       "param4             25992\n",
       "Time                   0\n",
       "Length: 195, dtype: int64"
      ]
     },
     "execution_count": 14,
     "metadata": {},
     "output_type": "execute_result"
    }
   ],
   "source": [
    "df.isnull().sum()"
   ]
  },
  {
   "cell_type": "markdown",
   "metadata": {},
   "source": [
    "#### Finding Columns similar to Lanl dataset  \n",
    "// To Confirm\n",
    "\n",
    "Lanl is another AD dataset for benign behavior that we might consider merging with - See 2.0-vb-initial-lanl-benign-data-exploration.ipynb  \n",
    "\n",
    "'AuthenticationPackage',    \n",
    "'Destination',  \n",
    "'DomainName',    \n",
    "'EventID',    \n",
    "'FailureReason',  \n",
    "'LogHost',   \n",
    "'LogonID',  \n",
    "'LogonType',  \n",
    "'LogonTypeDescription',  \n",
    "'ParentProcessID',   \n",
    "'ParentProcessName',  \n",
    "'ProcessID',  \n",
    "'ProcessName',  \n",
    "'ServiceName',  \n",
    "'Source',  \n",
    "'Status',  \n",
    "'SubjectDomainName',  \n",
    "'SubjectLogonID',  \n",
    "'SubjectUserName',  \n",
    "'Time',  \n",
    "'UserName'  "
   ]
  },
  {
   "cell_type": "code",
   "execution_count": 5,
   "metadata": {},
   "outputs": [],
   "source": [
    "df_lanl = df[['EventID','EventTime','LogonId', 'host', 'Hostname', 'LogonType' ,'SubjectUserName', 'SubjectDomainName',\n",
    "    'SubjectLogonId','Status', 'SourceName', 'ServiceName',\"ServiceSid\",'DestinationHostname', 'AuthenticationPackageName',\n",
    "    'FailureReason','ProcessName', 'ProcessId', 'ParentProcessName','ParentProcessId'\n",
    "   ]]"
   ]
  },
  {
   "cell_type": "code",
   "execution_count": 5,
   "metadata": {},
   "outputs": [
    {
     "data": {
      "text/plain": [
       "EventID                      False\n",
       "EventTime                    False\n",
       "LogonId                      False\n",
       "host                         False\n",
       "Hostname                     False\n",
       "LogonType                    False\n",
       "SubjectUserName              False\n",
       "SubjectDomainName            False\n",
       "SubjectLogonId               False\n",
       "Status                       False\n",
       "SourceName                   False\n",
       "ServiceName                  False\n",
       "ServiceSid                   False\n",
       "DestinationHostname          False\n",
       "AuthenticationPackageName    False\n",
       "FailureReason                False\n",
       "ProcessName                  False\n",
       "ProcessId                    False\n",
       "ParentProcessName            False\n",
       "ParentProcessId              False\n",
       "dtype: bool"
      ]
     },
     "execution_count": 5,
     "metadata": {},
     "output_type": "execute_result"
    }
   ],
   "source": [
    "df_lanl.isnull().all(0)"
   ]
  },
  {
   "cell_type": "code",
   "execution_count": 6,
   "metadata": {},
   "outputs": [
    {
     "data": {
      "text/html": [
       "<div>\n",
       "<style scoped>\n",
       "    .dataframe tbody tr th:only-of-type {\n",
       "        vertical-align: middle;\n",
       "    }\n",
       "\n",
       "    .dataframe tbody tr th {\n",
       "        vertical-align: top;\n",
       "    }\n",
       "\n",
       "    .dataframe thead th {\n",
       "        text-align: right;\n",
       "    }\n",
       "</style>\n",
       "<table border=\"1\" class=\"dataframe\">\n",
       "  <thead>\n",
       "    <tr style=\"text-align: right;\">\n",
       "      <th></th>\n",
       "      <th>EventID</th>\n",
       "      <th>EventTime</th>\n",
       "      <th>LogonId</th>\n",
       "      <th>host</th>\n",
       "      <th>Hostname</th>\n",
       "      <th>LogonType</th>\n",
       "      <th>SubjectUserName</th>\n",
       "      <th>SubjectDomainName</th>\n",
       "      <th>SubjectLogonId</th>\n",
       "      <th>Status</th>\n",
       "      <th>SourceName</th>\n",
       "      <th>ServiceName</th>\n",
       "      <th>ServiceSid</th>\n",
       "      <th>DestinationHostname</th>\n",
       "      <th>AuthenticationPackageName</th>\n",
       "      <th>FailureReason</th>\n",
       "      <th>ProcessName</th>\n",
       "      <th>ProcessId</th>\n",
       "      <th>ParentProcessName</th>\n",
       "      <th>ParentProcessId</th>\n",
       "    </tr>\n",
       "  </thead>\n",
       "  <tbody>\n",
       "    <tr>\n",
       "      <th>0</th>\n",
       "      <td>5156</td>\n",
       "      <td>2020-10-22 04:29:46</td>\n",
       "      <td>NaN</td>\n",
       "      <td>wec.internal.cloudapp.net</td>\n",
       "      <td>MORDORDC.theshire.local</td>\n",
       "      <td>NaN</td>\n",
       "      <td>NaN</td>\n",
       "      <td>NaN</td>\n",
       "      <td>NaN</td>\n",
       "      <td>NaN</td>\n",
       "      <td>Microsoft-Windows-Security-Auditing</td>\n",
       "      <td>NaN</td>\n",
       "      <td>NaN</td>\n",
       "      <td>NaN</td>\n",
       "      <td>NaN</td>\n",
       "      <td>NaN</td>\n",
       "      <td>NaN</td>\n",
       "      <td>696</td>\n",
       "      <td>NaN</td>\n",
       "      <td>NaN</td>\n",
       "    </tr>\n",
       "    <tr>\n",
       "      <th>1</th>\n",
       "      <td>5156</td>\n",
       "      <td>2020-10-22 04:29:46</td>\n",
       "      <td>NaN</td>\n",
       "      <td>wec.internal.cloudapp.net</td>\n",
       "      <td>MORDORDC.theshire.local</td>\n",
       "      <td>NaN</td>\n",
       "      <td>NaN</td>\n",
       "      <td>NaN</td>\n",
       "      <td>NaN</td>\n",
       "      <td>NaN</td>\n",
       "      <td>Microsoft-Windows-Security-Auditing</td>\n",
       "      <td>NaN</td>\n",
       "      <td>NaN</td>\n",
       "      <td>NaN</td>\n",
       "      <td>NaN</td>\n",
       "      <td>NaN</td>\n",
       "      <td>NaN</td>\n",
       "      <td>3632</td>\n",
       "      <td>NaN</td>\n",
       "      <td>NaN</td>\n",
       "    </tr>\n",
       "    <tr>\n",
       "      <th>2</th>\n",
       "      <td>5156</td>\n",
       "      <td>2020-10-22 04:29:46</td>\n",
       "      <td>NaN</td>\n",
       "      <td>wec.internal.cloudapp.net</td>\n",
       "      <td>MORDORDC.theshire.local</td>\n",
       "      <td>NaN</td>\n",
       "      <td>NaN</td>\n",
       "      <td>NaN</td>\n",
       "      <td>NaN</td>\n",
       "      <td>NaN</td>\n",
       "      <td>Microsoft-Windows-Security-Auditing</td>\n",
       "      <td>NaN</td>\n",
       "      <td>NaN</td>\n",
       "      <td>NaN</td>\n",
       "      <td>NaN</td>\n",
       "      <td>NaN</td>\n",
       "      <td>NaN</td>\n",
       "      <td>696</td>\n",
       "      <td>NaN</td>\n",
       "      <td>NaN</td>\n",
       "    </tr>\n",
       "    <tr>\n",
       "      <th>3</th>\n",
       "      <td>5156</td>\n",
       "      <td>2020-10-22 04:29:46</td>\n",
       "      <td>NaN</td>\n",
       "      <td>wec.internal.cloudapp.net</td>\n",
       "      <td>MORDORDC.theshire.local</td>\n",
       "      <td>NaN</td>\n",
       "      <td>NaN</td>\n",
       "      <td>NaN</td>\n",
       "      <td>NaN</td>\n",
       "      <td>NaN</td>\n",
       "      <td>Microsoft-Windows-Security-Auditing</td>\n",
       "      <td>NaN</td>\n",
       "      <td>NaN</td>\n",
       "      <td>NaN</td>\n",
       "      <td>NaN</td>\n",
       "      <td>NaN</td>\n",
       "      <td>NaN</td>\n",
       "      <td>696</td>\n",
       "      <td>NaN</td>\n",
       "      <td>NaN</td>\n",
       "    </tr>\n",
       "    <tr>\n",
       "      <th>4</th>\n",
       "      <td>5156</td>\n",
       "      <td>2020-10-22 04:29:46</td>\n",
       "      <td>NaN</td>\n",
       "      <td>wec.internal.cloudapp.net</td>\n",
       "      <td>MORDORDC.theshire.local</td>\n",
       "      <td>NaN</td>\n",
       "      <td>NaN</td>\n",
       "      <td>NaN</td>\n",
       "      <td>NaN</td>\n",
       "      <td>NaN</td>\n",
       "      <td>Microsoft-Windows-Security-Auditing</td>\n",
       "      <td>NaN</td>\n",
       "      <td>NaN</td>\n",
       "      <td>NaN</td>\n",
       "      <td>NaN</td>\n",
       "      <td>NaN</td>\n",
       "      <td>NaN</td>\n",
       "      <td>3632</td>\n",
       "      <td>NaN</td>\n",
       "      <td>NaN</td>\n",
       "    </tr>\n",
       "    <tr>\n",
       "      <th>...</th>\n",
       "      <td>...</td>\n",
       "      <td>...</td>\n",
       "      <td>...</td>\n",
       "      <td>...</td>\n",
       "      <td>...</td>\n",
       "      <td>...</td>\n",
       "      <td>...</td>\n",
       "      <td>...</td>\n",
       "      <td>...</td>\n",
       "      <td>...</td>\n",
       "      <td>...</td>\n",
       "      <td>...</td>\n",
       "      <td>...</td>\n",
       "      <td>...</td>\n",
       "      <td>...</td>\n",
       "      <td>...</td>\n",
       "      <td>...</td>\n",
       "      <td>...</td>\n",
       "      <td>...</td>\n",
       "      <td>...</td>\n",
       "    </tr>\n",
       "    <tr>\n",
       "      <th>25988</th>\n",
       "      <td>12</td>\n",
       "      <td>2020-10-22 04:30:01</td>\n",
       "      <td>NaN</td>\n",
       "      <td>wec.internal.cloudapp.net</td>\n",
       "      <td>MORDORDC.theshire.local</td>\n",
       "      <td>NaN</td>\n",
       "      <td>NaN</td>\n",
       "      <td>NaN</td>\n",
       "      <td>NaN</td>\n",
       "      <td>NaN</td>\n",
       "      <td>Microsoft-Windows-Sysmon</td>\n",
       "      <td>NaN</td>\n",
       "      <td>NaN</td>\n",
       "      <td>NaN</td>\n",
       "      <td>NaN</td>\n",
       "      <td>NaN</td>\n",
       "      <td>NaN</td>\n",
       "      <td>7944</td>\n",
       "      <td>NaN</td>\n",
       "      <td>NaN</td>\n",
       "    </tr>\n",
       "    <tr>\n",
       "      <th>25989</th>\n",
       "      <td>12</td>\n",
       "      <td>2020-10-22 04:30:01</td>\n",
       "      <td>NaN</td>\n",
       "      <td>wec.internal.cloudapp.net</td>\n",
       "      <td>MORDORDC.theshire.local</td>\n",
       "      <td>NaN</td>\n",
       "      <td>NaN</td>\n",
       "      <td>NaN</td>\n",
       "      <td>NaN</td>\n",
       "      <td>NaN</td>\n",
       "      <td>Microsoft-Windows-Sysmon</td>\n",
       "      <td>NaN</td>\n",
       "      <td>NaN</td>\n",
       "      <td>NaN</td>\n",
       "      <td>NaN</td>\n",
       "      <td>NaN</td>\n",
       "      <td>NaN</td>\n",
       "      <td>7944</td>\n",
       "      <td>NaN</td>\n",
       "      <td>NaN</td>\n",
       "    </tr>\n",
       "    <tr>\n",
       "      <th>25990</th>\n",
       "      <td>12</td>\n",
       "      <td>2020-10-22 04:30:01</td>\n",
       "      <td>NaN</td>\n",
       "      <td>wec.internal.cloudapp.net</td>\n",
       "      <td>MORDORDC.theshire.local</td>\n",
       "      <td>NaN</td>\n",
       "      <td>NaN</td>\n",
       "      <td>NaN</td>\n",
       "      <td>NaN</td>\n",
       "      <td>NaN</td>\n",
       "      <td>Microsoft-Windows-Sysmon</td>\n",
       "      <td>NaN</td>\n",
       "      <td>NaN</td>\n",
       "      <td>NaN</td>\n",
       "      <td>NaN</td>\n",
       "      <td>NaN</td>\n",
       "      <td>NaN</td>\n",
       "      <td>7944</td>\n",
       "      <td>NaN</td>\n",
       "      <td>NaN</td>\n",
       "    </tr>\n",
       "    <tr>\n",
       "      <th>25991</th>\n",
       "      <td>12</td>\n",
       "      <td>2020-10-22 04:30:01</td>\n",
       "      <td>NaN</td>\n",
       "      <td>wec.internal.cloudapp.net</td>\n",
       "      <td>MORDORDC.theshire.local</td>\n",
       "      <td>NaN</td>\n",
       "      <td>NaN</td>\n",
       "      <td>NaN</td>\n",
       "      <td>NaN</td>\n",
       "      <td>NaN</td>\n",
       "      <td>Microsoft-Windows-Sysmon</td>\n",
       "      <td>NaN</td>\n",
       "      <td>NaN</td>\n",
       "      <td>NaN</td>\n",
       "      <td>NaN</td>\n",
       "      <td>NaN</td>\n",
       "      <td>NaN</td>\n",
       "      <td>7944</td>\n",
       "      <td>NaN</td>\n",
       "      <td>NaN</td>\n",
       "    </tr>\n",
       "    <tr>\n",
       "      <th>25992</th>\n",
       "      <td>12</td>\n",
       "      <td>2020-10-22 04:30:01</td>\n",
       "      <td>NaN</td>\n",
       "      <td>wec.internal.cloudapp.net</td>\n",
       "      <td>MORDORDC.theshire.local</td>\n",
       "      <td>NaN</td>\n",
       "      <td>NaN</td>\n",
       "      <td>NaN</td>\n",
       "      <td>NaN</td>\n",
       "      <td>NaN</td>\n",
       "      <td>Microsoft-Windows-Sysmon</td>\n",
       "      <td>NaN</td>\n",
       "      <td>NaN</td>\n",
       "      <td>NaN</td>\n",
       "      <td>NaN</td>\n",
       "      <td>NaN</td>\n",
       "      <td>NaN</td>\n",
       "      <td>7944</td>\n",
       "      <td>NaN</td>\n",
       "      <td>NaN</td>\n",
       "    </tr>\n",
       "  </tbody>\n",
       "</table>\n",
       "<p>25993 rows × 20 columns</p>\n",
       "</div>"
      ],
      "text/plain": [
       "       EventID            EventTime LogonId                       host  \\\n",
       "0         5156  2020-10-22 04:29:46     NaN  wec.internal.cloudapp.net   \n",
       "1         5156  2020-10-22 04:29:46     NaN  wec.internal.cloudapp.net   \n",
       "2         5156  2020-10-22 04:29:46     NaN  wec.internal.cloudapp.net   \n",
       "3         5156  2020-10-22 04:29:46     NaN  wec.internal.cloudapp.net   \n",
       "4         5156  2020-10-22 04:29:46     NaN  wec.internal.cloudapp.net   \n",
       "...        ...                  ...     ...                        ...   \n",
       "25988       12  2020-10-22 04:30:01     NaN  wec.internal.cloudapp.net   \n",
       "25989       12  2020-10-22 04:30:01     NaN  wec.internal.cloudapp.net   \n",
       "25990       12  2020-10-22 04:30:01     NaN  wec.internal.cloudapp.net   \n",
       "25991       12  2020-10-22 04:30:01     NaN  wec.internal.cloudapp.net   \n",
       "25992       12  2020-10-22 04:30:01     NaN  wec.internal.cloudapp.net   \n",
       "\n",
       "                      Hostname  LogonType SubjectUserName SubjectDomainName  \\\n",
       "0      MORDORDC.theshire.local        NaN             NaN               NaN   \n",
       "1      MORDORDC.theshire.local        NaN             NaN               NaN   \n",
       "2      MORDORDC.theshire.local        NaN             NaN               NaN   \n",
       "3      MORDORDC.theshire.local        NaN             NaN               NaN   \n",
       "4      MORDORDC.theshire.local        NaN             NaN               NaN   \n",
       "...                        ...        ...             ...               ...   \n",
       "25988  MORDORDC.theshire.local        NaN             NaN               NaN   \n",
       "25989  MORDORDC.theshire.local        NaN             NaN               NaN   \n",
       "25990  MORDORDC.theshire.local        NaN             NaN               NaN   \n",
       "25991  MORDORDC.theshire.local        NaN             NaN               NaN   \n",
       "25992  MORDORDC.theshire.local        NaN             NaN               NaN   \n",
       "\n",
       "      SubjectLogonId Status                           SourceName ServiceName  \\\n",
       "0                NaN    NaN  Microsoft-Windows-Security-Auditing         NaN   \n",
       "1                NaN    NaN  Microsoft-Windows-Security-Auditing         NaN   \n",
       "2                NaN    NaN  Microsoft-Windows-Security-Auditing         NaN   \n",
       "3                NaN    NaN  Microsoft-Windows-Security-Auditing         NaN   \n",
       "4                NaN    NaN  Microsoft-Windows-Security-Auditing         NaN   \n",
       "...              ...    ...                                  ...         ...   \n",
       "25988            NaN    NaN             Microsoft-Windows-Sysmon         NaN   \n",
       "25989            NaN    NaN             Microsoft-Windows-Sysmon         NaN   \n",
       "25990            NaN    NaN             Microsoft-Windows-Sysmon         NaN   \n",
       "25991            NaN    NaN             Microsoft-Windows-Sysmon         NaN   \n",
       "25992            NaN    NaN             Microsoft-Windows-Sysmon         NaN   \n",
       "\n",
       "      ServiceSid DestinationHostname AuthenticationPackageName FailureReason  \\\n",
       "0            NaN                 NaN                       NaN           NaN   \n",
       "1            NaN                 NaN                       NaN           NaN   \n",
       "2            NaN                 NaN                       NaN           NaN   \n",
       "3            NaN                 NaN                       NaN           NaN   \n",
       "4            NaN                 NaN                       NaN           NaN   \n",
       "...          ...                 ...                       ...           ...   \n",
       "25988        NaN                 NaN                       NaN           NaN   \n",
       "25989        NaN                 NaN                       NaN           NaN   \n",
       "25990        NaN                 NaN                       NaN           NaN   \n",
       "25991        NaN                 NaN                       NaN           NaN   \n",
       "25992        NaN                 NaN                       NaN           NaN   \n",
       "\n",
       "      ProcessName ProcessId ParentProcessName  ParentProcessId  \n",
       "0             NaN       696               NaN              NaN  \n",
       "1             NaN      3632               NaN              NaN  \n",
       "2             NaN       696               NaN              NaN  \n",
       "3             NaN       696               NaN              NaN  \n",
       "4             NaN      3632               NaN              NaN  \n",
       "...           ...       ...               ...              ...  \n",
       "25988         NaN      7944               NaN              NaN  \n",
       "25989         NaN      7944               NaN              NaN  \n",
       "25990         NaN      7944               NaN              NaN  \n",
       "25991         NaN      7944               NaN              NaN  \n",
       "25992         NaN      7944               NaN              NaN  \n",
       "\n",
       "[25993 rows x 20 columns]"
      ]
     },
     "execution_count": 6,
     "metadata": {},
     "output_type": "execute_result"
    }
   ],
   "source": [
    "df_lanl"
   ]
  },
  {
   "cell_type": "code",
   "execution_count": 8,
   "metadata": {},
   "outputs": [
    {
     "name": "stdout",
     "output_type": "stream",
     "text": [
      "EventID\n",
      "[ 5156  5158    11    12    13     7  4688  4690     1  4658    10  4656\n",
      "  4663  4673  4703  4672  4624  4627  4634   600   400    23    17   800\n",
      "  5857 53504  4105  4106  4103  4104  4625  4670  4776  4769  5140  5145\n",
      "  8193  8194  8195  8197    22     3    18  4674     9  4799  8196 12039\n",
      " 40961 40962   403  4689  4661     5  5058  5061  7040]\n",
      "ProcessName\n",
      "[nan 'C:\\\\Users\\\\pgustavo\\\\Downloads\\\\PurpleSharp.exe'\n",
      " 'C:\\\\Windows\\\\System32\\\\svchost.exe'\n",
      " 'C:\\\\Windows\\\\System32\\\\wbem\\\\WmiPrvSE.exe' '-'\n",
      " 'C:\\\\Windows\\\\System32\\\\SearchProtocolHost.exe'\n",
      " 'C:\\\\Windows\\\\System32\\\\SearchIndexer.exe'\n",
      " 'C:\\\\Windows\\\\System32\\\\SearchFilterHost.exe'\n",
      " 'C:\\\\Windows\\\\System32\\\\lsass.exe' 'C:\\\\Windows\\\\System32\\\\dllhost.exe'\n",
      " 'C:\\\\Windows\\\\System32\\\\wsmprovhost.exe'\n",
      " 'C:\\\\Windows\\\\System32\\\\services.exe'\n",
      " 'C:\\\\Windows\\\\System32\\\\WindowsPowerShell\\\\v1.0\\\\powershell.exe'\n",
      " 'C:\\\\Windows\\\\System32\\\\conhost.exe']\n",
      "Time\n",
      "[34186. 34187. 34189. 34192. 34193. 34194. 34195. 34196. 34197. 34198.\n",
      " 34199. 34200. 34201. 34202. 34203. 34204. 34205. 34206. 34207. 34208.\n",
      " 34209. 34210. 34211. 34214. 34217. 34219. 34221. 34223. 34225. 34226.\n",
      " 34227. 34229. 34230. 34232. 34233. 34236. 34238. 34240.]\n"
     ]
    }
   ],
   "source": [
    "for col in list(df_lanl):\n",
    "    print(col)\n",
    "    print(df_lanl[col].unique())"
   ]
  },
  {
   "cell_type": "code",
   "execution_count": 9,
   "metadata": {},
   "outputs": [],
   "source": [
    "df_trimmed = df[['@timestamp',\n",
    "      'SourceAddress',\n",
    "      'RemoteMachineID',\n",
    "      'EventTime',\n",
    "      'EventID', \n",
    "#       'Category',\n",
    "      'EventType',\n",
    "      'UserID',\n",
    "      'AccountName',\n",
    "#       'Domain', \n",
    "#       'RuleName',\n",
    "#       'Description',\n",
    "#       'NewProcessName', \n",
    "#       'NewProcessId',\n",
    "      'LmPackageName',\n",
    "      'Service',\n",
    "      'LogonProcessName', \n",
    "      'WorkstationName',\n",
    "      'LogonType',\n",
    "      'EventCountTotal',\n",
    "      'Workstation',\n",
    "#       'FailureReason', \n",
    "#       'Status',\n",
    "#       'ServiceName', \n",
    "#       'ServiceSid', \n",
    "#       'TicketOptions'      \n",
    "     ]]"
   ]
  },
  {
   "cell_type": "code",
   "execution_count": 10,
   "metadata": {},
   "outputs": [
    {
     "name": "stdout",
     "output_type": "stream",
     "text": [
      "@timestamp\n",
      "['2020-10-22T08:29:48.785Z' '2020-10-22T08:29:48.786Z'\n",
      " '2020-10-22T08:29:49.785Z' ... '2020-10-22T08:30:42.830Z'\n",
      " '2020-10-22T08:30:42.831Z' '2020-10-22T08:30:42.832Z']\n",
      "SourceAddress\n",
      "['::1' '0.0.0.0' '172.18.39.7' nan '127.0.0.1' '172.18.38.5' '172.18.39.5'\n",
      " '::' '172.18.39.6' '172.18.38.6' 'fe80::a1cd:665f:9ac2:55c1']\n",
      "RemoteMachineID\n",
      "['S-1-0-0' nan]\n",
      "EventTime\n",
      "['2020-10-22 04:29:46' '2020-10-22 04:29:47' '2020-10-22 04:29:49'\n",
      " '2020-10-22 04:29:52' '2020-10-22 04:29:53' '2020-10-22 04:29:54'\n",
      " '2020-10-22 04:29:55' '2020-10-22 04:29:56' '2020-10-22 04:29:57'\n",
      " '2020-10-22 04:29:58' '2020-10-22 04:29:59' '2020-10-22 04:30:00'\n",
      " '2020-10-22 04:30:01' '2020-10-22 04:30:02' '2020-10-22 04:30:03'\n",
      " '2020-10-22 04:30:04' '2020-10-22 04:30:05' '2020-10-22 04:30:06'\n",
      " '2020-10-22 04:30:07' '2020-10-22 04:30:08' '2020-10-22 04:30:09'\n",
      " '2020-10-22 04:30:10' '2020-10-22 04:30:11' '2020-10-22 04:30:14'\n",
      " '2020-10-22 04:30:17' '2020-10-22 04:30:19' '2020-10-22 04:30:21'\n",
      " '2020-10-22 04:30:23' '2020-10-22 04:30:25' '2020-10-22 04:30:26'\n",
      " '2020-10-22 04:30:27' '2020-10-22 04:30:29' '2020-10-22 04:30:30'\n",
      " '2020-10-22 04:30:32' '2020-10-22 04:30:33' '2020-10-22 04:30:36'\n",
      " '2020-10-22 04:30:38' '2020-10-22 04:30:40']\n",
      "EventID\n",
      "[ 5156  5158    11    12    13     7  4688  4690     1  4658    10  4656\n",
      "  4663  4673  4703  4672  4624  4627  4634   600   400    23    17   800\n",
      "  5857 53504  4105  4106  4103  4104  4625  4670  4776  4769  5140  5145\n",
      "  8193  8194  8195  8197    22     3    18  4674     9  4799  8196 12039\n",
      " 40961 40962   403  4689  4661     5  5058  5061  7040]\n",
      "EventType\n",
      "['AUDIT_SUCCESS' 'INFO' 'CreateKey' 'SetValue' 'DeleteKey' 'DeleteValue'\n",
      " 'CreatePipe' 'VERBOSE' 'AUDIT_FAILURE' 'WARNING' 'ConnectPipe']\n",
      "UserID\n",
      "[nan 'S-1-5-18' 'S-1-5-20'\n",
      " 'S-1-5-21-2323213074-4052461197-1785501644-1104']\n",
      "AccountName\n",
      "[nan 'SYSTEM' 'NETWORK SERVICE' 'pgustavo']\n",
      "LmPackageName\n",
      "[nan '-' 'NTLM V1']\n",
      "Service\n",
      "[nan '-' 'LsaRegisterLogonProcess()']\n",
      "LogonProcessName\n",
      "[nan 'Kerberos' 'Advapi  ' 'NtLmSsp ']\n",
      "WorkstationName\n",
      "[nan '-' 'WORKSTATION5' 'WORKSTATION7' 'WEC' 'WORKSTATION6']\n",
      "LogonType\n",
      "[nan  3.  2.]\n",
      "EventCountTotal\n",
      "[nan  1.]\n",
      "Workstation\n",
      "[nan 'WORKSTATION5']\n"
     ]
    }
   ],
   "source": [
    "for col in list(df_trimmed):\n",
    "    print(col)\n",
    "    print(df_trimmed[col].unique())"
   ]
  },
  {
   "cell_type": "code",
   "execution_count": 11,
   "metadata": {},
   "outputs": [],
   "source": [
    "df['Time'] = pd.to_datetime(df['EventTime']) - pd.DateOffset(years = 50, months = 9 , days=22) "
   ]
  },
  {
   "cell_type": "code",
   "execution_count": null,
   "metadata": {},
   "outputs": [],
   "source": []
  },
  {
   "cell_type": "code",
   "execution_count": 12,
   "metadata": {},
   "outputs": [
    {
     "data": {
      "text/plain": [
       "@timestamp         25993\n",
       "DestPort             197\n",
       "ProcessId          24735\n",
       "OpcodeValue        25651\n",
       "port               25993\n",
       "                   ...  \n",
       "MiniportNameLen        2\n",
       "MiniportName           2\n",
       "param3                 1\n",
       "param4                 1\n",
       "Time               25993\n",
       "Length: 195, dtype: int64"
      ]
     },
     "execution_count": 12,
     "metadata": {},
     "output_type": "execute_result"
    }
   ],
   "source": [
    "df.count()"
   ]
  },
  {
   "cell_type": "code",
   "execution_count": 13,
   "metadata": {},
   "outputs": [
    {
     "data": {
      "text/plain": [
       "43"
      ]
     },
     "execution_count": 13,
     "metadata": {},
     "output_type": "execute_result"
    }
   ],
   "source": [
    "len(df[(df.EventID == 4672)])"
   ]
  },
  {
   "cell_type": "code",
   "execution_count": 2,
   "metadata": {},
   "outputs": [],
   "source": [
    "path = \"../data/raw/purplesharp_ad_playbook_I_2020-10-22042947.json\"\n",
    "df = json.read_json(path, lines=True)"
   ]
  },
  {
   "cell_type": "code",
   "execution_count": 3,
   "metadata": {},
   "outputs": [
    {
     "data": {
      "text/plain": [
       "12      17917\n",
       "4658      761\n",
       "11        629\n",
       "10        345\n",
       "4663      250\n",
       "5156      197\n",
       "5158      129\n",
       "3         126\n",
       "4624       49\n",
       "4672       43\n",
       "1          24\n",
       "4625        7\n",
       "5145        3\n",
       "5140        3\n",
       "4661        2\n",
       "Name: EventID, dtype: int64"
      ]
     },
     "execution_count": 3,
     "metadata": {},
     "output_type": "execute_result"
    }
   ],
   "source": [
    "event_list = [1, 3, 8, 10, 11, 12, 4624, 4625, 4648, 4658, 4661, 4663, 4672,4698,4768,5140,5145, 5156, 5158]\n",
    "df[(df.EventID.isin(event_list))]['EventID'].value_counts()\n",
    "# df['EventID'].value_counts()"
   ]
  },
  {
   "cell_type": "code",
   "execution_count": 4,
   "metadata": {},
   "outputs": [],
   "source": [
    "path = \"../data/raw/empire_uac_shellapi_fodhelper_2020-09-04032946.json\"\n",
    "df = json.read_json(path, lines=True)"
   ]
  },
  {
   "cell_type": "code",
   "execution_count": 5,
   "metadata": {},
   "outputs": [
    {
     "data": {
      "text/plain": [
       "10      948\n",
       "12      858\n",
       "4658    202\n",
       "4663     67\n",
       "5156     55\n",
       "5158     40\n",
       "11       34\n",
       "1        18\n",
       "3        12\n",
       "4672      4\n",
       "4624      4\n",
       "5145      1\n",
       "5140      1\n",
       "Name: EventID, dtype: int64"
      ]
     },
     "execution_count": 5,
     "metadata": {},
     "output_type": "execute_result"
    }
   ],
   "source": [
    "df[(df.EventID.isin(event_list))]['EventID'].value_counts()\n",
    "#df['EventID'].value_counts()"
   ]
  },
  {
   "cell_type": "code",
   "execution_count": 6,
   "metadata": {},
   "outputs": [],
   "source": [
    "path = \"../data/raw/purplesharp_pe_injection_createremotethread_2020-10-2303121085.json\"\n",
    "df = json.read_json(path, lines=True)"
   ]
  },
  {
   "cell_type": "code",
   "execution_count": 7,
   "metadata": {},
   "outputs": [
    {
     "data": {
      "text/plain": [
       "10      253\n",
       "4658     46\n",
       "12       15\n",
       "5156     12\n",
       "4663      7\n",
       "1         6\n",
       "11        3\n",
       "5158      2\n",
       "8         1\n",
       "Name: EventID, dtype: int64"
      ]
     },
     "execution_count": 7,
     "metadata": {},
     "output_type": "execute_result"
    }
   ],
   "source": [
    "df[(df.EventID.isin(event_list))]['EventID'].value_counts()\n",
    "#df['EventID'].value_counts()"
   ]
  },
  {
   "cell_type": "code",
   "execution_count": 8,
   "metadata": {},
   "outputs": [],
   "source": [
    "path = \"../data/raw/schtask_create_2020-12-1907003032.json\"\n",
    "df = json.read_json(path, lines=True)"
   ]
  },
  {
   "cell_type": "code",
   "execution_count": 9,
   "metadata": {},
   "outputs": [
    {
     "data": {
      "text/plain": [
       "10      404\n",
       "4658     28\n",
       "12       28\n",
       "5156     17\n",
       "5158     15\n",
       "4663     14\n",
       "11       10\n",
       "1        10\n",
       "3         6\n",
       "4698      1\n",
       "4672      1\n",
       "4624      1\n",
       "8         1\n",
       "Name: EventID, dtype: int64"
      ]
     },
     "execution_count": 9,
     "metadata": {},
     "output_type": "execute_result"
    }
   ],
   "source": [
    "df[(df.EventID.isin(event_list))]['EventID'].value_counts()\n",
    "#df['EventID'].value_counts()"
   ]
  },
  {
   "cell_type": "code",
   "execution_count": null,
   "metadata": {},
   "outputs": [],
   "source": []
  }
 ],
 "metadata": {
  "kernelspec": {
   "display_name": "Python 3",
   "language": "python",
   "name": "python3"
  },
  "language_info": {
   "codemirror_mode": {
    "name": "ipython",
    "version": 3
   },
   "file_extension": ".py",
   "mimetype": "text/x-python",
   "name": "python",
   "nbconvert_exporter": "python",
   "pygments_lexer": "ipython3",
   "version": "3.7.6"
  }
 },
 "nbformat": 4,
 "nbformat_minor": 4
}
