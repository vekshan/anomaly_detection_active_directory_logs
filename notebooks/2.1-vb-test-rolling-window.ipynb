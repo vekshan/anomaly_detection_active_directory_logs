{
 "cells": [
  {
   "cell_type": "code",
   "execution_count": 2,
   "metadata": {},
   "outputs": [],
   "source": [
    "import findspark\n",
    "findspark.init()\n",
    "import pyspark"
   ]
  },
  {
   "cell_type": "code",
   "execution_count": 3,
   "metadata": {},
   "outputs": [],
   "source": [
    "# from pyspark import SparkContext, SparkConf\n",
    "# from pyspark.sql import Window\n",
    "# from pyspark.sql import functions as func\n",
    "# from pyspark.sql import SQLContext\n",
    "# sc = SparkContext.getOrCreate()\n",
    "# # sqlContext = SQLContext(sc)\n",
    "# # tup = [(26, \"a\"), (29, \"a\"), (374, \"a\"), (6050, \"b\"), (6989, \"b\"), (8888, \"b\")]\n",
    "# # df = sqlContext.createDataFrame(tup, [\"id\", \"category\"])\n",
    "# # df.show()"
   ]
  },
  {
   "cell_type": "code",
   "execution_count": 4,
   "metadata": {},
   "outputs": [],
   "source": [
    "# window = Window.partitionBy(\"category\").orderBy(\"id\").rangeBetween(-3600, 0)\n",
    "# df.withColumn(\"sum\", func.count(\"id\").over(window)).sort(\"category\").show()"
   ]
  },
  {
   "cell_type": "code",
   "execution_count": 10,
   "metadata": {},
   "outputs": [],
   "source": [
    "from pyspark.sql import SparkSession\n",
    "spark = SparkSession.builder \\\n",
    "    .master('local[*]') \\\n",
    "    .config(\"spark.driver.memory\", \"8g\") \\\n",
    "    .appName('vb-app') \\\n",
    "    .getOrCreate()\n",
    "\n"
   ]
  },
  {
   "cell_type": "code",
   "execution_count": 29,
   "metadata": {},
   "outputs": [
    {
     "name": "stdout",
     "output_type": "stream",
     "text": [
      "+-----+\n",
      "| Time|\n",
      "+-----+\n",
      "|16186|\n",
      "|16186|\n",
      "|16186|\n",
      "|16186|\n",
      "|16186|\n",
      "|16186|\n",
      "|16187|\n",
      "|16187|\n",
      "|16189|\n",
      "|16192|\n",
      "|16192|\n",
      "|16192|\n",
      "|16192|\n",
      "|16192|\n",
      "|16192|\n",
      "|16192|\n",
      "|16192|\n",
      "|16192|\n",
      "|16192|\n",
      "|16192|\n",
      "+-----+\n",
      "only showing top 20 rows\n",
      "\n"
     ]
    }
   ],
   "source": [
    "from pyspark.sql.functions import udf\n",
    "from pyspark.sql.types import IntegerType\n",
    "\n",
    "path = \"../data/raw/purplesharp_ad_playbook_I_2020-10-22042947.json\"\n",
    "df = spark.read.json(path)\n",
    "def convert_to_unix(event_time):\n",
    "    print(event_time)\n",
    "    time = event_time[10:]\n",
    "    print(time)\n",
    "    time_list = time.split(\":\")\n",
    "    return int(time_list[0])*3600+int(time_list[1])*60+int(time_list[2])\n",
    "\n",
    "\n",
    "\n",
    "convert_to_unix_udf = udf(convert_to_unix, IntegerType())\n",
    "\n",
    "df = df.withColumn(\"Time\", convert_to_unix_udf(df.EventTime))\n",
    "df.select(\"Time\").show()"
   ]
  },
  {
   "cell_type": "code",
   "execution_count": 31,
   "metadata": {},
   "outputs": [
    {
     "data": {
      "text/plain": [
       "[Row(Time=16232),\n",
       " Row(Time=16189),\n",
       " Row(Time=16240),\n",
       " Row(Time=16201),\n",
       " Row(Time=16230),\n",
       " Row(Time=16204),\n",
       " Row(Time=16236),\n",
       " Row(Time=16197),\n",
       " Row(Time=16214),\n",
       " Row(Time=16226),\n",
       " Row(Time=16187),\n",
       " Row(Time=16192),\n",
       " Row(Time=16219),\n",
       " Row(Time=16221),\n",
       " Row(Time=16202),\n",
       " Row(Time=16217),\n",
       " Row(Time=16211),\n",
       " Row(Time=16223),\n",
       " Row(Time=16208),\n",
       " Row(Time=16233),\n",
       " Row(Time=16210),\n",
       " Row(Time=16195),\n",
       " Row(Time=16194),\n",
       " Row(Time=16207),\n",
       " Row(Time=16205),\n",
       " Row(Time=16198),\n",
       " Row(Time=16238),\n",
       " Row(Time=16225),\n",
       " Row(Time=16193),\n",
       " Row(Time=16186),\n",
       " Row(Time=16196),\n",
       " Row(Time=16206),\n",
       " Row(Time=16229),\n",
       " Row(Time=16203),\n",
       " Row(Time=16227),\n",
       " Row(Time=16199),\n",
       " Row(Time=16200),\n",
       " Row(Time=16209)]"
      ]
     },
     "execution_count": 31,
     "metadata": {},
     "output_type": "execute_result"
    }
   ],
   "source": [
    "df.select('Time').distinct().collect()"
   ]
  },
  {
   "cell_type": "code",
   "execution_count": null,
   "metadata": {},
   "outputs": [],
   "source": []
  }
 ],
 "metadata": {
  "kernelspec": {
   "display_name": "Python 3",
   "language": "python",
   "name": "python3"
  },
  "language_info": {
   "codemirror_mode": {
    "name": "ipython",
    "version": 3
   },
   "file_extension": ".py",
   "mimetype": "text/x-python",
   "name": "python",
   "nbconvert_exporter": "python",
   "pygments_lexer": "ipython3",
   "version": "3.8.5"
  }
 },
 "nbformat": 4,
 "nbformat_minor": 4
}
