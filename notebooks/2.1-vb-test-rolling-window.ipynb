{
 "cells": [
  {
   "cell_type": "code",
   "execution_count": 3,
   "metadata": {},
   "outputs": [],
   "source": [
    "import findspark\n",
    "findspark.init()\n",
    "import pyspark"
   ]
  },
  {
   "cell_type": "code",
   "execution_count": 5,
   "metadata": {},
   "outputs": [
    {
     "name": "stdout",
     "output_type": "stream",
     "text": [
      "+----+--------+\n",
      "|  id|category|\n",
      "+----+--------+\n",
      "|  26|       a|\n",
      "|  29|       a|\n",
      "| 374|       a|\n",
      "|6050|       b|\n",
      "|6989|       b|\n",
      "|8888|       b|\n",
      "+----+--------+\n",
      "\n"
     ]
    }
   ],
   "source": [
    "from pyspark import SparkContext, SparkConf\n",
    "from pyspark.sql import Window\n",
    "from pyspark.sql import functions as func\n",
    "from pyspark.sql import SQLContext\n",
    "sc = SparkContext.getOrCreate()\n",
    "sqlContext = SQLContext(sc)\n",
    "tup = [(26, \"a\"), (29, \"a\"), (374, \"a\"), (6050, \"b\"), (6989, \"b\"), (8888, \"b\")]\n",
    "df = sqlContext.createDataFrame(tup, [\"id\", \"category\"])\n",
    "df.show()"
   ]
  },
  {
   "cell_type": "code",
   "execution_count": 6,
   "metadata": {},
   "outputs": [
    {
     "name": "stdout",
     "output_type": "stream",
     "text": [
      "+----+--------+---+\n",
      "|  id|category|sum|\n",
      "+----+--------+---+\n",
      "|  26|       a|  1|\n",
      "|  29|       a|  2|\n",
      "| 374|       a|  3|\n",
      "|6050|       b|  1|\n",
      "|6989|       b|  2|\n",
      "|8888|       b|  3|\n",
      "+----+--------+---+\n",
      "\n"
     ]
    }
   ],
   "source": [
    "window = Window.partitionBy(\"category\").orderBy(\"id\").rangeBetween(-3600, 0)\n",
    "df.withColumn(\"sum\", func.count(\"id\").over(window)).sort(\"category\").show()"
   ]
  },
  {
   "cell_type": "code",
   "execution_count": null,
   "metadata": {},
   "outputs": [],
   "source": []
  }
 ],
 "metadata": {
  "kernelspec": {
   "display_name": "Python 3",
   "language": "python",
   "name": "python3"
  },
  "language_info": {
   "codemirror_mode": {
    "name": "ipython",
    "version": 3
   },
   "file_extension": ".py",
   "mimetype": "text/x-python",
   "name": "python",
   "nbconvert_exporter": "python",
   "pygments_lexer": "ipython3",
   "version": "3.7.6"
  }
 },
 "nbformat": 4,
 "nbformat_minor": 4
}
