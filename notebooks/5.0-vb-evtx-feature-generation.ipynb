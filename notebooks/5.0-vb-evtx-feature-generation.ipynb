{
 "cells": [
  {
   "cell_type": "code",
   "execution_count": 49,
   "metadata": {},
   "outputs": [],
   "source": [
    "import findspark\n",
    "findspark.init()"
   ]
  },
  {
   "cell_type": "code",
   "execution_count": 50,
   "metadata": {},
   "outputs": [],
   "source": [
    "import pyspark"
   ]
  },
  {
   "cell_type": "code",
   "execution_count": 51,
   "metadata": {},
   "outputs": [],
   "source": [
    "from pyspark import SparkContext, SparkConf\n",
    "from pyspark.sql import SparkSession\n",
    "spark = SparkSession.builder \\\n",
    "    .master('local[*]') \\\n",
    "    .config(\"spark.driver.memory\", \"8g\") \\\n",
    "    .appName('vb-app') \\\n",
    "    .getOrCreate()"
   ]
  },
  {
   "cell_type": "code",
   "execution_count": 110,
   "metadata": {},
   "outputs": [],
   "source": [
    "path = \"../data/raw/evtx_data.csv\"\n",
    "df = spark.read.options(header='true', inferSchema='true') \\\n",
    "          .csv(path)"
   ]
  },
  {
   "cell_type": "code",
   "execution_count": 113,
   "metadata": {},
   "outputs": [],
   "source": [
    "df = df.select(\"Computer\",\"EventID\",\"SystemTime\", \"EVTX_FileName\")\n",
    "# df.show()"
   ]
  },
  {
   "cell_type": "code",
   "execution_count": 92,
   "metadata": {},
   "outputs": [
    {
     "name": "stdout",
     "output_type": "stream",
     "text": [
      "+-------+-----+\n",
      "|EventID|count|\n",
      "+-------+-----+\n",
      "|   null| 5240|\n",
      "|   5145|  950|\n",
      "|      1|  843|\n",
      "|      7|  613|\n",
      "|     11|  185|\n",
      "|   1040|  178|\n",
      "|   1042|  173|\n",
      "|     13|  162|\n",
      "|      3|  153|\n",
      "|     10|  140|\n",
      "|   4663|  115|\n",
      "|      8|  101|\n",
      "|   5156|   92|\n",
      "|     12|   80|\n",
      "|   4624|   69|\n",
      "|   1155|   64|\n",
      "|    258|   64|\n",
      "|   1136|   64|\n",
      "|     18|   46|\n",
      "|      5|   43|\n",
      "+-------+-----+\n",
      "only showing top 20 rows\n",
      "\n"
     ]
    }
   ],
   "source": [
    "df.groupBy('EventID').count().orderBy(desc('count')).show()"
   ]
  },
  {
   "cell_type": "code",
   "execution_count": 114,
   "metadata": {},
   "outputs": [
    {
     "name": "stdout",
     "output_type": "stream",
     "text": [
      "(9873, 4)\n"
     ]
    }
   ],
   "source": [
    "print((df.count(), len(df.columns)))"
   ]
  },
  {
   "cell_type": "code",
   "execution_count": 115,
   "metadata": {},
   "outputs": [],
   "source": [
    "df = df.na.drop()"
   ]
  },
  {
   "cell_type": "code",
   "execution_count": 116,
   "metadata": {},
   "outputs": [
    {
     "name": "stdout",
     "output_type": "stream",
     "text": [
      "(4633, 4)\n"
     ]
    }
   ],
   "source": [
    "print((df.count(), len(df.columns)))"
   ]
  },
  {
   "cell_type": "code",
   "execution_count": 93,
   "metadata": {},
   "outputs": [],
   "source": [
    "from pyspark.sql.functions import udf\n",
    "from pyspark.sql.types import IntegerType\n",
    "def convert_to_unix(event_time):\n",
    "    time = event_time[10:]\n",
    "    print(time)\n",
    "    time_list = time.split(\":\")\n",
    "    return int(time_list[0])*3600+int(time_list[1])*60+int(float(time_list[2]))\n",
    "\n",
    "convert_to_unix_udf = udf(convert_to_unix, IntegerType())\n",
    "\n",
    "df = df.withColumn(\"time\", convert_to_unix_udf(df.SystemTime))\n",
    "# df.select(\"time\").show()"
   ]
  },
  {
   "cell_type": "markdown",
   "metadata": {},
   "source": [
    "### Total events per user in (last) 15 minutes window interval  \n",
    "Ref: https://stackoverflow.com/questions/45806194/pyspark-rolling-average-using-timeseries-data"
   ]
  },
  {
   "cell_type": "code",
   "execution_count": 94,
   "metadata": {},
   "outputs": [],
   "source": [
    "from pyspark.sql.window import Window\n",
    "from pyspark.sql import functions as F\n",
    "new_df = df.select(\"time\", \"Computer\", \"EventID\").filter(df.EventID.isin([1, 3, 8, 10, 11, 12, 4624, 4625, 4648, 4658, 4661, 4663, 4672,4698,4768,5140,5145, 5156, 5158]))\n",
    "w = (Window.partitionBy('Computer').orderBy(F.col(\"time\").cast('long')).rangeBetween(-1800, Window.currentRow))\n",
    "new_df = new_df.withColumn('total_events', F.count(\"time\").over(w))\n",
    "# new_df.show()"
   ]
  },
  {
   "cell_type": "code",
   "execution_count": 57,
   "metadata": {},
   "outputs": [],
   "source": [
    "# from pyspark.sql.functions import desc\n",
    "# new_df.groupBy(\"EventID\",'total_events').count().sort(desc(\"EventID\")).show(30)"
   ]
  },
  {
   "cell_type": "code",
   "execution_count": 58,
   "metadata": {},
   "outputs": [],
   "source": [
    "# new_df.filter((new_df.EventID == '4624')).sort(\"time\").show(50)"
   ]
  },
  {
   "cell_type": "markdown",
   "metadata": {},
   "source": [
    "## Paritition By UserName and Event"
   ]
  },
  {
   "cell_type": "code",
   "execution_count": 95,
   "metadata": {},
   "outputs": [],
   "source": [
    "w = (Window.partitionBy('Computer', 'EventID').orderBy(F.col(\"time\").cast('long')).rangeBetween(-1800, Window.currentRow))\n",
    "new_df = new_df.withColumn('total_per_event', F.count(\"time\").over(w))"
   ]
  },
  {
   "cell_type": "code",
   "execution_count": 60,
   "metadata": {},
   "outputs": [],
   "source": [
    "# new_df.show()"
   ]
  },
  {
   "cell_type": "code",
   "execution_count": 96,
   "metadata": {},
   "outputs": [],
   "source": [
    "columns = [\"time\", \"host\", \"event_id\", \"total_events\", \"total_per_event\"]\n",
    "new_df = new_df.toDF(*columns)\n",
    "new_df = new_df.select(*columns)"
   ]
  },
  {
   "cell_type": "code",
   "execution_count": 97,
   "metadata": {},
   "outputs": [],
   "source": [
    "new_df = new_df.distinct()\n",
    "new_df = new_df.groupBy(\"time\", \"host\", \"total_events\").pivot(\"event_id\").sum(\"total_per_event\")"
   ]
  },
  {
   "cell_type": "code",
   "execution_count": 63,
   "metadata": {},
   "outputs": [],
   "source": [
    "# new_df.sort(\"time\", \"host\").show()"
   ]
  },
  {
   "cell_type": "code",
   "execution_count": 99,
   "metadata": {},
   "outputs": [],
   "source": [
    "from pyspark.sql import Window\n",
    "from pyspark.sql.functions import last\n",
    "import sys\n",
    "\n",
    "def forward_fill(column_name):\n",
    "    # define the window\n",
    "    window = Window.partitionBy('host')\\\n",
    "                   .orderBy(F.col(\"time\").cast('long'))\\\n",
    "                   .rangeBetween(-1800, Window.currentRow)\n",
    "\n",
    "    # what column to fill forward\n",
    "    return last(column_name, True).over(window)\n",
    "\n",
    "#     # perform fill\n",
    "#     return new_df.withColumn(column_name, filled_column)\n",
    "\n",
    "\n",
    "# # show \n",
    "# spark_df_filled.orderBy('time', 'host').show(10)  "
   ]
  },
  {
   "cell_type": "code",
   "execution_count": 100,
   "metadata": {},
   "outputs": [
    {
     "name": "stdout",
     "output_type": "stream",
     "text": [
      "['1', '3', '8', '10', '11', '12', '4624', '4625', '4648', '4658', '4661', '4663', '4672', '4698', '4768', '5140', '5145', '5156', '5158']\n"
     ]
    }
   ],
   "source": [
    "columns_to_fill = new_df.schema.names[3:]\n",
    "print(columns_to_fill)\n",
    "for column_name in columns_to_fill:\n",
    "    new_df = new_df.withColumn('event_' + column_name, forward_fill(column_name))"
   ]
  },
  {
   "cell_type": "code",
   "execution_count": 67,
   "metadata": {},
   "outputs": [
    {
     "name": "stdout",
     "output_type": "stream",
     "text": [
      "+----+--------------------+------------+----+----+----+----+----+----+----+----+----+----+----+----+----+----+----+-------+-------+-------+----------+----------+----------+----------+----------+----------+----------+----------+----------+----------+----------+----------+\n",
      "|time|                host|total_events|   1|   3|   8|4624|4625|4648|4658|4661|4672|4698|4768|5140|5145|5156|5158|event_1|event_3|event_8|event_4624|event_4625|event_4648|event_4658|event_4661|event_4672|event_4698|event_4768|event_5140|event_5145|event_5156|event_5158|\n",
      "+----+--------------------+------------+----+----+----+----+----+----+----+----+----+----+----+----+----+----+----+-------+-------+-------+----------+----------+----------+----------+----------+----------+----------+----------+----------+----------+----------+----------+\n",
      "| 124|WIN-77LTAPHIQ1R.e...|          14|null|null|null|   4|null|null|null|null|   3|   2|null|   2|   3|null|null|   null|   null|   null|         4|      null|      null|      null|      null|         3|         2|      null|         2|         3|      null|      null|\n",
      "| 127|WIN-77LTAPHIQ1R.e...|          18|null|null|null|null|null|null|null|null|null|null|null|   4|   5|null|null|   null|   null|   null|         4|      null|      null|      null|      null|         3|         2|      null|         4|         5|      null|      null|\n",
      "| 137|WIN-77LTAPHIQ1R.e...|          21|null|null|null|null|null|null|null|   3|null|null|null|null|null|null|null|   null|   null|   null|         4|      null|      null|      null|         3|         3|         2|      null|         4|         5|      null|      null|\n",
      "| 141|WIN-77LTAPHIQ1R.e...|          25|null|null|null|   6|null|null|null|null|   5|null|null|null|null|null|null|   null|   null|   null|         6|      null|      null|      null|         3|         5|         2|      null|         4|         5|      null|      null|\n",
      "| 576|         MSEDGEWIN10|           2|   2|null|null|null|null|null|null|null|null|null|null|null|null|null|null|      2|   null|   null|      null|      null|      null|      null|      null|      null|      null|      null|      null|      null|      null|      null|\n",
      "| 578|         MSEDGEWIN10|           4|null|   2|null|null|null|null|null|null|null|null|null|null|null|null|null|      2|      2|   null|      null|      null|      null|      null|      null|      null|      null|      null|      null|      null|      null|      null|\n",
      "| 583|         MSEDGEWIN10|           5|   3|null|null|null|null|null|null|null|null|null|null|null|null|null|null|      3|      2|   null|      null|      null|      null|      null|      null|      null|      null|      null|      null|      null|      null|      null|\n",
      "| 676|         MSEDGEWIN10|           6|   4|null|null|null|null|null|null|null|null|null|null|null|null|null|null|      4|      2|   null|      null|      null|      null|      null|      null|      null|      null|      null|      null|      null|      null|      null|\n",
      "| 680|         MSEDGEWIN10|           7|null|   3|null|null|null|null|null|null|null|null|null|null|null|null|null|      4|      3|   null|      null|      null|      null|      null|      null|      null|      null|      null|      null|      null|      null|      null|\n",
      "|1696|         MSEDGEWIN10|           1|   1|null|null|null|null|null|null|null|null|null|null|null|null|null|null|      1|      3|   null|      null|      null|      null|      null|      null|      null|      null|      null|      null|      null|      null|      null|\n",
      "|1732|         MSEDGEWIN10|           4|   4|null|null|null|null|null|null|null|null|null|null|null|null|null|null|      4|      3|   null|      null|      null|      null|      null|      null|      null|      null|      null|      null|      null|      null|      null|\n",
      "|1792|              IEWIN7|           1|null|   1|null|null|null|null|null|null|null|null|null|null|null|null|null|   null|      1|   null|      null|      null|      null|      null|      null|      null|      null|      null|      null|      null|      null|      null|\n",
      "|1942|              IEWIN7|           2|null|   2|null|null|null|null|null|null|null|null|null|null|null|null|null|   null|      2|   null|      null|      null|      null|      null|      null|      null|      null|      null|      null|      null|      null|      null|\n",
      "|1944|              IEWIN7|           3|   1|null|null|null|null|null|null|null|null|null|null|null|null|null|null|      1|      2|   null|      null|      null|      null|      null|      null|      null|      null|      null|      null|      null|      null|      null|\n",
      "|1950|              IEWIN7|           4|   2|null|null|null|null|null|null|null|null|null|null|null|null|null|null|      2|      2|   null|      null|      null|      null|      null|      null|      null|      null|      null|      null|      null|      null|      null|\n",
      "|1955|              IEWIN7|           6|   4|null|null|null|null|null|null|null|null|null|null|null|null|null|null|      4|      2|   null|      null|      null|      null|      null|      null|      null|      null|      null|      null|      null|      null|      null|\n",
      "|1956|              IEWIN7|           7|null|   3|null|null|null|null|null|null|null|null|null|null|null|null|null|      4|      3|   null|      null|      null|      null|      null|      null|      null|      null|      null|      null|      null|      null|      null|\n",
      "|1960|              IEWIN7|           8|   5|null|null|null|null|null|null|null|null|null|null|null|null|null|null|      5|      3|   null|      null|      null|      null|      null|      null|      null|      null|      null|      null|      null|      null|      null|\n",
      "|2107|              IEWIN7|          13|  10|null|null|null|null|null|null|null|null|null|null|null|null|null|null|     10|      3|   null|      null|      null|      null|      null|      null|      null|      null|      null|      null|      null|      null|      null|\n",
      "|2108|              IEWIN7|          16|  13|null|null|null|null|null|null|null|null|null|null|null|null|null|null|     13|      3|   null|      null|      null|      null|      null|      null|      null|      null|      null|      null|      null|      null|      null|\n",
      "+----+--------------------+------------+----+----+----+----+----+----+----+----+----+----+----+----+----+----+----+-------+-------+-------+----------+----------+----------+----------+----------+----------+----------+----------+----------+----------+----------+----------+\n",
      "only showing top 20 rows\n",
      "\n"
     ]
    }
   ],
   "source": [
    "new_df.orderBy(\"time\", \"host\").show()"
   ]
  },
  {
   "cell_type": "code",
   "execution_count": 68,
   "metadata": {},
   "outputs": [
    {
     "name": "stdout",
     "output_type": "stream",
     "text": [
      "+----+--------------------+----+----------+\n",
      "|time|                host|4624|event_4624|\n",
      "+----+--------------------+----+----------+\n",
      "| 124|WIN-77LTAPHIQ1R.e...|   4|         4|\n",
      "| 127|WIN-77LTAPHIQ1R.e...|null|         4|\n",
      "| 137|WIN-77LTAPHIQ1R.e...|null|         4|\n",
      "| 141|WIN-77LTAPHIQ1R.e...|   6|         6|\n",
      "| 576|         MSEDGEWIN10|null|      null|\n",
      "| 578|         MSEDGEWIN10|null|      null|\n",
      "| 583|         MSEDGEWIN10|null|      null|\n",
      "| 676|         MSEDGEWIN10|null|      null|\n",
      "| 680|         MSEDGEWIN10|null|      null|\n",
      "|1696|         MSEDGEWIN10|null|      null|\n",
      "|1732|         MSEDGEWIN10|null|      null|\n",
      "|1792|              IEWIN7|null|      null|\n",
      "|1942|              IEWIN7|null|      null|\n",
      "|1944|              IEWIN7|null|      null|\n",
      "|1950|              IEWIN7|null|      null|\n",
      "|1955|              IEWIN7|null|      null|\n",
      "|1956|              IEWIN7|null|      null|\n",
      "|1960|              IEWIN7|null|      null|\n",
      "|2107|              IEWIN7|null|      null|\n",
      "|2108|              IEWIN7|null|      null|\n",
      "+----+--------------------+----+----------+\n",
      "only showing top 20 rows\n",
      "\n"
     ]
    }
   ],
   "source": [
    "new_df.select(\"time\", \"host\",\"4624\",\"event_4624\").orderBy(\"time\", \"host\").show()"
   ]
  },
  {
   "cell_type": "code",
   "execution_count": 101,
   "metadata": {},
   "outputs": [],
   "source": [
    "new_df = new_df.na.fill(value=0)"
   ]
  },
  {
   "cell_type": "code",
   "execution_count": 102,
   "metadata": {},
   "outputs": [],
   "source": [
    "new_df = new_df.drop(*columns_to_fill)\n",
    "new_df = new_df.distinct()"
   ]
  },
  {
   "cell_type": "code",
   "execution_count": 103,
   "metadata": {},
   "outputs": [],
   "source": [
    "new_df.coalesce(1).write.option(\"header\",True).csv(\"../data/processed/malicious_pivoted\")"
   ]
  },
  {
   "cell_type": "markdown",
   "metadata": {},
   "source": [
    "### Sysmon 1 (Process Creation)"
   ]
  },
  {
   "cell_type": "markdown",
   "metadata": {},
   "source": [
    "### Sysmon 3 (Network Connection)"
   ]
  },
  {
   "cell_type": "markdown",
   "metadata": {},
   "source": [
    "### Sysmon 8 (Remote Thread Creation)"
   ]
  },
  {
   "cell_type": "markdown",
   "metadata": {},
   "source": [
    "### Total number of Event 4624 per user in an hour window interval  (Successful Logon)\n"
   ]
  },
  {
   "cell_type": "markdown",
   "metadata": {},
   "source": [
    "### Total number of Event 4625 per user in an hour window interval  (Failed Logon)"
   ]
  },
  {
   "cell_type": "markdown",
   "metadata": {},
   "source": [
    "### Total number of Event 4627 per user in an hour window interval  (Group Membership)\n"
   ]
  },
  {
   "cell_type": "markdown",
   "metadata": {},
   "source": [
    "### Total number of Event 4648 per user in an hour window interval  (A logon was attempted using explicit credentials)"
   ]
  },
  {
   "cell_type": "markdown",
   "metadata": {},
   "source": [
    "### Total number of Event 4658 per user in an hour window interval  (handle to an object was closed)"
   ]
  },
  {
   "cell_type": "markdown",
   "metadata": {},
   "source": [
    "### Total number of Event 4661 per user in an hour window interval  (handle to an object was requsted)"
   ]
  },
  {
   "cell_type": "markdown",
   "metadata": {},
   "source": [
    "### Total number of Event 4672 per user in an hour window interval  (Special privileges assigned to new logon)"
   ]
  },
  {
   "cell_type": "markdown",
   "metadata": {},
   "source": [
    "### Total number of Event 4698 per user in an hour window interval  (A scheduled task was created)"
   ]
  },
  {
   "cell_type": "markdown",
   "metadata": {},
   "source": [
    "### Total number of Event 4768 per user in an hour window interval  (Kerberos Authentication)"
   ]
  },
  {
   "cell_type": "markdown",
   "metadata": {},
   "source": [
    "### Total number of Event 5140 per user in an hour window interval  (A network share object was accessed)"
   ]
  },
  {
   "cell_type": "markdown",
   "metadata": {},
   "source": [
    "### Total number of Event 5145 per user in an hour window interval  (A network share object was checked to see whether client can be granted desired access)"
   ]
  },
  {
   "cell_type": "markdown",
   "metadata": {},
   "source": [
    "### 5156: The Windows Filtering Platform has allowed a connection"
   ]
  },
  {
   "cell_type": "markdown",
   "metadata": {},
   "source": [
    "### Total number of Event 5158 per user in an hour window interval  (The Windows Filtering Platform has permitted a bind to a local port)"
   ]
  }
 ],
 "metadata": {
  "kernelspec": {
   "display_name": "Python 3",
   "language": "python",
   "name": "python3"
  },
  "language_info": {
   "codemirror_mode": {
    "name": "ipython",
    "version": 3
   },
   "file_extension": ".py",
   "mimetype": "text/x-python",
   "name": "python",
   "nbconvert_exporter": "python",
   "pygments_lexer": "ipython3",
   "version": "3.8.5"
  }
 },
 "nbformat": 4,
 "nbformat_minor": 4
}
