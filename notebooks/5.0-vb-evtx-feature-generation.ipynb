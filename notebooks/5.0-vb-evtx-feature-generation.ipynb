{
 "cells": [
  {
   "cell_type": "code",
   "execution_count": 3,
   "metadata": {},
   "outputs": [],
   "source": [
    "import findspark\n",
    "findspark.init()"
   ]
  },
  {
   "cell_type": "code",
   "execution_count": 4,
   "metadata": {},
   "outputs": [],
   "source": [
    "import pyspark"
   ]
  },
  {
   "cell_type": "code",
   "execution_count": 5,
   "metadata": {},
   "outputs": [],
   "source": [
    "from pyspark import SparkContext, SparkConf\n",
    "from pyspark.sql import SparkSession\n",
    "spark = SparkSession.builder \\\n",
    "    .master('local[*]') \\\n",
    "    .config(\"spark.driver.memory\", \"8g\") \\\n",
    "    .appName('vb-app') \\\n",
    "    .getOrCreate()"
   ]
  },
  {
   "cell_type": "code",
   "execution_count": 110,
   "metadata": {},
   "outputs": [],
   "source": [
    "path = \"../data/raw/evtx_data.csv\"\n",
    "df = spark.read.options(header='true', inferSchema='true') \\\n",
    "          .csv(path)"
   ]
  },
  {
   "cell_type": "code",
   "execution_count": 113,
   "metadata": {},
   "outputs": [],
   "source": [
    "df = df.select(\"Computer\",\"EventID\",\"SystemTime\", \"EVTX_FileName\")\n",
    "# df.show()"
   ]
  },
  {
   "cell_type": "code",
   "execution_count": 92,
   "metadata": {},
   "outputs": [
    {
     "name": "stdout",
     "output_type": "stream",
     "text": [
      "+-------+-----+\n",
      "|EventID|count|\n",
      "+-------+-----+\n",
      "|   null| 5240|\n",
      "|   5145|  950|\n",
      "|      1|  843|\n",
      "|      7|  613|\n",
      "|     11|  185|\n",
      "|   1040|  178|\n",
      "|   1042|  173|\n",
      "|     13|  162|\n",
      "|      3|  153|\n",
      "|     10|  140|\n",
      "|   4663|  115|\n",
      "|      8|  101|\n",
      "|   5156|   92|\n",
      "|     12|   80|\n",
      "|   4624|   69|\n",
      "|   1155|   64|\n",
      "|    258|   64|\n",
      "|   1136|   64|\n",
      "|     18|   46|\n",
      "|      5|   43|\n",
      "+-------+-----+\n",
      "only showing top 20 rows\n",
      "\n"
     ]
    }
   ],
   "source": [
    "df.groupBy('EventID').count().orderBy(desc('count')).show()"
   ]
  },
  {
   "cell_type": "code",
   "execution_count": 114,
   "metadata": {},
   "outputs": [
    {
     "name": "stdout",
     "output_type": "stream",
     "text": [
      "(9873, 4)\n"
     ]
    }
   ],
   "source": [
    "print((df.count(), len(df.columns)))"
   ]
  },
  {
   "cell_type": "code",
   "execution_count": 115,
   "metadata": {},
   "outputs": [],
   "source": [
    "df = df.na.drop()"
   ]
  },
  {
   "cell_type": "code",
   "execution_count": 116,
   "metadata": {},
   "outputs": [
    {
     "name": "stdout",
     "output_type": "stream",
     "text": [
      "(4633, 4)\n"
     ]
    }
   ],
   "source": [
    "print((df.count(), len(df.columns)))"
   ]
  },
  {
   "cell_type": "code",
   "execution_count": 93,
   "metadata": {},
   "outputs": [],
   "source": [
    "from pyspark.sql.functions import udf\n",
    "from pyspark.sql.types import IntegerType\n",
    "def convert_to_unix(event_time):\n",
    "    time = event_time[10:]\n",
    "    print(time)\n",
    "    time_list = time.split(\":\")\n",
    "    return int(time_list[0])*3600+int(time_list[1])*60+int(float(time_list[2]))\n",
    "\n",
    "convert_to_unix_udf = udf(convert_to_unix, IntegerType())\n",
    "\n",
    "df = df.withColumn(\"time\", convert_to_unix_udf(df.SystemTime))\n",
    "# df.select(\"time\").show()"
   ]
  },
  {
   "cell_type": "markdown",
   "metadata": {},
   "source": [
    "### Total events per user in (last) 15 minutes window interval  \n",
    "Ref: https://stackoverflow.com/questions/45806194/pyspark-rolling-average-using-timeseries-data"
   ]
  },
  {
   "cell_type": "code",
   "execution_count": 94,
   "metadata": {},
   "outputs": [],
   "source": [
    "from pyspark.sql.window import Window\n",
    "from pyspark.sql import functions as F\n",
    "new_df = df.select(\"time\", \"Computer\", \"EventID\").filter(df.EventID.isin([1, 3, 8, 10, 11, 12, 4624, 4625, 4648, 4658, 4661, 4663, 4672,4698,4768,5140,5145, 5156, 5158]))\n",
    "w = (Window.partitionBy('Computer').orderBy(F.col(\"time\").cast('long')).rangeBetween(-1800, Window.currentRow))\n",
    "new_df = new_df.withColumn('total_events', F.count(\"time\").over(w))\n",
    "# new_df.show()"
   ]
  },
  {
   "cell_type": "code",
   "execution_count": 57,
   "metadata": {},
   "outputs": [],
   "source": [
    "# from pyspark.sql.functions import desc\n",
    "# new_df.groupBy(\"EventID\",'total_events').count().sort(desc(\"EventID\")).show(30)"
   ]
  },
  {
   "cell_type": "code",
   "execution_count": 58,
   "metadata": {},
   "outputs": [],
   "source": [
    "# new_df.filter((new_df.EventID == '4624')).sort(\"time\").show(50)"
   ]
  },
  {
   "cell_type": "markdown",
   "metadata": {},
   "source": [
    "## Paritition By UserName and Event"
   ]
  },
  {
   "cell_type": "code",
   "execution_count": 95,
   "metadata": {},
   "outputs": [],
   "source": [
    "w = (Window.partitionBy('Computer', 'EventID').orderBy(F.col(\"time\").cast('long')).rangeBetween(-1800, Window.currentRow))\n",
    "new_df = new_df.withColumn('total_per_event', F.count(\"time\").over(w))"
   ]
  },
  {
   "cell_type": "code",
   "execution_count": 60,
   "metadata": {},
   "outputs": [],
   "source": [
    "# new_df.show()"
   ]
  },
  {
   "cell_type": "code",
   "execution_count": 96,
   "metadata": {},
   "outputs": [],
   "source": [
    "columns = [\"time\", \"host\", \"event_id\", \"total_events\", \"total_per_event\"]\n",
    "new_df = new_df.toDF(*columns)\n",
    "new_df = new_df.select(*columns)"
   ]
  },
  {
   "cell_type": "code",
   "execution_count": 97,
   "metadata": {},
   "outputs": [],
   "source": [
    "new_df = new_df.distinct()\n",
    "new_df = new_df.groupBy(\"time\", \"host\", \"total_events\").pivot(\"event_id\").sum(\"total_per_event\")"
   ]
  },
  {
   "cell_type": "code",
   "execution_count": 63,
   "metadata": {},
   "outputs": [],
   "source": [
    "# new_df.sort(\"time\", \"host\").show()"
   ]
  },
  {
   "cell_type": "code",
   "execution_count": 11,
   "metadata": {},
   "outputs": [],
   "source": [
    "from pyspark.sql import Window\n",
    "from pyspark.sql.functions import last\n",
    "import sys\n",
    "\n",
    "def forward_fill(column_name):\n",
    "    # define the window\n",
    "    window = Window.partitionBy('host')\\\n",
    "                   .orderBy(F.col(\"time\").cast('long'))\\\n",
    "                   .rangeBetween(-1800, Window.currentRow)\n",
    "\n",
    "    # what column to fill forward\n",
    "    return last(column_name, True).over(window)\n",
    "\n",
    "#     # perform fill\n",
    "#     return new_df.withColumn(column_name, filled_column)\n",
    "\n",
    "\n",
    "# # show \n",
    "# spark_df_filled.orderBy('time', 'host').show(10)  "
   ]
  },
  {
   "cell_type": "code",
   "execution_count": 100,
   "metadata": {},
   "outputs": [
    {
     "name": "stdout",
     "output_type": "stream",
     "text": [
      "['1', '3', '8', '10', '11', '12', '4624', '4625', '4648', '4658', '4661', '4663', '4672', '4698', '4768', '5140', '5145', '5156', '5158']\n"
     ]
    }
   ],
   "source": [
    "columns_to_fill = new_df.schema.names[3:]\n",
    "print(columns_to_fill)\n",
    "for column_name in columns_to_fill:\n",
    "    new_df = new_df.withColumn('event_' + column_name, forward_fill(column_name))"
   ]
  },
  {
   "cell_type": "code",
   "execution_count": 67,
   "metadata": {},
   "outputs": [
    {
     "name": "stdout",
     "output_type": "stream",
     "text": [
      "+----+--------------------+------------+----+----+----+----+----+----+----+----+----+----+----+----+----+----+----+-------+-------+-------+----------+----------+----------+----------+----------+----------+----------+----------+----------+----------+----------+----------+\n",
      "|time|                host|total_events|   1|   3|   8|4624|4625|4648|4658|4661|4672|4698|4768|5140|5145|5156|5158|event_1|event_3|event_8|event_4624|event_4625|event_4648|event_4658|event_4661|event_4672|event_4698|event_4768|event_5140|event_5145|event_5156|event_5158|\n",
      "+----+--------------------+------------+----+----+----+----+----+----+----+----+----+----+----+----+----+----+----+-------+-------+-------+----------+----------+----------+----------+----------+----------+----------+----------+----------+----------+----------+----------+\n",
      "| 124|WIN-77LTAPHIQ1R.e...|          14|null|null|null|   4|null|null|null|null|   3|   2|null|   2|   3|null|null|   null|   null|   null|         4|      null|      null|      null|      null|         3|         2|      null|         2|         3|      null|      null|\n",
      "| 127|WIN-77LTAPHIQ1R.e...|          18|null|null|null|null|null|null|null|null|null|null|null|   4|   5|null|null|   null|   null|   null|         4|      null|      null|      null|      null|         3|         2|      null|         4|         5|      null|      null|\n",
      "| 137|WIN-77LTAPHIQ1R.e...|          21|null|null|null|null|null|null|null|   3|null|null|null|null|null|null|null|   null|   null|   null|         4|      null|      null|      null|         3|         3|         2|      null|         4|         5|      null|      null|\n",
      "| 141|WIN-77LTAPHIQ1R.e...|          25|null|null|null|   6|null|null|null|null|   5|null|null|null|null|null|null|   null|   null|   null|         6|      null|      null|      null|         3|         5|         2|      null|         4|         5|      null|      null|\n",
      "| 576|         MSEDGEWIN10|           2|   2|null|null|null|null|null|null|null|null|null|null|null|null|null|null|      2|   null|   null|      null|      null|      null|      null|      null|      null|      null|      null|      null|      null|      null|      null|\n",
      "| 578|         MSEDGEWIN10|           4|null|   2|null|null|null|null|null|null|null|null|null|null|null|null|null|      2|      2|   null|      null|      null|      null|      null|      null|      null|      null|      null|      null|      null|      null|      null|\n",
      "| 583|         MSEDGEWIN10|           5|   3|null|null|null|null|null|null|null|null|null|null|null|null|null|null|      3|      2|   null|      null|      null|      null|      null|      null|      null|      null|      null|      null|      null|      null|      null|\n",
      "| 676|         MSEDGEWIN10|           6|   4|null|null|null|null|null|null|null|null|null|null|null|null|null|null|      4|      2|   null|      null|      null|      null|      null|      null|      null|      null|      null|      null|      null|      null|      null|\n",
      "| 680|         MSEDGEWIN10|           7|null|   3|null|null|null|null|null|null|null|null|null|null|null|null|null|      4|      3|   null|      null|      null|      null|      null|      null|      null|      null|      null|      null|      null|      null|      null|\n",
      "|1696|         MSEDGEWIN10|           1|   1|null|null|null|null|null|null|null|null|null|null|null|null|null|null|      1|      3|   null|      null|      null|      null|      null|      null|      null|      null|      null|      null|      null|      null|      null|\n",
      "|1732|         MSEDGEWIN10|           4|   4|null|null|null|null|null|null|null|null|null|null|null|null|null|null|      4|      3|   null|      null|      null|      null|      null|      null|      null|      null|      null|      null|      null|      null|      null|\n",
      "|1792|              IEWIN7|           1|null|   1|null|null|null|null|null|null|null|null|null|null|null|null|null|   null|      1|   null|      null|      null|      null|      null|      null|      null|      null|      null|      null|      null|      null|      null|\n",
      "|1942|              IEWIN7|           2|null|   2|null|null|null|null|null|null|null|null|null|null|null|null|null|   null|      2|   null|      null|      null|      null|      null|      null|      null|      null|      null|      null|      null|      null|      null|\n",
      "|1944|              IEWIN7|           3|   1|null|null|null|null|null|null|null|null|null|null|null|null|null|null|      1|      2|   null|      null|      null|      null|      null|      null|      null|      null|      null|      null|      null|      null|      null|\n",
      "|1950|              IEWIN7|           4|   2|null|null|null|null|null|null|null|null|null|null|null|null|null|null|      2|      2|   null|      null|      null|      null|      null|      null|      null|      null|      null|      null|      null|      null|      null|\n",
      "|1955|              IEWIN7|           6|   4|null|null|null|null|null|null|null|null|null|null|null|null|null|null|      4|      2|   null|      null|      null|      null|      null|      null|      null|      null|      null|      null|      null|      null|      null|\n",
      "|1956|              IEWIN7|           7|null|   3|null|null|null|null|null|null|null|null|null|null|null|null|null|      4|      3|   null|      null|      null|      null|      null|      null|      null|      null|      null|      null|      null|      null|      null|\n",
      "|1960|              IEWIN7|           8|   5|null|null|null|null|null|null|null|null|null|null|null|null|null|null|      5|      3|   null|      null|      null|      null|      null|      null|      null|      null|      null|      null|      null|      null|      null|\n",
      "|2107|              IEWIN7|          13|  10|null|null|null|null|null|null|null|null|null|null|null|null|null|null|     10|      3|   null|      null|      null|      null|      null|      null|      null|      null|      null|      null|      null|      null|      null|\n",
      "|2108|              IEWIN7|          16|  13|null|null|null|null|null|null|null|null|null|null|null|null|null|null|     13|      3|   null|      null|      null|      null|      null|      null|      null|      null|      null|      null|      null|      null|      null|\n",
      "+----+--------------------+------------+----+----+----+----+----+----+----+----+----+----+----+----+----+----+----+-------+-------+-------+----------+----------+----------+----------+----------+----------+----------+----------+----------+----------+----------+----------+\n",
      "only showing top 20 rows\n",
      "\n"
     ]
    }
   ],
   "source": [
    "new_df.orderBy(\"time\", \"host\").show()"
   ]
  },
  {
   "cell_type": "code",
   "execution_count": 68,
   "metadata": {},
   "outputs": [
    {
     "name": "stdout",
     "output_type": "stream",
     "text": [
      "+----+--------------------+----+----------+\n",
      "|time|                host|4624|event_4624|\n",
      "+----+--------------------+----+----------+\n",
      "| 124|WIN-77LTAPHIQ1R.e...|   4|         4|\n",
      "| 127|WIN-77LTAPHIQ1R.e...|null|         4|\n",
      "| 137|WIN-77LTAPHIQ1R.e...|null|         4|\n",
      "| 141|WIN-77LTAPHIQ1R.e...|   6|         6|\n",
      "| 576|         MSEDGEWIN10|null|      null|\n",
      "| 578|         MSEDGEWIN10|null|      null|\n",
      "| 583|         MSEDGEWIN10|null|      null|\n",
      "| 676|         MSEDGEWIN10|null|      null|\n",
      "| 680|         MSEDGEWIN10|null|      null|\n",
      "|1696|         MSEDGEWIN10|null|      null|\n",
      "|1732|         MSEDGEWIN10|null|      null|\n",
      "|1792|              IEWIN7|null|      null|\n",
      "|1942|              IEWIN7|null|      null|\n",
      "|1944|              IEWIN7|null|      null|\n",
      "|1950|              IEWIN7|null|      null|\n",
      "|1955|              IEWIN7|null|      null|\n",
      "|1956|              IEWIN7|null|      null|\n",
      "|1960|              IEWIN7|null|      null|\n",
      "|2107|              IEWIN7|null|      null|\n",
      "|2108|              IEWIN7|null|      null|\n",
      "+----+--------------------+----+----------+\n",
      "only showing top 20 rows\n",
      "\n"
     ]
    }
   ],
   "source": [
    "new_df.select(\"time\", \"host\",\"4624\",\"event_4624\").orderBy(\"time\", \"host\").show()"
   ]
  },
  {
   "cell_type": "code",
   "execution_count": 101,
   "metadata": {},
   "outputs": [],
   "source": [
    "new_df = new_df.na.fill(value=0)"
   ]
  },
  {
   "cell_type": "code",
   "execution_count": 15,
   "metadata": {},
   "outputs": [],
   "source": [
    "new_df = new_df.drop(*columns_to_fill)\n",
    "new_df = new_df.distinct()"
   ]
  },
  {
   "cell_type": "code",
   "execution_count": 16,
   "metadata": {},
   "outputs": [
    {
     "name": "stdout",
     "output_type": "stream",
     "text": [
      "+-----+--------------------+------------+-------+-------+--------+--------+--------+----------+----------+----------+----------+----------+----------+----------+----------+----------+----------+\n",
      "| time|                host|total_events|event_1|event_3|event_10|event_11|event_12|event_4624|event_4625|event_4658|event_4661|event_4663|event_4672|event_5140|event_5145|event_5156|event_5158|\n",
      "+-----+--------------------+------------+-------+-------+--------+--------+--------+----------+----------+----------+----------+----------+----------+----------+----------+----------+----------+\n",
      "|16186|wec.internal.clou...|           6|      0|      0|       0|       0|       0|         0|         0|         0|         0|         0|         0|         0|         0|         6|         0|\n",
      "|16187|wec.internal.clou...|           8|      0|      0|       0|       0|       0|         0|         0|         0|         0|         0|         0|         0|         0|         7|         1|\n",
      "|16189|wec.internal.clou...|           9|      0|      0|       0|       1|       0|         0|         0|         0|         0|         0|         0|         0|         0|         7|         1|\n",
      "|16192|wec.internal.clou...|          84|      1|      0|       3|       1|      47|         0|         0|        21|         0|         1|         0|         0|         0|         8|         2|\n",
      "|16193|wec.internal.clou...|         755|      3|      0|      38|       7|     558|         4|         7|        70|         0|        10|         4|         0|         0|        33|        21|\n",
      "|16194|wec.internal.clou...|        1782|      5|     19|      52|       7|    1379|         7|         7|       120|         0|        33|         7|         3|         3|        89|        51|\n",
      "|16195|wec.internal.clou...|        3279|      5|     61|      55|     317|    2398|        16|         7|       136|         0|        40|        10|         3|         3|       147|        81|\n",
      "|16196|wec.internal.clou...|       14360|      9|    100|      74|     520|   13187|        16|         7|       152|         0|        48|        10|         3|         3|       148|        83|\n",
      "|16197|wec.internal.clou...|       16256|     17|    113|     126|     539|   14709|        21|         7|       345|         2|       105|        15|         3|         3|       158|        93|\n",
      "|16198|wec.internal.clou...|       17939|     22|    118|     150|     559|   16035|        22|         7|       574|         2|       170|        16|         3|         3|       160|        98|\n",
      "|16199|wec.internal.clou...|       18885|     22|    126|     168|     586|   16847|        23|         7|       632|         2|       189|        17|         3|         3|       161|        99|\n",
      "|16200|wec.internal.clou...|       19994|     24|    126|     245|     610|   17628|        37|         7|       748|         2|       245|        31|         3|         3|       179|       106|\n",
      "|16201|wec.internal.clou...|       20227|     24|    126|     247|     617|   17832|        38|         7|       761|         2|       250|        32|         3|         3|       179|       106|\n",
      "|16202|wec.internal.clou...|       20234|     24|    126|     251|     618|   17832|        38|         7|       761|         2|       250|        32|         3|         3|       180|       107|\n",
      "|16203|wec.internal.clou...|       20254|     24|    126|     251|     618|   17832|        48|         7|       761|         2|       250|        42|         3|         3|       180|       107|\n",
      "|16204|wec.internal.clou...|       20255|     24|    126|     251|     618|   17833|        48|         7|       761|         2|       250|        42|         3|         3|       180|       107|\n",
      "|16205|wec.internal.clou...|       20257|     24|    126|     253|     618|   17833|        48|         7|       761|         2|       250|        42|         3|         3|       180|       107|\n",
      "|16206|wec.internal.clou...|       20264|     24|    126|     255|     620|   17835|        48|         7|       761|         2|       250|        42|         3|         3|       180|       108|\n",
      "|16207|wec.internal.clou...|       20266|     24|    126|     255|     622|   17835|        48|         7|       761|         2|       250|        42|         3|         3|       180|       108|\n",
      "|16208|wec.internal.clou...|       20268|     24|    126|     255|     622|   17835|        48|         7|       761|         2|       250|        42|         3|         3|       181|       109|\n",
      "+-----+--------------------+------------+-------+-------+--------+--------+--------+----------+----------+----------+----------+----------+----------+----------+----------+----------+----------+\n",
      "only showing top 20 rows\n",
      "\n"
     ]
    }
   ],
   "source": [
    "new_df.show()"
   ]
  },
  {
   "cell_type": "code",
   "execution_count": 17,
   "metadata": {},
   "outputs": [],
   "source": [
    "new_df.coalesce(1).write.option(\"header\",True).csv(\"../data/processed/malicious_pivoted\")"
   ]
  },
  {
   "cell_type": "markdown",
   "metadata": {},
   "source": [
    "# TEST"
   ]
  },
  {
   "cell_type": "code",
   "execution_count": 17,
   "metadata": {},
   "outputs": [],
   "source": [
    "df = spark.read.options(header='true', inferSchema='true') \\\n",
    "          .csv('../data/processed/merged_dataset.csv')"
   ]
  },
  {
   "cell_type": "code",
   "execution_count": 18,
   "metadata": {},
   "outputs": [
    {
     "name": "stdout",
     "output_type": "stream",
     "text": [
      "+----+----------+--------+------------+------------+---------------+\n",
      "|time|      host|event_id|is_malicious|total_events|total_per_event|\n",
      "+----+----------+--------+------------+------------+---------------+\n",
      "|   2|Comp158828|    4624|           0|          18|              9|\n",
      "|   2|Comp158828|    4672|           0|          18|              9|\n",
      "|   3|Comp581624|    4624|           0|           1|              1|\n",
      "|   5|Comp581624|    4624|           0|           6|              6|\n",
      "|   6|Comp337732|    4624|           0|           4|              4|\n",
      "|   6|Comp581624|    4648|           0|           8|              2|\n",
      "|   8|Comp337732|    4624|           0|           6|              5|\n",
      "|   8|Comp337732|    4625|           0|           6|              1|\n",
      "|  11|Comp158828|    4624|           0|          34|             17|\n",
      "|  11|Comp158828|    4672|           0|          34|             17|\n",
      "|  11|Comp337732|    4624|           0|           8|              6|\n",
      "|  11|Comp337732|    4625|           0|           8|              2|\n",
      "|  11|Comp581624|    4624|           0|          10|              8|\n",
      "|  12|Comp337732|    4624|           0|          10|              8|\n",
      "|  12|Comp876177|    4624|           0|           4|              4|\n",
      "|  13|Comp337732|    4624|           0|          14|             10|\n",
      "|  13|Comp337732|    4625|           0|          14|              4|\n",
      "|  13|Comp581624|    4624|           0|          13|             11|\n",
      "|  14|Comp158828|    4624|           0|          44|             22|\n",
      "|  14|Comp158828|    4672|           0|          44|             22|\n",
      "+----+----------+--------+------------+------------+---------------+\n",
      "only showing top 20 rows\n",
      "\n"
     ]
    }
   ],
   "source": [
    "df.show()"
   ]
  },
  {
   "cell_type": "code",
   "execution_count": 19,
   "metadata": {},
   "outputs": [],
   "source": [
    "df = df.distinct()\n",
    "new_df = df.groupBy(\"time\", \"host\", \"total_events\", \"is_malicious\").pivot(\"event_id\").sum(\"total_per_event\")"
   ]
  },
  {
   "cell_type": "code",
   "execution_count": 20,
   "metadata": {},
   "outputs": [
    {
     "name": "stdout",
     "output_type": "stream",
     "text": [
      "+-----+----------+------------+------------+----+----+----+----+----+----+----+----+----+----+----+----+----+----+----+----+----+----+----+\n",
      "| time|      host|total_events|is_malicious|   1|   3|   8|  10|  11|  12|4624|4625|4648|4658|4661|4663|4672|4698|4768|5140|5145|5156|5158|\n",
      "+-----+----------+------------+------------+----+----+----+----+----+----+----+----+----+----+----+----+----+----+----+----+----+----+----+\n",
      "|72765|Comp337732|        1891|           0|null|null|null|null|null|null|1338| 553|null|null|null|null|null|null|null|null|null|null|null|\n",
      "|69978|Comp337732|        1896|           0|null|null|null|null|null|null|1340| 551|null|null|null|null|null|null|null|null|null|null|null|\n",
      "|62746|Comp876177|        1940|           0|null|null|null|null|null|null|1940|null|null|null|null|null|null|null|null|null|null|null|null|\n",
      "|48554|Comp337732|        1883|           0|null|null|null|null|null|null|1327| 556|null|null|null|null|null|null|null|null|null|null|null|\n",
      "|57997|Comp337732|        1914|           0|null|null|null|null|null|null|1364|null|null|null|null|null|null|null|null|null|null|null|null|\n",
      "|20609|Comp876177|        1403|           0|null|null|null|null|null|null|1403|null|null|null|null|null|null|null|null|null|null|null|null|\n",
      "|82590|Comp337732|        1754|           0|null|null|null|null|null|null|1273|null|null|null|null|null|null|null|null|null|null|null|null|\n",
      "|32719|Comp876177|        2757|           0|null|null|null|null|null|null|2757|null|null|null|null|null|null|null|null|null|null|null|null|\n",
      "|32307|Comp337732|        4361|           0|null|null|null|null|null|null|2608|1753|null|null|null|null|null|null|null|null|null|null|null|\n",
      "|23452|Comp337732|        1765|           0|null|null|null|null|null|null|1282| 483|null|null|null|null|null|null|null|null|null|null|null|\n",
      "|78878|Comp876177|        1938|           0|null|null|null|null|null|null|1938|null|null|null|null|null|null|null|null|null|null|null|null|\n",
      "|61841|Comp337732|        1881|           0|null|null|null|null|null|null|1329| 552|null|null|null|null|null|null|null|null|null|null|null|\n",
      "|74608|Comp337732|        1906|           0|null|null|null|null|null|null|null| 541|null|null|null|null|null|null|null|null|null|null|null|\n",
      "|70181|Comp337732|        1897|           0|null|null|null|null|null|null|1340| 552|null|null|null|null|null|null|null|null|null|null|null|\n",
      "|83926|Comp337732|        1754|           0|null|null|null|null|null|null|1274| 480|null|null|null|null|null|null|null|null|null|null|null|\n",
      "|21853|Comp337732|        1744|           0|null|null|null|null|null|null|1262| 481|null|null|null|null|null|null|null|null|null|null|null|\n",
      "|34645|Comp337732|        3933|           0|null|null|null|null|null|null|2869|null|null|null|null|null|null|null|null|null|null|null|null|\n",
      "|30952|Comp337732|        4380|           0|null|null|null|null|null|null|2629|1751|null|null|null|null|null|null|null|null|null|null|null|\n",
      "|70816|Comp876177|        1954|           0|null|null|null|null|null|null|1952|null|null|null|null|null|null|null|null|null|null|null|null|\n",
      "|82978|Comp337732|        1742|           0|null|null|null|null|null|null|null| 480|null|null|null|null|null|null|null|null|null|null|null|\n",
      "+-----+----------+------------+------------+----+----+----+----+----+----+----+----+----+----+----+----+----+----+----+----+----+----+----+\n",
      "only showing top 20 rows\n",
      "\n"
     ]
    }
   ],
   "source": [
    "new_df.show()"
   ]
  },
  {
   "cell_type": "code",
   "execution_count": 21,
   "metadata": {},
   "outputs": [
    {
     "name": "stdout",
     "output_type": "stream",
     "text": [
      "['1', '3', '8', '10', '11', '12', '4624', '4625', '4648', '4658', '4661', '4663', '4672', '4698', '4768', '5140', '5145', '5156', '5158']\n"
     ]
    }
   ],
   "source": [
    "from pyspark.sql import functions as F\n",
    "columns_to_fill = new_df.schema.names[4:]\n",
    "print(columns_to_fill)\n",
    "for column_name in columns_to_fill:\n",
    "    new_df = new_df.withColumn('event_' + column_name, forward_fill(column_name))"
   ]
  },
  {
   "cell_type": "code",
   "execution_count": 22,
   "metadata": {},
   "outputs": [
    {
     "name": "stdout",
     "output_type": "stream",
     "text": [
      "+----+----------+----+----------+\n",
      "|time|      host|4624|event_4624|\n",
      "+----+----------+----+----------+\n",
      "|   2|Comp158828|   9|         9|\n",
      "|   3|Comp581624|   1|         1|\n",
      "|   5|Comp581624|   6|         6|\n",
      "|   6|Comp337732|   4|         4|\n",
      "|   6|Comp581624|null|         6|\n",
      "|   8|Comp337732|   5|         5|\n",
      "|  11|Comp158828|  17|        17|\n",
      "|  11|Comp337732|   6|         6|\n",
      "|  11|Comp581624|   8|         8|\n",
      "|  12|Comp337732|   8|         8|\n",
      "|  12|Comp876177|   4|         4|\n",
      "|  13|Comp337732|  10|        10|\n",
      "|  13|Comp581624|  11|        11|\n",
      "|  14|Comp158828|  22|        22|\n",
      "|  14|Comp337732|  11|        11|\n",
      "|  15|Comp337732|null|        11|\n",
      "|  15|Comp581624|  24|        24|\n",
      "|  16|Comp581624|  27|        27|\n",
      "|  18|Comp337732|  12|        12|\n",
      "|  18|Comp581624|  28|        28|\n",
      "+----+----------+----+----------+\n",
      "only showing top 20 rows\n",
      "\n"
     ]
    }
   ],
   "source": [
    "new_df.select(\"time\", \"host\",\"4624\",\"event_4624\").orderBy(\"time\", \"host\").show()"
   ]
  },
  {
   "cell_type": "code",
   "execution_count": 23,
   "metadata": {},
   "outputs": [],
   "source": [
    "new_df = new_df.na.fill(value=0)"
   ]
  },
  {
   "cell_type": "code",
   "execution_count": 24,
   "metadata": {},
   "outputs": [],
   "source": [
    "new_df = new_df.drop(*columns_to_fill)\n",
    "new_df = new_df.distinct()"
   ]
  },
  {
   "cell_type": "code",
   "execution_count": 25,
   "metadata": {},
   "outputs": [],
   "source": [
    "new_df.coalesce(1).write.option(\"header\",True).csv(\"../data/processed/merged_dataset_pivoted\")"
   ]
  },
  {
   "cell_type": "markdown",
   "metadata": {},
   "source": [
    "### Sysmon 1 (Process Creation)"
   ]
  },
  {
   "cell_type": "markdown",
   "metadata": {},
   "source": [
    "### Sysmon 3 (Network Connection)"
   ]
  },
  {
   "cell_type": "markdown",
   "metadata": {},
   "source": [
    "### Sysmon 8 (Remote Thread Creation)"
   ]
  },
  {
   "cell_type": "markdown",
   "metadata": {},
   "source": [
    "### Total number of Event 4624 per user in an hour window interval  (Successful Logon)\n"
   ]
  },
  {
   "cell_type": "markdown",
   "metadata": {},
   "source": [
    "### Total number of Event 4625 per user in an hour window interval  (Failed Logon)"
   ]
  },
  {
   "cell_type": "markdown",
   "metadata": {},
   "source": [
    "### Total number of Event 4627 per user in an hour window interval  (Group Membership)\n"
   ]
  },
  {
   "cell_type": "markdown",
   "metadata": {},
   "source": [
    "### Total number of Event 4648 per user in an hour window interval  (A logon was attempted using explicit credentials)"
   ]
  },
  {
   "cell_type": "markdown",
   "metadata": {},
   "source": [
    "### Total number of Event 4658 per user in an hour window interval  (handle to an object was closed)"
   ]
  },
  {
   "cell_type": "markdown",
   "metadata": {},
   "source": [
    "### Total number of Event 4661 per user in an hour window interval  (handle to an object was requsted)"
   ]
  },
  {
   "cell_type": "markdown",
   "metadata": {},
   "source": [
    "### Total number of Event 4672 per user in an hour window interval  (Special privileges assigned to new logon)"
   ]
  },
  {
   "cell_type": "markdown",
   "metadata": {},
   "source": [
    "### Total number of Event 4698 per user in an hour window interval  (A scheduled task was created)"
   ]
  },
  {
   "cell_type": "markdown",
   "metadata": {},
   "source": [
    "### Total number of Event 4768 per user in an hour window interval  (Kerberos Authentication)"
   ]
  },
  {
   "cell_type": "markdown",
   "metadata": {},
   "source": [
    "### Total number of Event 5140 per user in an hour window interval  (A network share object was accessed)"
   ]
  },
  {
   "cell_type": "markdown",
   "metadata": {},
   "source": [
    "### Total number of Event 5145 per user in an hour window interval  (A network share object was checked to see whether client can be granted desired access)"
   ]
  },
  {
   "cell_type": "markdown",
   "metadata": {},
   "source": [
    "### 5156: The Windows Filtering Platform has allowed a connection"
   ]
  },
  {
   "cell_type": "markdown",
   "metadata": {},
   "source": [
    "### Total number of Event 5158 per user in an hour window interval  (The Windows Filtering Platform has permitted a bind to a local port)"
   ]
  }
 ],
 "metadata": {
  "kernelspec": {
   "display_name": "Python 3",
   "language": "python",
   "name": "python3"
  },
  "language_info": {
   "codemirror_mode": {
    "name": "ipython",
    "version": 3
   },
   "file_extension": ".py",
   "mimetype": "text/x-python",
   "name": "python",
   "nbconvert_exporter": "python",
   "pygments_lexer": "ipython3",
   "version": "3.8.5"
  }
 },
 "nbformat": 4,
 "nbformat_minor": 4
}
