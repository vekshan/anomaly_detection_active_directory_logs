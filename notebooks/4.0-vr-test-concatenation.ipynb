{
 "cells": [
  {
   "cell_type": "markdown",
   "id": "c8080796",
   "metadata": {},
   "source": [
    "**Import modules**"
   ]
  },
  {
   "cell_type": "code",
   "execution_count": 1,
   "id": "5061e819",
   "metadata": {},
   "outputs": [],
   "source": [
    "import pandas as pd\n",
    "from pandas import DataFrame"
   ]
  },
  {
   "cell_type": "code",
   "execution_count": 2,
   "id": "720b8fa2",
   "metadata": {},
   "outputs": [],
   "source": [
    "apt = pd.read_csv('../data/interim/apt.csv')\n",
    "lanl = pd.read_csv('../data/interim/lanl.csv')\n",
    "purple = pd.read_csv('../data/interim/purple.csv')\n",
    "\n",
    "apt = apt.drop(apt.columns[0],axis=1)\n",
    "purple = purple.drop(purple.columns[0],axis=1)\n",
    "lanl = lanl.drop(lanl.columns[0],axis=1)"
   ]
  },
  {
   "cell_type": "code",
   "execution_count": 3,
   "id": "0954d4ff",
   "metadata": {},
   "outputs": [],
   "source": [
    "apt['Anomalous'] = 1\n",
    "purple['Anomalous'] = 1\n",
    "lanl['Anomalous'] = 0"
   ]
  },
  {
   "cell_type": "code",
   "execution_count": 4,
   "id": "cc43958d",
   "metadata": {},
   "outputs": [
    {
     "data": {
      "text/html": [
       "<div>\n",
       "<style scoped>\n",
       "    .dataframe tbody tr th:only-of-type {\n",
       "        vertical-align: middle;\n",
       "    }\n",
       "\n",
       "    .dataframe tbody tr th {\n",
       "        vertical-align: top;\n",
       "    }\n",
       "\n",
       "    .dataframe thead th {\n",
       "        text-align: right;\n",
       "    }\n",
       "</style>\n",
       "<table border=\"1\" class=\"dataframe\">\n",
       "  <thead>\n",
       "    <tr style=\"text-align: right;\">\n",
       "      <th></th>\n",
       "      <th>EventID</th>\n",
       "      <th>ProcessName</th>\n",
       "      <th>Time</th>\n",
       "      <th>Anomalous</th>\n",
       "    </tr>\n",
       "  </thead>\n",
       "  <tbody>\n",
       "    <tr>\n",
       "      <th>0</th>\n",
       "      <td>1</td>\n",
       "      <td>NaN</td>\n",
       "      <td>50835.0</td>\n",
       "      <td>1</td>\n",
       "    </tr>\n",
       "    <tr>\n",
       "      <th>1</th>\n",
       "      <td>10</td>\n",
       "      <td>NaN</td>\n",
       "      <td>50835.0</td>\n",
       "      <td>1</td>\n",
       "    </tr>\n",
       "    <tr>\n",
       "      <th>2</th>\n",
       "      <td>10</td>\n",
       "      <td>NaN</td>\n",
       "      <td>50835.0</td>\n",
       "      <td>1</td>\n",
       "    </tr>\n",
       "    <tr>\n",
       "      <th>3</th>\n",
       "      <td>7</td>\n",
       "      <td>NaN</td>\n",
       "      <td>50835.0</td>\n",
       "      <td>1</td>\n",
       "    </tr>\n",
       "    <tr>\n",
       "      <th>4</th>\n",
       "      <td>7</td>\n",
       "      <td>NaN</td>\n",
       "      <td>50835.0</td>\n",
       "      <td>1</td>\n",
       "    </tr>\n",
       "  </tbody>\n",
       "</table>\n",
       "</div>"
      ],
      "text/plain": [
       "   EventID ProcessName     Time  Anomalous\n",
       "0        1         NaN  50835.0          1\n",
       "1       10         NaN  50835.0          1\n",
       "2       10         NaN  50835.0          1\n",
       "3        7         NaN  50835.0          1\n",
       "4        7         NaN  50835.0          1"
      ]
     },
     "execution_count": 4,
     "metadata": {},
     "output_type": "execute_result"
    }
   ],
   "source": [
    "apt.head()"
   ]
  },
  {
   "cell_type": "code",
   "execution_count": 5,
   "id": "993ac240",
   "metadata": {},
   "outputs": [
    {
     "data": {
      "text/html": [
       "<div>\n",
       "<style scoped>\n",
       "    .dataframe tbody tr th:only-of-type {\n",
       "        vertical-align: middle;\n",
       "    }\n",
       "\n",
       "    .dataframe tbody tr th {\n",
       "        vertical-align: top;\n",
       "    }\n",
       "\n",
       "    .dataframe thead th {\n",
       "        text-align: right;\n",
       "    }\n",
       "</style>\n",
       "<table border=\"1\" class=\"dataframe\">\n",
       "  <thead>\n",
       "    <tr style=\"text-align: right;\">\n",
       "      <th></th>\n",
       "      <th>EventID</th>\n",
       "      <th>ProcessName</th>\n",
       "      <th>Time</th>\n",
       "      <th>Anomalous</th>\n",
       "    </tr>\n",
       "  </thead>\n",
       "  <tbody>\n",
       "    <tr>\n",
       "      <th>0</th>\n",
       "      <td>5156</td>\n",
       "      <td>NaN</td>\n",
       "      <td>34186.0</td>\n",
       "      <td>1</td>\n",
       "    </tr>\n",
       "    <tr>\n",
       "      <th>1</th>\n",
       "      <td>5156</td>\n",
       "      <td>NaN</td>\n",
       "      <td>34186.0</td>\n",
       "      <td>1</td>\n",
       "    </tr>\n",
       "    <tr>\n",
       "      <th>2</th>\n",
       "      <td>5156</td>\n",
       "      <td>NaN</td>\n",
       "      <td>34186.0</td>\n",
       "      <td>1</td>\n",
       "    </tr>\n",
       "    <tr>\n",
       "      <th>3</th>\n",
       "      <td>5156</td>\n",
       "      <td>NaN</td>\n",
       "      <td>34186.0</td>\n",
       "      <td>1</td>\n",
       "    </tr>\n",
       "    <tr>\n",
       "      <th>4</th>\n",
       "      <td>5156</td>\n",
       "      <td>NaN</td>\n",
       "      <td>34186.0</td>\n",
       "      <td>1</td>\n",
       "    </tr>\n",
       "  </tbody>\n",
       "</table>\n",
       "</div>"
      ],
      "text/plain": [
       "   EventID ProcessName     Time  Anomalous\n",
       "0     5156         NaN  34186.0          1\n",
       "1     5156         NaN  34186.0          1\n",
       "2     5156         NaN  34186.0          1\n",
       "3     5156         NaN  34186.0          1\n",
       "4     5156         NaN  34186.0          1"
      ]
     },
     "execution_count": 5,
     "metadata": {},
     "output_type": "execute_result"
    }
   ],
   "source": [
    "purple.head()"
   ]
  },
  {
   "cell_type": "code",
   "execution_count": 6,
   "id": "3f83c04e",
   "metadata": {},
   "outputs": [
    {
     "data": {
      "text/html": [
       "<div>\n",
       "<style scoped>\n",
       "    .dataframe tbody tr th:only-of-type {\n",
       "        vertical-align: middle;\n",
       "    }\n",
       "\n",
       "    .dataframe tbody tr th {\n",
       "        vertical-align: top;\n",
       "    }\n",
       "\n",
       "    .dataframe thead th {\n",
       "        text-align: right;\n",
       "    }\n",
       "</style>\n",
       "<table border=\"1\" class=\"dataframe\">\n",
       "  <thead>\n",
       "    <tr style=\"text-align: right;\">\n",
       "      <th></th>\n",
       "      <th>EventID</th>\n",
       "      <th>ProcessName</th>\n",
       "      <th>Time</th>\n",
       "      <th>Anomalous</th>\n",
       "    </tr>\n",
       "  </thead>\n",
       "  <tbody>\n",
       "    <tr>\n",
       "      <th>0</th>\n",
       "      <td>4688.0</td>\n",
       "      <td>svchost.exe</td>\n",
       "      <td>1.0</td>\n",
       "      <td>0</td>\n",
       "    </tr>\n",
       "    <tr>\n",
       "      <th>1</th>\n",
       "      <td>4688.0</td>\n",
       "      <td>rundll32.exe</td>\n",
       "      <td>1.0</td>\n",
       "      <td>0</td>\n",
       "    </tr>\n",
       "    <tr>\n",
       "      <th>2</th>\n",
       "      <td>4688.0</td>\n",
       "      <td>svchost.exe</td>\n",
       "      <td>1.0</td>\n",
       "      <td>0</td>\n",
       "    </tr>\n",
       "    <tr>\n",
       "      <th>3</th>\n",
       "      <td>4688.0</td>\n",
       "      <td>vssvc.exe</td>\n",
       "      <td>1.0</td>\n",
       "      <td>0</td>\n",
       "    </tr>\n",
       "    <tr>\n",
       "      <th>4</th>\n",
       "      <td>4688.0</td>\n",
       "      <td>svchost.exe</td>\n",
       "      <td>1.0</td>\n",
       "      <td>0</td>\n",
       "    </tr>\n",
       "  </tbody>\n",
       "</table>\n",
       "</div>"
      ],
      "text/plain": [
       "   EventID   ProcessName  Time  Anomalous\n",
       "0   4688.0   svchost.exe   1.0          0\n",
       "1   4688.0  rundll32.exe   1.0          0\n",
       "2   4688.0   svchost.exe   1.0          0\n",
       "3   4688.0     vssvc.exe   1.0          0\n",
       "4   4688.0   svchost.exe   1.0          0"
      ]
     },
     "execution_count": 6,
     "metadata": {},
     "output_type": "execute_result"
    }
   ],
   "source": [
    "lanl.head()"
   ]
  },
  {
   "cell_type": "code",
   "execution_count": 7,
   "id": "5cd00fae",
   "metadata": {},
   "outputs": [],
   "source": [
    "datasets = [apt, purple, lanl]\n",
    "\n",
    "finaldf = pd.concat(datasets)"
   ]
  },
  {
   "cell_type": "code",
   "execution_count": 8,
   "id": "891e40ba",
   "metadata": {},
   "outputs": [
    {
     "data": {
      "text/html": [
       "<div>\n",
       "<style scoped>\n",
       "    .dataframe tbody tr th:only-of-type {\n",
       "        vertical-align: middle;\n",
       "    }\n",
       "\n",
       "    .dataframe tbody tr th {\n",
       "        vertical-align: top;\n",
       "    }\n",
       "\n",
       "    .dataframe thead th {\n",
       "        text-align: right;\n",
       "    }\n",
       "</style>\n",
       "<table border=\"1\" class=\"dataframe\">\n",
       "  <thead>\n",
       "    <tr style=\"text-align: right;\">\n",
       "      <th></th>\n",
       "      <th>EventID</th>\n",
       "      <th>ProcessName</th>\n",
       "      <th>Time</th>\n",
       "      <th>Anomalous</th>\n",
       "    </tr>\n",
       "  </thead>\n",
       "  <tbody>\n",
       "    <tr>\n",
       "      <th>0</th>\n",
       "      <td>1.0</td>\n",
       "      <td>NaN</td>\n",
       "      <td>50835.0</td>\n",
       "      <td>1</td>\n",
       "    </tr>\n",
       "    <tr>\n",
       "      <th>1</th>\n",
       "      <td>10.0</td>\n",
       "      <td>NaN</td>\n",
       "      <td>50835.0</td>\n",
       "      <td>1</td>\n",
       "    </tr>\n",
       "    <tr>\n",
       "      <th>2</th>\n",
       "      <td>10.0</td>\n",
       "      <td>NaN</td>\n",
       "      <td>50835.0</td>\n",
       "      <td>1</td>\n",
       "    </tr>\n",
       "    <tr>\n",
       "      <th>3</th>\n",
       "      <td>7.0</td>\n",
       "      <td>NaN</td>\n",
       "      <td>50835.0</td>\n",
       "      <td>1</td>\n",
       "    </tr>\n",
       "    <tr>\n",
       "      <th>4</th>\n",
       "      <td>7.0</td>\n",
       "      <td>NaN</td>\n",
       "      <td>50835.0</td>\n",
       "      <td>1</td>\n",
       "    </tr>\n",
       "  </tbody>\n",
       "</table>\n",
       "</div>"
      ],
      "text/plain": [
       "   EventID ProcessName     Time  Anomalous\n",
       "0      1.0         NaN  50835.0          1\n",
       "1     10.0         NaN  50835.0          1\n",
       "2     10.0         NaN  50835.0          1\n",
       "3      7.0         NaN  50835.0          1\n",
       "4      7.0         NaN  50835.0          1"
      ]
     },
     "execution_count": 8,
     "metadata": {},
     "output_type": "execute_result"
    }
   ],
   "source": [
    "finaldf.head()"
   ]
  },
  {
   "cell_type": "code",
   "execution_count": 9,
   "id": "e373bc94",
   "metadata": {},
   "outputs": [],
   "source": [
    "finaldf = finaldf.sort_values(by=['Time'])"
   ]
  },
  {
   "cell_type": "code",
   "execution_count": 10,
   "id": "041e8fe8",
   "metadata": {},
   "outputs": [
    {
     "data": {
      "text/plain": [
       "EventID              0\n",
       "ProcessName    2936039\n",
       "Time                 0\n",
       "Anomalous            0\n",
       "dtype: int64"
      ]
     },
     "execution_count": 10,
     "metadata": {},
     "output_type": "execute_result"
    }
   ],
   "source": [
    "finaldf.isnull().sum()"
   ]
  },
  {
   "cell_type": "code",
   "execution_count": 11,
   "id": "f55f79c3",
   "metadata": {},
   "outputs": [],
   "source": [
    "filename = 'concatenated.csv'\n",
    "\n",
    "finaldf.to_csv(filename)"
   ]
  },
  {
   "cell_type": "code",
   "execution_count": 12,
   "id": "1a4d1815",
   "metadata": {},
   "outputs": [
    {
     "name": "stdout",
     "output_type": "stream",
     "text": [
      "root\n",
      " |-- _c0: string (nullable = true)\n",
      " |-- _c1: string (nullable = true)\n",
      " |-- _c2: string (nullable = true)\n",
      " |-- _c3: string (nullable = true)\n",
      " |-- _c4: string (nullable = true)\n",
      "\n"
     ]
    }
   ],
   "source": [
    "import pyspark\n",
    "from pyspark import SparkContext, SparkConf, SQLContext\n",
    "from pyspark.sql import SparkSession\n",
    "from pyspark.sql.functions import unix_timestamp\n",
    "from pyspark.sql.types import *\n",
    "conf = pyspark.SparkConf().setAppName('appName').setMaster('local')\n",
    "sc = SparkContext(conf=conf)\n",
    "spark = SparkSession(sc)\n",
    "\n",
    "\n",
    "df = spark.read.csv(\"concatenated.csv\")\n",
    "df.printSchema()"
   ]
  },
  {
   "cell_type": "code",
   "execution_count": 13,
   "id": "4703865b",
   "metadata": {},
   "outputs": [
    {
     "name": "stdout",
     "output_type": "stream",
     "text": [
      "+----+-------+------------+----+---------+\n",
      "| _c0|    _c1|         _c2| _c3|      _c4|\n",
      "+----+-------+------------+----+---------+\n",
      "|null|EventID| ProcessName|Time|Anomalous|\n",
      "|3738| 4624.0|services.exe| 1.0|        0|\n",
      "|4161| 4688.0| svchost.exe| 1.0|        0|\n",
      "|4162| 4624.0|services.exe| 1.0|        0|\n",
      "|4163| 4688.0|   vssvc.exe| 1.0|        0|\n",
      "|4164| 4688.0| svchost.exe| 1.0|        0|\n",
      "|4165| 4672.0|        null| 1.0|        0|\n",
      "|4166| 4688.0|wmiprvse.exe| 1.0|        0|\n",
      "|4167| 4624.0|services.exe| 1.0|        0|\n",
      "|4168| 4672.0|        null| 1.0|        0|\n",
      "|4169| 4688.0|   vssvc.exe| 1.0|        0|\n",
      "|4170| 4688.0|   vssvc.exe| 1.0|        0|\n",
      "|4171| 4688.0| svchost.exe| 1.0|        0|\n",
      "|4172| 4776.0|        null| 1.0|        0|\n",
      "|4173| 4769.0|        null| 1.0|        0|\n",
      "|4174| 4624.0|services.exe| 1.0|        0|\n",
      "|4175| 4672.0|        null| 1.0|        0|\n",
      "|4160| 4672.0|        null| 1.0|        0|\n",
      "|4176| 4624.0|services.exe| 1.0|        0|\n",
      "|4159| 4624.0|        null| 1.0|        0|\n",
      "+----+-------+------------+----+---------+\n",
      "only showing top 20 rows\n",
      "\n"
     ]
    }
   ],
   "source": [
    "df.show()"
   ]
  },
  {
   "cell_type": "code",
   "execution_count": null,
   "id": "2c13328f",
   "metadata": {},
   "outputs": [],
   "source": []
  }
 ],
 "metadata": {
  "kernelspec": {
   "display_name": "Python 3",
   "language": "python",
   "name": "python3"
  },
  "language_info": {
   "codemirror_mode": {
    "name": "ipython",
    "version": 3
   },
   "file_extension": ".py",
   "mimetype": "text/x-python",
   "name": "python",
   "nbconvert_exporter": "python",
   "pygments_lexer": "ipython3",
   "version": "3.8.8"
  }
 },
 "nbformat": 4,
 "nbformat_minor": 5
}
