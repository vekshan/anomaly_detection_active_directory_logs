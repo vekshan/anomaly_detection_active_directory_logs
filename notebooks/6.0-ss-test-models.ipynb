{
 "cells": [
  {
   "cell_type": "code",
   "execution_count": 1,
   "id": "c197be30-fc16-4d92-b52d-7fa3b3f683fb",
   "metadata": {},
   "outputs": [],
   "source": [
    "import pandas as pd\n",
    "import numpy as np\n",
    "import seaborn as sns\n",
    "from sklearn.preprocessing import StandardScaler\n",
    "from sklearn.decomposition import PCA\n",
    "from sklearn.datasets import make_classification\n",
    "from sklearn.model_selection import train_test_split\n",
    "from sklearn import metrics\n",
    "from sklearn.metrics import f1_score, accuracy_score, precision_score, recall_score, confusion_matrix, classification_report\n",
    "from sklearn.tree import DecisionTreeClassifier\n",
    "from sklearn.neighbors import KNeighborsClassifier\n",
    "from sklearn.linear_model import LogisticRegression\n",
    "from sklearn.ensemble import RandomForestClassifier, GradientBoostingClassifier\n",
    "from sklearn.svm import SVC\n",
    "import matplotlib.pyplot as plt\n",
    "from imblearn.over_sampling import SMOTE"
   ]
  },
  {
   "cell_type": "code",
   "execution_count": 2,
   "id": "e334e826-9548-4998-85fe-5281ae75ebd2",
   "metadata": {},
   "outputs": [
    {
     "data": {
      "text/html": [
       "<div>\n",
       "<style scoped>\n",
       "    .dataframe tbody tr th:only-of-type {\n",
       "        vertical-align: middle;\n",
       "    }\n",
       "\n",
       "    .dataframe tbody tr th {\n",
       "        vertical-align: top;\n",
       "    }\n",
       "\n",
       "    .dataframe thead th {\n",
       "        text-align: right;\n",
       "    }\n",
       "</style>\n",
       "<table border=\"1\" class=\"dataframe\">\n",
       "  <thead>\n",
       "    <tr style=\"text-align: right;\">\n",
       "      <th></th>\n",
       "      <th>time</th>\n",
       "      <th>host</th>\n",
       "      <th>total_events</th>\n",
       "      <th>is_malicious</th>\n",
       "      <th>event_1</th>\n",
       "      <th>event_3</th>\n",
       "      <th>event_8</th>\n",
       "      <th>event_10</th>\n",
       "      <th>event_11</th>\n",
       "      <th>event_12</th>\n",
       "      <th>...</th>\n",
       "      <th>event_4658</th>\n",
       "      <th>event_4661</th>\n",
       "      <th>event_4663</th>\n",
       "      <th>event_4672</th>\n",
       "      <th>event_4698</th>\n",
       "      <th>event_4768</th>\n",
       "      <th>event_5140</th>\n",
       "      <th>event_5145</th>\n",
       "      <th>event_5156</th>\n",
       "      <th>event_5158</th>\n",
       "    </tr>\n",
       "  </thead>\n",
       "  <tbody>\n",
       "    <tr>\n",
       "      <th>0</th>\n",
       "      <td>3</td>\n",
       "      <td>Comp581624</td>\n",
       "      <td>1</td>\n",
       "      <td>0</td>\n",
       "      <td>0</td>\n",
       "      <td>0</td>\n",
       "      <td>0</td>\n",
       "      <td>0</td>\n",
       "      <td>0</td>\n",
       "      <td>0</td>\n",
       "      <td>...</td>\n",
       "      <td>0</td>\n",
       "      <td>0</td>\n",
       "      <td>0</td>\n",
       "      <td>0</td>\n",
       "      <td>0</td>\n",
       "      <td>0</td>\n",
       "      <td>0</td>\n",
       "      <td>0</td>\n",
       "      <td>0</td>\n",
       "      <td>0</td>\n",
       "    </tr>\n",
       "    <tr>\n",
       "      <th>1</th>\n",
       "      <td>5</td>\n",
       "      <td>Comp581624</td>\n",
       "      <td>6</td>\n",
       "      <td>0</td>\n",
       "      <td>0</td>\n",
       "      <td>0</td>\n",
       "      <td>0</td>\n",
       "      <td>0</td>\n",
       "      <td>0</td>\n",
       "      <td>0</td>\n",
       "      <td>...</td>\n",
       "      <td>0</td>\n",
       "      <td>0</td>\n",
       "      <td>0</td>\n",
       "      <td>0</td>\n",
       "      <td>0</td>\n",
       "      <td>0</td>\n",
       "      <td>0</td>\n",
       "      <td>0</td>\n",
       "      <td>0</td>\n",
       "      <td>0</td>\n",
       "    </tr>\n",
       "    <tr>\n",
       "      <th>2</th>\n",
       "      <td>6</td>\n",
       "      <td>Comp581624</td>\n",
       "      <td>8</td>\n",
       "      <td>0</td>\n",
       "      <td>0</td>\n",
       "      <td>0</td>\n",
       "      <td>0</td>\n",
       "      <td>0</td>\n",
       "      <td>0</td>\n",
       "      <td>0</td>\n",
       "      <td>...</td>\n",
       "      <td>0</td>\n",
       "      <td>0</td>\n",
       "      <td>0</td>\n",
       "      <td>0</td>\n",
       "      <td>0</td>\n",
       "      <td>0</td>\n",
       "      <td>0</td>\n",
       "      <td>0</td>\n",
       "      <td>0</td>\n",
       "      <td>0</td>\n",
       "    </tr>\n",
       "    <tr>\n",
       "      <th>3</th>\n",
       "      <td>11</td>\n",
       "      <td>Comp581624</td>\n",
       "      <td>10</td>\n",
       "      <td>0</td>\n",
       "      <td>0</td>\n",
       "      <td>0</td>\n",
       "      <td>0</td>\n",
       "      <td>0</td>\n",
       "      <td>0</td>\n",
       "      <td>0</td>\n",
       "      <td>...</td>\n",
       "      <td>0</td>\n",
       "      <td>0</td>\n",
       "      <td>0</td>\n",
       "      <td>0</td>\n",
       "      <td>0</td>\n",
       "      <td>0</td>\n",
       "      <td>0</td>\n",
       "      <td>0</td>\n",
       "      <td>0</td>\n",
       "      <td>0</td>\n",
       "    </tr>\n",
       "    <tr>\n",
       "      <th>4</th>\n",
       "      <td>13</td>\n",
       "      <td>Comp581624</td>\n",
       "      <td>13</td>\n",
       "      <td>0</td>\n",
       "      <td>0</td>\n",
       "      <td>0</td>\n",
       "      <td>0</td>\n",
       "      <td>0</td>\n",
       "      <td>0</td>\n",
       "      <td>0</td>\n",
       "      <td>...</td>\n",
       "      <td>0</td>\n",
       "      <td>0</td>\n",
       "      <td>0</td>\n",
       "      <td>0</td>\n",
       "      <td>0</td>\n",
       "      <td>0</td>\n",
       "      <td>0</td>\n",
       "      <td>0</td>\n",
       "      <td>0</td>\n",
       "      <td>0</td>\n",
       "    </tr>\n",
       "  </tbody>\n",
       "</table>\n",
       "<p>5 rows × 23 columns</p>\n",
       "</div>"
      ],
      "text/plain": [
       "   time        host  total_events  is_malicious  event_1  event_3  event_8  \\\n",
       "0     3  Comp581624             1             0        0        0        0   \n",
       "1     5  Comp581624             6             0        0        0        0   \n",
       "2     6  Comp581624             8             0        0        0        0   \n",
       "3    11  Comp581624            10             0        0        0        0   \n",
       "4    13  Comp581624            13             0        0        0        0   \n",
       "\n",
       "   event_10  event_11  event_12  ...  event_4658  event_4661  event_4663  \\\n",
       "0         0         0         0  ...           0           0           0   \n",
       "1         0         0         0  ...           0           0           0   \n",
       "2         0         0         0  ...           0           0           0   \n",
       "3         0         0         0  ...           0           0           0   \n",
       "4         0         0         0  ...           0           0           0   \n",
       "\n",
       "   event_4672  event_4698  event_4768  event_5140  event_5145  event_5156  \\\n",
       "0           0           0           0           0           0           0   \n",
       "1           0           0           0           0           0           0   \n",
       "2           0           0           0           0           0           0   \n",
       "3           0           0           0           0           0           0   \n",
       "4           0           0           0           0           0           0   \n",
       "\n",
       "   event_5158  \n",
       "0           0  \n",
       "1           0  \n",
       "2           0  \n",
       "3           0  \n",
       "4           0  \n",
       "\n",
       "[5 rows x 23 columns]"
      ]
     },
     "execution_count": 2,
     "metadata": {},
     "output_type": "execute_result"
    }
   ],
   "source": [
    "df= pd.read_csv('../data/processed/merged_dataset_pivoted.csv')\n",
    "df.head()"
   ]
  },
  {
   "cell_type": "code",
   "execution_count": 3,
   "id": "551630e2-a261-4bd0-aeb2-bfda564f2534",
   "metadata": {},
   "outputs": [
    {
     "name": "stdout",
     "output_type": "stream",
     "text": [
      "[[0. 0. 0. ... 0. 0. 0.]\n",
      " [0. 0. 0. ... 0. 0. 0.]\n",
      " [0. 0. 0. ... 0. 0. 0.]\n",
      " ...\n",
      " [0. 0. 0. ... 0. 0. 0.]\n",
      " [0. 0. 0. ... 0. 0. 0.]\n",
      " [0. 0. 0. ... 0. 0. 0.]]\n",
      "[[0]\n",
      " [0]\n",
      " [0]\n",
      " ...\n",
      " [0]\n",
      " [0]\n",
      " [0]]\n"
     ]
    }
   ],
   "source": [
    "columns = list(df.columns)\n",
    "features = columns[4:]\n",
    "df[features] = df[features].div(df.total_events, axis = 0)\n",
    "# Separating out the features\n",
    "X = df.loc[:, features].values\n",
    "y = df.loc[:, ['is_malicious']].values\n",
    "print(X)\n",
    "print(y)"
   ]
  },
  {
   "cell_type": "code",
   "execution_count": 4,
   "id": "dbaacddd-aeac-47a9-9a5f-3e09812043f9",
   "metadata": {},
   "outputs": [],
   "source": [
    "X = StandardScaler().fit_transform(X)"
   ]
  },
  {
   "cell_type": "code",
   "execution_count": 5,
   "id": "b998bd8a-b682-4362-870e-b771dae011cc",
   "metadata": {},
   "outputs": [],
   "source": [
    "pca = PCA(n_components=2)\n",
    "pcs = pca.fit_transform(X)\n",
    "pca_df = pd.DataFrame(data = pcs, columns = ['pc1', 'pc2'])"
   ]
  },
  {
   "cell_type": "code",
   "execution_count": 6,
   "id": "2b4c939b-1390-44f7-8bd3-dc4f6129f879",
   "metadata": {},
   "outputs": [
    {
     "data": {
      "image/png": "[encoded data removed]",
      "text/plain": [
       "<Figure size 576x576 with 1 Axes>"
      ]
     },
     "metadata": {
      "needs_background": "light"
     },
     "output_type": "display_data"
    }
   ],
   "source": [
    "fig = plt.figure(figsize = (8,8))\n",
    "ax = fig.add_subplot(1,1,1) \n",
    "ax.set_xlabel('Principal Component 1', fontsize = 15)\n",
    "ax.set_ylabel('Principal Component 2', fontsize = 15)\n",
    "ax.set_title('Features in 2D', fontsize = 20)\n",
    "\n",
    "targets = [0, 1]\n",
    "colors = ['r', 'b']\n",
    "for target, color in zip(targets,colors):\n",
    "    indicesToKeep = df['is_malicious'] == target\n",
    "    ax.scatter(pca_df.loc[indicesToKeep, 'pc1']\n",
    "               , pca_df.loc[indicesToKeep, 'pc2']\n",
    "               , c = color\n",
    "               , s = 50)\n",
    "    \n",
    "# ax.legend(targets)\n",
    "# ax.scatter(pca_df['pc1']\n",
    "#                , pca_df['pc2']\n",
    "#                , s = 50)\n",
    "ax.grid()"
   ]
  },
  {
   "cell_type": "code",
   "execution_count": 7,
   "id": "8f86d406-4cea-4209-b949-69b699d6dc0d",
   "metadata": {},
   "outputs": [],
   "source": [
    "smote = SMOTE(random_state=0, sampling_strategy=\"minority\")\n",
    "X_os, y_os = smote.fit_resample(X, y)\n",
    "X_train_os, X_test_os, y_train_os, y_test_os = train_test_split(X_os, y_os, test_size = 0.2, random_state=2)"
   ]
  },
  {
   "cell_type": "code",
   "execution_count": 8,
   "id": "11fa70c2-3966-46f2-8166-e2658f480e16",
   "metadata": {},
   "outputs": [
    {
     "name": "stdout",
     "output_type": "stream",
     "text": [
      "              precision    recall  f1-score   support\n",
      "\n",
      "           0       0.99      0.99      0.99     12930\n",
      "           1       0.99      0.98      0.99     12767\n",
      "\n",
      "    accuracy                           0.99     25697\n",
      "   macro avg       0.99      0.99      0.99     25697\n",
      "weighted avg       0.99      0.99      0.99     25697\n",
      "\n",
      "Accuracy: 0.9878195898353893\n",
      "Label 0:\n",
      "Precision: 0.9850080725763051\n",
      "Recall: 0.9908739365815932\n",
      "Label 1:\n",
      "Precision: 0.9907013396375098\n",
      "Recall: 0.9847262473564659\n"
     ]
    }
   ],
   "source": [
    "# Decision Tree Classifier\n",
    "\n",
    "# Create Decision Tree classifer object\n",
    "clf_os = DecisionTreeClassifier()\n",
    "\n",
    "# Train Decision Tree Classifer\n",
    "clf_os.fit(X_train_os, y_train_os)\n",
    "\n",
    "# Predict the response for the test dataset\n",
    "y_pred_os = clf_os.predict(X_test_os)\n",
    "\n",
    "# Check Prediction\n",
    "print(classification_report(y_test_os, y_pred_os))\n",
    "# print(confusion_matrix(y_test_os, y_pred_os))\n",
    "print(\"Accuracy:\", accuracy_score(y_test_os, y_pred_os))\n",
    "print(\"Label 0:\")\n",
    "print(\"Precision:\", precision_score(y_test_os, y_pred_os, pos_label = 0))\n",
    "print(\"Recall:\", recall_score(y_test_os, y_pred_os, pos_label = 0))\n",
    "print(\"Label 1:\")\n",
    "print(\"Precision:\", precision_score(y_test_os, y_pred_os, pos_label = 1))\n",
    "print(\"Recall:\", recall_score(y_test_os, y_pred_os, pos_label = 1))"
   ]
  },
  {
   "cell_type": "code",
   "execution_count": 9,
   "id": "134f3f70-33f1-45e1-bff0-7c31e225d1d7",
   "metadata": {},
   "outputs": [
    {
     "data": {
      "image/png": "[encoded data removed]",
      "text/plain": [
       "<Figure size 432x288 with 1 Axes>"
      ]
     },
     "metadata": {
      "needs_background": "light"
     },
     "output_type": "display_data"
    }
   ],
   "source": [
    "classes = np.unique(y_pred_os)\n",
    "fig,ax = plt.subplots()\n",
    "cm = metrics.confusion_matrix(y_test_os,y_pred_os,labels=classes)\n",
    "sns.heatmap(cm, annot=True,fmt='d',cmap=plt.cm.Blues,cbar=False)\n",
    "ax.set(xlabel=\"Pred\",ylabel=\"True\",title=\"Confusion Matrix\")\n",
    "ax.set_yticklabels(labels=classes,rotation=0)\n",
    "plt.show()"
   ]
  },
  {
   "cell_type": "code",
   "execution_count": 10,
   "id": "14aa37d0-a963-4e64-90ca-8f068ffd0008",
   "metadata": {},
   "outputs": [
    {
     "name": "stdout",
     "output_type": "stream",
     "text": [
      "              precision    recall  f1-score   support\n",
      "\n",
      "           0       0.98      0.99      0.99     12930\n",
      "           1       0.99      0.98      0.99     12767\n",
      "\n",
      "    accuracy                           0.99     25697\n",
      "   macro avg       0.99      0.99      0.99     25697\n",
      "weighted avg       0.99      0.99      0.99     25697\n",
      "\n",
      "Accuracy: 0.9863408179943184\n",
      "Label 0:\n",
      "Precision: 0.9836960701376606\n",
      "Recall: 0.9892498066511988\n",
      "Label 1:\n",
      "Precision: 0.9890499448558374\n",
      "Recall: 0.9833946894336962\n"
     ]
    }
   ],
   "source": [
    "# K Neighbors Classifier\n",
    "\n",
    "# Create K Neighbors Classifier Object\n",
    "neigh = KNeighborsClassifier(n_neighbors=3)\n",
    "\n",
    "# Train K Neighbors Classifier Object\n",
    "neigh.fit(X_train_os,y_train_os.ravel())\n",
    "\n",
    "# Predict the response for test dataset\n",
    "y_pred_os = neigh.predict(X_test_os)\n",
    "\n",
    "# Check Prediction\n",
    "print(classification_report(y_test_os, y_pred_os))\n",
    "# print(confusion_matrix(y_test_os, y_pred_os))\n",
    "print(\"Accuracy:\", accuracy_score(y_test_os, y_pred_os))\n",
    "print(\"Label 0:\")\n",
    "print(\"Precision:\", precision_score(y_test_os, y_pred_os, pos_label = 0))\n",
    "print(\"Recall:\", recall_score(y_test_os, y_pred_os, pos_label = 0))\n",
    "print(\"Label 1:\")\n",
    "print(\"Precision:\", precision_score(y_test_os, y_pred_os, pos_label = 1))\n",
    "print(\"Recall:\", recall_score(y_test_os, y_pred_os, pos_label = 1))"
   ]
  },
  {
   "cell_type": "code",
   "execution_count": 11,
   "id": "981168dc-ec2d-48c1-a858-c4f1511a788e",
   "metadata": {},
   "outputs": [
    {
     "data": {
      "image/png": "[encoded data removed]",
      "text/plain": [
       "<Figure size 432x288 with 1 Axes>"
      ]
     },
     "metadata": {
      "needs_background": "light"
     },
     "output_type": "display_data"
    }
   ],
   "source": [
    "classes = np.unique(y_pred_os)\n",
    "fig,ax = plt.subplots()\n",
    "cm = metrics.confusion_matrix(y_test_os,y_pred_os,labels=classes)\n",
    "sns.heatmap(cm, annot=True,fmt='d',cmap=plt.cm.Blues,cbar=False)\n",
    "ax.set(xlabel=\"Pred\",ylabel=\"True\",title=\"Confusion Matrix\")\n",
    "ax.set_yticklabels(labels=classes,rotation=0)\n",
    "plt.show()"
   ]
  },
  {
   "cell_type": "code",
   "execution_count": 12,
   "id": "075b43d1-7915-47d6-8d29-b7222810b511",
   "metadata": {},
   "outputs": [
    {
     "name": "stdout",
     "output_type": "stream",
     "text": [
      "              precision    recall  f1-score   support\n",
      "\n",
      "           0       0.90      0.90      0.90     12930\n",
      "           1       0.90      0.90      0.90     12767\n",
      "\n",
      "    accuracy                           0.90     25697\n",
      "   macro avg       0.90      0.90      0.90     25697\n",
      "weighted avg       0.90      0.90      0.90     25697\n",
      "\n",
      "Accuracy: 0.9002996458730591\n",
      "Label 0:\n",
      "Precision: 0.9038641321283889\n",
      "Recall: 0.897293116782676\n",
      "Label 1:\n",
      "Precision: 0.8967420884845657\n",
      "Recall: 0.9033445601942508\n"
     ]
    }
   ],
   "source": [
    "# Logistic Regression\n",
    "\n",
    "# Instantiate Model\n",
    "model = LogisticRegression()\n",
    "\n",
    "# Fit \n",
    "model.fit(X_train_os,y_train_os)\n",
    "\n",
    "# Predict\n",
    "y_pred_os = model.predict(X_test_os)\n",
    "\n",
    "# Check Prediction\n",
    "print(classification_report(y_test_os, y_pred_os))\n",
    "# print(confusion_matrix(y_test_os, y_pred_os))\n",
    "print(\"Accuracy:\", accuracy_score(y_test_os, y_pred_os))\n",
    "print(\"Label 0:\")\n",
    "print(\"Precision:\", precision_score(y_test_os, y_pred_os, pos_label = 0))\n",
    "print(\"Recall:\", recall_score(y_test_os, y_pred_os, pos_label = 0))\n",
    "print(\"Label 1:\")\n",
    "print(\"Precision:\", precision_score(y_test_os, y_pred_os, pos_label = 1))\n",
    "print(\"Recall:\", recall_score(y_test_os, y_pred_os, pos_label = 1))"
   ]
  },
  {
   "cell_type": "code",
   "execution_count": 13,
   "id": "6b636e4a-cd8b-418e-914c-6d196810f101",
   "metadata": {},
   "outputs": [
    {
     "data": {
      "image/png": "[encoded data removed]",
      "text/plain": [
       "<Figure size 432x288 with 1 Axes>"
      ]
     },
     "metadata": {
      "needs_background": "light"
     },
     "output_type": "display_data"
    }
   ],
   "source": [
    "classes = np.unique(y_pred_os)\n",
    "fig,ax = plt.subplots()\n",
    "cm = metrics.confusion_matrix(y_test_os,y_pred_os,labels=classes)\n",
    "sns.heatmap(cm, annot=True,fmt='d',cmap=plt.cm.Blues,cbar=False)\n",
    "ax.set(xlabel=\"Pred\",ylabel=\"True\",title=\"Confusion Matrix\")\n",
    "ax.set_yticklabels(labels=classes,rotation=0)\n",
    "plt.show()"
   ]
  },
  {
   "cell_type": "code",
   "execution_count": 14,
   "id": "d8b8426f-1f5d-47f1-98af-b79e1ac5f921",
   "metadata": {},
   "outputs": [
    {
     "name": "stdout",
     "output_type": "stream",
     "text": [
      "[0 1]\n"
     ]
    }
   ],
   "source": [
    "print(classes)"
   ]
  },
  {
   "cell_type": "code",
   "execution_count": 15,
   "id": "3960bcef-6c3e-4fa0-a099-19c87b8fe38a",
   "metadata": {},
   "outputs": [
    {
     "name": "stdout",
     "output_type": "stream",
     "text": [
      "              precision    recall  f1-score   support\n",
      "\n",
      "           0       0.99      0.99      0.99     12930\n",
      "           1       0.99      0.99      0.99     12767\n",
      "\n",
      "    accuracy                           0.99     25697\n",
      "   macro avg       0.99      0.99      0.99     25697\n",
      "weighted avg       0.99      0.99      0.99     25697\n",
      "\n",
      "Accuracy: 0.9892983616764602\n",
      "Label 0:\n",
      "Precision: 0.9891766524932354\n",
      "Recall: 0.9895591647331786\n",
      "Label 1:\n",
      "Precision: 0.9894217207334274\n",
      "Recall: 0.9890342288713089\n"
     ]
    }
   ],
   "source": [
    "# Random Forest:\n",
    "\n",
    "# Instantiate Model\n",
    "random_model = RandomForestClassifier()\n",
    "\n",
    "# Fit\n",
    "random_model.fit(X_train_os, y_train_os)\n",
    "\n",
    "# Predict\n",
    "y_pred_os = random_model.predict(X_test_os)\n",
    "\n",
    "# Check Prediction\n",
    "print(classification_report(y_test_os, y_pred_os))\n",
    "# print(confusion_matrix(y_test_os, y_pred_os))\n",
    "print(\"Accuracy:\", accuracy_score(y_test_os, y_pred_os))\n",
    "print(\"Label 0:\")\n",
    "print(\"Precision:\", precision_score(y_test_os, y_pred_os, pos_label = 0))\n",
    "print(\"Recall:\", recall_score(y_test_os, y_pred_os, pos_label = 0))\n",
    "print(\"Label 1:\")\n",
    "print(\"Precision:\", precision_score(y_test_os, y_pred_os, pos_label = 1))\n",
    "print(\"Recall:\", recall_score(y_test_os, y_pred_os, pos_label = 1))"
   ]
  },
  {
   "cell_type": "code",
   "execution_count": 16,
   "id": "660b8d98-0dae-490f-9e6a-de2dec6d5fc6",
   "metadata": {},
   "outputs": [
    {
     "data": {
      "image/png": "[encoded data removed]",
      "text/plain": [
       "<Figure size 432x288 with 1 Axes>"
      ]
     },
     "metadata": {
      "needs_background": "light"
     },
     "output_type": "display_data"
    }
   ],
   "source": [
    "classes = np.unique(y_pred_os)\n",
    "fig,ax = plt.subplots()\n",
    "cm = metrics.confusion_matrix(y_test_os,y_pred_os,labels=classes)\n",
    "sns.heatmap(cm, annot=True,fmt='d',cmap=plt.cm.Blues,cbar=False)\n",
    "ax.set(xlabel=\"Pred\",ylabel=\"True\",title=\"Confusion Matrix\")\n",
    "ax.set_yticklabels(labels=classes,rotation=0)\n",
    "plt.show()"
   ]
  },
  {
   "cell_type": "code",
   "execution_count": 17,
   "id": "30e37702-ca33-4131-aac9-791bf31ab8c1",
   "metadata": {},
   "outputs": [
    {
     "name": "stdout",
     "output_type": "stream",
     "text": [
      "              precision    recall  f1-score   support\n",
      "\n",
      "           0       0.96      0.92      0.94     12930\n",
      "           1       0.92      0.96      0.94     12767\n",
      "\n",
      "    accuracy                           0.94     25697\n",
      "   macro avg       0.94      0.94      0.94     25697\n",
      "weighted avg       0.94      0.94      0.94     25697\n",
      "\n",
      "Accuracy: 0.9386698836440052\n",
      "Label 0:\n",
      "Precision: 0.9556911221704929\n",
      "Recall: 0.9208043310131477\n",
      "Label 1:\n",
      "Precision: 0.9226527683359771\n",
      "Recall: 0.9567635309783035\n"
     ]
    }
   ],
   "source": [
    "# Gradient Boosting Classifier\n",
    "\n",
    "# Instantiate Model\n",
    "gb = GradientBoostingClassifier()\n",
    "\n",
    "# Fit\n",
    "gb.fit(X_train_os, y_train_os)\n",
    "\n",
    "# Predict\n",
    "y_pred_os = gb.predict(X_test_os)\n",
    "\n",
    "# Check Prediction\n",
    "print(classification_report(y_test_os, y_pred_os))\n",
    "# print(confusion_matrix(y_test_os, y_pred_os))\n",
    "print(\"Accuracy:\", accuracy_score(y_test_os, y_pred_os))\n",
    "print(\"Label 0:\")\n",
    "print(\"Precision:\", precision_score(y_test_os, y_pred_os, pos_label = 0))\n",
    "print(\"Recall:\", recall_score(y_test_os, y_pred_os, pos_label = 0))\n",
    "print(\"Label 1:\")\n",
    "print(\"Precision:\", precision_score(y_test_os, y_pred_os, pos_label = 1))\n",
    "print(\"Recall:\", recall_score(y_test_os, y_pred_os, pos_label = 1))"
   ]
  },
  {
   "cell_type": "code",
   "execution_count": 18,
   "id": "83398558-0df8-488c-9dc7-f71ffa476c67",
   "metadata": {},
   "outputs": [
    {
     "data": {
      "image/png": "[encoded data removed]",
      "text/plain": [
       "<Figure size 432x288 with 1 Axes>"
      ]
     },
     "metadata": {
      "needs_background": "light"
     },
     "output_type": "display_data"
    }
   ],
   "source": [
    "classes = np.unique(y_pred_os)\n",
    "fig,ax = plt.subplots()\n",
    "cm = metrics.confusion_matrix(y_test_os,y_pred_os,labels=classes)\n",
    "sns.heatmap(cm, annot=True,fmt='d',cmap=plt.cm.Blues,cbar=False)\n",
    "ax.set(xlabel=\"Pred\",ylabel=\"True\",title=\"Confusion Matrix\")\n",
    "ax.set_yticklabels(labels=classes,rotation=0)\n",
    "plt.show()"
   ]
  },
  {
   "cell_type": "code",
   "execution_count": null,
   "id": "74dc63ee-9603-4dca-9323-7a4b48ec929d",
   "metadata": {},
   "outputs": [],
   "source": [
    "# # sklearn.svm.SVC (Support Vector Classification)\n",
    "\n",
    "# svc = SVC(gamma=\"auto\")\n",
    "\n",
    "# svc.fit(X_train_os, y_train_os)\n",
    "\n",
    "# # Predict\n",
    "# y_pred_os = svc.predict(X_test_os)\n",
    "\n",
    "# # Check Prediction\n",
    "# print(classification_report(y_test_os, y_pred_os))\n",
    "# # print(confusion_matrix(y_test_os, y_pred_os))\n",
    "# print(\"Accuracy:\", accuracy_score(y_test_os, y_pred_os))\n",
    "# print(\"Label 0:\")\n",
    "# print(\"Precision:\", precision_score(y_test_os, y_pred_os, pos_label = 0))\n",
    "# print(\"Recall:\", recall_score(y_test_os, y_pred_os, pos_label = 0))\n",
    "# print(\"Label 1:\")\n",
    "# print(\"Precision:\", precision_score(y_test_os, y_pred_os, pos_label = 1))\n",
    "# print(\"Recall:\", recall_score(y_test_os, y_pred_os, pos_label = 1))"
   ]
  },
  {
   "cell_type": "code",
   "execution_count": null,
   "id": "8d927844-cd36-4759-a791-e3b981454254",
   "metadata": {},
   "outputs": [],
   "source": [
    "# classes = np.unique(y_pred_os)\n",
    "# fig,ax = plt.subplots()\n",
    "# cm = metrics.confusion_matrix(y_test_os,y_pred_os,labels=classes)\n",
    "# sns.heatmap(cm, annot=True,fmt='d',cmap=plt.cm.Blues,cbar=False)\n",
    "# ax.set(xlabel=\"Pred\",ylabel=\"True\",title=\"Confusion Matrix\")\n",
    "# ax.set_yticklabels(labels=classes,rotation=0)\n",
    "# plt.show()"
   ]
  },
  {
   "cell_type": "markdown",
   "id": "4d71970e-1553-4d44-9e9b-0c47421cee5e",
   "metadata": {},
   "source": [
    "### Creation of features for chain of events for attacks"
   ]
  },
  {
   "cell_type": "code",
   "execution_count": null,
   "id": "322170ee-0fb8-46f4-b571-0a6a025e91ed",
   "metadata": {},
   "outputs": [],
   "source": [
    "df = pd.read_csv('../data/processed/merged_dataset_pivoted.csv')\n",
    "df.head()"
   ]
  },
  {
   "cell_type": "markdown",
   "id": "3119b516-7ef8-4703-a256-0c0ffc84750f",
   "metadata": {},
   "source": [
    "#### Lateral Movement (Link: https://www.rapid7.com/resources/using-windows-event-logs-to-detect-lateral-movement/):\n",
    "Using window event logs to detect lateral movement:\n",
    "\n",
    "Authentication Events (all):\n",
    "1. Event_528 <-- Successful Login\n",
    "2. Event_529 <-- Unsucessful Login\n",
    "3. Event_4624 and Event_4625 <-- Two methods of Lateral Movement (Windows NT5 and Nt6 Operating Systems)\n",
    "\n",
    "- SMB: 552, 4648\n",
    "- Scheduled Tasks: 602, 4698\n",
    "- PS Exec: 601, 4697 <-- System Admin Tool to execute code remote\n",
    "- SSH: app logs <-- Less common in windows environment"
   ]
  },
  {
   "cell_type": "code",
   "execution_count": null,
   "id": "842bf687-452e-4b59-95e9-ebefd4075c90",
   "metadata": {},
   "outputs": [],
   "source": [
    "df[[\"event_4624\", \"event_4625\", \"event_4648\", \"event_4698\"]].head()"
   ]
  },
  {
   "cell_type": "code",
   "execution_count": null,
   "id": "1c10ad08-8e06-4272-9b43-e8205495af36",
   "metadata": {},
   "outputs": [],
   "source": [
    "df[\"total_authN_events\"] = df[\"event_4624\"] + df[\"event_4625\"] # \".Logon Type:[\\W](3|10).*\"\n",
    "df.head()"
   ]
  },
  {
   "cell_type": "markdown",
   "id": "a17deaf9-4dc5-4bd4-9288-b14815a70d9e",
   "metadata": {},
   "source": [
    "- PS Exec not there\n",
    "- No columns for \"event_552\", \"event_528\", \"event_529\", \"event_601\", \"event_602\", and \"event_4697\"\n",
    "- Have some of the cases for SMB, Scheduled Tasks <-- Look into regenerating dataset to get features\n",
    "- Have some of the cases for authentication events <-- Same as above"
   ]
  },
  {
   "cell_type": "markdown",
   "id": "dc16490c-abf9-4fe0-b15a-7851196d3cd7",
   "metadata": {},
   "source": [
    "#### Ransomware, malware and cobalt strike (Link: https://www.beyondtrust.com/blog/entry/windows-server-events-monitor):\n",
    "\n",
    "Ransomware:\n",
    "- event_8\n",
    "or\n",
    "- event_22 <-- Not Contained in the dataframe\n",
    "\n",
    "Hacker Presence:\n",
    "\n",
    "- event_104 <-- Event Log was Cleared\n",
    "- event_1102 <-- Audit Log was Cleared\n",
    "- event_4719 <-- System Audit Policy Changed"
   ]
  },
  {
   "cell_type": "code",
   "execution_count": null,
   "id": "85371fb8-206d-4757-aca0-cafc2b83526f",
   "metadata": {},
   "outputs": [],
   "source": [
    "columns = list(df.columns)\n",
    "features = columns[4:]\n",
    "print(features)"
   ]
  },
  {
   "cell_type": "markdown",
   "id": "645543ce-a744-4bac-9d80-31db1a7296fa",
   "metadata": {},
   "source": [
    "#### APT\n",
    "\n",
    "- event_4674 <-- Account Name, Service, Process, Object\n",
    "- event_4688 <-- Account Name, Process\n",
    "\n",
    "Type Ratio:\n",
    "- event_4624 <-- Logon\n",
    "- event_4627 <-- Group Membership\n",
    "- event_4658 <-- Handle to an object\n",
    "- event_4768 <-- Kerberos AuthN\n",
    "- event_4769 <-- Kerberos AuthN - Services\n",
    "- event_4672 <-- Assignment of Admin Rights\n",
    "- event_4776 <-- Kerberos Service Ticket\n",
    "\n",
    "No event ids found."
   ]
  },
  {
   "cell_type": "markdown",
   "id": "b1f3415b-7d90-4d07-a115-c1ec8c8db744",
   "metadata": {},
   "source": [
    "#### Detect Pass the Hash Attacks (Link: https://stealthbits.com/blog/how-to-detect-pass-the-hash-attacks/)\n",
    "\n",
    "Workstation Logs (source host):\n",
    "- event_4648\n",
    "- event_4624\n",
    "- event_4672\n",
    "\n",
    "- sysmon event 10\n",
    "\n",
    "Target Server Logs (target host):\n",
    "- event_4624\n",
    "- event_4672\n",
    "\n",
    "Domain Controller:\n",
    "- event 4768\n",
    "- event 4769\n",
    "- event 4776"
   ]
  },
  {
   "cell_type": "code",
   "execution_count": null,
   "id": "588e7a1d-6fc2-48b9-8204-1837aaac2e12",
   "metadata": {},
   "outputs": [],
   "source": [
    "df[[\"event_4624\", \"event_4672\", \"event_4648\", \"event_10\"]].head()"
   ]
  },
  {
   "cell_type": "code",
   "execution_count": null,
   "id": "9a3cec2b-950b-41ab-9429-5851cf6f2bf2",
   "metadata": {},
   "outputs": [],
   "source": [
    "df[\"hash_attack\"] = df[\"event_4648\"] + df[\"event_4624\"] + df[\"event_4672\"] + df[\"event_10\"]\n",
    "df.head()"
   ]
  },
  {
   "cell_type": "markdown",
   "id": "1f5394f1-328b-40b8-a6a7-9217d905f015",
   "metadata": {},
   "source": [
    "#### Common Incident Response Scenario - Phishing (Link: https://www.netscylla.com/blog/2020/02/01/Threat-hunting-with-Windows-Event-Logs.html):\n",
    "\n",
    "- event_1 <-- Process Creation\n",
    "- event_11 <-- FileCreate\n",
    "- event_15 <-- FileCreateStreamHash"
   ]
  },
  {
   "cell_type": "code",
   "execution_count": null,
   "id": "99eab39a-26a9-4db9-ab26-f8cee80457bb",
   "metadata": {},
   "outputs": [],
   "source": [
    "df[\"phishing\"] = df[\"event_1\"] + df[\"event_11\"]\n",
    "pd.unique(df[\"phishing\"].values.ravel())\n",
    "df.head()"
   ]
  },
  {
   "cell_type": "code",
   "execution_count": null,
   "id": "040853fa-21c0-4900-9d98-69c5915a5440",
   "metadata": {},
   "outputs": [],
   "source": [
    "columns = list(df.columns)\n",
    "features = columns[4:]\n",
    "df[features] = df[features].div(df.total_events, axis = 0)\n",
    "# Separating out the features\n",
    "X = df.loc[:, features].values\n",
    "y = df.loc[:, ['is_malicious']].values\n",
    "print(X)\n",
    "print(y)"
   ]
  },
  {
   "cell_type": "code",
   "execution_count": null,
   "id": "bb96882c-0693-4cd8-b949-f2cf97eb455f",
   "metadata": {},
   "outputs": [],
   "source": [
    "X = StandardScaler().fit_transform(X)"
   ]
  },
  {
   "cell_type": "code",
   "execution_count": null,
   "id": "dffeea32-b235-41c5-b102-99af5d021786",
   "metadata": {},
   "outputs": [],
   "source": [
    "pca = PCA(n_components=2)\n",
    "pcs = pca.fit_transform(X)\n",
    "pca_df = pd.DataFrame(data = pcs, columns = ['pc1', 'pc2'])"
   ]
  },
  {
   "cell_type": "code",
   "execution_count": null,
   "id": "d568d926-0614-48b2-a54b-3bfdc30cc0dc",
   "metadata": {},
   "outputs": [],
   "source": [
    "fig = plt.figure(figsize = (8,8))\n",
    "ax = fig.add_subplot(1,1,1) \n",
    "ax.set_xlabel('Principal Component 1', fontsize = 15)\n",
    "ax.set_ylabel('Principal Component 2', fontsize = 15)\n",
    "ax.set_title('Features in 2D', fontsize = 20)\n",
    "\n",
    "targets = [0, 1]\n",
    "colors = ['r', 'b']\n",
    "for target, color in zip(targets,colors):\n",
    "    indicesToKeep = df['is_malicious'] == target\n",
    "    ax.scatter(pca_df.loc[indicesToKeep, 'pc1']\n",
    "               , pca_df.loc[indicesToKeep, 'pc2']\n",
    "               , c = color\n",
    "               , s = 50)\n",
    "    \n",
    "# ax.legend(targets)\n",
    "# ax.scatter(pca_df['pc1']\n",
    "#                , pca_df['pc2']\n",
    "#                , s = 50)\n",
    "ax.grid()"
   ]
  },
  {
   "cell_type": "code",
   "execution_count": null,
   "id": "e7d02ccc-d5fc-4206-9385-ebed83930ad1",
   "metadata": {},
   "outputs": [],
   "source": [
    "smote = SMOTE(random_state=0, sampling_strategy=\"minority\")\n",
    "X_os, y_os = smote.fit_resample(X, y)\n",
    "X_train_os, X_test_os, y_train_os, y_test_os = train_test_split(X_os, y_os, test_size = 0.2, random_state=2)"
   ]
  },
  {
   "cell_type": "code",
   "execution_count": null,
   "id": "aa4dfe6d-1b16-40cc-af6e-3704a2484820",
   "metadata": {},
   "outputs": [],
   "source": [
    "# Decision Tree Classifier\n",
    "\n",
    "# Create Decision Tree classifer object\n",
    "clf_os = DecisionTreeClassifier()\n",
    "\n",
    "# Train Decision Tree Classifer\n",
    "clf_os.fit(X_train_os, y_train_os)\n",
    "\n",
    "# Predict the response for the test dataset\n",
    "y_pred_os = clf_os.predict(X_test_os)\n",
    "\n",
    "# Check Prediction\n",
    "print(classification_report(y_test_os, y_pred_os))\n",
    "# print(confusion_matrix(y_test_os, y_pred_os))\n",
    "print(\"Accuracy:\", accuracy_score(y_test_os, y_pred_os))\n",
    "print(\"Label 0:\")\n",
    "print(\"Precision:\", precision_score(y_test_os, y_pred_os, pos_label = 0))\n",
    "print(\"Recall:\", recall_score(y_test_os, y_pred_os, pos_label = 0))\n",
    "print(\"Label 1:\")\n",
    "print(\"Precision:\", precision_score(y_test_os, y_pred_os, pos_label = 1))\n",
    "print(\"Recall:\", recall_score(y_test_os, y_pred_os, pos_label = 1))"
   ]
  },
  {
   "cell_type": "code",
   "execution_count": null,
   "id": "4026879c-35d7-415c-b67e-1ad584633ca7",
   "metadata": {},
   "outputs": [],
   "source": [
    "classes = np.unique(y_pred_os)\n",
    "fig,ax = plt.subplots()\n",
    "cm = metrics.confusion_matrix(y_test_os,y_pred_os,labels=classes)\n",
    "sns.heatmap(cm, annot=True,fmt='d',cmap=plt.cm.Blues,cbar=False)\n",
    "ax.set(xlabel=\"Pred\",ylabel=\"True\",title=\"Confusion Matrix\")\n",
    "ax.set_yticklabels(labels=classes,rotation=0)\n",
    "plt.show()"
   ]
  },
  {
   "cell_type": "code",
   "execution_count": null,
   "id": "5b816170-9297-4921-ad27-491c9575e7c3",
   "metadata": {},
   "outputs": [],
   "source": [
    "# K Neighbors Classifier\n",
    "\n",
    "# Create K Neighbors Classifier Object\n",
    "neigh = KNeighborsClassifier(n_neighbors=3)\n",
    "\n",
    "# Train K Neighbors Classifier Object\n",
    "neigh.fit(X_train_os,y_train_os.ravel())\n",
    "\n",
    "# Predict the response for test dataset\n",
    "y_pred_os = neigh.predict(X_test_os)\n",
    "\n",
    "# Check Prediction\n",
    "print(classification_report(y_test_os, y_pred_os))\n",
    "# print(confusion_matrix(y_test_os, y_pred_os))\n",
    "print(\"Accuracy:\", accuracy_score(y_test_os, y_pred_os))\n",
    "print(\"Label 0:\")\n",
    "print(\"Precision:\", precision_score(y_test_os, y_pred_os, pos_label = 0))\n",
    "print(\"Recall:\", recall_score(y_test_os, y_pred_os, pos_label = 0))\n",
    "print(\"Label 1:\")\n",
    "print(\"Precision:\", precision_score(y_test_os, y_pred_os, pos_label = 1))\n",
    "print(\"Recall:\", recall_score(y_test_os, y_pred_os, pos_label = 1))"
   ]
  },
  {
   "cell_type": "code",
   "execution_count": null,
   "id": "033d94c4-7e03-43cf-b1f6-fbe8b1e461ac",
   "metadata": {},
   "outputs": [],
   "source": [
    "classes = np.unique(y_pred_os)\n",
    "fig,ax = plt.subplots()\n",
    "cm = metrics.confusion_matrix(y_test_os,y_pred_os,labels=classes)\n",
    "sns.heatmap(cm, annot=True,fmt='d',cmap=plt.cm.Blues,cbar=False)\n",
    "ax.set(xlabel=\"Pred\",ylabel=\"True\",title=\"Confusion Matrix\")\n",
    "ax.set_yticklabels(labels=classes,rotation=0)\n",
    "plt.show()"
   ]
  },
  {
   "cell_type": "code",
   "execution_count": null,
   "id": "025f21de-b4bc-41aa-a667-3af2a4d3474c",
   "metadata": {},
   "outputs": [],
   "source": [
    "# Logistic Regression\n",
    "\n",
    "# instantiate model\n",
    "model = LogisticRegression()\n",
    "\n",
    "# fit \n",
    "model.fit(X_train_os,y_train_os)\n",
    "\n",
    "# predict\n",
    "y_pred_os = model.predict(X_test_os)\n",
    "\n",
    "# Check Prediction\n",
    "print(classification_report(y_test_os, y_pred_os))\n",
    "# print(confusion_matrix(y_test_os, y_pred_os))\n",
    "print(\"Accuracy:\", accuracy_score(y_test_os, y_pred_os))\n",
    "print(\"Label 0:\")\n",
    "print(\"Precision:\", precision_score(y_test_os, y_pred_os, pos_label = 0))\n",
    "print(\"Recall:\", recall_score(y_test_os, y_pred_os, pos_label = 0))\n",
    "print(\"Label 1:\")\n",
    "print(\"Precision:\", precision_score(y_test_os, y_pred_os, pos_label = 1))\n",
    "print(\"Recall:\", recall_score(y_test_os, y_pred_os, pos_label = 1))"
   ]
  },
  {
   "cell_type": "code",
   "execution_count": null,
   "id": "03121fed-158f-47fe-83d8-2dfc8ad2de46",
   "metadata": {},
   "outputs": [],
   "source": [
    "classes = np.unique(y_pred_os)\n",
    "fig,ax = plt.subplots()\n",
    "cm = metrics.confusion_matrix(y_test_os,y_pred_os,labels=classes)\n",
    "sns.heatmap(cm, annot=True,fmt='d',cmap=plt.cm.Blues,cbar=False)\n",
    "ax.set(xlabel=\"Pred\",ylabel=\"True\",title=\"Confusion Matrix\")\n",
    "ax.set_yticklabels(labels=classes,rotation=0)\n",
    "plt.show()"
   ]
  },
  {
   "cell_type": "code",
   "execution_count": null,
   "id": "1efba44d-b94e-4847-b871-6c8febfed32f",
   "metadata": {},
   "outputs": [],
   "source": [
    "# Random Forest:\n",
    "\n",
    "# Instantiate Model\n",
    "random_model = RandomForestClassifier()\n",
    "\n",
    "# Fit\n",
    "random_model.fit(X_train_os, y_train_os)\n",
    "\n",
    "# Predict\n",
    "y_pred_os = random_model.predict(X_test_os)\n",
    "\n",
    "# Check Prediction\n",
    "print(classification_report(y_test_os, y_pred_os))\n",
    "# print(confusion_matrix(y_test_os, y_pred_os))\n",
    "print(\"Accuracy:\", accuracy_score(y_test_os, y_pred_os))\n",
    "print(\"Label 0:\")\n",
    "print(\"Precision:\", precision_score(y_test_os, y_pred_os, pos_label = 0))\n",
    "print(\"Recall:\", recall_score(y_test_os, y_pred_os, pos_label = 0))\n",
    "print(\"Label 1:\")\n",
    "print(\"Precision:\", precision_score(y_test_os, y_pred_os, pos_label = 1))\n",
    "print(\"Recall:\", recall_score(y_test_os, y_pred_os, pos_label = 1))"
   ]
  },
  {
   "cell_type": "code",
   "execution_count": null,
   "id": "91f8bc4a-80e8-4046-968a-c176d679f20b",
   "metadata": {},
   "outputs": [],
   "source": [
    "classes = np.unique(y_pred_os)\n",
    "fig,ax = plt.subplots()\n",
    "cm = metrics.confusion_matrix(y_test_os,y_pred_os,labels=classes)\n",
    "sns.heatmap(cm, annot=True,fmt='d',cmap=plt.cm.Blues,cbar=False)\n",
    "ax.set(xlabel=\"Pred\",ylabel=\"True\",title=\"Confusion Matrix\")\n",
    "ax.set_yticklabels(labels=classes,rotation=0)\n",
    "plt.show()"
   ]
  },
  {
   "cell_type": "code",
   "execution_count": null,
   "id": "0dcddc64-e9c6-4b65-a2f9-d350b3cd2968",
   "metadata": {},
   "outputs": [],
   "source": [
    "# Gradient Boosting Classifier\n",
    "\n",
    "# Instantiate Model\n",
    "gb = GradientBoostingClassifier()\n",
    "\n",
    "# Fit\n",
    "gb.fit(X_train_os, y_train_os)\n",
    "\n",
    "# Predict\n",
    "y_pred_os = gb.predict(X_test_os)\n",
    "\n",
    "# Check Prediction\n",
    "print(classification_report(y_test_os, y_pred_os))\n",
    "# print(confusion_matrix(y_test_os, y_pred_os))\n",
    "print(\"Accuracy:\", accuracy_score(y_test_os, y_pred_os))\n",
    "print(\"Label 0:\")\n",
    "print(\"Precision:\", precision_score(y_test_os, y_pred_os, pos_label = 0))\n",
    "print(\"Recall:\", recall_score(y_test_os, y_pred_os, pos_label = 0))\n",
    "print(\"Label 1:\")\n",
    "print(\"Precision:\", precision_score(y_test_os, y_pred_os, pos_label = 1))\n",
    "print(\"Recall:\", recall_score(y_test_os, y_pred_os, pos_label = 1))"
   ]
  },
  {
   "cell_type": "code",
   "execution_count": null,
   "id": "ffd1c9e6-587e-4bdc-8c9c-289ffafec7a7",
   "metadata": {},
   "outputs": [],
   "source": [
    "classes = np.unique(y_pred_os)\n",
    "fig,ax = plt.subplots()\n",
    "cm = metrics.confusion_matrix(y_test_os,y_pred_os,labels=classes)\n",
    "sns.heatmap(cm, annot=True,fmt='d',cmap=plt.cm.Blues,cbar=False)\n",
    "ax.set(xlabel=\"Pred\",ylabel=\"True\",title=\"Confusion Matrix\")\n",
    "ax.set_yticklabels(labels=classes,rotation=0)\n",
    "plt.show()"
   ]
  },
  {
   "cell_type": "code",
   "execution_count": null,
   "id": "a25f4910-8e51-4b0b-b3a3-9ef91efb94f6",
   "metadata": {},
   "outputs": [],
   "source": [
    "# # sklearn.svm.SVC (Support Vector Classification)\n",
    "\n",
    "# svc = SVC(gamma=\"auto\")\n",
    "\n",
    "# svc.fit(X_train_os, y_train_os)\n",
    "\n",
    "# # Predict\n",
    "# y_pred_os = svc.predict(X_test_os)\n",
    "\n",
    "# # Check Prediction\n",
    "# print(classification_report(y_test_os, y_pred_os))\n",
    "# # print(confusion_matrix(y_test_os, y_pred_os))\n",
    "# print(\"Accuracy:\", accuracy_score(y_test_os, y_pred_os))\n",
    "# print(\"Label 0:\")\n",
    "# print(\"Precision:\", precision_score(y_test_os, y_pred_os, pos_label = 0))\n",
    "# print(\"Recall:\", recall_score(y_test_os, y_pred_os, pos_label = 0))\n",
    "# print(\"Label 1:\")\n",
    "# print(\"Precision:\", precision_score(y_test_os, y_pred_os, pos_label = 1))\n",
    "# print(\"Recall:\", recall_score(y_test_os, y_pred_os, pos_label = 1))"
   ]
  },
  {
   "cell_type": "code",
   "execution_count": null,
   "id": "3bdfbb6c-ea33-420f-a805-be4ed40df547",
   "metadata": {},
   "outputs": [],
   "source": [
    "# classes = np.unique(y_pred_os)\n",
    "# fig,ax = plt.subplots()\n",
    "# cm = metrics.confusion_matrix(y_test_os,y_pred_os,labels=classes)\n",
    "# sns.heatmap(cm, annot=True,fmt='d',cmap=plt.cm.Blues,cbar=False)\n",
    "# ax.set(xlabel=\"Pred\",ylabel=\"True\",title=\"Confusion Matrix\")\n",
    "# ax.set_yticklabels(labels=classes,rotation=0)\n",
    "# plt.show()"
   ]
  }
 ],
 "metadata": {
  "kernelspec": {
   "display_name": "Python 3",
   "language": "python",
   "name": "python3"
  },
  "language_info": {
   "codemirror_mode": {
    "name": "ipython",
    "version": 3
   },
   "file_extension": ".py",
   "mimetype": "text/x-python",
   "name": "python",
   "nbconvert_exporter": "python",
   "pygments_lexer": "ipython3",
   "version": "3.8.8"
  }
 },
 "nbformat": 4,
 "nbformat_minor": 5
}
