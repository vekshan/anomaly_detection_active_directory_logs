{
 "cells": [
  {
   "cell_type": "code",
   "execution_count": 1,
   "id": "c197be30-fc16-4d92-b52d-7fa3b3f683fb",
   "metadata": {},
   "outputs": [],
   "source": [
    "import pandas as pd\n",
    "import numpy as np\n",
    "import seaborn as sns\n",
    "from sklearn.preprocessing import StandardScaler\n",
    "from sklearn.decomposition import PCA\n",
    "from sklearn.datasets import make_classification\n",
    "from sklearn.model_selection import train_test_split\n",
    "from sklearn import metrics\n",
    "from sklearn.metrics import f1_score, accuracy_score, precision_score, recall_score, confusion_matrix, classification_report\n",
    "from sklearn.tree import DecisionTreeClassifier\n",
    "from sklearn.neighbors import KNeighborsClassifier\n",
    "from sklearn.linear_model import LogisticRegression\n",
    "import matplotlib.pyplot as plt\n",
    "from imblearn.over_sampling import SMOTE"
   ]
  },
  {
   "cell_type": "code",
   "execution_count": 2,
   "id": "e334e826-9548-4998-85fe-5281ae75ebd2",
   "metadata": {},
   "outputs": [
    {
     "data": {
      "text/html": [
       "<div>\n",
       "<style scoped>\n",
       "    .dataframe tbody tr th:only-of-type {\n",
       "        vertical-align: middle;\n",
       "    }\n",
       "\n",
       "    .dataframe tbody tr th {\n",
       "        vertical-align: top;\n",
       "    }\n",
       "\n",
       "    .dataframe thead th {\n",
       "        text-align: right;\n",
       "    }\n",
       "</style>\n",
       "<table border=\"1\" class=\"dataframe\">\n",
       "  <thead>\n",
       "    <tr style=\"text-align: right;\">\n",
       "      <th></th>\n",
       "      <th>time</th>\n",
       "      <th>host</th>\n",
       "      <th>total_events</th>\n",
       "      <th>is_malicious</th>\n",
       "      <th>event_1</th>\n",
       "      <th>event_3</th>\n",
       "      <th>event_8</th>\n",
       "      <th>event_10</th>\n",
       "      <th>event_11</th>\n",
       "      <th>event_12</th>\n",
       "      <th>...</th>\n",
       "      <th>event_4658</th>\n",
       "      <th>event_4661</th>\n",
       "      <th>event_4663</th>\n",
       "      <th>event_4672</th>\n",
       "      <th>event_4698</th>\n",
       "      <th>event_4768</th>\n",
       "      <th>event_5140</th>\n",
       "      <th>event_5145</th>\n",
       "      <th>event_5156</th>\n",
       "      <th>event_5158</th>\n",
       "    </tr>\n",
       "  </thead>\n",
       "  <tbody>\n",
       "    <tr>\n",
       "      <th>0</th>\n",
       "      <td>3</td>\n",
       "      <td>Comp581624</td>\n",
       "      <td>1</td>\n",
       "      <td>0</td>\n",
       "      <td>0</td>\n",
       "      <td>0</td>\n",
       "      <td>0</td>\n",
       "      <td>0</td>\n",
       "      <td>0</td>\n",
       "      <td>0</td>\n",
       "      <td>...</td>\n",
       "      <td>0</td>\n",
       "      <td>0</td>\n",
       "      <td>0</td>\n",
       "      <td>0</td>\n",
       "      <td>0</td>\n",
       "      <td>0</td>\n",
       "      <td>0</td>\n",
       "      <td>0</td>\n",
       "      <td>0</td>\n",
       "      <td>0</td>\n",
       "    </tr>\n",
       "    <tr>\n",
       "      <th>1</th>\n",
       "      <td>5</td>\n",
       "      <td>Comp581624</td>\n",
       "      <td>6</td>\n",
       "      <td>0</td>\n",
       "      <td>0</td>\n",
       "      <td>0</td>\n",
       "      <td>0</td>\n",
       "      <td>0</td>\n",
       "      <td>0</td>\n",
       "      <td>0</td>\n",
       "      <td>...</td>\n",
       "      <td>0</td>\n",
       "      <td>0</td>\n",
       "      <td>0</td>\n",
       "      <td>0</td>\n",
       "      <td>0</td>\n",
       "      <td>0</td>\n",
       "      <td>0</td>\n",
       "      <td>0</td>\n",
       "      <td>0</td>\n",
       "      <td>0</td>\n",
       "    </tr>\n",
       "    <tr>\n",
       "      <th>2</th>\n",
       "      <td>6</td>\n",
       "      <td>Comp581624</td>\n",
       "      <td>8</td>\n",
       "      <td>0</td>\n",
       "      <td>0</td>\n",
       "      <td>0</td>\n",
       "      <td>0</td>\n",
       "      <td>0</td>\n",
       "      <td>0</td>\n",
       "      <td>0</td>\n",
       "      <td>...</td>\n",
       "      <td>0</td>\n",
       "      <td>0</td>\n",
       "      <td>0</td>\n",
       "      <td>0</td>\n",
       "      <td>0</td>\n",
       "      <td>0</td>\n",
       "      <td>0</td>\n",
       "      <td>0</td>\n",
       "      <td>0</td>\n",
       "      <td>0</td>\n",
       "    </tr>\n",
       "    <tr>\n",
       "      <th>3</th>\n",
       "      <td>11</td>\n",
       "      <td>Comp581624</td>\n",
       "      <td>10</td>\n",
       "      <td>0</td>\n",
       "      <td>0</td>\n",
       "      <td>0</td>\n",
       "      <td>0</td>\n",
       "      <td>0</td>\n",
       "      <td>0</td>\n",
       "      <td>0</td>\n",
       "      <td>...</td>\n",
       "      <td>0</td>\n",
       "      <td>0</td>\n",
       "      <td>0</td>\n",
       "      <td>0</td>\n",
       "      <td>0</td>\n",
       "      <td>0</td>\n",
       "      <td>0</td>\n",
       "      <td>0</td>\n",
       "      <td>0</td>\n",
       "      <td>0</td>\n",
       "    </tr>\n",
       "    <tr>\n",
       "      <th>4</th>\n",
       "      <td>13</td>\n",
       "      <td>Comp581624</td>\n",
       "      <td>13</td>\n",
       "      <td>0</td>\n",
       "      <td>0</td>\n",
       "      <td>0</td>\n",
       "      <td>0</td>\n",
       "      <td>0</td>\n",
       "      <td>0</td>\n",
       "      <td>0</td>\n",
       "      <td>...</td>\n",
       "      <td>0</td>\n",
       "      <td>0</td>\n",
       "      <td>0</td>\n",
       "      <td>0</td>\n",
       "      <td>0</td>\n",
       "      <td>0</td>\n",
       "      <td>0</td>\n",
       "      <td>0</td>\n",
       "      <td>0</td>\n",
       "      <td>0</td>\n",
       "    </tr>\n",
       "  </tbody>\n",
       "</table>\n",
       "<p>5 rows × 23 columns</p>\n",
       "</div>"
      ],
      "text/plain": [
       "   time        host  total_events  is_malicious  event_1  event_3  event_8  \\\n",
       "0     3  Comp581624             1             0        0        0        0   \n",
       "1     5  Comp581624             6             0        0        0        0   \n",
       "2     6  Comp581624             8             0        0        0        0   \n",
       "3    11  Comp581624            10             0        0        0        0   \n",
       "4    13  Comp581624            13             0        0        0        0   \n",
       "\n",
       "   event_10  event_11  event_12  ...  event_4658  event_4661  event_4663  \\\n",
       "0         0         0         0  ...           0           0           0   \n",
       "1         0         0         0  ...           0           0           0   \n",
       "2         0         0         0  ...           0           0           0   \n",
       "3         0         0         0  ...           0           0           0   \n",
       "4         0         0         0  ...           0           0           0   \n",
       "\n",
       "   event_4672  event_4698  event_4768  event_5140  event_5145  event_5156  \\\n",
       "0           0           0           0           0           0           0   \n",
       "1           0           0           0           0           0           0   \n",
       "2           0           0           0           0           0           0   \n",
       "3           0           0           0           0           0           0   \n",
       "4           0           0           0           0           0           0   \n",
       "\n",
       "   event_5158  \n",
       "0           0  \n",
       "1           0  \n",
       "2           0  \n",
       "3           0  \n",
       "4           0  \n",
       "\n",
       "[5 rows x 23 columns]"
      ]
     },
     "execution_count": 2,
     "metadata": {},
     "output_type": "execute_result"
    }
   ],
   "source": [
    "df= pd.read_csv('../data/processed/merged_dataset_pivoted.csv')\n",
    "df.head()"
   ]
  },
  {
   "cell_type": "code",
   "execution_count": 3,
   "id": "551630e2-a261-4bd0-aeb2-bfda564f2534",
   "metadata": {},
   "outputs": [
    {
     "name": "stdout",
     "output_type": "stream",
     "text": [
      "[[0. 0. 0. ... 0. 0. 0.]\n",
      " [0. 0. 0. ... 0. 0. 0.]\n",
      " [0. 0. 0. ... 0. 0. 0.]\n",
      " ...\n",
      " [0. 0. 0. ... 0. 0. 0.]\n",
      " [0. 0. 0. ... 0. 0. 0.]\n",
      " [0. 0. 0. ... 0. 0. 0.]]\n",
      "[[0]\n",
      " [0]\n",
      " [0]\n",
      " ...\n",
      " [0]\n",
      " [0]\n",
      " [0]]\n"
     ]
    }
   ],
   "source": [
    "columns = list(df.columns)\n",
    "features = columns[4:]\n",
    "df[features] = df[features].div(df.total_events, axis = 0)\n",
    "# Separating out the features\n",
    "X = df.loc[:, features].values\n",
    "y = df.loc[:, ['is_malicious']].values\n",
    "print(X)\n",
    "print(y)"
   ]
  },
  {
   "cell_type": "code",
   "execution_count": 4,
   "id": "dbaacddd-aeac-47a9-9a5f-3e09812043f9",
   "metadata": {},
   "outputs": [],
   "source": [
    "X = StandardScaler().fit_transform(X)"
   ]
  },
  {
   "cell_type": "code",
   "execution_count": 5,
   "id": "b998bd8a-b682-4362-870e-b771dae011cc",
   "metadata": {},
   "outputs": [],
   "source": [
    "pca = PCA(n_components=2)\n",
    "pcs = pca.fit_transform(X)\n",
    "pca_df = pd.DataFrame(data = pcs, columns = ['pc1', 'pc2'])"
   ]
  },
  {
   "cell_type": "code",
   "execution_count": 6,
   "id": "2b4c939b-1390-44f7-8bd3-dc4f6129f879",
   "metadata": {},
   "outputs": [
    {
     "data": {
      "image/png": "[encoded data removed]",
      "text/plain": [
       "<Figure size 576x576 with 1 Axes>"
      ]
     },
     "metadata": {
      "needs_background": "light"
     },
     "output_type": "display_data"
    }
   ],
   "source": [
    "fig = plt.figure(figsize = (8,8))\n",
    "ax = fig.add_subplot(1,1,1) \n",
    "ax.set_xlabel('Principal Component 1', fontsize = 15)\n",
    "ax.set_ylabel('Principal Component 2', fontsize = 15)\n",
    "ax.set_title('Features in 2D', fontsize = 20)\n",
    "\n",
    "targets = [0, 1]\n",
    "colors = ['r', 'b']\n",
    "for target, color in zip(targets,colors):\n",
    "    indicesToKeep = df['is_malicious'] == target\n",
    "    ax.scatter(pca_df.loc[indicesToKeep, 'pc1']\n",
    "               , pca_df.loc[indicesToKeep, 'pc2']\n",
    "               , c = color\n",
    "               , s = 50)\n",
    "    \n",
    "# ax.legend(targets)\n",
    "# ax.scatter(pca_df['pc1']\n",
    "#                , pca_df['pc2']\n",
    "#                , s = 50)\n",
    "ax.grid()"
   ]
  },
  {
   "cell_type": "code",
   "execution_count": 7,
   "id": "8f86d406-4cea-4209-b949-69b699d6dc0d",
   "metadata": {},
   "outputs": [],
   "source": [
    "smote = SMOTE(random_state=0, sampling_strategy=\"minority\")\n",
    "X_os, y_os = smote.fit_resample(X, y)\n",
    "X_train_os, X_test_os, y_train_os, y_test_os = train_test_split(X_os, y_os, test_size = 0.2, random_state=2)"
   ]
  },
  {
   "cell_type": "code",
   "execution_count": 8,
   "id": "11fa70c2-3966-46f2-8166-e2658f480e16",
   "metadata": {},
   "outputs": [
    {
     "name": "stdout",
     "output_type": "stream",
     "text": [
      "              precision    recall  f1-score   support\n",
      "\n",
      "           0       0.98      0.99      0.99     12930\n",
      "           1       0.99      0.98      0.99     12767\n",
      "\n",
      "    accuracy                           0.99     25697\n",
      "   macro avg       0.99      0.99      0.99     25697\n",
      "weighted avg       0.99      0.99      0.99     25697\n",
      "\n",
      "Accuracy: 0.9877806747869401\n",
      "Label 0:\n",
      "Precision: 0.9847832769750999\n",
      "Recall: 0.9910286156225832\n",
      "Label 1:\n",
      "Precision: 0.9908553409538825\n",
      "Recall: 0.9844912665465654\n"
     ]
    }
   ],
   "source": [
    "# Decision Tree Classifier\n",
    "\n",
    "# Create Decision Tree classifer object\n",
    "clf_os = DecisionTreeClassifier()\n",
    "\n",
    "# Train Decision Tree Classifer\n",
    "clf_os.fit(X_train_os, y_train_os)\n",
    "\n",
    "# Predict the response for the test dataset\n",
    "y_pred_os = clf_os.predict(X_test_os)\n",
    "\n",
    "# Check Prediction\n",
    "print(classification_report(y_test_os, y_pred_os))\n",
    "# print(confusion_matrix(y_test_os, y_pred_os))\n",
    "print(\"Accuracy:\", accuracy_score(y_test_os, y_pred_os))\n",
    "print(\"Label 0:\")\n",
    "print(\"Precision:\", precision_score(y_test_os, y_pred_os, pos_label = 0))\n",
    "print(\"Recall:\", recall_score(y_test_os, y_pred_os, pos_label = 0))\n",
    "print(\"Label 1:\")\n",
    "print(\"Precision:\", precision_score(y_test_os, y_pred_os, pos_label = 1))\n",
    "print(\"Recall:\", recall_score(y_test_os, y_pred_os, pos_label = 1))"
   ]
  },
  {
   "cell_type": "code",
   "execution_count": 9,
   "id": "134f3f70-33f1-45e1-bff0-7c31e225d1d7",
   "metadata": {},
   "outputs": [
    {
     "data": {
      "image/png": "[encoded data removed]",
      "text/plain": [
       "<Figure size 432x288 with 1 Axes>"
      ]
     },
     "metadata": {
      "needs_background": "light"
     },
     "output_type": "display_data"
    }
   ],
   "source": [
    "classes = np.unique(y_pred_os)\n",
    "fig,ax = plt.subplots()\n",
    "cm = metrics.confusion_matrix(y_test_os,y_pred_os,labels=classes)\n",
    "sns.heatmap(cm, annot=True,fmt='d',cmap=plt.cm.Blues,cbar=False)\n",
    "ax.set(xlabel=\"Pred\",ylabel=\"True\",title=\"Confusion Matrix\")\n",
    "ax.set_yticklabels(labels=classes,rotation=0)\n",
    "plt.show()"
   ]
  },
  {
   "cell_type": "code",
   "execution_count": 10,
   "id": "14aa37d0-a963-4e64-90ca-8f068ffd0008",
   "metadata": {},
   "outputs": [
    {
     "name": "stdout",
     "output_type": "stream",
     "text": [
      "              precision    recall  f1-score   support\n",
      "\n",
      "           0       0.98      0.99      0.99     12930\n",
      "           1       0.99      0.98      0.99     12767\n",
      "\n",
      "    accuracy                           0.99     25697\n",
      "   macro avg       0.99      0.99      0.99     25697\n",
      "weighted avg       0.99      0.99      0.99     25697\n",
      "\n",
      "Accuracy: 0.9863408179943184\n",
      "Label 0:\n",
      "Precision: 0.9836960701376606\n",
      "Recall: 0.9892498066511988\n",
      "Label 1:\n",
      "Precision: 0.9890499448558374\n",
      "Recall: 0.9833946894336962\n"
     ]
    }
   ],
   "source": [
    "# K Neighbors Classifier\n",
    "\n",
    "# Create K Neighbors Classifier Object\n",
    "neigh = KNeighborsClassifier(n_neighbors=3)\n",
    "\n",
    "# Train K Neighbors Classifier Object\n",
    "neigh.fit(X_train_os,y_train_os.ravel())\n",
    "\n",
    "# Predict the response for test dataset\n",
    "y_pred_os = neigh.predict(X_test_os)\n",
    "\n",
    "# Check Prediction\n",
    "print(classification_report(y_test_os, y_pred_os))\n",
    "# print(confusion_matrix(y_test_os, y_pred_os))\n",
    "print(\"Accuracy:\", accuracy_score(y_test_os, y_pred_os))\n",
    "print(\"Label 0:\")\n",
    "print(\"Precision:\", precision_score(y_test_os, y_pred_os, pos_label = 0))\n",
    "print(\"Recall:\", recall_score(y_test_os, y_pred_os, pos_label = 0))\n",
    "print(\"Label 1:\")\n",
    "print(\"Precision:\", precision_score(y_test_os, y_pred_os, pos_label = 1))\n",
    "print(\"Recall:\", recall_score(y_test_os, y_pred_os, pos_label = 1))"
   ]
  },
  {
   "cell_type": "code",
   "execution_count": 11,
   "id": "981168dc-ec2d-48c1-a858-c4f1511a788e",
   "metadata": {},
   "outputs": [
    {
     "data": {
      "image/png": "[encoded data removed]",
      "text/plain": [
       "<Figure size 432x288 with 1 Axes>"
      ]
     },
     "metadata": {
      "needs_background": "light"
     },
     "output_type": "display_data"
    }
   ],
   "source": [
    "classes = np.unique(y_pred_os)\n",
    "fig,ax = plt.subplots()\n",
    "cm = metrics.confusion_matrix(y_test_os,y_pred_os,labels=classes)\n",
    "sns.heatmap(cm, annot=True,fmt='d',cmap=plt.cm.Blues,cbar=False)\n",
    "ax.set(xlabel=\"Pred\",ylabel=\"True\",title=\"Confusion Matrix\")\n",
    "ax.set_yticklabels(labels=classes,rotation=0)\n",
    "plt.show()"
   ]
  },
  {
   "cell_type": "code",
   "execution_count": 12,
   "id": "075b43d1-7915-47d6-8d29-b7222810b511",
   "metadata": {},
   "outputs": [
    {
     "name": "stdout",
     "output_type": "stream",
     "text": [
      "              precision    recall  f1-score   support\n",
      "\n",
      "           0       0.90      0.90      0.90     12930\n",
      "           1       0.90      0.90      0.90     12767\n",
      "\n",
      "    accuracy                           0.90     25697\n",
      "   macro avg       0.90      0.90      0.90     25697\n",
      "weighted avg       0.90      0.90      0.90     25697\n",
      "\n",
      "Accuracy: 0.9002996458730591\n",
      "Label 0:\n",
      "Precision: 0.9038641321283889\n",
      "Recall: 0.897293116782676\n",
      "Label 1:\n",
      "Precision: 0.8967420884845657\n",
      "Recall: 0.9033445601942508\n"
     ]
    }
   ],
   "source": [
    "# Logistic Regression\n",
    "\n",
    "# instantiate model\n",
    "model = LogisticRegression()\n",
    "\n",
    "# fit \n",
    "model.fit(X_train_os,y_train_os)\n",
    "\n",
    "# predict\n",
    "y_pred_os = model.predict(X_test_os)\n",
    "\n",
    "# Check Prediction\n",
    "print(classification_report(y_test_os, y_pred_os))\n",
    "# print(confusion_matrix(y_test_os, y_pred_os))\n",
    "print(\"Accuracy:\", accuracy_score(y_test_os, y_pred_os))\n",
    "print(\"Label 0:\")\n",
    "print(\"Precision:\", precision_score(y_test_os, y_pred_os, pos_label = 0))\n",
    "print(\"Recall:\", recall_score(y_test_os, y_pred_os, pos_label = 0))\n",
    "print(\"Label 1:\")\n",
    "print(\"Precision:\", precision_score(y_test_os, y_pred_os, pos_label = 1))\n",
    "print(\"Recall:\", recall_score(y_test_os, y_pred_os, pos_label = 1))"
   ]
  },
  {
   "cell_type": "code",
   "execution_count": 13,
   "id": "6b636e4a-cd8b-418e-914c-6d196810f101",
   "metadata": {},
   "outputs": [
    {
     "data": {
      "image/png": "[encoded data removed]",
      "text/plain": [
       "<Figure size 432x288 with 1 Axes>"
      ]
     },
     "metadata": {
      "needs_background": "light"
     },
     "output_type": "display_data"
    }
   ],
   "source": [
    "classes = np.unique(y_pred_os)\n",
    "fig,ax = plt.subplots()\n",
    "cm = metrics.confusion_matrix(y_test_os,y_pred_os,labels=classes)\n",
    "sns.heatmap(cm, annot=True,fmt='d',cmap=plt.cm.Blues,cbar=False)\n",
    "ax.set(xlabel=\"Pred\",ylabel=\"True\",title=\"Confusion Matrix\")\n",
    "ax.set_yticklabels(labels=classes,rotation=0)\n",
    "plt.show()"
   ]
  },
  {
   "cell_type": "code",
   "execution_count": 14,
   "id": "d8b8426f-1f5d-47f1-98af-b79e1ac5f921",
   "metadata": {},
   "outputs": [
    {
     "name": "stdout",
     "output_type": "stream",
     "text": [
      "[0 1]\n"
     ]
    }
   ],
   "source": [
    "print(classes)"
   ]
  }
 ],
 "metadata": {
  "kernelspec": {
   "display_name": "Python 3",
   "language": "python",
   "name": "python3"
  },
  "language_info": {
   "codemirror_mode": {
    "name": "ipython",
    "version": 3
   },
   "file_extension": ".py",
   "mimetype": "text/x-python",
   "name": "python",
   "nbconvert_exporter": "python",
   "pygments_lexer": "ipython3",
   "version": "3.8.8"
  }
 },
 "nbformat": 4,
 "nbformat_minor": 5
}
