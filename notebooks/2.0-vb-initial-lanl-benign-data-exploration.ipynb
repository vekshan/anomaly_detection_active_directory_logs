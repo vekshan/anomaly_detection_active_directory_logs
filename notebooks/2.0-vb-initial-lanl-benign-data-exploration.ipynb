{
 "cells": [
  {
   "cell_type": "code",
   "execution_count": 1,
   "metadata": {},
   "outputs": [],
   "source": [
    "import pyspark\n",
    "import pandas as pd"
   ]
  },
  {
   "cell_type": "code",
   "execution_count": 2,
   "metadata": {},
   "outputs": [],
   "source": [
    "from pyspark import SparkContext, SparkConf\n",
    "from pyspark.sql import SparkSession\n",
    "spark = SparkSession.builder \\\n",
    "    .master('local[*]') \\\n",
    "    .config(\"spark.driver.memory\", \"8g\") \\\n",
    "    .appName('vb-app') \\\n",
    "    .getOrCreate()"
   ]
  },
  {
   "cell_type": "code",
   "execution_count": 3,
   "metadata": {},
   "outputs": [],
   "source": [
    "path = \"../data/raw/wls_day-01\"\n",
    "df = spark.read.json(path)"
   ]
  },
  {
   "cell_type": "code",
   "execution_count": 4,
   "metadata": {},
   "outputs": [
    {
     "data": {
      "text/plain": [
       "['AuthenticationPackage',\n",
       " 'Destination',\n",
       " 'DomainName',\n",
       " 'EventID',\n",
       " 'FailureReason',\n",
       " 'LogHost',\n",
       " 'LogonID',\n",
       " 'LogonType',\n",
       " 'LogonTypeDescription',\n",
       " 'ParentProcessID',\n",
       " 'ParentProcessName',\n",
       " 'ProcessID',\n",
       " 'ProcessName',\n",
       " 'ServiceName',\n",
       " 'Source',\n",
       " 'Status',\n",
       " 'SubjectDomainName',\n",
       " 'SubjectLogonID',\n",
       " 'SubjectUserName',\n",
       " 'Time',\n",
       " 'UserName',\n",
       " '_corrupt_record']"
      ]
     },
     "execution_count": 4,
     "metadata": {},
     "output_type": "execute_result"
    }
   ],
   "source": [
    "df.columns"
   ]
  },
  {
   "cell_type": "code",
   "execution_count": 5,
   "metadata": {},
   "outputs": [
    {
     "name": "stdout",
     "output_type": "stream",
     "text": [
      "+------------+\n",
      "|  DomainName|\n",
      "+------------+\n",
      "|   Domain001|\n",
      "|   Domain001|\n",
      "|   Domain001|\n",
      "|   Domain001|\n",
      "|   Domain001|\n",
      "|nt authority|\n",
      "|nt authority|\n",
      "|nt authority|\n",
      "|   Domain001|\n",
      "|   Domain001|\n",
      "|   Domain001|\n",
      "|nt authority|\n",
      "|   Domain001|\n",
      "|   Domain001|\n",
      "|   Domain001|\n",
      "|   Domain001|\n",
      "|   Domain001|\n",
      "|   Domain001|\n",
      "|   Domain001|\n",
      "|   Domain001|\n",
      "+------------+\n",
      "only showing top 20 rows\n",
      "\n"
     ]
    }
   ],
   "source": [
    "df.select('DomainName').show()"
   ]
  },
  {
   "cell_type": "code",
   "execution_count": 6,
   "metadata": {},
   "outputs": [],
   "source": [
    "import datetime\n",
    "import time\n",
    "\n",
    "file_name = 'lanl.csv' \n",
    "df.select('EventID',\"ProcessName\",\"Time\").toPandas().to_csv(file_name)"
   ]
  },
  {
   "cell_type": "code",
   "execution_count": 7,
   "metadata": {},
   "outputs": [],
   "source": [
    "# df.groupBy('EventID').count().show()"
   ]
  },
  {
   "cell_type": "code",
   "execution_count": 8,
   "metadata": {},
   "outputs": [
    {
     "name": "stdout",
     "output_type": "stream",
     "text": [
      "+-----------+-----+\n",
      "|   UserName|count|\n",
      "+-----------+-----+\n",
      "|Comp334881$|  260|\n",
      "|Comp193344$|  217|\n",
      "|Comp626532$|  173|\n",
      "|Comp423822$|  201|\n",
      "|Comp071603$|  184|\n",
      "|Comp194392$|  198|\n",
      "|Comp079982$|  272|\n",
      "|Comp102246$|  178|\n",
      "|Comp924592$|  169|\n",
      "|Comp332130$|  194|\n",
      "|Comp629929$|  117|\n",
      "|Comp989334$|  193|\n",
      "|Comp851861$|  246|\n",
      "|Comp854936$|  221|\n",
      "|Comp282520$|  358|\n",
      "|Comp349824$|  232|\n",
      "|Comp156468$|  188|\n",
      "|Comp528070$|  163|\n",
      "|Comp811288$|  184|\n",
      "|Comp925148$|  183|\n",
      "+-----------+-----+\n",
      "only showing top 20 rows\n",
      "\n"
     ]
    }
   ],
   "source": [
    "df.groupBy('UserName').count().show()"
   ]
  },
  {
   "cell_type": "code",
   "execution_count": 9,
   "metadata": {},
   "outputs": [],
   "source": [
    "# df.groupBy('LogonType').count().show()"
   ]
  },
  {
   "cell_type": "code",
   "execution_count": 10,
   "metadata": {},
   "outputs": [],
   "source": [
    "# df.groupBy('Source').count().show()"
   ]
  },
  {
   "cell_type": "markdown",
   "metadata": {},
   "source": [
    "## Convert time into timestamp"
   ]
  },
  {
   "cell_type": "code",
   "execution_count": 11,
   "metadata": {},
   "outputs": [],
   "source": [
    "# df.groupBy('Time').count().show()"
   ]
  },
  {
   "cell_type": "code",
   "execution_count": 12,
   "metadata": {},
   "outputs": [],
   "source": [
    "# from pyspark.sql.functions import from_unixtime\n",
    "\n",
    "# df = df.withColumn('timestamp', from_unixtime((df.Time.cast('bigint')/1000)).cast('timestamp'))\n"
   ]
  },
  {
   "cell_type": "code",
   "execution_count": 13,
   "metadata": {},
   "outputs": [
    {
     "data": {
      "text/plain": [
       "[Row(AuthenticationPackage=None, Destination=None, DomainName='Domain001', EventID=4688, FailureReason=None, LogHost='Comp607982', LogonID='0x3e7', LogonType=None, LogonTypeDescription=None, ParentProcessID='0x2ac', ParentProcessName='services', ProcessID='0x1418', ProcessName='svchost.exe', ServiceName=None, Source=None, Status=None, SubjectDomainName=None, SubjectLogonID=None, SubjectUserName=None, Time=1, UserName='Comp607982$', _corrupt_record=None),\n",
       " Row(AuthenticationPackage=None, Destination=None, DomainName='Domain001', EventID=4688, FailureReason=None, LogHost='Comp991643', LogonID='0x3e7', LogonType=None, LogonTypeDescription=None, ParentProcessID='0x334', ParentProcessName='services', ProcessID='0xc0c', ProcessName='rundll32.exe', ServiceName=None, Source=None, Status=None, SubjectDomainName=None, SubjectLogonID=None, SubjectUserName=None, Time=1, UserName='Comp991643$', _corrupt_record=None),\n",
       " Row(AuthenticationPackage=None, Destination=None, DomainName='Domain001', EventID=4688, FailureReason=None, LogHost='Comp736087', LogonID='0x3e7', LogonType=None, LogonTypeDescription=None, ParentProcessID='0x2e8', ParentProcessName='services', ProcessID='0x2074', ProcessName='svchost.exe', ServiceName=None, Source=None, Status=None, SubjectDomainName=None, SubjectLogonID=None, SubjectUserName=None, Time=1, UserName='Comp736087$', _corrupt_record=None),\n",
       " Row(AuthenticationPackage=None, Destination=None, DomainName='Domain001', EventID=4688, FailureReason=None, LogHost='Comp093128', LogonID='0x3e7', LogonType=None, LogonTypeDescription=None, ParentProcessID='0x2d4', ParentProcessName='services', ProcessID='0x2200', ProcessName='vssvc.exe', ServiceName=None, Source=None, Status=None, SubjectDomainName=None, SubjectLogonID=None, SubjectUserName=None, Time=1, UserName='Comp093128$', _corrupt_record=None),\n",
       " Row(AuthenticationPackage=None, Destination=None, DomainName='Domain001', EventID=4688, FailureReason=None, LogHost='Comp006850', LogonID='0x3e7', LogonType=None, LogonTypeDescription=None, ParentProcessID='0x278', ParentProcessName='services', ProcessID='0x498', ProcessName='svchost.exe', ServiceName=None, Source=None, Status=None, SubjectDomainName=None, SubjectLogonID=None, SubjectUserName=None, Time=1, UserName='Comp006850$', _corrupt_record=None),\n",
       " Row(AuthenticationPackage='Negotiate', Destination=None, DomainName='nt authority', EventID=4624, FailureReason=None, LogHost='Comp828729', LogonID='0x3e7', LogonType=5, LogonTypeDescription='Service', ParentProcessID=None, ParentProcessName=None, ProcessID='0x29c', ProcessName='services.exe', ServiceName=None, Source=None, Status=None, SubjectDomainName=None, SubjectLogonID=None, SubjectUserName=None, Time=1, UserName='system', _corrupt_record=None),\n",
       " Row(AuthenticationPackage=None, Destination=None, DomainName='nt authority', EventID=4672, FailureReason=None, LogHost='Comp828729', LogonID='0x3e7', LogonType=None, LogonTypeDescription=None, ParentProcessID=None, ParentProcessName=None, ProcessID=None, ProcessName=None, ServiceName=None, Source=None, Status=None, SubjectDomainName=None, SubjectLogonID=None, SubjectUserName=None, Time=1, UserName='system', _corrupt_record=None),\n",
       " Row(AuthenticationPackage=None, Destination=None, DomainName='nt authority', EventID=4672, FailureReason=None, LogHost='Comp423597', LogonID='0x3e7', LogonType=None, LogonTypeDescription=None, ParentProcessID=None, ParentProcessName=None, ProcessID=None, ProcessName=None, ServiceName=None, Source=None, Status=None, SubjectDomainName=None, SubjectLogonID=None, SubjectUserName=None, Time=1, UserName='system', _corrupt_record=None),\n",
       " Row(AuthenticationPackage=None, Destination=None, DomainName='Domain001', EventID=4688, FailureReason=None, LogHost='Comp466209', LogonID='0x3e7', LogonType=None, LogonTypeDescription=None, ParentProcessID='0x354', ParentProcessName='services', ProcessID='0x2d20', ProcessName='vssvc.exe', ServiceName=None, Source=None, Status=None, SubjectDomainName=None, SubjectLogonID=None, SubjectUserName=None, Time=1, UserName='Comp466209$', _corrupt_record=None),\n",
       " Row(AuthenticationPackage=None, Destination=None, DomainName='Domain001', EventID=4688, FailureReason=None, LogHost='Comp688526', LogonID='0x3e7', LogonType=None, LogonTypeDescription=None, ParentProcessID='0x2b8', ParentProcessName='services', ProcessID='0x1ac0', ProcessName='svchost.exe', ServiceName=None, Source=None, Status=None, SubjectDomainName=None, SubjectLogonID=None, SubjectUserName=None, Time=1, UserName='Comp688526$', _corrupt_record=None)]"
      ]
     },
     "execution_count": 13,
     "metadata": {},
     "output_type": "execute_result"
    }
   ],
   "source": [
    "df.take(10)"
   ]
  },
  {
   "cell_type": "code",
   "execution_count": 14,
   "metadata": {},
   "outputs": [],
   "source": [
    "# df.groupBy('timestamp').count().show()"
   ]
  },
  {
   "cell_type": "markdown",
   "metadata": {},
   "source": [
    "## Create Window Functions (Fix Usernames)"
   ]
  },
  {
   "cell_type": "markdown",
   "metadata": {},
   "source": [
    "### Total events per user in an (last) hour window interval  \n",
    "Ref: https://stackoverflow.com/questions/45806194/pyspark-rolling-average-using-timeseries-data"
   ]
  },
  {
   "cell_type": "code",
   "execution_count": 15,
   "metadata": {},
   "outputs": [],
   "source": [
    "from pyspark.sql.window import Window\n",
    "from pyspark.sql import functions as F\n",
    "new_df = df.select(\"Time\", \"UserName\", \"EventID\")\n",
    "w = (Window.partitionBy('UserName').orderBy(F.col(\"Time\").cast('long')).rangeBetween(-3600, Window.currentRow))\n",
    "new_df = new_df.withColumn('total_events', F.count(\"Time\").over(w))"
   ]
  },
  {
   "cell_type": "code",
   "execution_count": 16,
   "metadata": {},
   "outputs": [
    {
     "data": {
      "text/plain": [
       "[Row(Time=None, UserName=None, EventID=None, total_events=0),\n",
       " Row(Time=1, UserName='Comp194392$', EventID=4634, total_events=1),\n",
       " Row(Time=1, UserName='Comp071603$', EventID=4688, total_events=3),\n",
       " Row(Time=1, UserName='Comp071603$', EventID=4688, total_events=3),\n",
       " Row(Time=1, UserName='Comp079982$', EventID=4688, total_events=1),\n",
       " Row(Time=1, UserName='Comp071603$', EventID=4688, total_events=3),\n",
       " Row(Time=1, UserName='Comp102246$', EventID=4688, total_events=2),\n",
       " Row(Time=1, UserName='Comp193344$', EventID=4688, total_events=3),\n",
       " Row(Time=1, UserName='Comp193344$', EventID=4688, total_events=3),\n",
       " Row(Time=1, UserName='Comp193344$', EventID=4688, total_events=3)]"
      ]
     },
     "execution_count": 16,
     "metadata": {},
     "output_type": "execute_result"
    }
   ],
   "source": [
    "new_df.orderBy(\"Time\").take(10)"
   ]
  },
  {
   "cell_type": "markdown",
   "metadata": {},
   "source": [
    "## Paritition By UserName and Event"
   ]
  },
  {
   "cell_type": "code",
   "execution_count": 17,
   "metadata": {},
   "outputs": [],
   "source": [
    "w = (Window.partitionBy('UserName', 'EventID').orderBy(F.col(\"Time\").cast('long')).rangeBetween(-3600, Window.currentRow))\n",
    "new_df = new_df.withColumn('total_per_event', F.count(\"Time\").over(w))"
   ]
  },
  {
   "cell_type": "markdown",
   "metadata": {},
   "source": [
    "### Total number of Event 4624 per user in an hour window interval  (Successful Logon)\n"
   ]
  },
  {
   "cell_type": "code",
   "execution_count": 18,
   "metadata": {},
   "outputs": [
    {
     "name": "stdout",
     "output_type": "stream",
     "text": [
      "+----+-----------+-------+------------+---------------+\n",
      "|Time|   UserName|EventID|total_events|total_per_event|\n",
      "+----+-----------+-------+------------+---------------+\n",
      "| 109|Comp502166$|   4624|          10|              1|\n",
      "| 123|Comp502166$|   4624|          12|              2|\n",
      "|1009|Comp502166$|   4624|          25|              3|\n",
      "|1562|Comp502166$|   4624|          33|              5|\n",
      "|1562|Comp502166$|   4624|          33|              5|\n",
      "|1563|Comp502166$|   4624|          36|              6|\n",
      "|1564|Comp502166$|   4624|          38|              7|\n",
      "|1858|Comp502166$|   4624|          61|             16|\n",
      "|1858|Comp502166$|   4624|          61|             16|\n",
      "|1858|Comp502166$|   4624|          61|             16|\n",
      "|1858|Comp502166$|   4624|          61|             16|\n",
      "|1858|Comp502166$|   4624|          61|             16|\n",
      "|1858|Comp502166$|   4624|          61|             16|\n",
      "|1858|Comp502166$|   4624|          61|             16|\n",
      "|1858|Comp502166$|   4624|          61|             16|\n",
      "|1858|Comp502166$|   4624|          61|             16|\n",
      "|1859|Comp502166$|   4624|          66|             18|\n",
      "|1859|Comp502166$|   4624|          66|             18|\n",
      "|1909|Comp502166$|   4624|          70|             19|\n",
      "|2809|Comp502166$|   4624|          85|             20|\n",
      "+----+-----------+-------+------------+---------------+\n",
      "only showing top 20 rows\n",
      "\n"
     ]
    }
   ],
   "source": [
    "new_df.filter((new_df.UserName == 'Comp502166$') & (new_df.EventID == 4624)).show()"
   ]
  },
  {
   "cell_type": "markdown",
   "metadata": {},
   "source": [
    "### Total number of Event 4625 per user in an hour window interval  (Failed Logon)"
   ]
  },
  {
   "cell_type": "markdown",
   "metadata": {},
   "source": [
    "### Total number of Event 4627 per user in an hour window interval  (Group Membership)\n"
   ]
  },
  {
   "cell_type": "markdown",
   "metadata": {},
   "source": [
    "### Total number of Event 4648 per user in an hour window interval  (A logon was attempted using explicit credentials)"
   ]
  },
  {
   "cell_type": "markdown",
   "metadata": {},
   "source": [
    "### Total number of Event 4658 per user in an hour window interval  (handle to an object was closed)"
   ]
  },
  {
   "cell_type": "markdown",
   "metadata": {},
   "source": [
    "### Total number of Event 4661 per user in an hour window interval  (handle to an object was requsted)"
   ]
  },
  {
   "cell_type": "markdown",
   "metadata": {},
   "source": [
    "### Total number of Event 4672 per user in an hour window interval  (Special privileges assigned to new logon)"
   ]
  },
  {
   "cell_type": "markdown",
   "metadata": {},
   "source": [
    "### Total number of Event 4768 per user in an hour window interval  (Kerberos Authentication)"
   ]
  },
  {
   "cell_type": "markdown",
   "metadata": {},
   "source": [
    "### Total number of Event 4697 per user in an hour window interval  (A service was installed in the system)"
   ]
  },
  {
   "cell_type": "markdown",
   "metadata": {},
   "source": [
    "### Total number of Event 4698 per user in an hour window interval  (A scheduled task was created)"
   ]
  },
  {
   "cell_type": "markdown",
   "metadata": {},
   "source": [
    "### Total number of Event 4779 per user in an hour window interval  (A security-enabled local group membership was enumerated)"
   ]
  },
  {
   "cell_type": "markdown",
   "metadata": {},
   "source": [
    "### Total number of Event 5140 per user in an hour window interval  (A network share object was accessed)"
   ]
  },
  {
   "cell_type": "markdown",
   "metadata": {},
   "source": [
    "### Total number of Event 5145 per user in an hour window interval  (A network share object was checked to see whether client can be granted desired access)"
   ]
  },
  {
   "cell_type": "markdown",
   "metadata": {},
   "source": [
    "### Total number of Event 5158 per user in an hour window interval  (The Windows Filtering Platform has permitted a bind to a local port)"
   ]
  },
  {
   "cell_type": "code",
   "execution_count": null,
   "metadata": {},
   "outputs": [],
   "source": []
  },
  {
   "cell_type": "code",
   "execution_count": null,
   "metadata": {},
   "outputs": [],
   "source": []
  },
  {
   "cell_type": "markdown",
   "metadata": {},
   "source": [
    "## Concatenate datasets "
   ]
  },
  {
   "cell_type": "code",
   "execution_count": null,
   "metadata": {},
   "outputs": [],
   "source": []
  },
  {
   "cell_type": "code",
   "execution_count": null,
   "metadata": {},
   "outputs": [],
   "source": []
  },
  {
   "cell_type": "code",
   "execution_count": null,
   "metadata": {},
   "outputs": [],
   "source": []
  }
 ],
 "metadata": {
  "kernelspec": {
   "display_name": "Python 3",
   "language": "python",
   "name": "python3"
  },
  "language_info": {
   "codemirror_mode": {
    "name": "ipython",
    "version": 3
   },
   "file_extension": ".py",
   "mimetype": "text/x-python",
   "name": "python",
   "nbconvert_exporter": "python",
   "pygments_lexer": "ipython3",
   "version": "3.7.6"
  }
 },
 "nbformat": 4,
 "nbformat_minor": 4
}
