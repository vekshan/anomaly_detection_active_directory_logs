{
 "cells": [
  {
   "cell_type": "code",
   "execution_count": 1,
   "metadata": {},
   "outputs": [],
   "source": [
    "import findspark\n",
    "findspark.init()"
   ]
  },
  {
   "cell_type": "code",
   "execution_count": 2,
   "metadata": {},
   "outputs": [],
   "source": [
    "import pyspark"
   ]
  },
  {
   "cell_type": "code",
   "execution_count": 3,
   "metadata": {},
   "outputs": [],
   "source": [
    "from pyspark import SparkContext, SparkConf\n",
    "from pyspark.sql import SparkSession\n",
    "spark = SparkSession.builder \\\n",
    "    .master('local[*]') \\\n",
    "    .config(\"spark.driver.memory\", \"8g\") \\\n",
    "    .appName('vb-app') \\\n",
    "    .getOrCreate()"
   ]
  },
  {
   "cell_type": "code",
   "execution_count": 4,
   "metadata": {},
   "outputs": [],
   "source": [
    "path = \"../data/raw/wls_day-01\"\n",
    "df = spark.read.json(path)"
   ]
  },
  {
   "cell_type": "code",
   "execution_count": 5,
   "metadata": {},
   "outputs": [],
   "source": [
    "# df.show()"
   ]
  },
  {
   "cell_type": "code",
   "execution_count": 7,
   "metadata": {},
   "outputs": [
    {
     "data": {
      "text/plain": [
       "['AuthenticationPackage',\n",
       " 'Destination',\n",
       " 'DomainName',\n",
       " 'EventID',\n",
       " 'FailureReason',\n",
       " 'LogHost',\n",
       " 'LogonID',\n",
       " 'LogonType',\n",
       " 'LogonTypeDescription',\n",
       " 'ParentProcessID',\n",
       " 'ParentProcessName',\n",
       " 'ProcessID',\n",
       " 'ProcessName',\n",
       " 'ServiceName',\n",
       " 'Source',\n",
       " 'Status',\n",
       " 'SubjectDomainName',\n",
       " 'SubjectLogonID',\n",
       " 'SubjectUserName',\n",
       " 'Time',\n",
       " 'UserName']"
      ]
     },
     "execution_count": 7,
     "metadata": {},
     "output_type": "execute_result"
    }
   ],
   "source": [
    "df.columns"
   ]
  },
  {
   "cell_type": "code",
   "execution_count": 10,
   "metadata": {},
   "outputs": [
    {
     "name": "stdout",
     "output_type": "stream",
     "text": [
      "+-------+--------+\n",
      "|EventID|   count|\n",
      "+-------+--------+\n",
      "|   4625|  335425|\n",
      "|   4608|    1607|\n",
      "|   4802|    5148|\n",
      "|   4672| 4388232|\n",
      "|   4770|      85|\n",
      "|   4801|   14899|\n",
      "|   1100|    1637|\n",
      "|   4648|  895145|\n",
      "|   4647|    3060|\n",
      "|   4624|14110061|\n",
      "|   4768|  696025|\n",
      "|   4769| 1762893|\n",
      "|   4688|14034308|\n",
      "|   4634|13826193|\n",
      "|   4689|    1111|\n",
      "|   4800|   15917|\n",
      "|   4803|    4833|\n",
      "|   4609|       9|\n",
      "|   4776| 5505769|\n",
      "|   4774|    6794|\n",
      "+-------+--------+\n",
      "\n"
     ]
    }
   ],
   "source": [
    "# df.groupBy('EventID').count().show()"
   ]
  },
  {
   "cell_type": "code",
   "execution_count": 11,
   "metadata": {},
   "outputs": [
    {
     "name": "stdout",
     "output_type": "stream",
     "text": [
      "+-----------+-----+\n",
      "|   UserName|count|\n",
      "+-----------+-----+\n",
      "|Comp334881$| 2327|\n",
      "|Comp193344$| 1753|\n",
      "|Comp626532$| 1696|\n",
      "|Comp423822$| 1581|\n",
      "|Comp071603$| 1716|\n",
      "|Comp194392$| 1541|\n",
      "|Comp079982$| 2467|\n",
      "|Comp102246$| 1822|\n",
      "|Comp924592$| 1855|\n",
      "|Comp332130$| 5977|\n",
      "|Comp629929$| 1149|\n",
      "|Comp989334$| 1676|\n",
      "|Comp851861$| 2293|\n",
      "|Comp854936$| 1737|\n",
      "|Comp282520$| 3297|\n",
      "|Comp349824$| 2129|\n",
      "|Comp156468$| 1536|\n",
      "|Comp528070$| 1714|\n",
      "|Comp811288$| 1865|\n",
      "|Comp925148$| 1705|\n",
      "+-----------+-----+\n",
      "only showing top 20 rows\n",
      "\n"
     ]
    }
   ],
   "source": [
    "df.groupBy('UserName').count().show()"
   ]
  },
  {
   "cell_type": "code",
   "execution_count": 12,
   "metadata": {},
   "outputs": [
    {
     "name": "stdout",
     "output_type": "stream",
     "text": [
      "+---------+--------+\n",
      "|LogonType|   count|\n",
      "+---------+--------+\n",
      "|        0|    1616|\n",
      "|        7|   73211|\n",
      "|     null|27337472|\n",
      "|        9|   24850|\n",
      "|        5|  191974|\n",
      "|       10|    2271|\n",
      "|        3|27642694|\n",
      "|        8|   89498|\n",
      "|       11|     589|\n",
      "|        2|  240504|\n",
      "|        4|    4472|\n",
      "+---------+--------+\n",
      "\n"
     ]
    }
   ],
   "source": [
    "# df.groupBy('LogonType').count().show()"
   ]
  },
  {
   "cell_type": "code",
   "execution_count": 13,
   "metadata": {},
   "outputs": [
    {
     "name": "stdout",
     "output_type": "stream",
     "text": [
      "+----------+-----+\n",
      "|    Source|count|\n",
      "+----------+-----+\n",
      "|Comp095019|  351|\n",
      "|Comp361193|30688|\n",
      "|Comp515833| 3941|\n",
      "|Comp129210|  368|\n",
      "|Comp265496| 1469|\n",
      "|Comp793733| 5792|\n",
      "|Comp213727|  774|\n",
      "|Comp403467|  796|\n",
      "|Comp852067|  360|\n",
      "|Comp449379| 1039|\n",
      "|Comp495040|  809|\n",
      "|Comp893211|  857|\n",
      "|Comp237460|  665|\n",
      "|Comp795960| 1428|\n",
      "|Comp044445|  571|\n",
      "|Comp886769|  872|\n",
      "|Comp189990| 1668|\n",
      "|Comp879962|  458|\n",
      "|Comp721320|  843|\n",
      "|Comp507421| 1300|\n",
      "+----------+-----+\n",
      "only showing top 20 rows\n",
      "\n"
     ]
    }
   ],
   "source": [
    "# df.groupBy('Source').count().show()"
   ]
  },
  {
   "cell_type": "markdown",
   "metadata": {},
   "source": [
    "## Convert time into timestamp"
   ]
  },
  {
   "cell_type": "code",
   "execution_count": 8,
   "metadata": {},
   "outputs": [
    {
     "name": "stdout",
     "output_type": "stream",
     "text": [
      "+----+-----+\n",
      "|Time|count|\n",
      "+----+-----+\n",
      "|  26|  524|\n",
      "|  29|  476|\n",
      "| 474|  459|\n",
      "| 964|  655|\n",
      "|1677|  691|\n",
      "|1697|  676|\n",
      "|1806|  544|\n",
      "|1950|  492|\n",
      "|2040|  707|\n",
      "|2214|  413|\n",
      "|2250|  772|\n",
      "|2453|  573|\n",
      "|2509|  605|\n",
      "|2529|  591|\n",
      "|2927|  442|\n",
      "|3091|  642|\n",
      "|3506|  457|\n",
      "|3764|  386|\n",
      "|4590|  459|\n",
      "|4823|  654|\n",
      "+----+-----+\n",
      "only showing top 20 rows\n",
      "\n"
     ]
    }
   ],
   "source": [
    "# df.groupBy('Time').count().show()"
   ]
  },
  {
   "cell_type": "code",
   "execution_count": null,
   "metadata": {},
   "outputs": [],
   "source": [
    "# from pyspark.sql.functions import from_unixtime\n",
    "\n",
    "# df = df.withColumn('timestamp', from_unixtime((df.Time.cast('bigint')/1000)).cast('timestamp'))\n"
   ]
  },
  {
   "cell_type": "code",
   "execution_count": 22,
   "metadata": {},
   "outputs": [
    {
     "data": {
      "text/plain": [
       "[Row(AuthenticationPackage=None, Destination=None, DomainName='Domain001', EventID=4688, FailureReason=None, LogHost='Comp607982', LogonID='0x3e7', LogonType=None, LogonTypeDescription=None, ParentProcessID='0x2ac', ParentProcessName='services', ProcessID='0x1418', ProcessName='svchost.exe', ServiceName=None, Source=None, Status=None, SubjectDomainName=None, SubjectLogonID=None, SubjectUserName=None, Time=1, UserName='Comp607982$', timestamp=datetime.datetime(1969, 12, 31, 19, 0)),\n",
       " Row(AuthenticationPackage=None, Destination=None, DomainName='Domain001', EventID=4688, FailureReason=None, LogHost='Comp991643', LogonID='0x3e7', LogonType=None, LogonTypeDescription=None, ParentProcessID='0x334', ParentProcessName='services', ProcessID='0xc0c', ProcessName='rundll32.exe', ServiceName=None, Source=None, Status=None, SubjectDomainName=None, SubjectLogonID=None, SubjectUserName=None, Time=1, UserName='Comp991643$', timestamp=datetime.datetime(1969, 12, 31, 19, 0)),\n",
       " Row(AuthenticationPackage=None, Destination=None, DomainName='Domain001', EventID=4688, FailureReason=None, LogHost='Comp736087', LogonID='0x3e7', LogonType=None, LogonTypeDescription=None, ParentProcessID='0x2e8', ParentProcessName='services', ProcessID='0x2074', ProcessName='svchost.exe', ServiceName=None, Source=None, Status=None, SubjectDomainName=None, SubjectLogonID=None, SubjectUserName=None, Time=1, UserName='Comp736087$', timestamp=datetime.datetime(1969, 12, 31, 19, 0)),\n",
       " Row(AuthenticationPackage=None, Destination=None, DomainName='Domain001', EventID=4688, FailureReason=None, LogHost='Comp093128', LogonID='0x3e7', LogonType=None, LogonTypeDescription=None, ParentProcessID='0x2d4', ParentProcessName='services', ProcessID='0x2200', ProcessName='vssvc.exe', ServiceName=None, Source=None, Status=None, SubjectDomainName=None, SubjectLogonID=None, SubjectUserName=None, Time=1, UserName='Comp093128$', timestamp=datetime.datetime(1969, 12, 31, 19, 0)),\n",
       " Row(AuthenticationPackage=None, Destination=None, DomainName='Domain001', EventID=4688, FailureReason=None, LogHost='Comp006850', LogonID='0x3e7', LogonType=None, LogonTypeDescription=None, ParentProcessID='0x278', ParentProcessName='services', ProcessID='0x498', ProcessName='svchost.exe', ServiceName=None, Source=None, Status=None, SubjectDomainName=None, SubjectLogonID=None, SubjectUserName=None, Time=1, UserName='Comp006850$', timestamp=datetime.datetime(1969, 12, 31, 19, 0)),\n",
       " Row(AuthenticationPackage='Negotiate', Destination=None, DomainName='nt authority', EventID=4624, FailureReason=None, LogHost='Comp828729', LogonID='0x3e7', LogonType=5, LogonTypeDescription='Service', ParentProcessID=None, ParentProcessName=None, ProcessID='0x29c', ProcessName='services.exe', ServiceName=None, Source=None, Status=None, SubjectDomainName=None, SubjectLogonID=None, SubjectUserName=None, Time=1, UserName='system', timestamp=datetime.datetime(1969, 12, 31, 19, 0)),\n",
       " Row(AuthenticationPackage=None, Destination=None, DomainName='nt authority', EventID=4672, FailureReason=None, LogHost='Comp828729', LogonID='0x3e7', LogonType=None, LogonTypeDescription=None, ParentProcessID=None, ParentProcessName=None, ProcessID=None, ProcessName=None, ServiceName=None, Source=None, Status=None, SubjectDomainName=None, SubjectLogonID=None, SubjectUserName=None, Time=1, UserName='system', timestamp=datetime.datetime(1969, 12, 31, 19, 0)),\n",
       " Row(AuthenticationPackage=None, Destination=None, DomainName='nt authority', EventID=4672, FailureReason=None, LogHost='Comp423597', LogonID='0x3e7', LogonType=None, LogonTypeDescription=None, ParentProcessID=None, ParentProcessName=None, ProcessID=None, ProcessName=None, ServiceName=None, Source=None, Status=None, SubjectDomainName=None, SubjectLogonID=None, SubjectUserName=None, Time=1, UserName='system', timestamp=datetime.datetime(1969, 12, 31, 19, 0)),\n",
       " Row(AuthenticationPackage=None, Destination=None, DomainName='Domain001', EventID=4688, FailureReason=None, LogHost='Comp466209', LogonID='0x3e7', LogonType=None, LogonTypeDescription=None, ParentProcessID='0x354', ParentProcessName='services', ProcessID='0x2d20', ProcessName='vssvc.exe', ServiceName=None, Source=None, Status=None, SubjectDomainName=None, SubjectLogonID=None, SubjectUserName=None, Time=1, UserName='Comp466209$', timestamp=datetime.datetime(1969, 12, 31, 19, 0)),\n",
       " Row(AuthenticationPackage=None, Destination=None, DomainName='Domain001', EventID=4688, FailureReason=None, LogHost='Comp688526', LogonID='0x3e7', LogonType=None, LogonTypeDescription=None, ParentProcessID='0x2b8', ParentProcessName='services', ProcessID='0x1ac0', ProcessName='svchost.exe', ServiceName=None, Source=None, Status=None, SubjectDomainName=None, SubjectLogonID=None, SubjectUserName=None, Time=1, UserName='Comp688526$', timestamp=datetime.datetime(1969, 12, 31, 19, 0))]"
      ]
     },
     "execution_count": 22,
     "metadata": {},
     "output_type": "execute_result"
    }
   ],
   "source": [
    "df.take(10)"
   ]
  },
  {
   "cell_type": "code",
   "execution_count": 23,
   "metadata": {},
   "outputs": [
    {
     "name": "stdout",
     "output_type": "stream",
     "text": [
      "+-------------------+------+\n",
      "|          timestamp| count|\n",
      "+-------------------+------+\n",
      "|1969-12-31 19:00:11|489183|\n",
      "|1969-12-31 19:00:15|456370|\n",
      "|1969-12-31 19:00:00|579335|\n",
      "|1969-12-31 19:00:35|885784|\n",
      "|1969-12-31 19:00:09|517308|\n",
      "|1969-12-31 19:00:06|521435|\n",
      "|1969-12-31 19:00:49|674520|\n",
      "|1969-12-31 19:01:04|656014|\n",
      "|1969-12-31 19:00:26|780890|\n",
      "|1969-12-31 19:00:38|817478|\n",
      "|1969-12-31 19:00:03|503628|\n",
      "|1969-12-31 19:00:12|487315|\n",
      "|1969-12-31 19:00:13|481071|\n",
      "|1969-12-31 19:00:34|947169|\n",
      "|1969-12-31 19:00:42|740721|\n",
      "|1969-12-31 19:00:58|653614|\n",
      "|1969-12-31 19:01:12|623624|\n",
      "|1969-12-31 19:00:41|741600|\n",
      "|1969-12-31 19:01:19|610040|\n",
      "|1969-12-31 19:01:23|632211|\n",
      "+-------------------+------+\n",
      "only showing top 20 rows\n",
      "\n"
     ]
    }
   ],
   "source": [
    "# df.groupBy('timestamp').count().show()"
   ]
  },
  {
   "cell_type": "markdown",
   "metadata": {},
   "source": [
    "## Create Window Functions (Fix Usernames)"
   ]
  },
  {
   "cell_type": "markdown",
   "metadata": {},
   "source": [
    "### Total events per user in an (last) hour window interval  \n",
    "Ref: https://stackoverflow.com/questions/45806194/pyspark-rolling-average-using-timeseries-data"
   ]
  },
  {
   "cell_type": "code",
   "execution_count": 5,
   "metadata": {},
   "outputs": [],
   "source": [
    "from pyspark.sql.window import Window\n",
    "from pyspark.sql import functions as F\n",
    "new_df = df.select(\"Time\", \"UserName\", \"EventID\")\n",
    "w = (Window.partitionBy('UserName').orderBy(F.col(\"Time\").cast('long')).rangeBetween(-3600, Window.currentRow))\n",
    "new_df = new_df.withColumn('total_events', F.count(\"Time\").over(w))"
   ]
  },
  {
   "cell_type": "code",
   "execution_count": 6,
   "metadata": {},
   "outputs": [
    {
     "data": {
      "text/plain": [
       "[Row(Time=1, UserName='Comp026768$', rolling_sum=1),\n",
       " Row(Time=1, UserName='Comp213870$', rolling_sum=2),\n",
       " Row(Time=1, UserName='Comp213870$', rolling_sum=2),\n",
       " Row(Time=1, UserName='Comp339863$', rolling_sum=2),\n",
       " Row(Time=1, UserName='Comp299420$', rolling_sum=2),\n",
       " Row(Time=1, UserName='Comp299420$', rolling_sum=2),\n",
       " Row(Time=1, UserName='Comp339863$', rolling_sum=2),\n",
       " Row(Time=1, UserName='Comp502166$', rolling_sum=1),\n",
       " Row(Time=1, UserName='Comp506838$', rolling_sum=1),\n",
       " Row(Time=1, UserName='Comp683515$', rolling_sum=3)]"
      ]
     },
     "execution_count": 6,
     "metadata": {},
     "output_type": "execute_result"
    }
   ],
   "source": [
    "new_df.orderBy(\"Time\").take(10)"
   ]
  },
  {
   "cell_type": "markdown",
   "metadata": {},
   "source": [
    "## Paritition By UserName and Event"
   ]
  },
  {
   "cell_type": "code",
   "execution_count": 22,
   "metadata": {},
   "outputs": [],
   "source": [
    "w = (Window.partitionBy('UserName', 'EventID').orderBy(F.col(\"Time\").cast('long')).rangeBetween(-3600, Window.currentRow))\n",
    "new_df = new_df.withColumn('total_per_event', F.count(\"Time\").over(w))"
   ]
  },
  {
   "cell_type": "markdown",
   "metadata": {},
   "source": [
    "### Total number of Event 4624 per user in an hour window interval  (Successful Logon)\n"
   ]
  },
  {
   "cell_type": "code",
   "execution_count": 35,
   "metadata": {},
   "outputs": [
    {
     "name": "stdout",
     "output_type": "stream",
     "text": [
      "+-----+-----------+-------+---------------+\n",
      "| Time|   UserName|EventID|total_per_event|\n",
      "+-----+-----------+-------+---------------+\n",
      "| 1859|Comp502166$|   4672|              1|\n",
      "| 8829|Comp502166$|   4672|              1|\n",
      "|14231|Comp502166$|   4672|              1|\n",
      "|17894|Comp502166$|   4672|              1|\n",
      "|21016|Comp502166$|   4672|              2|\n",
      "|28038|Comp502166$|   4672|              1|\n",
      "|33680|Comp502166$|   4672|              1|\n",
      "|39684|Comp502166$|   4672|              1|\n",
      "|45626|Comp502166$|   4672|              1|\n",
      "|46694|Comp502166$|   4672|              2|\n",
      "|51208|Comp502166$|   4672|              1|\n",
      "|56970|Comp502166$|   4672|              1|\n",
      "|62974|Comp502166$|   4672|              1|\n",
      "|68924|Comp502166$|   4672|              1|\n",
      "|75286|Comp502166$|   4672|              1|\n",
      "|75494|Comp502166$|   4672|              2|\n",
      "|80868|Comp502166$|   4672|              1|\n",
      "+-----+-----------+-------+---------------+\n",
      "\n"
     ]
    }
   ],
   "source": [
    "new_df.filter((new_df.UserName == 'Comp502166$') & (new_df.EventID == 4624)).show()"
   ]
  },
  {
   "cell_type": "markdown",
   "metadata": {},
   "source": [
    "### Total number of Event 4625 per user in an hour window interval  (Failed Logon)"
   ]
  },
  {
   "cell_type": "markdown",
   "metadata": {},
   "source": [
    "### Total number of Event 4627 per user in an hour window interval  (Group Membership)\n"
   ]
  },
  {
   "cell_type": "markdown",
   "metadata": {},
   "source": [
    "### Total number of Event 4648 per user in an hour window interval  (A logon was attempted using explicit credentials)"
   ]
  },
  {
   "cell_type": "markdown",
   "metadata": {},
   "source": [
    "### Total number of Event 4658 per user in an hour window interval  (handle to an object was closed)"
   ]
  },
  {
   "cell_type": "markdown",
   "metadata": {},
   "source": [
    "### Total number of Event 4661 per user in an hour window interval  (handle to an object was requsted)"
   ]
  },
  {
   "cell_type": "markdown",
   "metadata": {},
   "source": [
    "### Total number of Event 4672 per user in an hour window interval  (Special privileges assigned to new logon)"
   ]
  },
  {
   "cell_type": "markdown",
   "metadata": {},
   "source": [
    "### Total number of Event 4768 per user in an hour window interval  (Kerberos Authentication)"
   ]
  },
  {
   "cell_type": "markdown",
   "metadata": {},
   "source": [
    "### Total number of Event 4697 per user in an hour window interval  (A service was installed in the system)"
   ]
  },
  {
   "cell_type": "markdown",
   "metadata": {},
   "source": [
    "### Total number of Event 4698 per user in an hour window interval  (A scheduled task was created)"
   ]
  },
  {
   "cell_type": "markdown",
   "metadata": {},
   "source": [
    "### Total number of Event 4779 per user in an hour window interval  (A security-enabled local group membership was enumerated)"
   ]
  },
  {
   "cell_type": "markdown",
   "metadata": {},
   "source": [
    "### Total number of Event 5140 per user in an hour window interval  (A network share object was accessed)"
   ]
  },
  {
   "cell_type": "markdown",
   "metadata": {},
   "source": [
    "### Total number of Event 5145 per user in an hour window interval  (A network share object was checked to see whether client can be granted desired access)"
   ]
  },
  {
   "cell_type": "markdown",
   "metadata": {},
   "source": [
    "### Total number of Event 5158 per user in an hour window interval  (The Windows Filtering Platform has permitted a bind to a local port)"
   ]
  },
  {
   "cell_type": "code",
   "execution_count": null,
   "metadata": {},
   "outputs": [],
   "source": []
  },
  {
   "cell_type": "code",
   "execution_count": null,
   "metadata": {},
   "outputs": [],
   "source": []
  },
  {
   "cell_type": "markdown",
   "metadata": {},
   "source": [
    "## Concatenate datasets "
   ]
  },
  {
   "cell_type": "code",
   "execution_count": null,
   "metadata": {},
   "outputs": [],
   "source": []
  },
  {
   "cell_type": "code",
   "execution_count": null,
   "metadata": {},
   "outputs": [],
   "source": []
  },
  {
   "cell_type": "code",
   "execution_count": null,
   "metadata": {},
   "outputs": [],
   "source": []
  }
 ],
 "metadata": {
  "kernelspec": {
   "display_name": "Python 3",
   "language": "python",
   "name": "python3"
  },
  "language_info": {
   "codemirror_mode": {
    "name": "ipython",
    "version": 3
   },
   "file_extension": ".py",
   "mimetype": "text/x-python",
   "name": "python",
   "nbconvert_exporter": "python",
   "pygments_lexer": "ipython3",
   "version": "3.8.5"
  }
 },
 "nbformat": 4,
 "nbformat_minor": 4
}
