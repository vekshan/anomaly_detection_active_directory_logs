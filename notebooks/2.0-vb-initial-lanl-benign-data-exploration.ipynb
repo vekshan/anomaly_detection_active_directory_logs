{
 "cells": [
  {
   "cell_type": "code",
   "execution_count": 2,
   "metadata": {},
   "outputs": [],
   "source": [
    "import findspark\n",
    "findspark.init()"
   ]
  },
  {
   "cell_type": "code",
   "execution_count": 3,
   "metadata": {},
   "outputs": [],
   "source": [
    "import pyspark"
   ]
  },
  {
   "cell_type": "code",
   "execution_count": 4,
   "metadata": {},
   "outputs": [],
   "source": [
    "from pyspark import SparkContext, SparkConf\n",
    "from pyspark.sql import SparkSession\n",
    "conf = pyspark.SparkConf().setAppName('appName').setMaster('local')\n",
    "sc = pyspark.SparkContext(conf=conf)\n",
    "spark = SparkSession(sc)"
   ]
  },
  {
   "cell_type": "code",
   "execution_count": 5,
   "metadata": {},
   "outputs": [],
   "source": [
    "path = \"../data/raw/wls_day-01\"\n",
    "df = spark.read.json(path)"
   ]
  },
  {
   "cell_type": "code",
   "execution_count": 6,
   "metadata": {},
   "outputs": [
    {
     "name": "stdout",
     "output_type": "stream",
     "text": [
      "+---------------------+-----------+------------+-------+-------------+-------------------+---------+---------+--------------------+---------------+-----------------+---------+--------------+-----------+----------+------+-----------------+--------------+---------------+----+-----------+\n",
      "|AuthenticationPackage|Destination|  DomainName|EventID|FailureReason|            LogHost|  LogonID|LogonType|LogonTypeDescription|ParentProcessID|ParentProcessName|ProcessID|   ProcessName|ServiceName|    Source|Status|SubjectDomainName|SubjectLogonID|SubjectUserName|Time|   UserName|\n",
      "+---------------------+-----------+------------+-------+-------------+-------------------+---------+---------+--------------------+---------------+-----------------+---------+--------------+-----------+----------+------+-----------------+--------------+---------------+----+-----------+\n",
      "|                 null|       null|   Domain001|   4688|         null|         Comp607982|    0x3e7|     null|                null|          0x2ac|         services|   0x1418|   svchost.exe|       null|      null|  null|             null|          null|           null|   1|Comp607982$|\n",
      "|                 null|       null|   Domain001|   4688|         null|         Comp991643|    0x3e7|     null|                null|          0x334|         services|    0xc0c|  rundll32.exe|       null|      null|  null|             null|          null|           null|   1|Comp991643$|\n",
      "|                 null|       null|   Domain001|   4688|         null|         Comp736087|    0x3e7|     null|                null|          0x2e8|         services|   0x2074|   svchost.exe|       null|      null|  null|             null|          null|           null|   1|Comp736087$|\n",
      "|                 null|       null|   Domain001|   4688|         null|         Comp093128|    0x3e7|     null|                null|          0x2d4|         services|   0x2200|     vssvc.exe|       null|      null|  null|             null|          null|           null|   1|Comp093128$|\n",
      "|                 null|       null|   Domain001|   4688|         null|         Comp006850|    0x3e7|     null|                null|          0x278|         services|    0x498|   svchost.exe|       null|      null|  null|             null|          null|           null|   1|Comp006850$|\n",
      "|            Negotiate|       null|nt authority|   4624|         null|         Comp828729|    0x3e7|        5|             Service|           null|             null|    0x29c|  services.exe|       null|      null|  null|             null|          null|           null|   1|     system|\n",
      "|                 null|       null|nt authority|   4672|         null|         Comp828729|    0x3e7|     null|                null|           null|             null|     null|          null|       null|      null|  null|             null|          null|           null|   1|     system|\n",
      "|                 null|       null|nt authority|   4672|         null|         Comp423597|    0x3e7|     null|                null|           null|             null|     null|          null|       null|      null|  null|             null|          null|           null|   1|     system|\n",
      "|                 null|       null|   Domain001|   4688|         null|         Comp466209|    0x3e7|     null|                null|          0x354|         services|   0x2d20|     vssvc.exe|       null|      null|  null|             null|          null|           null|   1|Comp466209$|\n",
      "|                 null|       null|   Domain001|   4688|         null|         Comp688526|    0x3e7|     null|                null|          0x2b8|         services|   0x1ac0|   svchost.exe|       null|      null|  null|             null|          null|           null|   1|Comp688526$|\n",
      "|                 null|       null|   Domain001|   4688|         null|         Comp107561|    0x3e7|     null|                null|          0x2cc|         services|    0x18c|  rundll32.exe|       null|      null|  null|             null|          null|           null|   1|Comp107561$|\n",
      "|            Negotiate|       null|nt authority|   4624|         null|         Comp050550|    0x3e7|        5|             Service|           null|             null|    0x2ec|  services.exe|       null|      null|  null|             null|          null|           null|   1|     system|\n",
      "|             Kerberos|       null|   Domain001|   4624|         null|         Comp661433|0x23a8696|        3|             Network|           null|             null|     null|          null|       null|Comp939275|  null|             null|          null|           null|   1|Comp939275$|\n",
      "|                 null|       null|   Domain001|   4672|         null|         Comp661433|0x23a86bc|     null|                null|           null|             null|     null|          null|       null|      null|  null|             null|          null|           null|   1|Comp939275$|\n",
      "|             Kerberos|       null|   Domain001|   4624|         null|         Comp661433|0x23a86bc|        3|             Network|           null|             null|     null|          null|       null|Comp939275|  null|             null|          null|           null|   1|Comp939275$|\n",
      "|                 null|       null|   Domain001|   4672|         null|EnterpriseAppServer|0x8ce8976|     null|                null|           null|             null|     null|          null|       null|      null|  null|             null|          null|           null|   1| AppService|\n",
      "|                 null|       null|   Domain001|   4672|         null|         Comp661433|0x23a86cb|     null|                null|           null|             null|     null|          null|       null|      null|  null|             null|          null|           null|   1|Comp939275$|\n",
      "|                 null|       null|   Domain001|   4688|         null|         Comp093220|    0x3e7|     null|                null|          0x2c8|         services|   0x1434|   svchost.exe|       null|      null|  null|             null|          null|           null|   1|Comp093220$|\n",
      "|                 null|       null|   Domain001|   4634|         null|EnterpriseAppServer|0x8ce8976|        3|             Network|           null|             null|     null|          null|       null|      null|  null|             null|          null|           null|   1| AppService|\n",
      "|                 null| Comp457365|   Domain001|   4648|         null|EnterpriseAppServer|0x2847f68|     null|                null|           null|             null|   0x17e0|Proc746489.exe|       null|      null|  null|        Domain001|     0x2847f68|     AppService|   1| AppService|\n",
      "+---------------------+-----------+------------+-------+-------------+-------------------+---------+---------+--------------------+---------------+-----------------+---------+--------------+-----------+----------+------+-----------------+--------------+---------------+----+-----------+\n",
      "only showing top 20 rows\n",
      "\n"
     ]
    }
   ],
   "source": [
    "df.show()"
   ]
  },
  {
   "cell_type": "code",
   "execution_count": 7,
   "metadata": {},
   "outputs": [
    {
     "data": {
      "text/plain": [
       "['AuthenticationPackage',\n",
       " 'Destination',\n",
       " 'DomainName',\n",
       " 'EventID',\n",
       " 'FailureReason',\n",
       " 'LogHost',\n",
       " 'LogonID',\n",
       " 'LogonType',\n",
       " 'LogonTypeDescription',\n",
       " 'ParentProcessID',\n",
       " 'ParentProcessName',\n",
       " 'ProcessID',\n",
       " 'ProcessName',\n",
       " 'ServiceName',\n",
       " 'Source',\n",
       " 'Status',\n",
       " 'SubjectDomainName',\n",
       " 'SubjectLogonID',\n",
       " 'SubjectUserName',\n",
       " 'Time',\n",
       " 'UserName']"
      ]
     },
     "execution_count": 7,
     "metadata": {},
     "output_type": "execute_result"
    }
   ],
   "source": [
    "df.columns"
   ]
  },
  {
   "cell_type": "code",
   "execution_count": 10,
   "metadata": {},
   "outputs": [
    {
     "name": "stdout",
     "output_type": "stream",
     "text": [
      "+-------+--------+\n",
      "|EventID|   count|\n",
      "+-------+--------+\n",
      "|   4625|  335425|\n",
      "|   4608|    1607|\n",
      "|   4802|    5148|\n",
      "|   4672| 4388232|\n",
      "|   4770|      85|\n",
      "|   4801|   14899|\n",
      "|   1100|    1637|\n",
      "|   4648|  895145|\n",
      "|   4647|    3060|\n",
      "|   4624|14110061|\n",
      "|   4768|  696025|\n",
      "|   4769| 1762893|\n",
      "|   4688|14034308|\n",
      "|   4634|13826193|\n",
      "|   4689|    1111|\n",
      "|   4800|   15917|\n",
      "|   4803|    4833|\n",
      "|   4609|       9|\n",
      "|   4776| 5505769|\n",
      "|   4774|    6794|\n",
      "+-------+--------+\n",
      "\n"
     ]
    }
   ],
   "source": [
    "df.groupBy('EventID').count().show()"
   ]
  },
  {
   "cell_type": "code",
   "execution_count": 11,
   "metadata": {},
   "outputs": [
    {
     "name": "stdout",
     "output_type": "stream",
     "text": [
      "+-----------+-----+\n",
      "|   UserName|count|\n",
      "+-----------+-----+\n",
      "|Comp334881$| 2327|\n",
      "|Comp193344$| 1753|\n",
      "|Comp626532$| 1696|\n",
      "|Comp423822$| 1581|\n",
      "|Comp071603$| 1716|\n",
      "|Comp194392$| 1541|\n",
      "|Comp079982$| 2467|\n",
      "|Comp102246$| 1822|\n",
      "|Comp924592$| 1855|\n",
      "|Comp332130$| 5977|\n",
      "|Comp629929$| 1149|\n",
      "|Comp989334$| 1676|\n",
      "|Comp851861$| 2293|\n",
      "|Comp854936$| 1737|\n",
      "|Comp282520$| 3297|\n",
      "|Comp349824$| 2129|\n",
      "|Comp156468$| 1536|\n",
      "|Comp528070$| 1714|\n",
      "|Comp811288$| 1865|\n",
      "|Comp925148$| 1705|\n",
      "+-----------+-----+\n",
      "only showing top 20 rows\n",
      "\n"
     ]
    }
   ],
   "source": [
    "df.groupBy('UserName').count().show()"
   ]
  },
  {
   "cell_type": "code",
   "execution_count": 12,
   "metadata": {},
   "outputs": [
    {
     "name": "stdout",
     "output_type": "stream",
     "text": [
      "+---------+--------+\n",
      "|LogonType|   count|\n",
      "+---------+--------+\n",
      "|        0|    1616|\n",
      "|        7|   73211|\n",
      "|     null|27337472|\n",
      "|        9|   24850|\n",
      "|        5|  191974|\n",
      "|       10|    2271|\n",
      "|        3|27642694|\n",
      "|        8|   89498|\n",
      "|       11|     589|\n",
      "|        2|  240504|\n",
      "|        4|    4472|\n",
      "+---------+--------+\n",
      "\n"
     ]
    }
   ],
   "source": [
    "df.groupBy('LogonType').count().show()"
   ]
  },
  {
   "cell_type": "code",
   "execution_count": 13,
   "metadata": {},
   "outputs": [
    {
     "name": "stdout",
     "output_type": "stream",
     "text": [
      "+----------+-----+\n",
      "|    Source|count|\n",
      "+----------+-----+\n",
      "|Comp095019|  351|\n",
      "|Comp361193|30688|\n",
      "|Comp515833| 3941|\n",
      "|Comp129210|  368|\n",
      "|Comp265496| 1469|\n",
      "|Comp793733| 5792|\n",
      "|Comp213727|  774|\n",
      "|Comp403467|  796|\n",
      "|Comp852067|  360|\n",
      "|Comp449379| 1039|\n",
      "|Comp495040|  809|\n",
      "|Comp893211|  857|\n",
      "|Comp237460|  665|\n",
      "|Comp795960| 1428|\n",
      "|Comp044445|  571|\n",
      "|Comp886769|  872|\n",
      "|Comp189990| 1668|\n",
      "|Comp879962|  458|\n",
      "|Comp721320|  843|\n",
      "|Comp507421| 1300|\n",
      "+----------+-----+\n",
      "only showing top 20 rows\n",
      "\n"
     ]
    }
   ],
   "source": [
    "df.groupBy('Source').count().show()"
   ]
  },
  {
   "cell_type": "code",
   "execution_count": null,
   "metadata": {},
   "outputs": [],
   "source": []
  }
 ],
 "metadata": {
  "kernelspec": {
   "display_name": "Python 3",
   "language": "python",
   "name": "python3"
  },
  "language_info": {
   "codemirror_mode": {
    "name": "ipython",
    "version": 3
   },
   "file_extension": ".py",
   "mimetype": "text/x-python",
   "name": "python",
   "nbconvert_exporter": "python",
   "pygments_lexer": "ipython3",
   "version": "3.8.5"
  }
 },
 "nbformat": 4,
 "nbformat_minor": 4
}
