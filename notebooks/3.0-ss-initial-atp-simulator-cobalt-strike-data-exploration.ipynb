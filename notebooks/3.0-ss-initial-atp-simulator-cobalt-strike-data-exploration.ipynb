{
 "cells": [
  {
   "cell_type": "markdown",
   "metadata": {},
   "source": [
    "**Import modules**"
   ]
  },
  {
   "cell_type": "code",
   "execution_count": 1,
   "metadata": {},
   "outputs": [],
   "source": [
    "import pandas as pd\n",
    "import datetime\n",
    "import time\n",
    "from pandas.io import json\n",
    "import pyspark\n",
    "from pyspark import SparkContext, SparkConf, SQLContext\n",
    "from pyspark.sql import SparkSession\n",
    "from pyspark.sql.functions import unix_timestamp\n",
    "from pyspark.sql.types import *\n",
    "conf = pyspark.SparkConf().setAppName('appName').setMaster('local')\n",
    "sc = SparkContext(conf=conf)\n",
    "spark = SparkSession(sc)\n",
    "spark.conf.set(\"spark.sql.caseSensitive\", \"true\")\n",
    "sqlContext = SQLContext(SparkContext.getOrCreate())\n",
    "spark.conf.set(\"spark.sql.execution.arrow.enabled\", \"true\")"
   ]
  },
  {
   "cell_type": "markdown",
   "metadata": {},
   "source": [
    "**Import dataset**"
   ]
  },
  {
   "cell_type": "code",
   "execution_count": 2,
   "metadata": {},
   "outputs": [],
   "source": [
    "path = \"../data/raw/aptsimulator_cobaltstrike_2021-06-11T21081492.json\"\n",
    "df = pd.read_json(path,lines=True)\n",
    "df2 = spark.read.json(path)"
   ]
  },
  {
   "cell_type": "markdown",
   "metadata": {},
   "source": [
    "**Initial view of the the dataset**"
   ]
  },
  {
   "cell_type": "code",
   "execution_count": 3,
   "metadata": {
    "collapsed": true,
    "jupyter": {
     "outputs_hidden": true
    }
   },
   "outputs": [
    {
     "data": {
      "text/html": [
       "<div>\n",
       "<style scoped>\n",
       "    .dataframe tbody tr th:only-of-type {\n",
       "        vertical-align: middle;\n",
       "    }\n",
       "\n",
       "    .dataframe tbody tr th {\n",
       "        vertical-align: top;\n",
       "    }\n",
       "\n",
       "    .dataframe thead th {\n",
       "        text-align: right;\n",
       "    }\n",
       "</style>\n",
       "<table border=\"1\" class=\"dataframe\">\n",
       "  <thead>\n",
       "    <tr style=\"text-align: right;\">\n",
       "      <th></th>\n",
       "      <th>SourceName</th>\n",
       "      <th>ProviderGuid</th>\n",
       "      <th>Level</th>\n",
       "      <th>Keywords</th>\n",
       "      <th>Channel</th>\n",
       "      <th>Hostname</th>\n",
       "      <th>TimeCreated</th>\n",
       "      <th>@timestamp</th>\n",
       "      <th>EventID</th>\n",
       "      <th>Message</th>\n",
       "      <th>...</th>\n",
       "      <th>ServiceType</th>\n",
       "      <th>ServiceStartType</th>\n",
       "      <th>ServiceAccount</th>\n",
       "      <th>ClientProcessStartKey</th>\n",
       "      <th>ClientProcessId</th>\n",
       "      <th>ImagePath</th>\n",
       "      <th>StartType</th>\n",
       "      <th>AccountName</th>\n",
       "      <th>param1</th>\n",
       "      <th>param2</th>\n",
       "    </tr>\n",
       "  </thead>\n",
       "  <tbody>\n",
       "    <tr>\n",
       "      <th>0</th>\n",
       "      <td>Microsoft-Windows-Sysmon</td>\n",
       "      <td>{5770385f-c22a-43e0-bf4c-06f5698ffbd9}</td>\n",
       "      <td>4</td>\n",
       "      <td>0x8000000000000000</td>\n",
       "      <td>Microsoft-Windows-Sysmon/Operational</td>\n",
       "      <td>WORKSTATION5</td>\n",
       "      <td>2021-06-11T09:07:15.635Z</td>\n",
       "      <td>2021-06-11T09:07:15.635Z</td>\n",
       "      <td>1</td>\n",
       "      <td>Process Create:\\r\\nRuleName: -\\r\\nUtcTime: 202...</td>\n",
       "      <td>...</td>\n",
       "      <td>NaN</td>\n",
       "      <td>NaN</td>\n",
       "      <td>NaN</td>\n",
       "      <td>NaN</td>\n",
       "      <td>NaN</td>\n",
       "      <td>NaN</td>\n",
       "      <td>NaN</td>\n",
       "      <td>NaN</td>\n",
       "      <td>NaN</td>\n",
       "      <td>NaN</td>\n",
       "    </tr>\n",
       "    <tr>\n",
       "      <th>1</th>\n",
       "      <td>Microsoft-Windows-Sysmon</td>\n",
       "      <td>{5770385f-c22a-43e0-bf4c-06f5698ffbd9}</td>\n",
       "      <td>4</td>\n",
       "      <td>0x8000000000000000</td>\n",
       "      <td>Microsoft-Windows-Sysmon/Operational</td>\n",
       "      <td>WORKSTATION5</td>\n",
       "      <td>2021-06-11T09:07:15.636Z</td>\n",
       "      <td>2021-06-11T09:07:15.636Z</td>\n",
       "      <td>10</td>\n",
       "      <td>Process accessed:\\r\\nRuleName: -\\r\\nUtcTime: 2...</td>\n",
       "      <td>...</td>\n",
       "      <td>NaN</td>\n",
       "      <td>NaN</td>\n",
       "      <td>NaN</td>\n",
       "      <td>NaN</td>\n",
       "      <td>NaN</td>\n",
       "      <td>NaN</td>\n",
       "      <td>NaN</td>\n",
       "      <td>NaN</td>\n",
       "      <td>NaN</td>\n",
       "      <td>NaN</td>\n",
       "    </tr>\n",
       "    <tr>\n",
       "      <th>2</th>\n",
       "      <td>Microsoft-Windows-Sysmon</td>\n",
       "      <td>{5770385f-c22a-43e0-bf4c-06f5698ffbd9}</td>\n",
       "      <td>4</td>\n",
       "      <td>0x8000000000000000</td>\n",
       "      <td>Microsoft-Windows-Sysmon/Operational</td>\n",
       "      <td>WORKSTATION5</td>\n",
       "      <td>2021-06-11T09:07:15.636Z</td>\n",
       "      <td>2021-06-11T09:07:15.636Z</td>\n",
       "      <td>10</td>\n",
       "      <td>Process accessed:\\r\\nRuleName: -\\r\\nUtcTime: 2...</td>\n",
       "      <td>...</td>\n",
       "      <td>NaN</td>\n",
       "      <td>NaN</td>\n",
       "      <td>NaN</td>\n",
       "      <td>NaN</td>\n",
       "      <td>NaN</td>\n",
       "      <td>NaN</td>\n",
       "      <td>NaN</td>\n",
       "      <td>NaN</td>\n",
       "      <td>NaN</td>\n",
       "      <td>NaN</td>\n",
       "    </tr>\n",
       "    <tr>\n",
       "      <th>3</th>\n",
       "      <td>Microsoft-Windows-Sysmon</td>\n",
       "      <td>{5770385f-c22a-43e0-bf4c-06f5698ffbd9}</td>\n",
       "      <td>4</td>\n",
       "      <td>0x8000000000000000</td>\n",
       "      <td>Microsoft-Windows-Sysmon/Operational</td>\n",
       "      <td>WORKSTATION5</td>\n",
       "      <td>2021-06-11T09:07:15.636Z</td>\n",
       "      <td>2021-06-11T09:07:15.636Z</td>\n",
       "      <td>7</td>\n",
       "      <td>Image loaded:\\r\\nRuleName: -\\r\\nUtcTime: 2021-...</td>\n",
       "      <td>...</td>\n",
       "      <td>NaN</td>\n",
       "      <td>NaN</td>\n",
       "      <td>NaN</td>\n",
       "      <td>NaN</td>\n",
       "      <td>NaN</td>\n",
       "      <td>NaN</td>\n",
       "      <td>NaN</td>\n",
       "      <td>NaN</td>\n",
       "      <td>NaN</td>\n",
       "      <td>NaN</td>\n",
       "    </tr>\n",
       "    <tr>\n",
       "      <th>4</th>\n",
       "      <td>Microsoft-Windows-Sysmon</td>\n",
       "      <td>{5770385f-c22a-43e0-bf4c-06f5698ffbd9}</td>\n",
       "      <td>4</td>\n",
       "      <td>0x8000000000000000</td>\n",
       "      <td>Microsoft-Windows-Sysmon/Operational</td>\n",
       "      <td>WORKSTATION5</td>\n",
       "      <td>2021-06-11T09:07:15.636Z</td>\n",
       "      <td>2021-06-11T09:07:15.636Z</td>\n",
       "      <td>7</td>\n",
       "      <td>Image loaded:\\r\\nRuleName: -\\r\\nUtcTime: 2021-...</td>\n",
       "      <td>...</td>\n",
       "      <td>NaN</td>\n",
       "      <td>NaN</td>\n",
       "      <td>NaN</td>\n",
       "      <td>NaN</td>\n",
       "      <td>NaN</td>\n",
       "      <td>NaN</td>\n",
       "      <td>NaN</td>\n",
       "      <td>NaN</td>\n",
       "      <td>NaN</td>\n",
       "      <td>NaN</td>\n",
       "    </tr>\n",
       "  </tbody>\n",
       "</table>\n",
       "<p>5 rows × 126 columns</p>\n",
       "</div>"
      ],
      "text/plain": [
       "                 SourceName                            ProviderGuid  Level  \\\n",
       "0  Microsoft-Windows-Sysmon  {5770385f-c22a-43e0-bf4c-06f5698ffbd9}      4   \n",
       "1  Microsoft-Windows-Sysmon  {5770385f-c22a-43e0-bf4c-06f5698ffbd9}      4   \n",
       "2  Microsoft-Windows-Sysmon  {5770385f-c22a-43e0-bf4c-06f5698ffbd9}      4   \n",
       "3  Microsoft-Windows-Sysmon  {5770385f-c22a-43e0-bf4c-06f5698ffbd9}      4   \n",
       "4  Microsoft-Windows-Sysmon  {5770385f-c22a-43e0-bf4c-06f5698ffbd9}      4   \n",
       "\n",
       "             Keywords                               Channel      Hostname  \\\n",
       "0  0x8000000000000000  Microsoft-Windows-Sysmon/Operational  WORKSTATION5   \n",
       "1  0x8000000000000000  Microsoft-Windows-Sysmon/Operational  WORKSTATION5   \n",
       "2  0x8000000000000000  Microsoft-Windows-Sysmon/Operational  WORKSTATION5   \n",
       "3  0x8000000000000000  Microsoft-Windows-Sysmon/Operational  WORKSTATION5   \n",
       "4  0x8000000000000000  Microsoft-Windows-Sysmon/Operational  WORKSTATION5   \n",
       "\n",
       "                TimeCreated                @timestamp  EventID  \\\n",
       "0  2021-06-11T09:07:15.635Z  2021-06-11T09:07:15.635Z        1   \n",
       "1  2021-06-11T09:07:15.636Z  2021-06-11T09:07:15.636Z       10   \n",
       "2  2021-06-11T09:07:15.636Z  2021-06-11T09:07:15.636Z       10   \n",
       "3  2021-06-11T09:07:15.636Z  2021-06-11T09:07:15.636Z        7   \n",
       "4  2021-06-11T09:07:15.636Z  2021-06-11T09:07:15.636Z        7   \n",
       "\n",
       "                                             Message  ...  ServiceType  \\\n",
       "0  Process Create:\\r\\nRuleName: -\\r\\nUtcTime: 202...  ...          NaN   \n",
       "1  Process accessed:\\r\\nRuleName: -\\r\\nUtcTime: 2...  ...          NaN   \n",
       "2  Process accessed:\\r\\nRuleName: -\\r\\nUtcTime: 2...  ...          NaN   \n",
       "3  Image loaded:\\r\\nRuleName: -\\r\\nUtcTime: 2021-...  ...          NaN   \n",
       "4  Image loaded:\\r\\nRuleName: -\\r\\nUtcTime: 2021-...  ...          NaN   \n",
       "\n",
       "  ServiceStartType ServiceAccount ClientProcessStartKey ClientProcessId  \\\n",
       "0              NaN            NaN                   NaN             NaN   \n",
       "1              NaN            NaN                   NaN             NaN   \n",
       "2              NaN            NaN                   NaN             NaN   \n",
       "3              NaN            NaN                   NaN             NaN   \n",
       "4              NaN            NaN                   NaN             NaN   \n",
       "\n",
       "  ImagePath StartType AccountName param1 param2  \n",
       "0       NaN       NaN         NaN    NaN    NaN  \n",
       "1       NaN       NaN         NaN    NaN    NaN  \n",
       "2       NaN       NaN         NaN    NaN    NaN  \n",
       "3       NaN       NaN         NaN    NaN    NaN  \n",
       "4       NaN       NaN         NaN    NaN    NaN  \n",
       "\n",
       "[5 rows x 126 columns]"
      ]
     },
     "execution_count": 3,
     "metadata": {},
     "output_type": "execute_result"
    }
   ],
   "source": [
    "df.head()"
   ]
  },
  {
   "cell_type": "code",
   "execution_count": 4,
   "metadata": {},
   "outputs": [],
   "source": [
    "def timetounix(t):\n",
    "    return (time.mktime(datetime.datetime.strptime(t, \"%Y-%m-%dT%H:%M:%S.%fZ\").timetuple()))\n",
    "\n",
    "df['Time'] = df['TimeCreated'].apply(timetounix)"
   ]
  },
  {
   "cell_type": "code",
   "execution_count": 5,
   "metadata": {},
   "outputs": [
    {
     "data": {
      "text/plain": [
       "0       1.623417e+09\n",
       "1       1.623417e+09\n",
       "2       1.623417e+09\n",
       "3       1.623417e+09\n",
       "4       1.623417e+09\n",
       "            ...     \n",
       "2606    1.623417e+09\n",
       "2607    1.623417e+09\n",
       "2608    1.623417e+09\n",
       "2609    1.623417e+09\n",
       "2610    1.623417e+09\n",
       "Name: Time, Length: 2611, dtype: float64"
      ]
     },
     "execution_count": 5,
     "metadata": {},
     "output_type": "execute_result"
    }
   ],
   "source": [
    "df['Time']"
   ]
  },
  {
   "cell_type": "code",
   "execution_count": 6,
   "metadata": {},
   "outputs": [],
   "source": [
    "df = df[['EventID',\"SubjectUserName\",\"Time\"]]"
   ]
  },
  {
   "cell_type": "code",
   "execution_count": 7,
   "metadata": {},
   "outputs": [],
   "source": [
    "df.head()\n",
    "file_name = 'apt.csv'\n",
    "df.to_csv(file_name, sep='\\t')"
   ]
  },
  {
   "cell_type": "markdown",
   "metadata": {},
   "source": [
    "#### Notes:\n",
    "\n",
    "- Work on discretizing, normalizing and think of how to create features from the columns and have questions about the data\n",
    "\n",
    "#### Findings:\n",
    "\n",
    "- Trying to find columns similar to LANL Denign AD Logs & PurpleSharp AD Log Playbook for Lateral Movement\n",
    "\n",
    "'SourceName', <br>\n",
    "'Hostname', <br>\n",
    "'TimeCreated', <-- 'EventTime' (LANL) <br>\n",
    "'DestinationIsIpv6', 'DestinationIp', 'DestinationHostname', 'DestinationPort', 'DestinationPortName'; <-- (Look into these) <br>\n",
    "'SubjectDomainName', <br>\n",
    "'EventID', <br>\n",
    "'EventType', <br>\n",
    "'LogonId', <br>\n",
    "'ParentProcessId', <br>\n",
    "'ParentProcessName', <br>\n",
    "'ProcessID', <br>\n",
    "'ProcessName', <br>\n",
    "'NewProcessId', <br>\n",
    "'NewProcessName', <br>\n",
    "'ServiceName', <br>\n",
    "'SubjectUserSid', <br>\n",
    "'SubjectUserName', <br>\n",
    "'SubjectDomainName', <br>\n",
    "'SubjectLogonId', <br>\n",
    "'Status' <br>\n",
    "\n",
    "'AccessReason', 'Task', 'Message', 'Description', 'Details' <-- (Look into these)"
   ]
  },
  {
   "cell_type": "code",
   "execution_count": 8,
   "metadata": {},
   "outputs": [
    {
     "ename": "KeyError",
     "evalue": "\"['LogonId', 'Status', 'ServiceName', 'ProcessID', 'SourceName', 'EventType', 'SubjectLogonId', 'Hostname', 'DestinationHostname', 'ParentProcessId', 'ProcessName', 'ParentProcessName', 'SubjectDomainName'] not in index\"",
     "output_type": "error",
     "traceback": [
      "\u001b[1;31m---------------------------------------------------------------------------\u001b[0m",
      "\u001b[1;31mKeyError\u001b[0m                                  Traceback (most recent call last)",
      "\u001b[1;32m<ipython-input-8-9415ae9531b2>\u001b[0m in \u001b[0;36m<module>\u001b[1;34m\u001b[0m\n\u001b[0;32m      1\u001b[0m df_cobalt = df[['EventID', 'EventType', 'LogonId', 'Hostname', 'SubjectUserName', 'SubjectDomainName', 'SubjectLogonId', \n\u001b[0;32m      2\u001b[0m                 \u001b[1;34m'Status'\u001b[0m\u001b[1;33m,\u001b[0m \u001b[1;34m'SourceName'\u001b[0m\u001b[1;33m,\u001b[0m \u001b[1;34m'ServiceName'\u001b[0m\u001b[1;33m,\u001b[0m \u001b[1;34m'DestinationHostname'\u001b[0m\u001b[1;33m,\u001b[0m \u001b[1;34m'ProcessName'\u001b[0m\u001b[1;33m,\u001b[0m \u001b[1;34m'ProcessID'\u001b[0m\u001b[1;33m,\u001b[0m \u001b[1;34m'ParentProcessName'\u001b[0m\u001b[1;33m,\u001b[0m\u001b[1;33m\u001b[0m\u001b[1;33m\u001b[0m\u001b[0m\n\u001b[1;32m----> 3\u001b[1;33m                 'ParentProcessId']]\n\u001b[0m",
      "\u001b[1;32m~\\anaconda3\\lib\\site-packages\\pandas\\core\\frame.py\u001b[0m in \u001b[0;36m__getitem__\u001b[1;34m(self, key)\u001b[0m\n\u001b[0;32m   2804\u001b[0m             \u001b[1;32mif\u001b[0m \u001b[0mis_iterator\u001b[0m\u001b[1;33m(\u001b[0m\u001b[0mkey\u001b[0m\u001b[1;33m)\u001b[0m\u001b[1;33m:\u001b[0m\u001b[1;33m\u001b[0m\u001b[1;33m\u001b[0m\u001b[0m\n\u001b[0;32m   2805\u001b[0m                 \u001b[0mkey\u001b[0m \u001b[1;33m=\u001b[0m \u001b[0mlist\u001b[0m\u001b[1;33m(\u001b[0m\u001b[0mkey\u001b[0m\u001b[1;33m)\u001b[0m\u001b[1;33m\u001b[0m\u001b[1;33m\u001b[0m\u001b[0m\n\u001b[1;32m-> 2806\u001b[1;33m             \u001b[0mindexer\u001b[0m \u001b[1;33m=\u001b[0m \u001b[0mself\u001b[0m\u001b[1;33m.\u001b[0m\u001b[0mloc\u001b[0m\u001b[1;33m.\u001b[0m\u001b[0m_get_listlike_indexer\u001b[0m\u001b[1;33m(\u001b[0m\u001b[0mkey\u001b[0m\u001b[1;33m,\u001b[0m \u001b[0maxis\u001b[0m\u001b[1;33m=\u001b[0m\u001b[1;36m1\u001b[0m\u001b[1;33m,\u001b[0m \u001b[0mraise_missing\u001b[0m\u001b[1;33m=\u001b[0m\u001b[1;32mTrue\u001b[0m\u001b[1;33m)\u001b[0m\u001b[1;33m[\u001b[0m\u001b[1;36m1\u001b[0m\u001b[1;33m]\u001b[0m\u001b[1;33m\u001b[0m\u001b[1;33m\u001b[0m\u001b[0m\n\u001b[0m\u001b[0;32m   2807\u001b[0m \u001b[1;33m\u001b[0m\u001b[0m\n\u001b[0;32m   2808\u001b[0m         \u001b[1;31m# take() does not accept boolean indexers\u001b[0m\u001b[1;33m\u001b[0m\u001b[1;33m\u001b[0m\u001b[1;33m\u001b[0m\u001b[0m\n",
      "\u001b[1;32m~\\anaconda3\\lib\\site-packages\\pandas\\core\\indexing.py\u001b[0m in \u001b[0;36m_get_listlike_indexer\u001b[1;34m(self, key, axis, raise_missing)\u001b[0m\n\u001b[0;32m   1550\u001b[0m \u001b[1;33m\u001b[0m\u001b[0m\n\u001b[0;32m   1551\u001b[0m         self._validate_read_indexer(\n\u001b[1;32m-> 1552\u001b[1;33m             \u001b[0mkeyarr\u001b[0m\u001b[1;33m,\u001b[0m \u001b[0mindexer\u001b[0m\u001b[1;33m,\u001b[0m \u001b[0mo\u001b[0m\u001b[1;33m.\u001b[0m\u001b[0m_get_axis_number\u001b[0m\u001b[1;33m(\u001b[0m\u001b[0maxis\u001b[0m\u001b[1;33m)\u001b[0m\u001b[1;33m,\u001b[0m \u001b[0mraise_missing\u001b[0m\u001b[1;33m=\u001b[0m\u001b[0mraise_missing\u001b[0m\u001b[1;33m\u001b[0m\u001b[1;33m\u001b[0m\u001b[0m\n\u001b[0m\u001b[0;32m   1553\u001b[0m         )\n\u001b[0;32m   1554\u001b[0m         \u001b[1;32mreturn\u001b[0m \u001b[0mkeyarr\u001b[0m\u001b[1;33m,\u001b[0m \u001b[0mindexer\u001b[0m\u001b[1;33m\u001b[0m\u001b[1;33m\u001b[0m\u001b[0m\n",
      "\u001b[1;32m~\\anaconda3\\lib\\site-packages\\pandas\\core\\indexing.py\u001b[0m in \u001b[0;36m_validate_read_indexer\u001b[1;34m(self, key, indexer, axis, raise_missing)\u001b[0m\n\u001b[0;32m   1643\u001b[0m             \u001b[1;32mif\u001b[0m \u001b[1;32mnot\u001b[0m \u001b[1;33m(\u001b[0m\u001b[0mself\u001b[0m\u001b[1;33m.\u001b[0m\u001b[0mname\u001b[0m \u001b[1;33m==\u001b[0m \u001b[1;34m\"loc\"\u001b[0m \u001b[1;32mand\u001b[0m \u001b[1;32mnot\u001b[0m \u001b[0mraise_missing\u001b[0m\u001b[1;33m)\u001b[0m\u001b[1;33m:\u001b[0m\u001b[1;33m\u001b[0m\u001b[1;33m\u001b[0m\u001b[0m\n\u001b[0;32m   1644\u001b[0m                 \u001b[0mnot_found\u001b[0m \u001b[1;33m=\u001b[0m \u001b[0mlist\u001b[0m\u001b[1;33m(\u001b[0m\u001b[0mset\u001b[0m\u001b[1;33m(\u001b[0m\u001b[0mkey\u001b[0m\u001b[1;33m)\u001b[0m \u001b[1;33m-\u001b[0m \u001b[0mset\u001b[0m\u001b[1;33m(\u001b[0m\u001b[0max\u001b[0m\u001b[1;33m)\u001b[0m\u001b[1;33m)\u001b[0m\u001b[1;33m\u001b[0m\u001b[1;33m\u001b[0m\u001b[0m\n\u001b[1;32m-> 1645\u001b[1;33m                 \u001b[1;32mraise\u001b[0m \u001b[0mKeyError\u001b[0m\u001b[1;33m(\u001b[0m\u001b[1;34mf\"{not_found} not in index\"\u001b[0m\u001b[1;33m)\u001b[0m\u001b[1;33m\u001b[0m\u001b[1;33m\u001b[0m\u001b[0m\n\u001b[0m\u001b[0;32m   1646\u001b[0m \u001b[1;33m\u001b[0m\u001b[0m\n\u001b[0;32m   1647\u001b[0m             \u001b[1;31m# we skip the warning on Categorical/Interval\u001b[0m\u001b[1;33m\u001b[0m\u001b[1;33m\u001b[0m\u001b[1;33m\u001b[0m\u001b[0m\n",
      "\u001b[1;31mKeyError\u001b[0m: \"['LogonId', 'Status', 'ServiceName', 'ProcessID', 'SourceName', 'EventType', 'SubjectLogonId', 'Hostname', 'DestinationHostname', 'ParentProcessId', 'ProcessName', 'ParentProcessName', 'SubjectDomainName'] not in index\""
     ]
    }
   ],
   "source": [
    "df_cobalt = df[['EventID', 'EventType', 'LogonId', 'Hostname', 'SubjectUserName', 'SubjectDomainName', 'SubjectLogonId', \n",
    "                'Status', 'SourceName', 'ServiceName', 'DestinationHostname', 'ProcessName', 'ProcessID', 'ParentProcessName',\n",
    "                'ParentProcessId']]"
   ]
  },
  {
   "cell_type": "code",
   "execution_count": null,
   "metadata": {},
   "outputs": [],
   "source": [
    "df_cobalt.head()"
   ]
  },
  {
   "cell_type": "code",
   "execution_count": null,
   "metadata": {},
   "outputs": [],
   "source": [
    "df_cobalt.isnull().all(0)"
   ]
  },
  {
   "cell_type": "code",
   "execution_count": null,
   "metadata": {},
   "outputs": [],
   "source": [
    "for col in list(df_cobalt):\n",
    "    print(col)\n",
    "    print(df_cobalt[col].unique())"
   ]
  },
  {
   "cell_type": "code",
   "execution_count": null,
   "metadata": {},
   "outputs": [],
   "source": [
    "df_cobalt.groupby(by=['ServiceName']).get_group('tbbd05')"
   ]
  },
  {
   "cell_type": "code",
   "execution_count": null,
   "metadata": {},
   "outputs": [],
   "source": [
    "df2.groupby('Status').count().show()"
   ]
  },
  {
   "cell_type": "code",
   "execution_count": null,
   "metadata": {},
   "outputs": [],
   "source": [
    "df2.groupby('Task').count().show()"
   ]
  },
  {
   "cell_type": "code",
   "execution_count": null,
   "metadata": {},
   "outputs": [],
   "source": [
    "df2.groupby('SourceName').count().show()"
   ]
  },
  {
   "cell_type": "code",
   "execution_count": null,
   "metadata": {},
   "outputs": [],
   "source": [
    "df2.groupby('Hostname').count().show()"
   ]
  },
  {
   "cell_type": "code",
   "execution_count": null,
   "metadata": {},
   "outputs": [],
   "source": [
    "df2.groupby('EventID').count().show()"
   ]
  },
  {
   "cell_type": "code",
   "execution_count": null,
   "metadata": {},
   "outputs": [],
   "source": [
    "df2.groupby('LogonId').count().show()                "
   ]
  },
  {
   "cell_type": "code",
   "execution_count": null,
   "metadata": {},
   "outputs": [],
   "source": [
    "df2.groupby('Channel').count().show()"
   ]
  },
  {
   "cell_type": "code",
   "execution_count": null,
   "metadata": {},
   "outputs": [],
   "source": [
    "df2.groupby('Keywords').count().show()"
   ]
  },
  {
   "cell_type": "code",
   "execution_count": null,
   "metadata": {},
   "outputs": [],
   "source": [
    "df2.groupby('Message').count().show()"
   ]
  },
  {
   "cell_type": "code",
   "execution_count": null,
   "metadata": {},
   "outputs": [],
   "source": [
    "df2.groupby('SourceName','EventID').count().show()"
   ]
  },
  {
   "cell_type": "code",
   "execution_count": null,
   "metadata": {},
   "outputs": [],
   "source": [
    "df2.groupby('SourceName','LogonId').count().show()"
   ]
  },
  {
   "cell_type": "code",
   "execution_count": null,
   "metadata": {},
   "outputs": [],
   "source": []
  }
 ],
 "metadata": {
  "kernelspec": {
   "display_name": "Python 3",
   "language": "python",
   "name": "python3"
  },
  "language_info": {
   "codemirror_mode": {
    "name": "ipython",
    "version": 3
   },
   "file_extension": ".py",
   "mimetype": "text/x-python",
   "name": "python",
   "nbconvert_exporter": "python",
   "pygments_lexer": "ipython3",
   "version": "3.7.6"
  }
 },
 "nbformat": 4,
 "nbformat_minor": 5
}
