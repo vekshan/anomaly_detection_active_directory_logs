{
 "cells": [
  {
   "cell_type": "markdown",
   "metadata": {},
   "source": [
    "**Import modules**"
   ]
  },
  {
   "cell_type": "code",
   "execution_count": 1,
   "metadata": {},
   "outputs": [],
   "source": [
    "import pandas as pd\n",
    "import datetime\n",
    "from pandas.io import json\n",
    "import pyspark\n",
    "from pyspark import SparkContext, SparkConf\n",
    "from pyspark.sql import SparkSession\n",
    "from pyspark.sql.functions import unix_timestamp\n",
    "conf = pyspark.SparkConf().setAppName('appName').setMaster('local')\n",
    "sc = pyspark.SparkContext(conf=conf)\n",
    "spark = SparkSession(sc)\n",
    "spark.conf.set(\"spark.sql.caseSensitive\", \"true\")"
   ]
  },
  {
   "cell_type": "markdown",
   "metadata": {},
   "source": [
    "**Import dataset**"
   ]
  },
  {
   "cell_type": "code",
   "execution_count": 2,
   "metadata": {},
   "outputs": [],
   "source": [
    "path = \"dataset/aptsimulator_cobaltstrike_2021-06-11T21081492.json\"\n",
    "df = json.read_json(path, lines=True)\n",
    "df2 = spark.read.json(path)"
   ]
  },
  {
   "cell_type": "markdown",
   "metadata": {},
   "source": [
    "**Initial view of the the dataset**"
   ]
  },
  {
   "cell_type": "code",
   "execution_count": 3,
   "metadata": {},
   "outputs": [
    {
     "data": {
      "text/html": [
       "<div>\n",
       "<style scoped>\n",
       "    .dataframe tbody tr th:only-of-type {\n",
       "        vertical-align: middle;\n",
       "    }\n",
       "\n",
       "    .dataframe tbody tr th {\n",
       "        vertical-align: top;\n",
       "    }\n",
       "\n",
       "    .dataframe thead th {\n",
       "        text-align: right;\n",
       "    }\n",
       "</style>\n",
       "<table border=\"1\" class=\"dataframe\">\n",
       "  <thead>\n",
       "    <tr style=\"text-align: right;\">\n",
       "      <th></th>\n",
       "      <th>SourceName</th>\n",
       "      <th>ProviderGuid</th>\n",
       "      <th>Level</th>\n",
       "      <th>Keywords</th>\n",
       "      <th>Channel</th>\n",
       "      <th>Hostname</th>\n",
       "      <th>TimeCreated</th>\n",
       "      <th>@timestamp</th>\n",
       "      <th>EventID</th>\n",
       "      <th>Message</th>\n",
       "      <th>...</th>\n",
       "      <th>ServiceType</th>\n",
       "      <th>ServiceStartType</th>\n",
       "      <th>ServiceAccount</th>\n",
       "      <th>ClientProcessStartKey</th>\n",
       "      <th>ClientProcessId</th>\n",
       "      <th>ImagePath</th>\n",
       "      <th>StartType</th>\n",
       "      <th>AccountName</th>\n",
       "      <th>param1</th>\n",
       "      <th>param2</th>\n",
       "    </tr>\n",
       "  </thead>\n",
       "  <tbody>\n",
       "    <tr>\n",
       "      <th>0</th>\n",
       "      <td>Microsoft-Windows-Sysmon</td>\n",
       "      <td>{5770385f-c22a-43e0-bf4c-06f5698ffbd9}</td>\n",
       "      <td>4</td>\n",
       "      <td>0x8000000000000000</td>\n",
       "      <td>Microsoft-Windows-Sysmon/Operational</td>\n",
       "      <td>WORKSTATION5</td>\n",
       "      <td>2021-06-11T09:07:15.635Z</td>\n",
       "      <td>2021-06-11T09:07:15.635Z</td>\n",
       "      <td>1</td>\n",
       "      <td>Process Create:\\r\\nRuleName: -\\r\\nUtcTime: 202...</td>\n",
       "      <td>...</td>\n",
       "      <td>NaN</td>\n",
       "      <td>NaN</td>\n",
       "      <td>NaN</td>\n",
       "      <td>NaN</td>\n",
       "      <td>NaN</td>\n",
       "      <td>NaN</td>\n",
       "      <td>NaN</td>\n",
       "      <td>NaN</td>\n",
       "      <td>NaN</td>\n",
       "      <td>NaN</td>\n",
       "    </tr>\n",
       "    <tr>\n",
       "      <th>1</th>\n",
       "      <td>Microsoft-Windows-Sysmon</td>\n",
       "      <td>{5770385f-c22a-43e0-bf4c-06f5698ffbd9}</td>\n",
       "      <td>4</td>\n",
       "      <td>0x8000000000000000</td>\n",
       "      <td>Microsoft-Windows-Sysmon/Operational</td>\n",
       "      <td>WORKSTATION5</td>\n",
       "      <td>2021-06-11T09:07:15.636Z</td>\n",
       "      <td>2021-06-11T09:07:15.636Z</td>\n",
       "      <td>10</td>\n",
       "      <td>Process accessed:\\r\\nRuleName: -\\r\\nUtcTime: 2...</td>\n",
       "      <td>...</td>\n",
       "      <td>NaN</td>\n",
       "      <td>NaN</td>\n",
       "      <td>NaN</td>\n",
       "      <td>NaN</td>\n",
       "      <td>NaN</td>\n",
       "      <td>NaN</td>\n",
       "      <td>NaN</td>\n",
       "      <td>NaN</td>\n",
       "      <td>NaN</td>\n",
       "      <td>NaN</td>\n",
       "    </tr>\n",
       "    <tr>\n",
       "      <th>2</th>\n",
       "      <td>Microsoft-Windows-Sysmon</td>\n",
       "      <td>{5770385f-c22a-43e0-bf4c-06f5698ffbd9}</td>\n",
       "      <td>4</td>\n",
       "      <td>0x8000000000000000</td>\n",
       "      <td>Microsoft-Windows-Sysmon/Operational</td>\n",
       "      <td>WORKSTATION5</td>\n",
       "      <td>2021-06-11T09:07:15.636Z</td>\n",
       "      <td>2021-06-11T09:07:15.636Z</td>\n",
       "      <td>10</td>\n",
       "      <td>Process accessed:\\r\\nRuleName: -\\r\\nUtcTime: 2...</td>\n",
       "      <td>...</td>\n",
       "      <td>NaN</td>\n",
       "      <td>NaN</td>\n",
       "      <td>NaN</td>\n",
       "      <td>NaN</td>\n",
       "      <td>NaN</td>\n",
       "      <td>NaN</td>\n",
       "      <td>NaN</td>\n",
       "      <td>NaN</td>\n",
       "      <td>NaN</td>\n",
       "      <td>NaN</td>\n",
       "    </tr>\n",
       "    <tr>\n",
       "      <th>3</th>\n",
       "      <td>Microsoft-Windows-Sysmon</td>\n",
       "      <td>{5770385f-c22a-43e0-bf4c-06f5698ffbd9}</td>\n",
       "      <td>4</td>\n",
       "      <td>0x8000000000000000</td>\n",
       "      <td>Microsoft-Windows-Sysmon/Operational</td>\n",
       "      <td>WORKSTATION5</td>\n",
       "      <td>2021-06-11T09:07:15.636Z</td>\n",
       "      <td>2021-06-11T09:07:15.636Z</td>\n",
       "      <td>7</td>\n",
       "      <td>Image loaded:\\r\\nRuleName: -\\r\\nUtcTime: 2021-...</td>\n",
       "      <td>...</td>\n",
       "      <td>NaN</td>\n",
       "      <td>NaN</td>\n",
       "      <td>NaN</td>\n",
       "      <td>NaN</td>\n",
       "      <td>NaN</td>\n",
       "      <td>NaN</td>\n",
       "      <td>NaN</td>\n",
       "      <td>NaN</td>\n",
       "      <td>NaN</td>\n",
       "      <td>NaN</td>\n",
       "    </tr>\n",
       "    <tr>\n",
       "      <th>4</th>\n",
       "      <td>Microsoft-Windows-Sysmon</td>\n",
       "      <td>{5770385f-c22a-43e0-bf4c-06f5698ffbd9}</td>\n",
       "      <td>4</td>\n",
       "      <td>0x8000000000000000</td>\n",
       "      <td>Microsoft-Windows-Sysmon/Operational</td>\n",
       "      <td>WORKSTATION5</td>\n",
       "      <td>2021-06-11T09:07:15.636Z</td>\n",
       "      <td>2021-06-11T09:07:15.636Z</td>\n",
       "      <td>7</td>\n",
       "      <td>Image loaded:\\r\\nRuleName: -\\r\\nUtcTime: 2021-...</td>\n",
       "      <td>...</td>\n",
       "      <td>NaN</td>\n",
       "      <td>NaN</td>\n",
       "      <td>NaN</td>\n",
       "      <td>NaN</td>\n",
       "      <td>NaN</td>\n",
       "      <td>NaN</td>\n",
       "      <td>NaN</td>\n",
       "      <td>NaN</td>\n",
       "      <td>NaN</td>\n",
       "      <td>NaN</td>\n",
       "    </tr>\n",
       "  </tbody>\n",
       "</table>\n",
       "<p>5 rows × 126 columns</p>\n",
       "</div>"
      ],
      "text/plain": [
       "                 SourceName                            ProviderGuid  Level  \\\n",
       "0  Microsoft-Windows-Sysmon  {5770385f-c22a-43e0-bf4c-06f5698ffbd9}      4   \n",
       "1  Microsoft-Windows-Sysmon  {5770385f-c22a-43e0-bf4c-06f5698ffbd9}      4   \n",
       "2  Microsoft-Windows-Sysmon  {5770385f-c22a-43e0-bf4c-06f5698ffbd9}      4   \n",
       "3  Microsoft-Windows-Sysmon  {5770385f-c22a-43e0-bf4c-06f5698ffbd9}      4   \n",
       "4  Microsoft-Windows-Sysmon  {5770385f-c22a-43e0-bf4c-06f5698ffbd9}      4   \n",
       "\n",
       "             Keywords                               Channel      Hostname  \\\n",
       "0  0x8000000000000000  Microsoft-Windows-Sysmon/Operational  WORKSTATION5   \n",
       "1  0x8000000000000000  Microsoft-Windows-Sysmon/Operational  WORKSTATION5   \n",
       "2  0x8000000000000000  Microsoft-Windows-Sysmon/Operational  WORKSTATION5   \n",
       "3  0x8000000000000000  Microsoft-Windows-Sysmon/Operational  WORKSTATION5   \n",
       "4  0x8000000000000000  Microsoft-Windows-Sysmon/Operational  WORKSTATION5   \n",
       "\n",
       "                TimeCreated                @timestamp  EventID  \\\n",
       "0  2021-06-11T09:07:15.635Z  2021-06-11T09:07:15.635Z        1   \n",
       "1  2021-06-11T09:07:15.636Z  2021-06-11T09:07:15.636Z       10   \n",
       "2  2021-06-11T09:07:15.636Z  2021-06-11T09:07:15.636Z       10   \n",
       "3  2021-06-11T09:07:15.636Z  2021-06-11T09:07:15.636Z        7   \n",
       "4  2021-06-11T09:07:15.636Z  2021-06-11T09:07:15.636Z        7   \n",
       "\n",
       "                                             Message  ...  ServiceType  \\\n",
       "0  Process Create:\\r\\nRuleName: -\\r\\nUtcTime: 202...  ...          NaN   \n",
       "1  Process accessed:\\r\\nRuleName: -\\r\\nUtcTime: 2...  ...          NaN   \n",
       "2  Process accessed:\\r\\nRuleName: -\\r\\nUtcTime: 2...  ...          NaN   \n",
       "3  Image loaded:\\r\\nRuleName: -\\r\\nUtcTime: 2021-...  ...          NaN   \n",
       "4  Image loaded:\\r\\nRuleName: -\\r\\nUtcTime: 2021-...  ...          NaN   \n",
       "\n",
       "  ServiceStartType ServiceAccount ClientProcessStartKey ClientProcessId  \\\n",
       "0              NaN            NaN                   NaN             NaN   \n",
       "1              NaN            NaN                   NaN             NaN   \n",
       "2              NaN            NaN                   NaN             NaN   \n",
       "3              NaN            NaN                   NaN             NaN   \n",
       "4              NaN            NaN                   NaN             NaN   \n",
       "\n",
       "  ImagePath StartType AccountName param1 param2  \n",
       "0       NaN       NaN         NaN    NaN    NaN  \n",
       "1       NaN       NaN         NaN    NaN    NaN  \n",
       "2       NaN       NaN         NaN    NaN    NaN  \n",
       "3       NaN       NaN         NaN    NaN    NaN  \n",
       "4       NaN       NaN         NaN    NaN    NaN  \n",
       "\n",
       "[5 rows x 126 columns]"
      ]
     },
     "execution_count": 3,
     "metadata": {},
     "output_type": "execute_result"
    }
   ],
   "source": [
    "df.head()"
   ]
  },
  {
   "cell_type": "code",
   "execution_count": 27,
   "metadata": {},
   "outputs": [],
   "source": [
    "def timeconvert(t):\n",
    "    result = datetime.datetime.strptime(t, \"%Y-%m-%dT%H:%M:%S.%fZ\")\n",
    "    return result.strftime(\"%d %b %Y\")"
   ]
  },
  {
   "cell_type": "code",
   "execution_count": 28,
   "metadata": {},
   "outputs": [],
   "source": [
    "df['TimeCreated'] = df['TimeCreated'].apply(timeconvert)"
   ]
  },
  {
   "cell_type": "code",
   "execution_count": 29,
   "metadata": {},
   "outputs": [
    {
     "data": {
      "text/plain": [
       "0       11 Jun 2021\n",
       "1       11 Jun 2021\n",
       "2       11 Jun 2021\n",
       "3       11 Jun 2021\n",
       "4       11 Jun 2021\n",
       "           ...     \n",
       "2606    11 Jun 2021\n",
       "2607    11 Jun 2021\n",
       "2608    11 Jun 2021\n",
       "2609    11 Jun 2021\n",
       "2610    11 Jun 2021\n",
       "Name: TimeCreated, Length: 2611, dtype: object"
      ]
     },
     "execution_count": 29,
     "metadata": {},
     "output_type": "execute_result"
    }
   ],
   "source": [
    "df['TimeCreated']"
   ]
  },
  {
   "cell_type": "markdown",
   "metadata": {},
   "source": [
    "**View all columns/features in raw dataset"
   ]
  },
  {
   "cell_type": "code",
   "execution_count": 30,
   "metadata": {},
   "outputs": [
    {
     "data": {
      "text/plain": [
       "Index(['SourceName', 'ProviderGuid', 'Level', 'Keywords', 'Channel',\n",
       "       'Hostname', 'TimeCreated', '@timestamp', 'EventID', 'Message',\n",
       "       ...\n",
       "       'ServiceStartType', 'ServiceAccount', 'ClientProcessStartKey',\n",
       "       'ClientProcessId', 'ImagePath', 'StartType', 'AccountName', 'param1',\n",
       "       'param2', 'unix'],\n",
       "      dtype='object', length=127)"
      ]
     },
     "execution_count": 30,
     "metadata": {},
     "output_type": "execute_result"
    }
   ],
   "source": [
    "df.columns"
   ]
  },
  {
   "cell_type": "code",
   "execution_count": 10,
   "metadata": {},
   "outputs": [
    {
     "name": "stdout",
     "output_type": "stream",
     "text": [
      "['SourceName', 'ProviderGuid', 'Level', 'Keywords', 'Channel', 'Hostname', 'TimeCreated', '@timestamp', 'EventID', 'Message', 'Task', 'RuleName', 'UtcTime', 'ProcessGuid', 'ProcessId', 'Image', 'FileVersion', 'Description', 'Product', 'Company', 'OriginalFileName', 'CommandLine', 'CurrentDirectory', 'User', 'LogonGuid', 'LogonId', 'TerminalSessionId', 'IntegrityLevel', 'Hashes', 'ParentProcessGuid', 'ParentProcessId', 'ParentImage', 'ParentCommandLine', 'SourceProcessGUID', 'SourceProcessId', 'SourceThreadId', 'SourceImage', 'TargetProcessGUID', 'TargetProcessId', 'TargetImage', 'GrantedAccess', 'CallTrace', 'ImageLoaded', 'Signed', 'Signature', 'SignatureStatus', 'TargetFilename', 'IsExecutable', 'CreationUtcTime', 'EventType', 'TargetObject', 'Details', 'PipeName', 'Device', 'Protocol', 'Initiated', 'SourceIsIpv6', 'SourceIp', 'SourceHostname', 'SourcePort', 'SourcePortName', 'DestinationIsIpv6', 'DestinationIp', 'DestinationHostname', 'DestinationPort', 'DestinationPortName', 'ProcessID', 'Application', 'Direction', 'SourceAddress', 'DestAddress', 'DestPort', 'FilterRTID', 'LayerName', 'LayerRTID', 'RemoteUserID', 'RemoteMachineID', 'SubjectUserSid', 'SubjectUserName', 'SubjectDomainName', 'SubjectLogonId', 'Status', 'ProcessName', 'NewProcessId', 'NewProcessName', 'TokenElevationType', 'TargetUserSid', 'TargetUserName', 'TargetDomainName', 'TargetLogonId', 'ParentProcessName', 'MandatoryLabel', 'SourceHandleId', 'TargetHandleId', 'ObjectServer', 'HandleId', 'ObjectType', 'ObjectName', 'TransactionId', 'AccessList', 'AccessReason', 'AccessMask', 'PrivilegeList', 'RestrictedSidCount', 'ResourceAttributes', 'EnabledPrivilegeList', 'DisabledPrivilegeList', 'OldSd', 'NewSd', 'IpAddress', 'IpPort', 'ShareName', 'ShareLocalPath', 'RelativeTargetName', 'ServiceName', 'ServiceFileName', 'ServiceType', 'ServiceStartType', 'ServiceAccount', 'ClientProcessStartKey', 'ClientProcessId', 'ImagePath', 'StartType', 'AccountName', 'param1', 'param2']\n"
     ]
    }
   ],
   "source": [
    "print(df.columns.tolist())"
   ]
  },
  {
   "cell_type": "markdown",
   "metadata": {},
   "source": [
    "#### Notes:\n",
    "\n",
    "- Work on discretizing, normalizing and think of how to create features from the columns and have questions about the data\n",
    "\n",
    "#### Findings:\n",
    "\n",
    "- Trying to find columns similar to LANL Denign AD Logs & PurpleSharp AD Log Playbook for Lateral Movement\n",
    "\n",
    "'SourceName', <br>\n",
    "'Hostname', <br>\n",
    "'TimeCreated', <-- 'EventTime' (LANL) <br>\n",
    "'DestinationIsIpv6', 'DestinationIp', 'DestinationHostname', 'DestinationPort', 'DestinationPortName'; <-- (Look into these) <br>\n",
    "'SubjectDomainName', <br>\n",
    "'EventID', <br>\n",
    "'EventType', <br>\n",
    "'LogonId', <br>\n",
    "'ParentProcessId', <br>\n",
    "'ParentProcessName', <br>\n",
    "'ProcessID', <br>\n",
    "'ProcessName', <br>\n",
    "'NewProcessId', <br>\n",
    "'NewProcessName', <br>\n",
    "'ServiceName', <br>\n",
    "'SubjectUserSid', <br>\n",
    "'SubjectUserName', <br>\n",
    "'SubjectDomainName', <br>\n",
    "'SubjectLogonId', <br>\n",
    "'Status' <br>\n",
    "\n",
    "'AccessReason', 'Task', 'Message', 'Description', 'Details' <-- (Look into these)"
   ]
  },
  {
   "cell_type": "code",
   "execution_count": 7,
   "metadata": {},
   "outputs": [],
   "source": [
    "df_cobalt = df[['EventID', 'EventType', 'LogonId', 'Hostname', 'SubjectUserName', 'SubjectDomainName', 'SubjectLogonId', \n",
    "                'Status', 'SourceName', 'ServiceName', 'DestinationHostname', 'ProcessName', 'ProcessID', 'ParentProcessName',\n",
    "                'ParentProcessId']]"
   ]
  },
  {
   "cell_type": "code",
   "execution_count": 8,
   "metadata": {},
   "outputs": [
    {
     "data": {
      "text/html": [
       "<div>\n",
       "<style scoped>\n",
       "    .dataframe tbody tr th:only-of-type {\n",
       "        vertical-align: middle;\n",
       "    }\n",
       "\n",
       "    .dataframe tbody tr th {\n",
       "        vertical-align: top;\n",
       "    }\n",
       "\n",
       "    .dataframe thead th {\n",
       "        text-align: right;\n",
       "    }\n",
       "</style>\n",
       "<table border=\"1\" class=\"dataframe\">\n",
       "  <thead>\n",
       "    <tr style=\"text-align: right;\">\n",
       "      <th></th>\n",
       "      <th>EventID</th>\n",
       "      <th>EventType</th>\n",
       "      <th>LogonId</th>\n",
       "      <th>Hostname</th>\n",
       "      <th>SubjectUserName</th>\n",
       "      <th>SubjectDomainName</th>\n",
       "      <th>SubjectLogonId</th>\n",
       "      <th>Status</th>\n",
       "      <th>SourceName</th>\n",
       "      <th>ServiceName</th>\n",
       "      <th>DestinationHostname</th>\n",
       "      <th>ProcessName</th>\n",
       "      <th>ProcessID</th>\n",
       "      <th>ParentProcessName</th>\n",
       "      <th>ParentProcessId</th>\n",
       "    </tr>\n",
       "  </thead>\n",
       "  <tbody>\n",
       "    <tr>\n",
       "      <th>0</th>\n",
       "      <td>1</td>\n",
       "      <td>NaN</td>\n",
       "      <td>0x3719fb</td>\n",
       "      <td>WORKSTATION5</td>\n",
       "      <td>NaN</td>\n",
       "      <td>NaN</td>\n",
       "      <td>NaN</td>\n",
       "      <td>NaN</td>\n",
       "      <td>Microsoft-Windows-Sysmon</td>\n",
       "      <td>NaN</td>\n",
       "      <td>NaN</td>\n",
       "      <td>NaN</td>\n",
       "      <td>NaN</td>\n",
       "      <td>NaN</td>\n",
       "      <td>5632.0</td>\n",
       "    </tr>\n",
       "    <tr>\n",
       "      <th>1</th>\n",
       "      <td>10</td>\n",
       "      <td>NaN</td>\n",
       "      <td>NaN</td>\n",
       "      <td>WORKSTATION5</td>\n",
       "      <td>NaN</td>\n",
       "      <td>NaN</td>\n",
       "      <td>NaN</td>\n",
       "      <td>NaN</td>\n",
       "      <td>Microsoft-Windows-Sysmon</td>\n",
       "      <td>NaN</td>\n",
       "      <td>NaN</td>\n",
       "      <td>NaN</td>\n",
       "      <td>NaN</td>\n",
       "      <td>NaN</td>\n",
       "      <td>NaN</td>\n",
       "    </tr>\n",
       "    <tr>\n",
       "      <th>2</th>\n",
       "      <td>10</td>\n",
       "      <td>NaN</td>\n",
       "      <td>NaN</td>\n",
       "      <td>WORKSTATION5</td>\n",
       "      <td>NaN</td>\n",
       "      <td>NaN</td>\n",
       "      <td>NaN</td>\n",
       "      <td>NaN</td>\n",
       "      <td>Microsoft-Windows-Sysmon</td>\n",
       "      <td>NaN</td>\n",
       "      <td>NaN</td>\n",
       "      <td>NaN</td>\n",
       "      <td>NaN</td>\n",
       "      <td>NaN</td>\n",
       "      <td>NaN</td>\n",
       "    </tr>\n",
       "    <tr>\n",
       "      <th>3</th>\n",
       "      <td>7</td>\n",
       "      <td>NaN</td>\n",
       "      <td>NaN</td>\n",
       "      <td>WORKSTATION5</td>\n",
       "      <td>NaN</td>\n",
       "      <td>NaN</td>\n",
       "      <td>NaN</td>\n",
       "      <td>NaN</td>\n",
       "      <td>Microsoft-Windows-Sysmon</td>\n",
       "      <td>NaN</td>\n",
       "      <td>NaN</td>\n",
       "      <td>NaN</td>\n",
       "      <td>NaN</td>\n",
       "      <td>NaN</td>\n",
       "      <td>NaN</td>\n",
       "    </tr>\n",
       "    <tr>\n",
       "      <th>4</th>\n",
       "      <td>7</td>\n",
       "      <td>NaN</td>\n",
       "      <td>NaN</td>\n",
       "      <td>WORKSTATION5</td>\n",
       "      <td>NaN</td>\n",
       "      <td>NaN</td>\n",
       "      <td>NaN</td>\n",
       "      <td>NaN</td>\n",
       "      <td>Microsoft-Windows-Sysmon</td>\n",
       "      <td>NaN</td>\n",
       "      <td>NaN</td>\n",
       "      <td>NaN</td>\n",
       "      <td>NaN</td>\n",
       "      <td>NaN</td>\n",
       "      <td>NaN</td>\n",
       "    </tr>\n",
       "  </tbody>\n",
       "</table>\n",
       "</div>"
      ],
      "text/plain": [
       "   EventID EventType   LogonId      Hostname SubjectUserName  \\\n",
       "0        1       NaN  0x3719fb  WORKSTATION5             NaN   \n",
       "1       10       NaN       NaN  WORKSTATION5             NaN   \n",
       "2       10       NaN       NaN  WORKSTATION5             NaN   \n",
       "3        7       NaN       NaN  WORKSTATION5             NaN   \n",
       "4        7       NaN       NaN  WORKSTATION5             NaN   \n",
       "\n",
       "  SubjectDomainName SubjectLogonId Status                SourceName  \\\n",
       "0               NaN            NaN    NaN  Microsoft-Windows-Sysmon   \n",
       "1               NaN            NaN    NaN  Microsoft-Windows-Sysmon   \n",
       "2               NaN            NaN    NaN  Microsoft-Windows-Sysmon   \n",
       "3               NaN            NaN    NaN  Microsoft-Windows-Sysmon   \n",
       "4               NaN            NaN    NaN  Microsoft-Windows-Sysmon   \n",
       "\n",
       "  ServiceName DestinationHostname ProcessName  ProcessID ParentProcessName  \\\n",
       "0         NaN                 NaN         NaN        NaN               NaN   \n",
       "1         NaN                 NaN         NaN        NaN               NaN   \n",
       "2         NaN                 NaN         NaN        NaN               NaN   \n",
       "3         NaN                 NaN         NaN        NaN               NaN   \n",
       "4         NaN                 NaN         NaN        NaN               NaN   \n",
       "\n",
       "   ParentProcessId  \n",
       "0           5632.0  \n",
       "1              NaN  \n",
       "2              NaN  \n",
       "3              NaN  \n",
       "4              NaN  "
      ]
     },
     "execution_count": 8,
     "metadata": {},
     "output_type": "execute_result"
    }
   ],
   "source": [
    "df_cobalt.head()"
   ]
  },
  {
   "cell_type": "code",
   "execution_count": 9,
   "metadata": {},
   "outputs": [
    {
     "data": {
      "text/plain": [
       "EventID                False\n",
       "EventType              False\n",
       "LogonId                False\n",
       "Hostname               False\n",
       "SubjectUserName        False\n",
       "SubjectDomainName      False\n",
       "SubjectLogonId         False\n",
       "Status                 False\n",
       "SourceName             False\n",
       "ServiceName            False\n",
       "DestinationHostname    False\n",
       "ProcessName            False\n",
       "ProcessID              False\n",
       "ParentProcessName      False\n",
       "ParentProcessId        False\n",
       "dtype: bool"
      ]
     },
     "execution_count": 9,
     "metadata": {},
     "output_type": "execute_result"
    }
   ],
   "source": [
    "df_cobalt.isnull().all(0)"
   ]
  },
  {
   "cell_type": "code",
   "execution_count": 10,
   "metadata": {},
   "outputs": [
    {
     "name": "stdout",
     "output_type": "stream",
     "text": [
      "EventID\n",
      "[   1   10    7    5   26   11   13   12   17    9   18    3 5156 5158\n",
      " 4689 4688 4690 4658 4656 4663 4703 4670 5140 5145 4697 7045 7009 7000]\n",
      "EventType\n",
      "[nan 'SetValue' 'CreateKey' 'CreatePipe' 'DeleteKey' 'ConnectPipe']\n",
      "LogonId\n",
      "['0x3719fb' nan '0x3e7']\n",
      "Hostname\n",
      "['WORKSTATION5']\n",
      "SubjectUserName\n",
      "[nan 'APT-Simulator' 'WORKSTATION5$']\n",
      "SubjectDomainName\n",
      "[nan 'WORKSTATION5' 'WORKGROUP']\n",
      "SubjectLogonId\n",
      "[nan '0x3719fb' '0x3e7']\n",
      "Status\n",
      "[nan '0x0' '0x1' '0x2' '0x41d' '0x426' '0x80' '0x7']\n",
      "SourceName\n",
      "['Microsoft-Windows-Sysmon' 'Microsoft-Windows-Security-Auditing'\n",
      " 'Service Control Manager']\n",
      "ServiceName\n",
      "[nan 'tbbd05']\n",
      "DestinationHostname\n",
      "[nan '-']\n",
      "ProcessName\n",
      "[nan 'C:\\\\Windows\\\\System32\\\\PING.EXE'\n",
      " 'C:\\\\Users\\\\APT-Simulator\\\\Documents\\\\APTSimulator-master\\\\helpers\\\\7z.exe'\n",
      " 'C:\\\\Windows\\\\System32\\\\conhost.exe' 'C:\\\\Windows\\\\System32\\\\timeout.exe'\n",
      " 'C:\\\\TMP\\\\CreateNamedPipe.exe' 'C:\\\\Windows\\\\System32\\\\taskkill.exe'\n",
      " 'C:\\\\Windows\\\\System32\\\\svchost.exe'\n",
      " 'C:\\\\Windows\\\\System32\\\\wbem\\\\WmiPrvSE.exe'\n",
      " 'C:\\\\Windows\\\\System32\\\\lsass.exe' 'C:\\\\Windows\\\\System32\\\\sc.exe'\n",
      " 'C:\\\\Windows\\\\System32\\\\services.exe' 'C:\\\\Windows\\\\System32\\\\cmd.exe'\n",
      " 'C:\\\\Windows\\\\b6a1458f396.exe'\n",
      " 'C:\\\\Users\\\\APT-Simulator\\\\Documents\\\\APTSimulator-master\\\\helpers\\\\curl.exe'\n",
      " 'C:\\\\Windows\\\\System32\\\\cscript.exe']\n",
      "ProcessID\n",
      "[      nan 4.000e+00 1.856e+03 5.424e+03 5.976e+03]\n",
      "ParentProcessName\n",
      "[nan 'C:\\\\Windows\\\\System32\\\\cmd.exe' 'C:\\\\TMP\\\\CreateNamedPipe.exe'\n",
      " 'C:\\\\Windows\\\\System32\\\\services.exe' 'C:\\\\Windows\\\\b6a1458f396.exe'\n",
      " 'C:\\\\Program Files\\\\Microsoft Monitoring Agent\\\\Agent\\\\MonitoringHost.exe'\n",
      " 'C:\\\\Windows\\\\System32\\\\cscript.exe']\n",
      "ParentProcessId\n",
      "[5632.   nan 4748. 4236. 7444.  512. 7664.  732. 3948. 7004.  540. 6280.]\n"
     ]
    }
   ],
   "source": [
    "for col in list(df_cobalt):\n",
    "    print(col)\n",
    "    print(df_cobalt[col].unique())"
   ]
  },
  {
   "cell_type": "code",
   "execution_count": 11,
   "metadata": {},
   "outputs": [
    {
     "data": {
      "text/html": [
       "<div>\n",
       "<style scoped>\n",
       "    .dataframe tbody tr th:only-of-type {\n",
       "        vertical-align: middle;\n",
       "    }\n",
       "\n",
       "    .dataframe tbody tr th {\n",
       "        vertical-align: top;\n",
       "    }\n",
       "\n",
       "    .dataframe thead th {\n",
       "        text-align: right;\n",
       "    }\n",
       "</style>\n",
       "<table border=\"1\" class=\"dataframe\">\n",
       "  <thead>\n",
       "    <tr style=\"text-align: right;\">\n",
       "      <th></th>\n",
       "      <th>EventID</th>\n",
       "      <th>EventType</th>\n",
       "      <th>LogonId</th>\n",
       "      <th>Hostname</th>\n",
       "      <th>SubjectUserName</th>\n",
       "      <th>SubjectDomainName</th>\n",
       "      <th>SubjectLogonId</th>\n",
       "      <th>Status</th>\n",
       "      <th>SourceName</th>\n",
       "      <th>ServiceName</th>\n",
       "      <th>DestinationHostname</th>\n",
       "      <th>ProcessName</th>\n",
       "      <th>ProcessID</th>\n",
       "      <th>ParentProcessName</th>\n",
       "      <th>ParentProcessId</th>\n",
       "    </tr>\n",
       "  </thead>\n",
       "  <tbody>\n",
       "    <tr>\n",
       "      <th>2500</th>\n",
       "      <td>4697</td>\n",
       "      <td>NaN</td>\n",
       "      <td>NaN</td>\n",
       "      <td>WORKSTATION5</td>\n",
       "      <td>APT-Simulator</td>\n",
       "      <td>WORKSTATION5</td>\n",
       "      <td>0x3719fb</td>\n",
       "      <td>NaN</td>\n",
       "      <td>Microsoft-Windows-Security-Auditing</td>\n",
       "      <td>tbbd05</td>\n",
       "      <td>NaN</td>\n",
       "      <td>NaN</td>\n",
       "      <td>NaN</td>\n",
       "      <td>NaN</td>\n",
       "      <td>5632.0</td>\n",
       "    </tr>\n",
       "    <tr>\n",
       "      <th>2608</th>\n",
       "      <td>7045</td>\n",
       "      <td>NaN</td>\n",
       "      <td>NaN</td>\n",
       "      <td>WORKSTATION5</td>\n",
       "      <td>NaN</td>\n",
       "      <td>NaN</td>\n",
       "      <td>NaN</td>\n",
       "      <td>NaN</td>\n",
       "      <td>Service Control Manager</td>\n",
       "      <td>tbbd05</td>\n",
       "      <td>NaN</td>\n",
       "      <td>NaN</td>\n",
       "      <td>NaN</td>\n",
       "      <td>NaN</td>\n",
       "      <td>NaN</td>\n",
       "    </tr>\n",
       "  </tbody>\n",
       "</table>\n",
       "</div>"
      ],
      "text/plain": [
       "      EventID EventType LogonId      Hostname SubjectUserName  \\\n",
       "2500     4697       NaN     NaN  WORKSTATION5   APT-Simulator   \n",
       "2608     7045       NaN     NaN  WORKSTATION5             NaN   \n",
       "\n",
       "     SubjectDomainName SubjectLogonId Status  \\\n",
       "2500      WORKSTATION5       0x3719fb    NaN   \n",
       "2608               NaN            NaN    NaN   \n",
       "\n",
       "                               SourceName ServiceName DestinationHostname  \\\n",
       "2500  Microsoft-Windows-Security-Auditing      tbbd05                 NaN   \n",
       "2608              Service Control Manager      tbbd05                 NaN   \n",
       "\n",
       "     ProcessName  ProcessID ParentProcessName  ParentProcessId  \n",
       "2500         NaN        NaN               NaN           5632.0  \n",
       "2608         NaN        NaN               NaN              NaN  "
      ]
     },
     "execution_count": 11,
     "metadata": {},
     "output_type": "execute_result"
    }
   ],
   "source": [
    "df_cobalt.groupby(by=['ServiceName']).get_group('tbbd05')"
   ]
  },
  {
   "cell_type": "code",
   "execution_count": 12,
   "metadata": {},
   "outputs": [
    {
     "name": "stdout",
     "output_type": "stream",
     "text": [
      "+------+-----+\n",
      "|Status|count|\n",
      "+------+-----+\n",
      "|   0x0|   26|\n",
      "|  null| 2575|\n",
      "| 0x426|    1|\n",
      "| 0x41d|    1|\n",
      "|   0x1|    4|\n",
      "|   0x2|    2|\n",
      "|  0x80|    1|\n",
      "|   0x7|    1|\n",
      "+------+-----+\n",
      "\n"
     ]
    }
   ],
   "source": [
    "df2.groupby('Status').count().show()"
   ]
  },
  {
   "cell_type": "code",
   "execution_count": 13,
   "metadata": {},
   "outputs": [
    {
     "name": "stdout",
     "output_type": "stream",
     "text": [
      "+-----+-----+\n",
      "| Task|count|\n",
      "+-----+-----+\n",
      "|12811|   14|\n",
      "|    7|  911|\n",
      "|   11|   13|\n",
      "|12808|    1|\n",
      "|12289|    1|\n",
      "|13312|   36|\n",
      "|    3|    2|\n",
      "|13313|   36|\n",
      "|    0|    3|\n",
      "|12810|   35|\n",
      "|    5|   36|\n",
      "|12802|   20|\n",
      "|   18|    1|\n",
      "|13317|   22|\n",
      "|   17|    5|\n",
      "|   26|   18|\n",
      "|13570|    1|\n",
      "|    9|    1|\n",
      "|    1|   37|\n",
      "|   10| 1094|\n",
      "+-----+-----+\n",
      "only showing top 20 rows\n",
      "\n"
     ]
    }
   ],
   "source": [
    "df2.groupby('Task').count().show()"
   ]
  },
  {
   "cell_type": "code",
   "execution_count": 15,
   "metadata": {},
   "outputs": [
    {
     "name": "stdout",
     "output_type": "stream",
     "text": [
      "+--------------------+-----+\n",
      "|          SourceName|count|\n",
      "+--------------------+-----+\n",
      "|Service Control M...|    3|\n",
      "|Microsoft-Windows...| 2264|\n",
      "|Microsoft-Windows...|  344|\n",
      "+--------------------+-----+\n",
      "\n"
     ]
    }
   ],
   "source": [
    "df2.groupby('SourceName').count().show()"
   ]
  },
  {
   "cell_type": "code",
   "execution_count": 17,
   "metadata": {},
   "outputs": [
    {
     "name": "stdout",
     "output_type": "stream",
     "text": [
      "+------------+-----+\n",
      "|    Hostname|count|\n",
      "+------------+-----+\n",
      "|WORKSTATION5| 2611|\n",
      "+------------+-----+\n",
      "\n"
     ]
    }
   ],
   "source": [
    "df2.groupby('Hostname').count().show()"
   ]
  },
  {
   "cell_type": "code",
   "execution_count": 25,
   "metadata": {},
   "outputs": [
    {
     "name": "stdout",
     "output_type": "stream",
     "text": [
      "+-------+-----+\n",
      "|EventID|count|\n",
      "+-------+-----+\n",
      "|     26|   18|\n",
      "|      7|  911|\n",
      "|   4656|   41|\n",
      "|   7009|    1|\n",
      "|   7000|    1|\n",
      "|      9|    1|\n",
      "|     17|    5|\n",
      "|      5|   36|\n",
      "|      1|   37|\n",
      "|   4697|    1|\n",
      "|     10| 1094|\n",
      "|   4663|   34|\n",
      "|      3|    2|\n",
      "|     12|   56|\n",
      "|   7045|    1|\n",
      "|     11|   13|\n",
      "|   5158|    9|\n",
      "|   4688|   36|\n",
      "|   5140|    1|\n",
      "|     13|   90|\n",
      "+-------+-----+\n",
      "only showing top 20 rows\n",
      "\n"
     ]
    }
   ],
   "source": [
    "df2.groupby('EventID').count().show()"
   ]
  },
  {
   "cell_type": "code",
   "execution_count": 31,
   "metadata": {},
   "outputs": [
    {
     "name": "stdout",
     "output_type": "stream",
     "text": [
      "+--------+-----+\n",
      "| LogonId|count|\n",
      "+--------+-----+\n",
      "|    null| 2574|\n",
      "|   0x3e7|    5|\n",
      "|0x3719fb|   32|\n",
      "+--------+-----+\n",
      "\n"
     ]
    }
   ],
   "source": [
    "df2.groupby('LogonId').count().show()                "
   ]
  },
  {
   "cell_type": "code",
   "execution_count": 19,
   "metadata": {},
   "outputs": [
    {
     "name": "stdout",
     "output_type": "stream",
     "text": [
      "+--------------------+-----+\n",
      "|             Channel|count|\n",
      "+--------------------+-----+\n",
      "|            Security|  344|\n",
      "|Microsoft-Windows...| 2264|\n",
      "|              System|    3|\n",
      "+--------------------+-----+\n",
      "\n"
     ]
    }
   ],
   "source": [
    "df2.groupby('Channel').count().show()"
   ]
  },
  {
   "cell_type": "code",
   "execution_count": 20,
   "metadata": {},
   "outputs": [
    {
     "name": "stdout",
     "output_type": "stream",
     "text": [
      "+------------------+-----+\n",
      "|          Keywords|count|\n",
      "+------------------+-----+\n",
      "|0x8020000000000000|  344|\n",
      "|0x8080000000000000|    3|\n",
      "|0x8000000000000000| 2264|\n",
      "+------------------+-----+\n",
      "\n"
     ]
    }
   ],
   "source": [
    "df2.groupby('Keywords').count().show()"
   ]
  },
  {
   "cell_type": "code",
   "execution_count": 21,
   "metadata": {},
   "outputs": [
    {
     "name": "stdout",
     "output_type": "stream",
     "text": [
      "+--------------------+-----+\n",
      "|             Message|count|\n",
      "+--------------------+-----+\n",
      "|Process accessed:...|    1|\n",
      "|Process accessed:...|    1|\n",
      "|Process accessed:...|    1|\n",
      "|Process terminate...|    1|\n",
      "|Process accessed:...|    1|\n",
      "|Image loaded:\n",
      "Ru...|    1|\n",
      "|Image loaded:\n",
      "Ru...|    1|\n",
      "|Process accessed:...|    1|\n",
      "|Process accessed:...|    1|\n",
      "|A handle to an ob...|    1|\n",
      "|An attempt was ma...|    1|\n",
      "|A handle to an ob...|    1|\n",
      "|Process terminate...|    1|\n",
      "|Process accessed:...|    1|\n",
      "|Process accessed:...|    1|\n",
      "|Process accessed:...|    1|\n",
      "|Process accessed:...|    1|\n",
      "|Registry object a...|    1|\n",
      "|Image loaded:\n",
      "Ru...|    1|\n",
      "|Image loaded:\n",
      "Ru...|    1|\n",
      "+--------------------+-----+\n",
      "only showing top 20 rows\n",
      "\n"
     ]
    }
   ],
   "source": [
    "df2.groupby('Message').count().show()"
   ]
  },
  {
   "cell_type": "code",
   "execution_count": 29,
   "metadata": {},
   "outputs": [
    {
     "name": "stdout",
     "output_type": "stream",
     "text": [
      "+--------------------+-------+-----+\n",
      "|          SourceName|EventID|count|\n",
      "+--------------------+-------+-----+\n",
      "|Microsoft-Windows...|      5|   36|\n",
      "|Microsoft-Windows...|   4663|   34|\n",
      "|Microsoft-Windows...|     12|   56|\n",
      "|Microsoft-Windows...|      9|    1|\n",
      "|Microsoft-Windows...|     13|   90|\n",
      "|Microsoft-Windows...|     26|   18|\n",
      "|Microsoft-Windows...|   4689|   36|\n",
      "|Microsoft-Windows...|   4688|   36|\n",
      "|Microsoft-Windows...|   5140|    1|\n",
      "|Microsoft-Windows...|   5156|   26|\n",
      "|Microsoft-Windows...|      1|   37|\n",
      "|Microsoft-Windows...|   4670|    1|\n",
      "|Microsoft-Windows...|   4690|   41|\n",
      "|Service Control M...|   7000|    1|\n",
      "|Service Control M...|   7045|    1|\n",
      "|Service Control M...|   7009|    1|\n",
      "|Microsoft-Windows...|     10| 1094|\n",
      "|Microsoft-Windows...|   4656|   41|\n",
      "|Microsoft-Windows...|   4658|   82|\n",
      "|Microsoft-Windows...|     17|    5|\n",
      "+--------------------+-------+-----+\n",
      "only showing top 20 rows\n",
      "\n"
     ]
    }
   ],
   "source": [
    "df2.groupby('SourceName','EventID').count().show()"
   ]
  },
  {
   "cell_type": "code",
   "execution_count": 34,
   "metadata": {},
   "outputs": [
    {
     "name": "stdout",
     "output_type": "stream",
     "text": [
      "+--------------------+--------+-----+\n",
      "|          SourceName| LogonId|count|\n",
      "+--------------------+--------+-----+\n",
      "|Microsoft-Windows...|   0x3e7|    5|\n",
      "|Service Control M...|    null|    3|\n",
      "|Microsoft-Windows...|    null| 2227|\n",
      "|Microsoft-Windows...|0x3719fb|   32|\n",
      "|Microsoft-Windows...|    null|  344|\n",
      "+--------------------+--------+-----+\n",
      "\n"
     ]
    }
   ],
   "source": [
    "df2.groupby('SourceName','LogonId').count().show()"
   ]
  },
  {
   "cell_type": "code",
   "execution_count": null,
   "metadata": {},
   "outputs": [],
   "source": []
  }
 ],
 "metadata": {
  "kernelspec": {
   "display_name": "Python 3",
   "language": "python",
   "name": "python3"
  },
  "language_info": {
   "codemirror_mode": {
    "name": "ipython",
    "version": 3
   },
   "file_extension": ".py",
   "mimetype": "text/x-python",
   "name": "python",
   "nbconvert_exporter": "python",
   "pygments_lexer": "ipython3",
   "version": "3.7.6"
  }
 },
 "nbformat": 4,
 "nbformat_minor": 5
}
