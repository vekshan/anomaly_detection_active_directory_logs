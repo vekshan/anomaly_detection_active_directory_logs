{
 "cells": [
  {
   "cell_type": "code",
   "execution_count": 1,
   "metadata": {},
   "outputs": [],
   "source": [
    "import pandas as pd\n",
    "import numpy as np\n",
    "import seaborn as sns\n",
    "from sklearn.preprocessing import StandardScaler\n",
    "from sklearn.decomposition import PCA\n",
    "from sklearn.datasets import make_classification\n",
    "from sklearn.model_selection import train_test_split\n",
    "from sklearn import metrics\n",
    "from sklearn.metrics import f1_score, accuracy_score, precision_score, recall_score, confusion_matrix, classification_report\n",
    "from sklearn.tree import DecisionTreeClassifier\n",
    "from sklearn.neighbors import KNeighborsClassifier\n",
    "from sklearn.linear_model import LogisticRegression\n",
    "from sklearn.ensemble import RandomForestClassifier, GradientBoostingClassifier\n",
    "from sklearn.svm import SVC\n",
    "import matplotlib.pyplot as plt\n",
    "from imblearn.over_sampling import SMOTE"
   ]
  },
  {
   "cell_type": "code",
   "execution_count": 2,
   "metadata": {},
   "outputs": [
    {
     "ename": "FileNotFoundError",
     "evalue": "[Errno 2] File ../data/processed/merged_dataset_pivoted.csv does not exist: '../data/processed/merged_dataset_pivoted.csv'",
     "output_type": "error",
     "traceback": [
      "\u001b[1;31m---------------------------------------------------------------------------\u001b[0m",
      "\u001b[1;31mFileNotFoundError\u001b[0m                         Traceback (most recent call last)",
      "\u001b[1;32m<ipython-input-2-ec49e26c2b27>\u001b[0m in \u001b[0;36m<module>\u001b[1;34m\u001b[0m\n\u001b[1;32m----> 1\u001b[1;33m \u001b[0mdf\u001b[0m\u001b[1;33m=\u001b[0m \u001b[0mpd\u001b[0m\u001b[1;33m.\u001b[0m\u001b[0mread_csv\u001b[0m\u001b[1;33m(\u001b[0m\u001b[1;34m'../data/processed/merged_dataset_pivoted.csv'\u001b[0m\u001b[1;33m)\u001b[0m\u001b[1;33m\u001b[0m\u001b[1;33m\u001b[0m\u001b[0m\n\u001b[0m\u001b[0;32m      2\u001b[0m \u001b[0mdf\u001b[0m\u001b[1;33m.\u001b[0m\u001b[0mhead\u001b[0m\u001b[1;33m(\u001b[0m\u001b[1;33m)\u001b[0m\u001b[1;33m\u001b[0m\u001b[1;33m\u001b[0m\u001b[0m\n",
      "\u001b[1;32m~\\anaconda3\\lib\\site-packages\\pandas\\io\\parsers.py\u001b[0m in \u001b[0;36mparser_f\u001b[1;34m(filepath_or_buffer, sep, delimiter, header, names, index_col, usecols, squeeze, prefix, mangle_dupe_cols, dtype, engine, converters, true_values, false_values, skipinitialspace, skiprows, skipfooter, nrows, na_values, keep_default_na, na_filter, verbose, skip_blank_lines, parse_dates, infer_datetime_format, keep_date_col, date_parser, dayfirst, cache_dates, iterator, chunksize, compression, thousands, decimal, lineterminator, quotechar, quoting, doublequote, escapechar, comment, encoding, dialect, error_bad_lines, warn_bad_lines, delim_whitespace, low_memory, memory_map, float_precision)\u001b[0m\n\u001b[0;32m    674\u001b[0m         )\n\u001b[0;32m    675\u001b[0m \u001b[1;33m\u001b[0m\u001b[0m\n\u001b[1;32m--> 676\u001b[1;33m         \u001b[1;32mreturn\u001b[0m \u001b[0m_read\u001b[0m\u001b[1;33m(\u001b[0m\u001b[0mfilepath_or_buffer\u001b[0m\u001b[1;33m,\u001b[0m \u001b[0mkwds\u001b[0m\u001b[1;33m)\u001b[0m\u001b[1;33m\u001b[0m\u001b[1;33m\u001b[0m\u001b[0m\n\u001b[0m\u001b[0;32m    677\u001b[0m \u001b[1;33m\u001b[0m\u001b[0m\n\u001b[0;32m    678\u001b[0m     \u001b[0mparser_f\u001b[0m\u001b[1;33m.\u001b[0m\u001b[0m__name__\u001b[0m \u001b[1;33m=\u001b[0m \u001b[0mname\u001b[0m\u001b[1;33m\u001b[0m\u001b[1;33m\u001b[0m\u001b[0m\n",
      "\u001b[1;32m~\\anaconda3\\lib\\site-packages\\pandas\\io\\parsers.py\u001b[0m in \u001b[0;36m_read\u001b[1;34m(filepath_or_buffer, kwds)\u001b[0m\n\u001b[0;32m    446\u001b[0m \u001b[1;33m\u001b[0m\u001b[0m\n\u001b[0;32m    447\u001b[0m     \u001b[1;31m# Create the parser.\u001b[0m\u001b[1;33m\u001b[0m\u001b[1;33m\u001b[0m\u001b[1;33m\u001b[0m\u001b[0m\n\u001b[1;32m--> 448\u001b[1;33m     \u001b[0mparser\u001b[0m \u001b[1;33m=\u001b[0m \u001b[0mTextFileReader\u001b[0m\u001b[1;33m(\u001b[0m\u001b[0mfp_or_buf\u001b[0m\u001b[1;33m,\u001b[0m \u001b[1;33m**\u001b[0m\u001b[0mkwds\u001b[0m\u001b[1;33m)\u001b[0m\u001b[1;33m\u001b[0m\u001b[1;33m\u001b[0m\u001b[0m\n\u001b[0m\u001b[0;32m    449\u001b[0m \u001b[1;33m\u001b[0m\u001b[0m\n\u001b[0;32m    450\u001b[0m     \u001b[1;32mif\u001b[0m \u001b[0mchunksize\u001b[0m \u001b[1;32mor\u001b[0m \u001b[0miterator\u001b[0m\u001b[1;33m:\u001b[0m\u001b[1;33m\u001b[0m\u001b[1;33m\u001b[0m\u001b[0m\n",
      "\u001b[1;32m~\\anaconda3\\lib\\site-packages\\pandas\\io\\parsers.py\u001b[0m in \u001b[0;36m__init__\u001b[1;34m(self, f, engine, **kwds)\u001b[0m\n\u001b[0;32m    878\u001b[0m             \u001b[0mself\u001b[0m\u001b[1;33m.\u001b[0m\u001b[0moptions\u001b[0m\u001b[1;33m[\u001b[0m\u001b[1;34m\"has_index_names\"\u001b[0m\u001b[1;33m]\u001b[0m \u001b[1;33m=\u001b[0m \u001b[0mkwds\u001b[0m\u001b[1;33m[\u001b[0m\u001b[1;34m\"has_index_names\"\u001b[0m\u001b[1;33m]\u001b[0m\u001b[1;33m\u001b[0m\u001b[1;33m\u001b[0m\u001b[0m\n\u001b[0;32m    879\u001b[0m \u001b[1;33m\u001b[0m\u001b[0m\n\u001b[1;32m--> 880\u001b[1;33m         \u001b[0mself\u001b[0m\u001b[1;33m.\u001b[0m\u001b[0m_make_engine\u001b[0m\u001b[1;33m(\u001b[0m\u001b[0mself\u001b[0m\u001b[1;33m.\u001b[0m\u001b[0mengine\u001b[0m\u001b[1;33m)\u001b[0m\u001b[1;33m\u001b[0m\u001b[1;33m\u001b[0m\u001b[0m\n\u001b[0m\u001b[0;32m    881\u001b[0m \u001b[1;33m\u001b[0m\u001b[0m\n\u001b[0;32m    882\u001b[0m     \u001b[1;32mdef\u001b[0m \u001b[0mclose\u001b[0m\u001b[1;33m(\u001b[0m\u001b[0mself\u001b[0m\u001b[1;33m)\u001b[0m\u001b[1;33m:\u001b[0m\u001b[1;33m\u001b[0m\u001b[1;33m\u001b[0m\u001b[0m\n",
      "\u001b[1;32m~\\anaconda3\\lib\\site-packages\\pandas\\io\\parsers.py\u001b[0m in \u001b[0;36m_make_engine\u001b[1;34m(self, engine)\u001b[0m\n\u001b[0;32m   1112\u001b[0m     \u001b[1;32mdef\u001b[0m \u001b[0m_make_engine\u001b[0m\u001b[1;33m(\u001b[0m\u001b[0mself\u001b[0m\u001b[1;33m,\u001b[0m \u001b[0mengine\u001b[0m\u001b[1;33m=\u001b[0m\u001b[1;34m\"c\"\u001b[0m\u001b[1;33m)\u001b[0m\u001b[1;33m:\u001b[0m\u001b[1;33m\u001b[0m\u001b[1;33m\u001b[0m\u001b[0m\n\u001b[0;32m   1113\u001b[0m         \u001b[1;32mif\u001b[0m \u001b[0mengine\u001b[0m \u001b[1;33m==\u001b[0m \u001b[1;34m\"c\"\u001b[0m\u001b[1;33m:\u001b[0m\u001b[1;33m\u001b[0m\u001b[1;33m\u001b[0m\u001b[0m\n\u001b[1;32m-> 1114\u001b[1;33m             \u001b[0mself\u001b[0m\u001b[1;33m.\u001b[0m\u001b[0m_engine\u001b[0m \u001b[1;33m=\u001b[0m \u001b[0mCParserWrapper\u001b[0m\u001b[1;33m(\u001b[0m\u001b[0mself\u001b[0m\u001b[1;33m.\u001b[0m\u001b[0mf\u001b[0m\u001b[1;33m,\u001b[0m \u001b[1;33m**\u001b[0m\u001b[0mself\u001b[0m\u001b[1;33m.\u001b[0m\u001b[0moptions\u001b[0m\u001b[1;33m)\u001b[0m\u001b[1;33m\u001b[0m\u001b[1;33m\u001b[0m\u001b[0m\n\u001b[0m\u001b[0;32m   1115\u001b[0m         \u001b[1;32melse\u001b[0m\u001b[1;33m:\u001b[0m\u001b[1;33m\u001b[0m\u001b[1;33m\u001b[0m\u001b[0m\n\u001b[0;32m   1116\u001b[0m             \u001b[1;32mif\u001b[0m \u001b[0mengine\u001b[0m \u001b[1;33m==\u001b[0m \u001b[1;34m\"python\"\u001b[0m\u001b[1;33m:\u001b[0m\u001b[1;33m\u001b[0m\u001b[1;33m\u001b[0m\u001b[0m\n",
      "\u001b[1;32m~\\anaconda3\\lib\\site-packages\\pandas\\io\\parsers.py\u001b[0m in \u001b[0;36m__init__\u001b[1;34m(self, src, **kwds)\u001b[0m\n\u001b[0;32m   1889\u001b[0m         \u001b[0mkwds\u001b[0m\u001b[1;33m[\u001b[0m\u001b[1;34m\"usecols\"\u001b[0m\u001b[1;33m]\u001b[0m \u001b[1;33m=\u001b[0m \u001b[0mself\u001b[0m\u001b[1;33m.\u001b[0m\u001b[0musecols\u001b[0m\u001b[1;33m\u001b[0m\u001b[1;33m\u001b[0m\u001b[0m\n\u001b[0;32m   1890\u001b[0m \u001b[1;33m\u001b[0m\u001b[0m\n\u001b[1;32m-> 1891\u001b[1;33m         \u001b[0mself\u001b[0m\u001b[1;33m.\u001b[0m\u001b[0m_reader\u001b[0m \u001b[1;33m=\u001b[0m \u001b[0mparsers\u001b[0m\u001b[1;33m.\u001b[0m\u001b[0mTextReader\u001b[0m\u001b[1;33m(\u001b[0m\u001b[0msrc\u001b[0m\u001b[1;33m,\u001b[0m \u001b[1;33m**\u001b[0m\u001b[0mkwds\u001b[0m\u001b[1;33m)\u001b[0m\u001b[1;33m\u001b[0m\u001b[1;33m\u001b[0m\u001b[0m\n\u001b[0m\u001b[0;32m   1892\u001b[0m         \u001b[0mself\u001b[0m\u001b[1;33m.\u001b[0m\u001b[0munnamed_cols\u001b[0m \u001b[1;33m=\u001b[0m \u001b[0mself\u001b[0m\u001b[1;33m.\u001b[0m\u001b[0m_reader\u001b[0m\u001b[1;33m.\u001b[0m\u001b[0munnamed_cols\u001b[0m\u001b[1;33m\u001b[0m\u001b[1;33m\u001b[0m\u001b[0m\n\u001b[0;32m   1893\u001b[0m \u001b[1;33m\u001b[0m\u001b[0m\n",
      "\u001b[1;32mpandas\\_libs\\parsers.pyx\u001b[0m in \u001b[0;36mpandas._libs.parsers.TextReader.__cinit__\u001b[1;34m()\u001b[0m\n",
      "\u001b[1;32mpandas\\_libs\\parsers.pyx\u001b[0m in \u001b[0;36mpandas._libs.parsers.TextReader._setup_parser_source\u001b[1;34m()\u001b[0m\n",
      "\u001b[1;31mFileNotFoundError\u001b[0m: [Errno 2] File ../data/processed/merged_dataset_pivoted.csv does not exist: '../data/processed/merged_dataset_pivoted.csv'"
     ]
    }
   ],
   "source": [
    "df= pd.read_csv('../data/processed/merged_dataset_pivoted.csv')\n",
    "df.head()"
   ]
  },
  {
   "cell_type": "code",
   "execution_count": null,
   "metadata": {},
   "outputs": [],
   "source": [
    "columns = list(df.columns)\n",
    "features = columns[4:]\n",
    "df[features] = df[features].div(df.total_events, axis = 0)\n",
    "# Separating out the features\n",
    "X = df.loc[:, features].values\n",
    "y = df.loc[:, ['is_malicious']].values\n",
    "print(X)\n",
    "print(y)"
   ]
  },
  {
   "cell_type": "code",
   "execution_count": null,
   "metadata": {},
   "outputs": [],
   "source": [
    "X = StandardScaler().fit_transform(X)"
   ]
  },
  {
   "cell_type": "code",
   "execution_count": null,
   "metadata": {},
   "outputs": [],
   "source": [
    "pca = PCA(n_components=2)\n",
    "pcs = pca.fit_transform(X)\n",
    "pca_df = pd.DataFrame(data = pcs, columns = ['pc1', 'pc2'])"
   ]
  },
  {
   "cell_type": "code",
   "execution_count": null,
   "metadata": {},
   "outputs": [],
   "source": [
    "fig = plt.figure(figsize = (8,8))\n",
    "ax = fig.add_subplot(1,1,1) \n",
    "ax.set_xlabel('Principal Component 1', fontsize = 15)\n",
    "ax.set_ylabel('Principal Component 2', fontsize = 15)\n",
    "ax.set_title('Features in 2D', fontsize = 20)\n",
    "\n",
    "targets = [0, 1]\n",
    "colors = ['r', 'b']\n",
    "for target, color in zip(targets,colors):\n",
    "    indicesToKeep = df['is_malicious'] == target\n",
    "    ax.scatter(pca_df.loc[indicesToKeep, 'pc1']\n",
    "               , pca_df.loc[indicesToKeep, 'pc2']\n",
    "               , c = color\n",
    "               , s = 50)\n",
    "    \n",
    "# ax.legend(targets)\n",
    "# ax.scatter(pca_df['pc1']\n",
    "#                , pca_df['pc2']\n",
    "#                , s = 50)\n",
    "ax.grid()"
   ]
  },
  {
   "cell_type": "code",
   "execution_count": null,
   "metadata": {},
   "outputs": [],
   "source": [
    "smote = SMOTE(random_state=0, sampling_strategy=\"minority\")\n",
    "X_os, y_os = smote.fit_resample(X, y)\n",
    "X_train_os, X_test_os, y_train_os, y_test_os = train_test_split(X_os, y_os, test_size = 0.2, random_state=2)"
   ]
  },
  {
   "cell_type": "code",
   "execution_count": null,
   "metadata": {},
   "outputs": [],
   "source": [
    "# Decision Tree Classifier\n",
    "\n",
    "# Create Decision Tree classifer object\n",
    "clf_os = DecisionTreeClassifier()\n",
    "\n",
    "# Train Decision Tree Classifer\n",
    "clf_os.fit(X_train_os, y_train_os)\n",
    "\n",
    "# Predict the response for the test dataset\n",
    "y_pred_os = clf_os.predict(X_test_os)\n",
    "\n",
    "# Check Prediction\n",
    "print(classification_report(y_test_os, y_pred_os))\n",
    "# print(confusion_matrix(y_test_os, y_pred_os))\n",
    "print(\"Accuracy:\", accuracy_score(y_test_os, y_pred_os))\n",
    "print(\"Label 0:\")\n",
    "print(\"Precision:\", precision_score(y_test_os, y_pred_os, pos_label = 0))\n",
    "print(\"Recall:\", recall_score(y_test_os, y_pred_os, pos_label = 0))\n",
    "print(\"Label 1:\")\n",
    "print(\"Precision:\", precision_score(y_test_os, y_pred_os, pos_label = 1))\n",
    "print(\"Recall:\", recall_score(y_test_os, y_pred_os, pos_label = 1))"
   ]
  },
  {
   "cell_type": "code",
   "execution_count": null,
   "metadata": {},
   "outputs": [],
   "source": [
    "classes = np.unique(y_pred_os)\n",
    "fig,ax = plt.subplots()\n",
    "cm = metrics.confusion_matrix(y_test_os,y_pred_os,labels=classes)\n",
    "sns.heatmap(cm, annot=True,fmt='d',cmap=plt.cm.Blues,cbar=False)\n",
    "ax.set(xlabel=\"Pred\",ylabel=\"True\",title=\"Confusion Matrix\")\n",
    "ax.set_yticklabels(labels=classes,rotation=0)\n",
    "plt.show()"
   ]
  },
  {
   "cell_type": "code",
   "execution_count": null,
   "metadata": {},
   "outputs": [],
   "source": [
    "# K Neighbors Classifier\n",
    "\n",
    "# Create K Neighbors Classifier Object\n",
    "neigh = KNeighborsClassifier(n_neighbors=3)\n",
    "\n",
    "s = time.time()\n",
    "# Train K Neighbors Classifier Object\n",
    "neigh.fit(X_train_os,y_train_os.ravel())\n",
    "e = time.time()\n",
    "print(\"K-neigh training time:\",e-s)\n",
    "\n",
    "s = time.time()\n",
    "# Predict the response for test dataset\n",
    "y_pred_os = neigh.predict(X_test_os)\n",
    "e = time.time()\n",
    "print(\"K-neigh testing time:\",e-s)\n",
    "\n",
    "# Check Prediction\n",
    "print(classification_report(y_test_os, y_pred_os))\n",
    "# print(confusion_matrix(y_test_os, y_pred_os))\n",
    "print(\"Accuracy:\", accuracy_score(y_test_os, y_pred_os))\n",
    "print(\"Label 0:\")\n",
    "print(\"Precision:\", precision_score(y_test_os, y_pred_os, pos_label = 0))\n",
    "print(\"Recall:\", recall_score(y_test_os, y_pred_os, pos_label = 0))\n",
    "print(\"Label 1:\")\n",
    "print(\"Precision:\", precision_score(y_test_os, y_pred_os, pos_label = 1))\n",
    "print(\"Recall:\", recall_score(y_test_os, y_pred_os, pos_label = 1))"
   ]
  },
  {
   "cell_type": "code",
   "execution_count": null,
   "metadata": {},
   "outputs": [],
   "source": [
    "classes = np.unique(y_pred_os)\n",
    "fig,ax = plt.subplots()\n",
    "cm = metrics.confusion_matrix(y_test_os,y_pred_os,labels=classes)\n",
    "sns.heatmap(cm, annot=True,fmt='d',cmap=plt.cm.Blues,cbar=False)\n",
    "ax.set(xlabel=\"Pred\",ylabel=\"True\",title=\"Confusion Matrix\")\n",
    "ax.set_yticklabels(labels=classes,rotation=0)\n",
    "plt.show()"
   ]
  },
  {
   "cell_type": "code",
   "execution_count": null,
   "metadata": {},
   "outputs": [],
   "source": [
    "print(\"Logistic Regression\")\n",
    "importance_logreg = model_logreg.coef_[0] \n",
    "# summarize feature importance\n",
    "logreg_list = []\n",
    "for i,v in enumerate(importance_logreg):\n",
    "        print('Feature: %0d, Score: %.5f' % (i,v))\n",
    "        logreg_list.append([feature_names[i],round(v,5)])\n",
    "# plot feature importance\n",
    "ax = plt.bar([x for x in range(len(importance_logreg))], importance_logreg)\n",
    "plt.show()\n",
    "logreg_list = Sort(logreg_list)\n",
    "print(logreg_list[6:])"
   ]
  },
  {
   "cell_type": "code",
   "execution_count": null,
   "metadata": {},
   "outputs": [],
   "source": [
    "# Logistic Regression\n",
    "\n",
    "# Instantiate Model\n",
    "model = LogisticRegression()\n",
    "\n",
    "# Fit\n",
    "s = time.time()\n",
    "model.fit(X_train_os,y_train_os)\n",
    "e = time.time()\n",
    "print(\"Log reg training time:\",e-s)\n",
    "\n",
    "# Predict\n",
    "s = time.time()\n",
    "y_pred_os = model.predict(X_test_os)\n",
    "e = time.time()\n",
    "print(\"Log reg testing time:\",e-s)\n",
    "\n",
    "# Check Prediction\n",
    "print(classification_report(y_test_os, y_pred_os))\n",
    "# print(confusion_matrix(y_test_os, y_pred_os))\n",
    "print(\"Accuracy:\", accuracy_score(y_test_os, y_pred_os))\n",
    "print(\"Label 0:\")\n",
    "print(\"Precision:\", precision_score(y_test_os, y_pred_os, pos_label = 0))\n",
    "print(\"Recall:\", recall_score(y_test_os, y_pred_os, pos_label = 0))\n",
    "print(\"Label 1:\")\n",
    "print(\"Precision:\", precision_score(y_test_os, y_pred_os, pos_label = 1))\n",
    "print(\"Recall:\", recall_score(y_test_os, y_pred_os, pos_label = 1))"
   ]
  },
  {
   "cell_type": "code",
   "execution_count": null,
   "metadata": {},
   "outputs": [],
   "source": [
    "classes = np.unique(y_pred_os)\n",
    "fig,ax = plt.subplots()\n",
    "cm = metrics.confusion_matrix(y_test_os,y_pred_os,labels=classes)\n",
    "sns.heatmap(cm, annot=True,fmt='d',cmap=plt.cm.Blues,cbar=False)\n",
    "ax.set(xlabel=\"Pred\",ylabel=\"True\",title=\"Confusion Matrix\")\n",
    "ax.set_yticklabels(labels=classes,rotation=0)\n",
    "plt.show()"
   ]
  },
  {
   "cell_type": "code",
   "execution_count": null,
   "metadata": {},
   "outputs": [],
   "source": [
    "print(classes)"
   ]
  },
  {
   "cell_type": "code",
   "execution_count": null,
   "metadata": {},
   "outputs": [],
   "source": [
    "# Random Forest:\n",
    "\n",
    "# Instantiate Model\n",
    "random_model = RandomForestClassifier()\n",
    "\n",
    "# Fit\n",
    "s = time.time()\n",
    "random_model.fit(X_train_os, y_train_os)\n",
    "e = time.time()\n",
    "print(\"Rand for training time:\",e-s)\n",
    "\n",
    "# Predict\n",
    "s = time.time()\n",
    "y_pred_os = random_model.predict(X_test_os)\n",
    "e = time.time()\n",
    "print(\"Rand for testing time:\",e-s)\n",
    "\n",
    "# Check Prediction\n",
    "print(classification_report(y_test_os, y_pred_os))\n",
    "# print(confusion_matrix(y_test_os, y_pred_os))\n",
    "print(\"Accuracy:\", accuracy_score(y_test_os, y_pred_os))\n",
    "print(\"Label 0:\")\n",
    "print(\"Precision:\", precision_score(y_test_os, y_pred_os, pos_label = 0))\n",
    "print(\"Recall:\", recall_score(y_test_os, y_pred_os, pos_label = 0))\n",
    "print(\"Label 1:\")\n",
    "print(\"Precision:\", precision_score(y_test_os, y_pred_os, pos_label = 1))\n",
    "print(\"Recall:\", recall_score(y_test_os, y_pred_os, pos_label = 1))"
   ]
  },
  {
   "cell_type": "code",
   "execution_count": null,
   "metadata": {},
   "outputs": [],
   "source": [
    "classes = np.unique(y_pred_os)\n",
    "fig,ax = plt.subplots()\n",
    "cm = metrics.confusion_matrix(y_test_os,y_pred_os,labels=classes)\n",
    "sns.heatmap(cm, annot=True,fmt='d',cmap=plt.cm.Blues,cbar=False)\n",
    "ax.set(xlabel=\"Pred\",ylabel=\"True\",title=\"Confusion Matrix\")\n",
    "ax.set_yticklabels(labels=classes,rotation=0)\n",
    "plt.show()"
   ]
  },
  {
   "cell_type": "code",
   "execution_count": null,
   "metadata": {},
   "outputs": [],
   "source": [
    "# Gradient Boosting Classifier\n",
    "\n",
    "# Instantiate Model\n",
    "gb = GradientBoostingClassifier()\n",
    "\n",
    "# Fit\n",
    "s = time.time()\n",
    "gb.fit(X_train_os, y_train_os)\n",
    "e = time.time()\n",
    "print(\"Gradient boost training time:\",e-s)\n",
    "\n",
    "# Predict\n",
    "s = time.time()\n",
    "y_pred_os = gb.predict(X_test_os)\n",
    "e = time.time()\n",
    "print(\"Gradient boost testing time:\",e-s)\n",
    "\n",
    "# Check Prediction\n",
    "print(classification_report(y_test_os, y_pred_os))\n",
    "# print(confusion_matrix(y_test_os, y_pred_os))\n",
    "print(\"Accuracy:\", accuracy_score(y_test_os, y_pred_os))\n",
    "print(\"Label 0:\")\n",
    "print(\"Precision:\", precision_score(y_test_os, y_pred_os, pos_label = 0))\n",
    "print(\"Recall:\", recall_score(y_test_os, y_pred_os, pos_label = 0))\n",
    "print(\"Label 1:\")\n",
    "print(\"Precision:\", precision_score(y_test_os, y_pred_os, pos_label = 1))\n",
    "print(\"Recall:\", recall_score(y_test_os, y_pred_os, pos_label = 1))"
   ]
  },
  {
   "cell_type": "code",
   "execution_count": null,
   "metadata": {},
   "outputs": [],
   "source": [
    "classes = np.unique(y_pred_os)\n",
    "fig,ax = plt.subplots()\n",
    "cm = metrics.confusion_matrix(y_test_os,y_pred_os,labels=classes)\n",
    "sns.heatmap(cm, annot=True,fmt='d',cmap=plt.cm.Blues,cbar=False)\n",
    "ax.set(xlabel=\"Pred\",ylabel=\"True\",title=\"Confusion Matrix\")\n",
    "ax.set_yticklabels(labels=classes,rotation=0)\n",
    "plt.show()"
   ]
  },
  {
   "cell_type": "code",
   "execution_count": null,
   "metadata": {},
   "outputs": [],
   "source": [
    "# # sklearn.svm.SVC (Support Vector Classification)\n",
    "\n",
    "# svc = SVC(gamma=\"auto\")\n",
    "\n",
    "# svc.fit(X_train_os, y_train_os)\n",
    "\n",
    "# # Predict\n",
    "# y_pred_os = svc.predict(X_test_os)\n",
    "\n",
    "# # Check Prediction\n",
    "# print(classification_report(y_test_os, y_pred_os))\n",
    "# # print(confusion_matrix(y_test_os, y_pred_os))\n",
    "# print(\"Accuracy:\", accuracy_score(y_test_os, y_pred_os))\n",
    "# print(\"Label 0:\")\n",
    "# print(\"Precision:\", precision_score(y_test_os, y_pred_os, pos_label = 0))\n",
    "# print(\"Recall:\", recall_score(y_test_os, y_pred_os, pos_label = 0))\n",
    "# print(\"Label 1:\")\n",
    "# print(\"Precision:\", precision_score(y_test_os, y_pred_os, pos_label = 1))\n",
    "# print(\"Recall:\", recall_score(y_test_os, y_pred_os, pos_label = 1))"
   ]
  },
  {
   "cell_type": "code",
   "execution_count": null,
   "metadata": {},
   "outputs": [],
   "source": [
    "# classes = np.unique(y_pred_os)\n",
    "# fig,ax = plt.subplots()\n",
    "# cm = metrics.confusion_matrix(y_test_os,y_pred_os,labels=classes)\n",
    "# sns.heatmap(cm, annot=True,fmt='d',cmap=plt.cm.Blues,cbar=False)\n",
    "# ax.set(xlabel=\"Pred\",ylabel=\"True\",title=\"Confusion Matrix\")\n",
    "# ax.set_yticklabels(labels=classes,rotation=0)\n",
    "# plt.show()"
   ]
  },
  {
   "cell_type": "markdown",
   "metadata": {},
   "source": [
    "### Creation of features for chain of events for attacks"
   ]
  },
  {
   "cell_type": "code",
   "execution_count": null,
   "metadata": {},
   "outputs": [],
   "source": [
    "df = pd.read_csv('../data/processed/merged_dataset_pivoted.csv')\n",
    "df.head()"
   ]
  },
  {
   "cell_type": "markdown",
   "metadata": {},
   "source": [
    "#### Lateral Movement (Link: https://www.rapid7.com/resources/using-windows-event-logs-to-detect-lateral-movement/):\n",
    "Using window event logs to detect lateral movement:\n",
    "\n",
    "Authentication Events (all):\n",
    "1. Event_528 <-- Successful Login\n",
    "2. Event_529 <-- Unsucessful Login\n",
    "3. Event_4624 and Event_4625 <-- Two methods of Lateral Movement (Windows NT5 and Nt6 Operating Systems)\n",
    "\n",
    "- SMB: 552, 4648\n",
    "- Scheduled Tasks: 602, 4698\n",
    "- PS Exec: 601, 4697 <-- System Admin Tool to execute code remote\n",
    "- SSH: app logs <-- Less common in windows environment"
   ]
  },
  {
   "cell_type": "code",
   "execution_count": null,
   "metadata": {},
   "outputs": [],
   "source": [
    "df[[\"event_4624\", \"event_4625\", \"event_4648\", \"event_4698\"]].head()"
   ]
  },
  {
   "cell_type": "code",
   "execution_count": null,
   "metadata": {},
   "outputs": [],
   "source": [
    "df[\"total_authN_events\"] = df[\"event_4624\"] + df[\"event_4625\"] # \".Logon Type:[\\W](3|10).*\"\n",
    "df.head()"
   ]
  },
  {
   "cell_type": "markdown",
   "metadata": {},
   "source": [
    "- PS Exec not there\n",
    "- No columns for \"event_552\", \"event_528\", \"event_529\", \"event_601\", \"event_602\", and \"event_4697\"\n",
    "- Have some of the cases for SMB, Scheduled Tasks <-- Look into regenerating dataset to get features\n",
    "- Have some of the cases for authentication events <-- Same as above"
   ]
  },
  {
   "cell_type": "markdown",
   "metadata": {},
   "source": [
    "#### Ransomware, malware and cobalt strike (Link: https://www.beyondtrust.com/blog/entry/windows-server-events-monitor):\n",
    "\n",
    "Ransomware:\n",
    "- event_8\n",
    "or\n",
    "- event_22 <-- Not Contained in the dataframe\n",
    "\n",
    "Hacker Presence:\n",
    "\n",
    "- event_104 <-- Event Log was Cleared\n",
    "- event_1102 <-- Audit Log was Cleared\n",
    "- event_4719 <-- System Audit Policy Changed"
   ]
  },
  {
   "cell_type": "code",
   "execution_count": null,
   "metadata": {},
   "outputs": [],
   "source": [
    "columns = list(df.columns)\n",
    "features = columns[4:]\n",
    "print(features)"
   ]
  },
  {
   "cell_type": "markdown",
   "metadata": {},
   "source": [
    "#### APT\n",
    "\n",
    "- event_4674 <-- Account Name, Service, Process, Object\n",
    "- event_4688 <-- Account Name, Process\n",
    "\n",
    "Type Ratio:\n",
    "- event_4624 <-- Logon\n",
    "- event_4627 <-- Group Membership\n",
    "- event_4658 <-- Handle to an object\n",
    "- event_4768 <-- Kerberos AuthN\n",
    "- event_4769 <-- Kerberos AuthN - Services\n",
    "- event_4672 <-- Assignment of Admin Rights\n",
    "- event_4776 <-- Kerberos Service Ticket\n",
    "\n",
    "No event ids found."
   ]
  },
  {
   "cell_type": "markdown",
   "metadata": {},
   "source": [
    "#### Detect Pass the Hash Attacks (Link: https://stealthbits.com/blog/how-to-detect-pass-the-hash-attacks/)\n",
    "\n",
    "Workstation Logs (source host):\n",
    "- event_4648\n",
    "- event_4624\n",
    "- event_4672\n",
    "\n",
    "- sysmon event 10\n",
    "\n",
    "Target Server Logs (target host):\n",
    "- event_4624\n",
    "- event_4672\n",
    "\n",
    "Domain Controller:\n",
    "- event 4768\n",
    "- event 4769\n",
    "- event 4776"
   ]
  },
  {
   "cell_type": "code",
   "execution_count": null,
   "metadata": {},
   "outputs": [],
   "source": [
    "df[[\"event_4624\", \"event_4672\", \"event_4648\", \"event_10\"]].head()"
   ]
  },
  {
   "cell_type": "code",
   "execution_count": null,
   "metadata": {},
   "outputs": [],
   "source": [
    "df[\"hash_attack\"] = df[\"event_4648\"] + df[\"event_4624\"] + df[\"event_4672\"] + df[\"event_10\"]\n",
    "df.head()"
   ]
  },
  {
   "cell_type": "markdown",
   "metadata": {},
   "source": [
    "#### Common Incident Response Scenario - Phishing (Link: https://www.netscylla.com/blog/2020/02/01/Threat-hunting-with-Windows-Event-Logs.html):\n",
    "\n",
    "- event_1 <-- Process Creation\n",
    "- event_11 <-- FileCreate\n",
    "- event_15 <-- FileCreateStreamHash"
   ]
  },
  {
   "cell_type": "code",
   "execution_count": null,
   "metadata": {},
   "outputs": [],
   "source": [
    "df[\"phishing\"] = df[\"event_1\"] + df[\"event_11\"]\n",
    "pd.unique(df[\"phishing\"].values.ravel())\n",
    "df.head()"
   ]
  },
  {
   "cell_type": "code",
   "execution_count": null,
   "metadata": {},
   "outputs": [],
   "source": [
    "columns = list(df.columns)\n",
    "features = columns[4:]\n",
    "df[features] = df[features].div(df.total_events, axis = 0)\n",
    "# Separating out the features\n",
    "X = df.loc[:, features].values\n",
    "y = df.loc[:, ['is_malicious']].values\n",
    "print(X)\n",
    "print(y)"
   ]
  },
  {
   "cell_type": "code",
   "execution_count": null,
   "metadata": {},
   "outputs": [],
   "source": [
    "X = StandardScaler().fit_transform(X)"
   ]
  },
  {
   "cell_type": "code",
   "execution_count": null,
   "metadata": {},
   "outputs": [],
   "source": [
    "pca = PCA(n_components=2)\n",
    "pcs = pca.fit_transform(X)\n",
    "pca_df = pd.DataFrame(data = pcs, columns = ['pc1', 'pc2'])"
   ]
  },
  {
   "cell_type": "code",
   "execution_count": null,
   "metadata": {},
   "outputs": [],
   "source": [
    "fig = plt.figure(figsize = (8,8))\n",
    "ax = fig.add_subplot(1,1,1) \n",
    "ax.set_xlabel('Principal Component 1', fontsize = 15)\n",
    "ax.set_ylabel('Principal Component 2', fontsize = 15)\n",
    "ax.set_title('Features in 2D', fontsize = 20)\n",
    "\n",
    "targets = [0, 1]\n",
    "colors = ['r', 'b']\n",
    "for target, color in zip(targets,colors):\n",
    "    indicesToKeep = df['is_malicious'] == target\n",
    "    ax.scatter(pca_df.loc[indicesToKeep, 'pc1']\n",
    "               , pca_df.loc[indicesToKeep, 'pc2']\n",
    "               , c = color\n",
    "               , s = 50)\n",
    "    \n",
    "# ax.legend(targets)\n",
    "# ax.scatter(pca_df['pc1']\n",
    "#                , pca_df['pc2']\n",
    "#                , s = 50)\n",
    "ax.grid()"
   ]
  },
  {
   "cell_type": "code",
   "execution_count": null,
   "metadata": {},
   "outputs": [],
   "source": [
    "smote = SMOTE(random_state=0, sampling_strategy=\"minority\")\n",
    "X_os, y_os = smote.fit_resample(X, y)\n",
    "X_train_os, X_test_os, y_train_os, y_test_os = train_test_split(X_os, y_os, test_size = 0.2, random_state=2)"
   ]
  },
  {
   "cell_type": "code",
   "execution_count": null,
   "metadata": {},
   "outputs": [],
   "source": [
    "# Decision Tree Classifier\n",
    "\n",
    "# Create Decision Tree classifer object\n",
    "clf_os = DecisionTreeClassifier()\n",
    "\n",
    "# Train Decision Tree Classifer\n",
    "s = time.time()\n",
    "clf_os.fit(X_train_os, y_train_os)\n",
    "e = time.time()\n",
    "print(\"Dec tree training time:\",e-s)\n",
    "\n",
    "# Predict the response for the test dataset\n",
    "s = time.time()\n",
    "y_pred_os = clf_os.predict(X_test_os)\n",
    "e = time.time()\n",
    "print(\"Dec tree boost testing time:\",e-s)\n",
    "\n",
    "# Check Prediction\n",
    "print(classification_report(y_test_os, y_pred_os))\n",
    "# print(confusion_matrix(y_test_os, y_pred_os))\n",
    "print(\"Accuracy:\", accuracy_score(y_test_os, y_pred_os))\n",
    "print(\"Label 0:\")\n",
    "print(\"Precision:\", precision_score(y_test_os, y_pred_os, pos_label = 0))\n",
    "print(\"Recall:\", recall_score(y_test_os, y_pred_os, pos_label = 0))\n",
    "print(\"Label 1:\")\n",
    "print(\"Precision:\", precision_score(y_test_os, y_pred_os, pos_label = 1))\n",
    "print(\"Recall:\", recall_score(y_test_os, y_pred_os, pos_label = 1))"
   ]
  },
  {
   "cell_type": "code",
   "execution_count": null,
   "metadata": {},
   "outputs": [],
   "source": [
    "classes = np.unique(y_pred_os)\n",
    "fig,ax = plt.subplots()\n",
    "cm = metrics.confusion_matrix(y_test_os,y_pred_os,labels=classes)\n",
    "sns.heatmap(cm, annot=True,fmt='d',cmap=plt.cm.Blues,cbar=False)\n",
    "ax.set(xlabel=\"Pred\",ylabel=\"True\",title=\"Confusion Matrix\")\n",
    "ax.set_yticklabels(labels=classes,rotation=0)\n",
    "plt.show()"
   ]
  },
  {
   "cell_type": "code",
   "execution_count": null,
   "metadata": {},
   "outputs": [],
   "source": [
    "# K Neighbors Classifier\n",
    "\n",
    "# Create K Neighbors Classifier Object\n",
    "neigh = KNeighborsClassifier(n_neighbors=3)\n",
    "\n",
    "# Train K Neighbors Classifier Object\n",
    "s = time.time()\n",
    "neigh.fit(X_train_os,y_train_os.ravel())\n",
    "e = time.time()\n",
    "print(\"Kneigh training time:\",e-s)\n",
    "\n",
    "# Predict the response for test dataset\n",
    "s = time.time()\n",
    "y_pred_os = neigh.predict(X_test_os)\n",
    "e = time.time()\n",
    "print(\"Kneigh testing time:\",e-s)\n",
    "\n",
    "# Check Prediction\n",
    "print(classification_report(y_test_os, y_pred_os))\n",
    "# print(confusion_matrix(y_test_os, y_pred_os))\n",
    "print(\"Accuracy:\", accuracy_score(y_test_os, y_pred_os))\n",
    "print(\"Label 0:\")\n",
    "print(\"Precision:\", precision_score(y_test_os, y_pred_os, pos_label = 0))\n",
    "print(\"Recall:\", recall_score(y_test_os, y_pred_os, pos_label = 0))\n",
    "print(\"Label 1:\")\n",
    "print(\"Precision:\", precision_score(y_test_os, y_pred_os, pos_label = 1))\n",
    "print(\"Recall:\", recall_score(y_test_os, y_pred_os, pos_label = 1))"
   ]
  },
  {
   "cell_type": "code",
   "execution_count": null,
   "metadata": {},
   "outputs": [],
   "source": [
    "classes = np.unique(y_pred_os)\n",
    "fig,ax = plt.subplots()\n",
    "cm = metrics.confusion_matrix(y_test_os,y_pred_os,labels=classes)\n",
    "sns.heatmap(cm, annot=True,fmt='d',cmap=plt.cm.Blues,cbar=False)\n",
    "ax.set(xlabel=\"Pred\",ylabel=\"True\",title=\"Confusion Matrix\")\n",
    "ax.set_yticklabels(labels=classes,rotation=0)\n",
    "plt.show()"
   ]
  },
  {
   "cell_type": "code",
   "execution_count": null,
   "metadata": {},
   "outputs": [],
   "source": [
    "# Logistic Regression\n",
    "\n",
    "# instantiate model\n",
    "model = LogisticRegression()\n",
    "\n",
    "# fit \n",
    "s = time.time()\n",
    "model.fit(X_train_os,y_train_os)\n",
    "e = time.time()\n",
    "print(\"Log reg training time:\",e-s)\n",
    "\n",
    "# predict\n",
    "s = time.time()\n",
    "y_pred_os = model.predict(X_test_os)\n",
    "e = time.time()\n",
    "print(\"Log reg testing time:\",e-s)\n",
    "\n",
    "# Check Prediction\n",
    "print(classification_report(y_test_os, y_pred_os))\n",
    "# print(confusion_matrix(y_test_os, y_pred_os))\n",
    "print(\"Accuracy:\", accuracy_score(y_test_os, y_pred_os))\n",
    "print(\"Label 0:\")\n",
    "print(\"Precision:\", precision_score(y_test_os, y_pred_os, pos_label = 0))\n",
    "print(\"Recall:\", recall_score(y_test_os, y_pred_os, pos_label = 0))\n",
    "print(\"Label 1:\")\n",
    "print(\"Precision:\", precision_score(y_test_os, y_pred_os, pos_label = 1))\n",
    "print(\"Recall:\", recall_score(y_test_os, y_pred_os, pos_label = 1))"
   ]
  },
  {
   "cell_type": "code",
   "execution_count": null,
   "metadata": {},
   "outputs": [],
   "source": [
    "classes = np.unique(y_pred_os)\n",
    "fig,ax = plt.subplots()\n",
    "cm = metrics.confusion_matrix(y_test_os,y_pred_os,labels=classes)\n",
    "sns.heatmap(cm, annot=True,fmt='d',cmap=plt.cm.Blues,cbar=False)\n",
    "ax.set(xlabel=\"Pred\",ylabel=\"True\",title=\"Confusion Matrix\")\n",
    "ax.set_yticklabels(labels=classes,rotation=0)\n",
    "plt.show()"
   ]
  },
  {
   "cell_type": "code",
   "execution_count": null,
   "metadata": {},
   "outputs": [],
   "source": [
    "# Random Forest:\n",
    "\n",
    "# Instantiate Model\n",
    "random_model = RandomForestClassifier()\n",
    "\n",
    "# Fit\n",
    "s = time.time()\n",
    "random_model.fit(X_train_os, y_train_os)\n",
    "e = time.time()\n",
    "print(\"Rand for training time:\",e-s)\n",
    "\n",
    "# Predict\n",
    "s = time.time()\n",
    "y_pred_os = random_model.predict(X_test_os)\n",
    "e = time.time()\n",
    "print(\"Rand for testing time:\",e-s)\n",
    "\n",
    "# Check Prediction\n",
    "print(classification_report(y_test_os, y_pred_os))\n",
    "# print(confusion_matrix(y_test_os, y_pred_os))\n",
    "print(\"Accuracy:\", accuracy_score(y_test_os, y_pred_os))\n",
    "print(\"Label 0:\")\n",
    "print(\"Precision:\", precision_score(y_test_os, y_pred_os, pos_label = 0))\n",
    "print(\"Recall:\", recall_score(y_test_os, y_pred_os, pos_label = 0))\n",
    "print(\"Label 1:\")\n",
    "print(\"Precision:\", precision_score(y_test_os, y_pred_os, pos_label = 1))\n",
    "print(\"Recall:\", recall_score(y_test_os, y_pred_os, pos_label = 1))"
   ]
  },
  {
   "cell_type": "code",
   "execution_count": null,
   "metadata": {},
   "outputs": [],
   "source": [
    "classes = np.unique(y_pred_os)\n",
    "fig,ax = plt.subplots()\n",
    "cm = metrics.confusion_matrix(y_test_os,y_pred_os,labels=classes)\n",
    "sns.heatmap(cm, annot=True,fmt='d',cmap=plt.cm.Blues,cbar=False)\n",
    "ax.set(xlabel=\"Pred\",ylabel=\"True\",title=\"Confusion Matrix\")\n",
    "ax.set_yticklabels(labels=classes,rotation=0)\n",
    "plt.show()"
   ]
  },
  {
   "cell_type": "code",
   "execution_count": null,
   "metadata": {},
   "outputs": [],
   "source": [
    "# Gradient Boosting Classifier\n",
    "\n",
    "# Instantiate Model\n",
    "gb = GradientBoostingClassifier()\n",
    "\n",
    "# Fit\n",
    "s = time.time()\n",
    "gb.fit(X_train_os, y_train_os)\n",
    "e = time.time()\n",
    "print(\"Gradient boost training time:\",e-s)\n",
    "\n",
    "# Predict\n",
    "s = time.time()\n",
    "y_pred_os = gb.predict(X_test_os)\n",
    "e = time.time()\n",
    "print(\"Gradient boost testing time:\",e-s)\n",
    "\n",
    "# Check Prediction\n",
    "print(classification_report(y_test_os, y_pred_os))\n",
    "# print(confusion_matrix(y_test_os, y_pred_os))\n",
    "print(\"Accuracy:\", accuracy_score(y_test_os, y_pred_os))\n",
    "print(\"Label 0:\")\n",
    "print(\"Precision:\", precision_score(y_test_os, y_pred_os, pos_label = 0))\n",
    "print(\"Recall:\", recall_score(y_test_os, y_pred_os, pos_label = 0))\n",
    "print(\"Label 1:\")\n",
    "print(\"Precision:\", precision_score(y_test_os, y_pred_os, pos_label = 1))\n",
    "print(\"Recall:\", recall_score(y_test_os, y_pred_os, pos_label = 1))"
   ]
  },
  {
   "cell_type": "code",
   "execution_count": null,
   "metadata": {},
   "outputs": [],
   "source": [
    "classes = np.unique(y_pred_os)\n",
    "fig,ax = plt.subplots()\n",
    "cm = metrics.confusion_matrix(y_test_os,y_pred_os,labels=classes)\n",
    "sns.heatmap(cm, annot=True,fmt='d',cmap=plt.cm.Blues,cbar=False)\n",
    "ax.set(xlabel=\"Pred\",ylabel=\"True\",title=\"Confusion Matrix\")\n",
    "ax.set_yticklabels(labels=classes,rotation=0)\n",
    "plt.show()"
   ]
  },
  {
   "cell_type": "code",
   "execution_count": null,
   "metadata": {},
   "outputs": [],
   "source": [
    "# # sklearn.svm.SVC (Support Vector Classification)\n",
    "\n",
    "# svc = SVC(gamma=\"auto\")\n",
    "\n",
    "# svc.fit(X_train_os, y_train_os)\n",
    "\n",
    "# # Predict\n",
    "# y_pred_os = svc.predict(X_test_os)\n",
    "\n",
    "# # Check Prediction\n",
    "# print(classification_report(y_test_os, y_pred_os))\n",
    "# # print(confusion_matrix(y_test_os, y_pred_os))\n",
    "# print(\"Accuracy:\", accuracy_score(y_test_os, y_pred_os))\n",
    "# print(\"Label 0:\")\n",
    "# print(\"Precision:\", precision_score(y_test_os, y_pred_os, pos_label = 0))\n",
    "# print(\"Recall:\", recall_score(y_test_os, y_pred_os, pos_label = 0))\n",
    "# print(\"Label 1:\")\n",
    "# print(\"Precision:\", precision_score(y_test_os, y_pred_os, pos_label = 1))\n",
    "# print(\"Recall:\", recall_score(y_test_os, y_pred_os, pos_label = 1))"
   ]
  },
  {
   "cell_type": "code",
   "execution_count": null,
   "metadata": {},
   "outputs": [],
   "source": [
    "# classes = np.unique(y_pred_os)\n",
    "# fig,ax = plt.subplots()\n",
    "# cm = metrics.confusion_matrix(y_test_os,y_pred_os,labels=classes)\n",
    "# sns.heatmap(cm, annot=True,fmt='d',cmap=plt.cm.Blues,cbar=False)\n",
    "# ax.set(xlabel=\"Pred\",ylabel=\"True\",title=\"Confusion Matrix\")\n",
    "# ax.set_yticklabels(labels=classes,rotation=0)\n",
    "# plt.show()"
   ]
  }
 ],
 "metadata": {
  "kernelspec": {
   "display_name": "Python 3",
   "language": "python",
   "name": "python3"
  },
  "language_info": {
   "codemirror_mode": {
    "name": "ipython",
    "version": 3
   },
   "file_extension": ".py",
   "mimetype": "text/x-python",
   "name": "python",
   "nbconvert_exporter": "python",
   "pygments_lexer": "ipython3",
   "version": "3.7.6"
  }
 },
 "nbformat": 4,
 "nbformat_minor": 5
}
